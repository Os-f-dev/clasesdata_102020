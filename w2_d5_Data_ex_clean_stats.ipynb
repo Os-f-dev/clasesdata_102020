{
 "cells": [
  {
   "cell_type": "code",
   "execution_count": 10,
   "metadata": {},
   "outputs": [],
   "source": [
    "import pandas as pd\n",
    "import numpy as np\n",
    "import matplotlib.pyplot as plt\n",
    "import re"
   ]
  },
  {
   "cell_type": "code",
   "execution_count": 31,
   "metadata": {},
   "outputs": [],
   "source": [
    "import datetime"
   ]
  },
  {
   "cell_type": "code",
   "execution_count": 182,
   "metadata": {},
   "outputs": [],
   "source": [
    "df = pd.read_csv('data/Child_data.csv', index_col= 0)"
   ]
  },
  {
   "cell_type": "code",
   "execution_count": 183,
   "metadata": {},
   "outputs": [
    {
     "data": {
      "text/html": [
       "<div>\n",
       "<style scoped>\n",
       "    .dataframe tbody tr th:only-of-type {\n",
       "        vertical-align: middle;\n",
       "    }\n",
       "\n",
       "    .dataframe tbody tr th {\n",
       "        vertical-align: top;\n",
       "    }\n",
       "\n",
       "    .dataframe thead th {\n",
       "        text-align: right;\n",
       "    }\n",
       "</style>\n",
       "<table border=\"1\" class=\"dataframe\">\n",
       "  <thead>\n",
       "    <tr style=\"text-align: right;\">\n",
       "      <th></th>\n",
       "      <th>name</th>\n",
       "      <th>Birth Month</th>\n",
       "      <th>Birth Year</th>\n",
       "      <th>Day</th>\n",
       "      <th>Height</th>\n",
       "      <th>Remarks</th>\n",
       "    </tr>\n",
       "  </thead>\n",
       "  <tbody>\n",
       "    <tr>\n",
       "      <th>1</th>\n",
       "      <td>David</td>\n",
       "      <td>5</td>\n",
       "      <td>88</td>\n",
       "      <td>1st Monday</td>\n",
       "      <td>2'0''</td>\n",
       "      <td>Boy  with Left biggerfoot and Right dominant hand</td>\n",
       "    </tr>\n",
       "    <tr>\n",
       "      <th>2</th>\n",
       "      <td>Lars</td>\n",
       "      <td>10</td>\n",
       "      <td>87</td>\n",
       "      <td>3rd Tuesday</td>\n",
       "      <td>2'1''</td>\n",
       "      <td>Boy  with Left biggerfoot and Left dominant hand</td>\n",
       "    </tr>\n",
       "    <tr>\n",
       "      <th>3</th>\n",
       "      <td>Zach</td>\n",
       "      <td>12</td>\n",
       "      <td>87</td>\n",
       "      <td>2nd Saturday</td>\n",
       "      <td>2'0''</td>\n",
       "      <td>Boy  with Right biggerfoot and Right dominant ...</td>\n",
       "    </tr>\n",
       "    <tr>\n",
       "      <th>4</th>\n",
       "      <td>Josh</td>\n",
       "      <td>1</td>\n",
       "      <td>88</td>\n",
       "      <td>1st Tuesday</td>\n",
       "      <td>2'1''</td>\n",
       "      <td>Boy  with Left biggerfoot and Right dominant hand</td>\n",
       "    </tr>\n",
       "    <tr>\n",
       "      <th>5</th>\n",
       "      <td>Lang</td>\n",
       "      <td>2</td>\n",
       "      <td>88</td>\n",
       "      <td>1st Monday</td>\n",
       "      <td>2'1''</td>\n",
       "      <td>Boy  with Left biggerfoot and Right dominant hand</td>\n",
       "    </tr>\n",
       "  </tbody>\n",
       "</table>\n",
       "</div>"
      ],
      "text/plain": [
       "    name  Birth Month  Birth Year           Day Height  \\\n",
       "1  David            5          88    1st Monday  2'0''   \n",
       "2   Lars           10          87   3rd Tuesday  2'1''   \n",
       "3   Zach           12          87  2nd Saturday  2'0''   \n",
       "4   Josh            1          88   1st Tuesday  2'1''   \n",
       "5   Lang            2          88    1st Monday  2'1''   \n",
       "\n",
       "                                             Remarks  \n",
       "1  Boy  with Left biggerfoot and Right dominant hand  \n",
       "2   Boy  with Left biggerfoot and Left dominant hand  \n",
       "3  Boy  with Right biggerfoot and Right dominant ...  \n",
       "4  Boy  with Left biggerfoot and Right dominant hand  \n",
       "5  Boy  with Left biggerfoot and Right dominant hand  "
      ]
     },
     "execution_count": 183,
     "metadata": {},
     "output_type": "execute_result"
    }
   ],
   "source": [
    "df.head(5)"
   ]
  },
  {
   "cell_type": "code",
   "execution_count": 184,
   "metadata": {},
   "outputs": [
    {
     "name": "stdout",
     "output_type": "stream",
     "text": [
      "<class 'pandas.core.frame.DataFrame'>\n",
      "Int64Index: 39 entries, 1 to 39\n",
      "Data columns (total 6 columns):\n",
      "name           39 non-null object\n",
      "Birth Month    39 non-null int64\n",
      "Birth Year     39 non-null int64\n",
      "Day            39 non-null object\n",
      "Height         39 non-null object\n",
      "Remarks        39 non-null object\n",
      "dtypes: int64(2), object(4)\n",
      "memory usage: 2.1+ KB\n"
     ]
    }
   ],
   "source": [
    "df.info()"
   ]
  },
  {
   "cell_type": "code",
   "execution_count": 185,
   "metadata": {},
   "outputs": [],
   "source": [
    "df['Day'] = df['Day'].apply(lambda x: re.match('\\d+',x).group()[0])"
   ]
  },
  {
   "cell_type": "code",
   "execution_count": 186,
   "metadata": {},
   "outputs": [
    {
     "data": {
      "text/html": [
       "<div>\n",
       "<style scoped>\n",
       "    .dataframe tbody tr th:only-of-type {\n",
       "        vertical-align: middle;\n",
       "    }\n",
       "\n",
       "    .dataframe tbody tr th {\n",
       "        vertical-align: top;\n",
       "    }\n",
       "\n",
       "    .dataframe thead th {\n",
       "        text-align: right;\n",
       "    }\n",
       "</style>\n",
       "<table border=\"1\" class=\"dataframe\">\n",
       "  <thead>\n",
       "    <tr style=\"text-align: right;\">\n",
       "      <th></th>\n",
       "      <th>name</th>\n",
       "      <th>Birth Month</th>\n",
       "      <th>Birth Year</th>\n",
       "      <th>Day</th>\n",
       "      <th>Height</th>\n",
       "      <th>Remarks</th>\n",
       "    </tr>\n",
       "  </thead>\n",
       "  <tbody>\n",
       "    <tr>\n",
       "      <th>1</th>\n",
       "      <td>David</td>\n",
       "      <td>5</td>\n",
       "      <td>88</td>\n",
       "      <td>1</td>\n",
       "      <td>2'0''</td>\n",
       "      <td>Boy  with Left biggerfoot and Right dominant hand</td>\n",
       "    </tr>\n",
       "    <tr>\n",
       "      <th>2</th>\n",
       "      <td>Lars</td>\n",
       "      <td>10</td>\n",
       "      <td>87</td>\n",
       "      <td>3</td>\n",
       "      <td>2'1''</td>\n",
       "      <td>Boy  with Left biggerfoot and Left dominant hand</td>\n",
       "    </tr>\n",
       "    <tr>\n",
       "      <th>3</th>\n",
       "      <td>Zach</td>\n",
       "      <td>12</td>\n",
       "      <td>87</td>\n",
       "      <td>2</td>\n",
       "      <td>2'0''</td>\n",
       "      <td>Boy  with Right biggerfoot and Right dominant ...</td>\n",
       "    </tr>\n",
       "    <tr>\n",
       "      <th>4</th>\n",
       "      <td>Josh</td>\n",
       "      <td>1</td>\n",
       "      <td>88</td>\n",
       "      <td>1</td>\n",
       "      <td>2'1''</td>\n",
       "      <td>Boy  with Left biggerfoot and Right dominant hand</td>\n",
       "    </tr>\n",
       "    <tr>\n",
       "      <th>5</th>\n",
       "      <td>Lang</td>\n",
       "      <td>2</td>\n",
       "      <td>88</td>\n",
       "      <td>1</td>\n",
       "      <td>2'1''</td>\n",
       "      <td>Boy  with Left biggerfoot and Right dominant hand</td>\n",
       "    </tr>\n",
       "  </tbody>\n",
       "</table>\n",
       "</div>"
      ],
      "text/plain": [
       "    name  Birth Month  Birth Year Day Height  \\\n",
       "1  David            5          88   1  2'0''   \n",
       "2   Lars           10          87   3  2'1''   \n",
       "3   Zach           12          87   2  2'0''   \n",
       "4   Josh            1          88   1  2'1''   \n",
       "5   Lang            2          88   1  2'1''   \n",
       "\n",
       "                                             Remarks  \n",
       "1  Boy  with Left biggerfoot and Right dominant hand  \n",
       "2   Boy  with Left biggerfoot and Left dominant hand  \n",
       "3  Boy  with Right biggerfoot and Right dominant ...  \n",
       "4  Boy  with Left biggerfoot and Right dominant hand  \n",
       "5  Boy  with Left biggerfoot and Right dominant hand  "
      ]
     },
     "execution_count": 186,
     "metadata": {},
     "output_type": "execute_result"
    }
   ],
   "source": [
    "df.head()"
   ]
  },
  {
   "cell_type": "code",
   "execution_count": 187,
   "metadata": {},
   "outputs": [
    {
     "data": {
      "text/plain": [
       "array([88, 87], dtype=int64)"
      ]
     },
     "execution_count": 187,
     "metadata": {},
     "output_type": "execute_result"
    }
   ],
   "source": [
    "df['Birth Year'].unique()"
   ]
  },
  {
   "cell_type": "code",
   "execution_count": 188,
   "metadata": {},
   "outputs": [],
   "source": [
    "df['Birth Year'] = df['Birth Year'].astype('str')"
   ]
  },
  {
   "cell_type": "code",
   "execution_count": 189,
   "metadata": {},
   "outputs": [],
   "source": [
    "df['Birth Year'] = df['Birth Year'].apply(lambda x: '19'+x)"
   ]
  },
  {
   "cell_type": "code",
   "execution_count": 190,
   "metadata": {},
   "outputs": [
    {
     "data": {
      "text/plain": [
       "array(['Boy  with Left biggerfoot and Right dominant hand',\n",
       "       'Boy  with Left biggerfoot and Left dominant hand',\n",
       "       'Boy  with Right biggerfoot and Right dominant hand',\n",
       "       'Girl  with Left biggerfoot and Right dominant hand',\n",
       "       'Girl  with Right biggerfoot and Right dominant hand',\n",
       "       'Boy  with Right biggerfoot and Left dominant hand',\n",
       "       'Girl  with Right biggerfoot and Left dominant hand',\n",
       "       'Girl  with Left biggerfoot and Left dominant hand'], dtype=object)"
      ]
     },
     "execution_count": 190,
     "metadata": {},
     "output_type": "execute_result"
    }
   ],
   "source": [
    "df['Remarks'].unique()"
   ]
  },
  {
   "cell_type": "code",
   "execution_count": 191,
   "metadata": {},
   "outputs": [
    {
     "data": {
      "text/html": [
       "<div>\n",
       "<style scoped>\n",
       "    .dataframe tbody tr th:only-of-type {\n",
       "        vertical-align: middle;\n",
       "    }\n",
       "\n",
       "    .dataframe tbody tr th {\n",
       "        vertical-align: top;\n",
       "    }\n",
       "\n",
       "    .dataframe thead th {\n",
       "        text-align: right;\n",
       "    }\n",
       "</style>\n",
       "<table border=\"1\" class=\"dataframe\">\n",
       "  <thead>\n",
       "    <tr style=\"text-align: right;\">\n",
       "      <th></th>\n",
       "      <th>name</th>\n",
       "      <th>Birth Month</th>\n",
       "      <th>Birth Year</th>\n",
       "      <th>Day</th>\n",
       "      <th>Height</th>\n",
       "      <th>Remarks</th>\n",
       "    </tr>\n",
       "  </thead>\n",
       "  <tbody>\n",
       "    <tr>\n",
       "      <th>1</th>\n",
       "      <td>David</td>\n",
       "      <td>5</td>\n",
       "      <td>1988</td>\n",
       "      <td>1</td>\n",
       "      <td>2'0''</td>\n",
       "      <td>Boy  with Left biggerfoot and Right dominant hand</td>\n",
       "    </tr>\n",
       "    <tr>\n",
       "      <th>2</th>\n",
       "      <td>Lars</td>\n",
       "      <td>10</td>\n",
       "      <td>1987</td>\n",
       "      <td>3</td>\n",
       "      <td>2'1''</td>\n",
       "      <td>Boy  with Left biggerfoot and Left dominant hand</td>\n",
       "    </tr>\n",
       "    <tr>\n",
       "      <th>3</th>\n",
       "      <td>Zach</td>\n",
       "      <td>12</td>\n",
       "      <td>1987</td>\n",
       "      <td>2</td>\n",
       "      <td>2'0''</td>\n",
       "      <td>Boy  with Right biggerfoot and Right dominant ...</td>\n",
       "    </tr>\n",
       "    <tr>\n",
       "      <th>4</th>\n",
       "      <td>Josh</td>\n",
       "      <td>1</td>\n",
       "      <td>1988</td>\n",
       "      <td>1</td>\n",
       "      <td>2'1''</td>\n",
       "      <td>Boy  with Left biggerfoot and Right dominant hand</td>\n",
       "    </tr>\n",
       "    <tr>\n",
       "      <th>5</th>\n",
       "      <td>Lang</td>\n",
       "      <td>2</td>\n",
       "      <td>1988</td>\n",
       "      <td>1</td>\n",
       "      <td>2'1''</td>\n",
       "      <td>Boy  with Left biggerfoot and Right dominant hand</td>\n",
       "    </tr>\n",
       "  </tbody>\n",
       "</table>\n",
       "</div>"
      ],
      "text/plain": [
       "    name  Birth Month Birth Year Day Height  \\\n",
       "1  David            5       1988   1  2'0''   \n",
       "2   Lars           10       1987   3  2'1''   \n",
       "3   Zach           12       1987   2  2'0''   \n",
       "4   Josh            1       1988   1  2'1''   \n",
       "5   Lang            2       1988   1  2'1''   \n",
       "\n",
       "                                             Remarks  \n",
       "1  Boy  with Left biggerfoot and Right dominant hand  \n",
       "2   Boy  with Left biggerfoot and Left dominant hand  \n",
       "3  Boy  with Right biggerfoot and Right dominant ...  \n",
       "4  Boy  with Left biggerfoot and Right dominant hand  \n",
       "5  Boy  with Left biggerfoot and Right dominant hand  "
      ]
     },
     "execution_count": 191,
     "metadata": {},
     "output_type": "execute_result"
    }
   ],
   "source": [
    "df.head()"
   ]
  },
  {
   "cell_type": "code",
   "execution_count": 192,
   "metadata": {},
   "outputs": [],
   "source": [
    "df['Birth Month'] = df['Birth Month'].astype('str')"
   ]
  },
  {
   "cell_type": "code",
   "execution_count": 193,
   "metadata": {},
   "outputs": [],
   "source": [
    "df['date'] = df['Day']+'/'+df['Birth Month']+'/'+df['Birth Year']"
   ]
  },
  {
   "cell_type": "code",
   "execution_count": 194,
   "metadata": {},
   "outputs": [],
   "source": [
    "df.drop(['Day','Birth Month','Birth Year'], axis = 1, inplace = True)"
   ]
  },
  {
   "cell_type": "code",
   "execution_count": 195,
   "metadata": {},
   "outputs": [
    {
     "data": {
      "text/html": [
       "<div>\n",
       "<style scoped>\n",
       "    .dataframe tbody tr th:only-of-type {\n",
       "        vertical-align: middle;\n",
       "    }\n",
       "\n",
       "    .dataframe tbody tr th {\n",
       "        vertical-align: top;\n",
       "    }\n",
       "\n",
       "    .dataframe thead th {\n",
       "        text-align: right;\n",
       "    }\n",
       "</style>\n",
       "<table border=\"1\" class=\"dataframe\">\n",
       "  <thead>\n",
       "    <tr style=\"text-align: right;\">\n",
       "      <th></th>\n",
       "      <th>name</th>\n",
       "      <th>Height</th>\n",
       "      <th>Remarks</th>\n",
       "      <th>date</th>\n",
       "    </tr>\n",
       "  </thead>\n",
       "  <tbody>\n",
       "    <tr>\n",
       "      <th>1</th>\n",
       "      <td>David</td>\n",
       "      <td>2'0''</td>\n",
       "      <td>Boy  with Left biggerfoot and Right dominant hand</td>\n",
       "      <td>1/5/1988</td>\n",
       "    </tr>\n",
       "    <tr>\n",
       "      <th>2</th>\n",
       "      <td>Lars</td>\n",
       "      <td>2'1''</td>\n",
       "      <td>Boy  with Left biggerfoot and Left dominant hand</td>\n",
       "      <td>3/10/1987</td>\n",
       "    </tr>\n",
       "    <tr>\n",
       "      <th>3</th>\n",
       "      <td>Zach</td>\n",
       "      <td>2'0''</td>\n",
       "      <td>Boy  with Right biggerfoot and Right dominant ...</td>\n",
       "      <td>2/12/1987</td>\n",
       "    </tr>\n",
       "    <tr>\n",
       "      <th>4</th>\n",
       "      <td>Josh</td>\n",
       "      <td>2'1''</td>\n",
       "      <td>Boy  with Left biggerfoot and Right dominant hand</td>\n",
       "      <td>1/1/1988</td>\n",
       "    </tr>\n",
       "    <tr>\n",
       "      <th>5</th>\n",
       "      <td>Lang</td>\n",
       "      <td>2'1''</td>\n",
       "      <td>Boy  with Left biggerfoot and Right dominant hand</td>\n",
       "      <td>1/2/1988</td>\n",
       "    </tr>\n",
       "  </tbody>\n",
       "</table>\n",
       "</div>"
      ],
      "text/plain": [
       "    name Height                                            Remarks       date\n",
       "1  David  2'0''  Boy  with Left biggerfoot and Right dominant hand   1/5/1988\n",
       "2   Lars  2'1''   Boy  with Left biggerfoot and Left dominant hand  3/10/1987\n",
       "3   Zach  2'0''  Boy  with Right biggerfoot and Right dominant ...  2/12/1987\n",
       "4   Josh  2'1''  Boy  with Left biggerfoot and Right dominant hand   1/1/1988\n",
       "5   Lang  2'1''  Boy  with Left biggerfoot and Right dominant hand   1/2/1988"
      ]
     },
     "execution_count": 195,
     "metadata": {},
     "output_type": "execute_result"
    }
   ],
   "source": [
    "df.head()"
   ]
  },
  {
   "cell_type": "code",
   "execution_count": 33,
   "metadata": {},
   "outputs": [
    {
     "data": {
      "text/plain": [
       "datetime.datetime(2020, 10, 23, 0, 0)"
      ]
     },
     "execution_count": 33,
     "metadata": {},
     "output_type": "execute_result"
    }
   ],
   "source": [
    "datetime.datetime.strptime('23/10/2020', '%d/%m/%Y')"
   ]
  },
  {
   "cell_type": "code",
   "execution_count": 34,
   "metadata": {},
   "outputs": [],
   "source": [
    "df['date'] = df['date'].apply(lambda x: datetime.datetime.strptime(x, '%d/%m/%Y'))"
   ]
  },
  {
   "cell_type": "code",
   "execution_count": 37,
   "metadata": {},
   "outputs": [
    {
     "name": "stdout",
     "output_type": "stream",
     "text": [
      "<class 'pandas.core.frame.DataFrame'>\n",
      "Int64Index: 39 entries, 1 to 39\n",
      "Data columns (total 4 columns):\n",
      "name       39 non-null object\n",
      "Height     39 non-null object\n",
      "Remarks    39 non-null object\n",
      "date       39 non-null datetime64[ns]\n",
      "dtypes: datetime64[ns](1), object(3)\n",
      "memory usage: 1.5+ KB\n"
     ]
    }
   ],
   "source": [
    "df.info()"
   ]
  },
  {
   "cell_type": "code",
   "execution_count": 38,
   "metadata": {
    "scrolled": true
   },
   "outputs": [
    {
     "data": {
      "text/html": [
       "<div>\n",
       "<style scoped>\n",
       "    .dataframe tbody tr th:only-of-type {\n",
       "        vertical-align: middle;\n",
       "    }\n",
       "\n",
       "    .dataframe tbody tr th {\n",
       "        vertical-align: top;\n",
       "    }\n",
       "\n",
       "    .dataframe thead th {\n",
       "        text-align: right;\n",
       "    }\n",
       "</style>\n",
       "<table border=\"1\" class=\"dataframe\">\n",
       "  <thead>\n",
       "    <tr style=\"text-align: right;\">\n",
       "      <th></th>\n",
       "      <th>name</th>\n",
       "      <th>Height</th>\n",
       "      <th>Remarks</th>\n",
       "      <th>date</th>\n",
       "    </tr>\n",
       "  </thead>\n",
       "  <tbody>\n",
       "    <tr>\n",
       "      <th>1</th>\n",
       "      <td>David</td>\n",
       "      <td>2'0''</td>\n",
       "      <td>Boy  with Left biggerfoot and Right dominant hand</td>\n",
       "      <td>1988-05-01</td>\n",
       "    </tr>\n",
       "    <tr>\n",
       "      <th>5</th>\n",
       "      <td>Lang</td>\n",
       "      <td>2'1''</td>\n",
       "      <td>Boy  with Left biggerfoot and Right dominant hand</td>\n",
       "      <td>1988-02-01</td>\n",
       "    </tr>\n",
       "    <tr>\n",
       "      <th>6</th>\n",
       "      <td>Scotty</td>\n",
       "      <td>2'1''</td>\n",
       "      <td>Boy  with Right biggerfoot and Right dominant ...</td>\n",
       "      <td>1988-03-01</td>\n",
       "    </tr>\n",
       "    <tr>\n",
       "      <th>7</th>\n",
       "      <td>Edward</td>\n",
       "      <td>2'2''</td>\n",
       "      <td>Boy  with Left biggerfoot and Right dominant hand</td>\n",
       "      <td>1988-02-01</td>\n",
       "    </tr>\n",
       "    <tr>\n",
       "      <th>8</th>\n",
       "      <td>Caitlin</td>\n",
       "      <td>1'11''</td>\n",
       "      <td>Girl  with Left biggerfoot and Right dominant ...</td>\n",
       "      <td>1988-06-04</td>\n",
       "    </tr>\n",
       "    <tr>\n",
       "      <th>9</th>\n",
       "      <td>Eleanor</td>\n",
       "      <td>1'11''</td>\n",
       "      <td>Girl  with Right biggerfoot and Right dominant...</td>\n",
       "      <td>1988-05-02</td>\n",
       "    </tr>\n",
       "    <tr>\n",
       "      <th>10</th>\n",
       "      <td>Damon</td>\n",
       "      <td>1'10''</td>\n",
       "      <td>Boy  with Right biggerfoot and Left dominant hand</td>\n",
       "      <td>1988-09-02</td>\n",
       "    </tr>\n",
       "    <tr>\n",
       "      <th>12</th>\n",
       "      <td>Ray</td>\n",
       "      <td>2'0''</td>\n",
       "      <td>Boy  with Left biggerfoot and Right dominant hand</td>\n",
       "      <td>1988-03-03</td>\n",
       "    </tr>\n",
       "    <tr>\n",
       "      <th>14</th>\n",
       "      <td>Cam</td>\n",
       "      <td>2'3''</td>\n",
       "      <td>Boy  with Left biggerfoot and Right dominant hand</td>\n",
       "      <td>1988-03-03</td>\n",
       "    </tr>\n",
       "    <tr>\n",
       "      <th>16</th>\n",
       "      <td>Kate</td>\n",
       "      <td>1'11''</td>\n",
       "      <td>Girl  with Right biggerfoot and Right dominant...</td>\n",
       "      <td>1988-04-03</td>\n",
       "    </tr>\n",
       "    <tr>\n",
       "      <th>18</th>\n",
       "      <td>Maggie</td>\n",
       "      <td>2'0''</td>\n",
       "      <td>Girl  with Right biggerfoot and Right dominant...</td>\n",
       "      <td>1988-03-02</td>\n",
       "    </tr>\n",
       "    <tr>\n",
       "      <th>19</th>\n",
       "      <td>Lee</td>\n",
       "      <td>2'2''</td>\n",
       "      <td>Girl  with Left biggerfoot and Left dominant hand</td>\n",
       "      <td>1988-06-04</td>\n",
       "    </tr>\n",
       "    <tr>\n",
       "      <th>20</th>\n",
       "      <td>Heather</td>\n",
       "      <td>2'1''</td>\n",
       "      <td>Girl  with Right biggerfoot and Right dominant...</td>\n",
       "      <td>1988-03-02</td>\n",
       "    </tr>\n",
       "    <tr>\n",
       "      <th>21</th>\n",
       "      <td>Andy</td>\n",
       "      <td>2'0''</td>\n",
       "      <td>Boy  with Right biggerfoot and Right dominant ...</td>\n",
       "      <td>1988-06-03</td>\n",
       "    </tr>\n",
       "    <tr>\n",
       "      <th>22</th>\n",
       "      <td>Josh</td>\n",
       "      <td>2'0''</td>\n",
       "      <td>Boy  with Left biggerfoot and Right dominant hand</td>\n",
       "      <td>1988-07-02</td>\n",
       "    </tr>\n",
       "    <tr>\n",
       "      <th>23</th>\n",
       "      <td>Laura</td>\n",
       "      <td>2'0''</td>\n",
       "      <td>Girl  with Right biggerfoot and Left dominant ...</td>\n",
       "      <td>1988-09-01</td>\n",
       "    </tr>\n",
       "    <tr>\n",
       "      <th>24</th>\n",
       "      <td>Erica</td>\n",
       "      <td>2'0''</td>\n",
       "      <td>Girl  with Left biggerfoot and Right dominant ...</td>\n",
       "      <td>1988-09-01</td>\n",
       "    </tr>\n",
       "    <tr>\n",
       "      <th>25</th>\n",
       "      <td>Peggy</td>\n",
       "      <td>2'0''</td>\n",
       "      <td>Girl  with Left biggerfoot and Right dominant ...</td>\n",
       "      <td>1988-10-04</td>\n",
       "    </tr>\n",
       "    <tr>\n",
       "      <th>26</th>\n",
       "      <td>Glen</td>\n",
       "      <td>2'3''</td>\n",
       "      <td>Boy  with Left biggerfoot and Right dominant hand</td>\n",
       "      <td>1988-07-04</td>\n",
       "    </tr>\n",
       "    <tr>\n",
       "      <th>27</th>\n",
       "      <td>Abby</td>\n",
       "      <td>2'2''</td>\n",
       "      <td>Girl  with Left biggerfoot and Right dominant ...</td>\n",
       "      <td>1988-02-04</td>\n",
       "    </tr>\n",
       "    <tr>\n",
       "      <th>29</th>\n",
       "      <td>Mike</td>\n",
       "      <td>2'0''</td>\n",
       "      <td>Boy  with Left biggerfoot and Right dominant hand</td>\n",
       "      <td>1988-11-03</td>\n",
       "    </tr>\n",
       "    <tr>\n",
       "      <th>30</th>\n",
       "      <td>Dwayne</td>\n",
       "      <td>1'11''</td>\n",
       "      <td>Boy  with Right biggerfoot and Left dominant hand</td>\n",
       "      <td>1988-08-03</td>\n",
       "    </tr>\n",
       "    <tr>\n",
       "      <th>31</th>\n",
       "      <td>Danielle</td>\n",
       "      <td>2'0''</td>\n",
       "      <td>Girl  with Left biggerfoot and Right dominant ...</td>\n",
       "      <td>1988-06-04</td>\n",
       "    </tr>\n",
       "    <tr>\n",
       "      <th>32</th>\n",
       "      <td>Caitlin</td>\n",
       "      <td>1'10''</td>\n",
       "      <td>Girl  with Right biggerfoot and Right dominant...</td>\n",
       "      <td>1988-07-03</td>\n",
       "    </tr>\n",
       "    <tr>\n",
       "      <th>33</th>\n",
       "      <td>Leigh</td>\n",
       "      <td>2'0''</td>\n",
       "      <td>Girl  with Left biggerfoot and Right dominant ...</td>\n",
       "      <td>1988-03-02</td>\n",
       "    </tr>\n",
       "    <tr>\n",
       "      <th>34</th>\n",
       "      <td>Dylan</td>\n",
       "      <td>1'11''</td>\n",
       "      <td>Boy  with Right biggerfoot and Left dominant hand</td>\n",
       "      <td>1988-04-04</td>\n",
       "    </tr>\n",
       "    <tr>\n",
       "      <th>35</th>\n",
       "      <td>Peter</td>\n",
       "      <td>2'0''</td>\n",
       "      <td>Boy  with Right biggerfoot and Left dominant hand</td>\n",
       "      <td>1988-04-02</td>\n",
       "    </tr>\n",
       "    <tr>\n",
       "      <th>36</th>\n",
       "      <td>Hannah</td>\n",
       "      <td>1'10''</td>\n",
       "      <td>Girl  with Left biggerfoot and Right dominant ...</td>\n",
       "      <td>1988-03-01</td>\n",
       "    </tr>\n",
       "    <tr>\n",
       "      <th>37</th>\n",
       "      <td>Teshanna</td>\n",
       "      <td>2'2''</td>\n",
       "      <td>Girl  with Left biggerfoot and Right dominant ...</td>\n",
       "      <td>1988-03-01</td>\n",
       "    </tr>\n",
       "    <tr>\n",
       "      <th>38</th>\n",
       "      <td>Hayley</td>\n",
       "      <td>1'9''</td>\n",
       "      <td>Girl  with Right biggerfoot and Right dominant...</td>\n",
       "      <td>1988-01-02</td>\n",
       "    </tr>\n",
       "    <tr>\n",
       "      <th>39</th>\n",
       "      <td>Alisha</td>\n",
       "      <td>2'0''</td>\n",
       "      <td>Girl  with Left biggerfoot and Right dominant ...</td>\n",
       "      <td>1988-09-04</td>\n",
       "    </tr>\n",
       "  </tbody>\n",
       "</table>\n",
       "</div>"
      ],
      "text/plain": [
       "        name  Height                                            Remarks  \\\n",
       "1      David   2'0''  Boy  with Left biggerfoot and Right dominant hand   \n",
       "5       Lang   2'1''  Boy  with Left biggerfoot and Right dominant hand   \n",
       "6     Scotty   2'1''  Boy  with Right biggerfoot and Right dominant ...   \n",
       "7     Edward   2'2''  Boy  with Left biggerfoot and Right dominant hand   \n",
       "8    Caitlin  1'11''  Girl  with Left biggerfoot and Right dominant ...   \n",
       "9    Eleanor  1'11''  Girl  with Right biggerfoot and Right dominant...   \n",
       "10     Damon  1'10''  Boy  with Right biggerfoot and Left dominant hand   \n",
       "12       Ray   2'0''  Boy  with Left biggerfoot and Right dominant hand   \n",
       "14       Cam   2'3''  Boy  with Left biggerfoot and Right dominant hand   \n",
       "16      Kate  1'11''  Girl  with Right biggerfoot and Right dominant...   \n",
       "18    Maggie   2'0''  Girl  with Right biggerfoot and Right dominant...   \n",
       "19       Lee   2'2''  Girl  with Left biggerfoot and Left dominant hand   \n",
       "20   Heather   2'1''  Girl  with Right biggerfoot and Right dominant...   \n",
       "21      Andy   2'0''  Boy  with Right biggerfoot and Right dominant ...   \n",
       "22      Josh   2'0''  Boy  with Left biggerfoot and Right dominant hand   \n",
       "23     Laura   2'0''  Girl  with Right biggerfoot and Left dominant ...   \n",
       "24     Erica   2'0''  Girl  with Left biggerfoot and Right dominant ...   \n",
       "25     Peggy   2'0''  Girl  with Left biggerfoot and Right dominant ...   \n",
       "26      Glen   2'3''  Boy  with Left biggerfoot and Right dominant hand   \n",
       "27      Abby   2'2''  Girl  with Left biggerfoot and Right dominant ...   \n",
       "29      Mike   2'0''  Boy  with Left biggerfoot and Right dominant hand   \n",
       "30    Dwayne  1'11''  Boy  with Right biggerfoot and Left dominant hand   \n",
       "31  Danielle   2'0''  Girl  with Left biggerfoot and Right dominant ...   \n",
       "32   Caitlin  1'10''  Girl  with Right biggerfoot and Right dominant...   \n",
       "33     Leigh   2'0''  Girl  with Left biggerfoot and Right dominant ...   \n",
       "34     Dylan  1'11''  Boy  with Right biggerfoot and Left dominant hand   \n",
       "35     Peter   2'0''  Boy  with Right biggerfoot and Left dominant hand   \n",
       "36    Hannah  1'10''  Girl  with Left biggerfoot and Right dominant ...   \n",
       "37  Teshanna   2'2''  Girl  with Left biggerfoot and Right dominant ...   \n",
       "38    Hayley   1'9''  Girl  with Right biggerfoot and Right dominant...   \n",
       "39    Alisha   2'0''  Girl  with Left biggerfoot and Right dominant ...   \n",
       "\n",
       "         date  \n",
       "1  1988-05-01  \n",
       "5  1988-02-01  \n",
       "6  1988-03-01  \n",
       "7  1988-02-01  \n",
       "8  1988-06-04  \n",
       "9  1988-05-02  \n",
       "10 1988-09-02  \n",
       "12 1988-03-03  \n",
       "14 1988-03-03  \n",
       "16 1988-04-03  \n",
       "18 1988-03-02  \n",
       "19 1988-06-04  \n",
       "20 1988-03-02  \n",
       "21 1988-06-03  \n",
       "22 1988-07-02  \n",
       "23 1988-09-01  \n",
       "24 1988-09-01  \n",
       "25 1988-10-04  \n",
       "26 1988-07-04  \n",
       "27 1988-02-04  \n",
       "29 1988-11-03  \n",
       "30 1988-08-03  \n",
       "31 1988-06-04  \n",
       "32 1988-07-03  \n",
       "33 1988-03-02  \n",
       "34 1988-04-04  \n",
       "35 1988-04-02  \n",
       "36 1988-03-01  \n",
       "37 1988-03-01  \n",
       "38 1988-01-02  \n",
       "39 1988-09-04  "
      ]
     },
     "execution_count": 38,
     "metadata": {},
     "output_type": "execute_result"
    }
   ],
   "source": [
    "df[df['date'] > '1/1/1988']"
   ]
  },
  {
   "cell_type": "code",
   "execution_count": 196,
   "metadata": {},
   "outputs": [],
   "source": [
    "df['date'] = pd.to_datetime(df['date'], format = '%d/%m/%Y') #fecha buena"
   ]
  },
  {
   "cell_type": "code",
   "execution_count": 197,
   "metadata": {},
   "outputs": [],
   "source": [
    "df['edad'] = datetime.datetime.today()-df['date']"
   ]
  },
  {
   "cell_type": "code",
   "execution_count": 198,
   "metadata": {},
   "outputs": [],
   "source": [
    "df['edad'] =  df['edad']/365.25"
   ]
  },
  {
   "cell_type": "code",
   "execution_count": 199,
   "metadata": {},
   "outputs": [],
   "source": [
    "df['edad'] = df['edad'].astype('str')"
   ]
  },
  {
   "cell_type": "code",
   "execution_count": 200,
   "metadata": {},
   "outputs": [],
   "source": [
    "df['edad'] = df['edad'].apply(lambda x: re.match('\\d+',x).group())"
   ]
  },
  {
   "cell_type": "code",
   "execution_count": 201,
   "metadata": {},
   "outputs": [
    {
     "data": {
      "text/html": [
       "<div>\n",
       "<style scoped>\n",
       "    .dataframe tbody tr th:only-of-type {\n",
       "        vertical-align: middle;\n",
       "    }\n",
       "\n",
       "    .dataframe tbody tr th {\n",
       "        vertical-align: top;\n",
       "    }\n",
       "\n",
       "    .dataframe thead th {\n",
       "        text-align: right;\n",
       "    }\n",
       "</style>\n",
       "<table border=\"1\" class=\"dataframe\">\n",
       "  <thead>\n",
       "    <tr style=\"text-align: right;\">\n",
       "      <th></th>\n",
       "      <th>name</th>\n",
       "      <th>Height</th>\n",
       "      <th>Remarks</th>\n",
       "      <th>date</th>\n",
       "      <th>edad</th>\n",
       "    </tr>\n",
       "  </thead>\n",
       "  <tbody>\n",
       "    <tr>\n",
       "      <th>1</th>\n",
       "      <td>David</td>\n",
       "      <td>2'0''</td>\n",
       "      <td>Boy  with Left biggerfoot and Right dominant hand</td>\n",
       "      <td>1988-05-01</td>\n",
       "      <td>32</td>\n",
       "    </tr>\n",
       "    <tr>\n",
       "      <th>2</th>\n",
       "      <td>Lars</td>\n",
       "      <td>2'1''</td>\n",
       "      <td>Boy  with Left biggerfoot and Left dominant hand</td>\n",
       "      <td>1987-10-03</td>\n",
       "      <td>33</td>\n",
       "    </tr>\n",
       "    <tr>\n",
       "      <th>3</th>\n",
       "      <td>Zach</td>\n",
       "      <td>2'0''</td>\n",
       "      <td>Boy  with Right biggerfoot and Right dominant ...</td>\n",
       "      <td>1987-12-02</td>\n",
       "      <td>32</td>\n",
       "    </tr>\n",
       "    <tr>\n",
       "      <th>4</th>\n",
       "      <td>Josh</td>\n",
       "      <td>2'1''</td>\n",
       "      <td>Boy  with Left biggerfoot and Right dominant hand</td>\n",
       "      <td>1988-01-01</td>\n",
       "      <td>32</td>\n",
       "    </tr>\n",
       "    <tr>\n",
       "      <th>5</th>\n",
       "      <td>Lang</td>\n",
       "      <td>2'1''</td>\n",
       "      <td>Boy  with Left biggerfoot and Right dominant hand</td>\n",
       "      <td>1988-02-01</td>\n",
       "      <td>32</td>\n",
       "    </tr>\n",
       "  </tbody>\n",
       "</table>\n",
       "</div>"
      ],
      "text/plain": [
       "    name Height                                            Remarks       date  \\\n",
       "1  David  2'0''  Boy  with Left biggerfoot and Right dominant hand 1988-05-01   \n",
       "2   Lars  2'1''   Boy  with Left biggerfoot and Left dominant hand 1987-10-03   \n",
       "3   Zach  2'0''  Boy  with Right biggerfoot and Right dominant ... 1987-12-02   \n",
       "4   Josh  2'1''  Boy  with Left biggerfoot and Right dominant hand 1988-01-01   \n",
       "5   Lang  2'1''  Boy  with Left biggerfoot and Right dominant hand 1988-02-01   \n",
       "\n",
       "  edad  \n",
       "1   32  \n",
       "2   33  \n",
       "3   32  \n",
       "4   32  \n",
       "5   32  "
      ]
     },
     "execution_count": 201,
     "metadata": {},
     "output_type": "execute_result"
    }
   ],
   "source": [
    "df.head()"
   ]
  },
  {
   "cell_type": "code",
   "execution_count": 202,
   "metadata": {},
   "outputs": [],
   "source": [
    "df['gender'] = np.where('Boy' in df['Remarks'],'F','M')"
   ]
  },
  {
   "cell_type": "code",
   "execution_count": 203,
   "metadata": {},
   "outputs": [],
   "source": [
    "df['Gender'] = np.where(df['Remarks'].str.contains('Boy',regex = False),'M','F')"
   ]
  },
  {
   "cell_type": "code",
   "execution_count": 205,
   "metadata": {},
   "outputs": [],
   "source": [
    "df.drop('gender',axis = 1, inplace = True)"
   ]
  },
  {
   "cell_type": "code",
   "execution_count": 207,
   "metadata": {},
   "outputs": [],
   "source": [
    "df['dom_hand'] = np.where(df['Remarks'].str.contains('Right dominant hand',regex = False),'Right','Left')"
   ]
  },
  {
   "cell_type": "code",
   "execution_count": 210,
   "metadata": {},
   "outputs": [],
   "source": [
    "df['foot'] = np.where(df['Remarks'].str.contains('Right biggerfoot',regex = False),'Right','Left')"
   ]
  },
  {
   "cell_type": "code",
   "execution_count": 212,
   "metadata": {},
   "outputs": [],
   "source": [
    "df.drop('Remarks', inplace = True, axis = 1)"
   ]
  },
  {
   "cell_type": "code",
   "execution_count": 213,
   "metadata": {
    "scrolled": true
   },
   "outputs": [
    {
     "data": {
      "text/html": [
       "<div>\n",
       "<style scoped>\n",
       "    .dataframe tbody tr th:only-of-type {\n",
       "        vertical-align: middle;\n",
       "    }\n",
       "\n",
       "    .dataframe tbody tr th {\n",
       "        vertical-align: top;\n",
       "    }\n",
       "\n",
       "    .dataframe thead th {\n",
       "        text-align: right;\n",
       "    }\n",
       "</style>\n",
       "<table border=\"1\" class=\"dataframe\">\n",
       "  <thead>\n",
       "    <tr style=\"text-align: right;\">\n",
       "      <th></th>\n",
       "      <th>name</th>\n",
       "      <th>Height</th>\n",
       "      <th>date</th>\n",
       "      <th>edad</th>\n",
       "      <th>Gender</th>\n",
       "      <th>dom_hand</th>\n",
       "      <th>foot</th>\n",
       "    </tr>\n",
       "  </thead>\n",
       "  <tbody>\n",
       "    <tr>\n",
       "      <th>1</th>\n",
       "      <td>David</td>\n",
       "      <td>2'0''</td>\n",
       "      <td>1988-05-01</td>\n",
       "      <td>32</td>\n",
       "      <td>M</td>\n",
       "      <td>Right</td>\n",
       "      <td>Left</td>\n",
       "    </tr>\n",
       "    <tr>\n",
       "      <th>2</th>\n",
       "      <td>Lars</td>\n",
       "      <td>2'1''</td>\n",
       "      <td>1987-10-03</td>\n",
       "      <td>33</td>\n",
       "      <td>M</td>\n",
       "      <td>Left</td>\n",
       "      <td>Left</td>\n",
       "    </tr>\n",
       "    <tr>\n",
       "      <th>3</th>\n",
       "      <td>Zach</td>\n",
       "      <td>2'0''</td>\n",
       "      <td>1987-12-02</td>\n",
       "      <td>32</td>\n",
       "      <td>M</td>\n",
       "      <td>Right</td>\n",
       "      <td>Right</td>\n",
       "    </tr>\n",
       "    <tr>\n",
       "      <th>4</th>\n",
       "      <td>Josh</td>\n",
       "      <td>2'1''</td>\n",
       "      <td>1988-01-01</td>\n",
       "      <td>32</td>\n",
       "      <td>M</td>\n",
       "      <td>Right</td>\n",
       "      <td>Left</td>\n",
       "    </tr>\n",
       "    <tr>\n",
       "      <th>5</th>\n",
       "      <td>Lang</td>\n",
       "      <td>2'1''</td>\n",
       "      <td>1988-02-01</td>\n",
       "      <td>32</td>\n",
       "      <td>M</td>\n",
       "      <td>Right</td>\n",
       "      <td>Left</td>\n",
       "    </tr>\n",
       "    <tr>\n",
       "      <th>6</th>\n",
       "      <td>Scotty</td>\n",
       "      <td>2'1''</td>\n",
       "      <td>1988-03-01</td>\n",
       "      <td>32</td>\n",
       "      <td>M</td>\n",
       "      <td>Right</td>\n",
       "      <td>Right</td>\n",
       "    </tr>\n",
       "    <tr>\n",
       "      <th>7</th>\n",
       "      <td>Edward</td>\n",
       "      <td>2'2''</td>\n",
       "      <td>1988-02-01</td>\n",
       "      <td>32</td>\n",
       "      <td>M</td>\n",
       "      <td>Right</td>\n",
       "      <td>Left</td>\n",
       "    </tr>\n",
       "    <tr>\n",
       "      <th>8</th>\n",
       "      <td>Caitlin</td>\n",
       "      <td>1'11''</td>\n",
       "      <td>1988-06-04</td>\n",
       "      <td>32</td>\n",
       "      <td>F</td>\n",
       "      <td>Right</td>\n",
       "      <td>Left</td>\n",
       "    </tr>\n",
       "    <tr>\n",
       "      <th>9</th>\n",
       "      <td>Eleanor</td>\n",
       "      <td>1'11''</td>\n",
       "      <td>1988-05-02</td>\n",
       "      <td>32</td>\n",
       "      <td>F</td>\n",
       "      <td>Right</td>\n",
       "      <td>Right</td>\n",
       "    </tr>\n",
       "    <tr>\n",
       "      <th>10</th>\n",
       "      <td>Damon</td>\n",
       "      <td>1'10''</td>\n",
       "      <td>1988-09-02</td>\n",
       "      <td>32</td>\n",
       "      <td>M</td>\n",
       "      <td>Left</td>\n",
       "      <td>Right</td>\n",
       "    </tr>\n",
       "    <tr>\n",
       "      <th>11</th>\n",
       "      <td>Mark</td>\n",
       "      <td>2'3''</td>\n",
       "      <td>1987-09-04</td>\n",
       "      <td>33</td>\n",
       "      <td>M</td>\n",
       "      <td>Right</td>\n",
       "      <td>Right</td>\n",
       "    </tr>\n",
       "    <tr>\n",
       "      <th>12</th>\n",
       "      <td>Ray</td>\n",
       "      <td>2'0''</td>\n",
       "      <td>1988-03-03</td>\n",
       "      <td>32</td>\n",
       "      <td>M</td>\n",
       "      <td>Right</td>\n",
       "      <td>Left</td>\n",
       "    </tr>\n",
       "    <tr>\n",
       "      <th>13</th>\n",
       "      <td>Cal</td>\n",
       "      <td>2'2''</td>\n",
       "      <td>1987-08-01</td>\n",
       "      <td>33</td>\n",
       "      <td>M</td>\n",
       "      <td>Right</td>\n",
       "      <td>Left</td>\n",
       "    </tr>\n",
       "    <tr>\n",
       "      <th>14</th>\n",
       "      <td>Cam</td>\n",
       "      <td>2'3''</td>\n",
       "      <td>1988-03-03</td>\n",
       "      <td>32</td>\n",
       "      <td>M</td>\n",
       "      <td>Right</td>\n",
       "      <td>Left</td>\n",
       "    </tr>\n",
       "    <tr>\n",
       "      <th>15</th>\n",
       "      <td>Julie</td>\n",
       "      <td>2'2''</td>\n",
       "      <td>1987-11-03</td>\n",
       "      <td>32</td>\n",
       "      <td>F</td>\n",
       "      <td>Right</td>\n",
       "      <td>Left</td>\n",
       "    </tr>\n",
       "    <tr>\n",
       "      <th>16</th>\n",
       "      <td>Kate</td>\n",
       "      <td>1'11''</td>\n",
       "      <td>1988-04-03</td>\n",
       "      <td>32</td>\n",
       "      <td>F</td>\n",
       "      <td>Right</td>\n",
       "      <td>Right</td>\n",
       "    </tr>\n",
       "    <tr>\n",
       "      <th>17</th>\n",
       "      <td>Caroline</td>\n",
       "      <td>2'0''</td>\n",
       "      <td>1987-12-02</td>\n",
       "      <td>32</td>\n",
       "      <td>F</td>\n",
       "      <td>Left</td>\n",
       "      <td>Right</td>\n",
       "    </tr>\n",
       "    <tr>\n",
       "      <th>18</th>\n",
       "      <td>Maggie</td>\n",
       "      <td>2'0''</td>\n",
       "      <td>1988-03-02</td>\n",
       "      <td>32</td>\n",
       "      <td>F</td>\n",
       "      <td>Right</td>\n",
       "      <td>Right</td>\n",
       "    </tr>\n",
       "    <tr>\n",
       "      <th>19</th>\n",
       "      <td>Lee</td>\n",
       "      <td>2'2''</td>\n",
       "      <td>1988-06-04</td>\n",
       "      <td>32</td>\n",
       "      <td>F</td>\n",
       "      <td>Left</td>\n",
       "      <td>Left</td>\n",
       "    </tr>\n",
       "    <tr>\n",
       "      <th>20</th>\n",
       "      <td>Heather</td>\n",
       "      <td>2'1''</td>\n",
       "      <td>1988-03-02</td>\n",
       "      <td>32</td>\n",
       "      <td>F</td>\n",
       "      <td>Right</td>\n",
       "      <td>Right</td>\n",
       "    </tr>\n",
       "    <tr>\n",
       "      <th>21</th>\n",
       "      <td>Andy</td>\n",
       "      <td>2'0''</td>\n",
       "      <td>1988-06-03</td>\n",
       "      <td>32</td>\n",
       "      <td>M</td>\n",
       "      <td>Right</td>\n",
       "      <td>Right</td>\n",
       "    </tr>\n",
       "    <tr>\n",
       "      <th>22</th>\n",
       "      <td>Josh</td>\n",
       "      <td>2'0''</td>\n",
       "      <td>1988-07-02</td>\n",
       "      <td>32</td>\n",
       "      <td>M</td>\n",
       "      <td>Right</td>\n",
       "      <td>Left</td>\n",
       "    </tr>\n",
       "    <tr>\n",
       "      <th>23</th>\n",
       "      <td>Laura</td>\n",
       "      <td>2'0''</td>\n",
       "      <td>1988-09-01</td>\n",
       "      <td>32</td>\n",
       "      <td>F</td>\n",
       "      <td>Left</td>\n",
       "      <td>Right</td>\n",
       "    </tr>\n",
       "    <tr>\n",
       "      <th>24</th>\n",
       "      <td>Erica</td>\n",
       "      <td>2'0''</td>\n",
       "      <td>1988-09-01</td>\n",
       "      <td>32</td>\n",
       "      <td>F</td>\n",
       "      <td>Right</td>\n",
       "      <td>Left</td>\n",
       "    </tr>\n",
       "    <tr>\n",
       "      <th>25</th>\n",
       "      <td>Peggy</td>\n",
       "      <td>2'0''</td>\n",
       "      <td>1988-10-04</td>\n",
       "      <td>32</td>\n",
       "      <td>F</td>\n",
       "      <td>Right</td>\n",
       "      <td>Left</td>\n",
       "    </tr>\n",
       "    <tr>\n",
       "      <th>26</th>\n",
       "      <td>Glen</td>\n",
       "      <td>2'3''</td>\n",
       "      <td>1988-07-04</td>\n",
       "      <td>32</td>\n",
       "      <td>M</td>\n",
       "      <td>Right</td>\n",
       "      <td>Left</td>\n",
       "    </tr>\n",
       "    <tr>\n",
       "      <th>27</th>\n",
       "      <td>Abby</td>\n",
       "      <td>2'2''</td>\n",
       "      <td>1988-02-04</td>\n",
       "      <td>32</td>\n",
       "      <td>F</td>\n",
       "      <td>Right</td>\n",
       "      <td>Left</td>\n",
       "    </tr>\n",
       "    <tr>\n",
       "      <th>28</th>\n",
       "      <td>David</td>\n",
       "      <td>2'1''</td>\n",
       "      <td>1987-12-03</td>\n",
       "      <td>32</td>\n",
       "      <td>M</td>\n",
       "      <td>Right</td>\n",
       "      <td>Right</td>\n",
       "    </tr>\n",
       "    <tr>\n",
       "      <th>29</th>\n",
       "      <td>Mike</td>\n",
       "      <td>2'0''</td>\n",
       "      <td>1988-11-03</td>\n",
       "      <td>31</td>\n",
       "      <td>M</td>\n",
       "      <td>Right</td>\n",
       "      <td>Left</td>\n",
       "    </tr>\n",
       "    <tr>\n",
       "      <th>30</th>\n",
       "      <td>Dwayne</td>\n",
       "      <td>1'11''</td>\n",
       "      <td>1988-08-03</td>\n",
       "      <td>32</td>\n",
       "      <td>M</td>\n",
       "      <td>Left</td>\n",
       "      <td>Right</td>\n",
       "    </tr>\n",
       "    <tr>\n",
       "      <th>31</th>\n",
       "      <td>Danielle</td>\n",
       "      <td>2'0''</td>\n",
       "      <td>1988-06-04</td>\n",
       "      <td>32</td>\n",
       "      <td>F</td>\n",
       "      <td>Right</td>\n",
       "      <td>Left</td>\n",
       "    </tr>\n",
       "    <tr>\n",
       "      <th>32</th>\n",
       "      <td>Caitlin</td>\n",
       "      <td>1'10''</td>\n",
       "      <td>1988-07-03</td>\n",
       "      <td>32</td>\n",
       "      <td>F</td>\n",
       "      <td>Right</td>\n",
       "      <td>Right</td>\n",
       "    </tr>\n",
       "    <tr>\n",
       "      <th>33</th>\n",
       "      <td>Leigh</td>\n",
       "      <td>2'0''</td>\n",
       "      <td>1988-03-02</td>\n",
       "      <td>32</td>\n",
       "      <td>F</td>\n",
       "      <td>Right</td>\n",
       "      <td>Left</td>\n",
       "    </tr>\n",
       "    <tr>\n",
       "      <th>34</th>\n",
       "      <td>Dylan</td>\n",
       "      <td>1'11''</td>\n",
       "      <td>1988-04-04</td>\n",
       "      <td>32</td>\n",
       "      <td>M</td>\n",
       "      <td>Left</td>\n",
       "      <td>Right</td>\n",
       "    </tr>\n",
       "    <tr>\n",
       "      <th>35</th>\n",
       "      <td>Peter</td>\n",
       "      <td>2'0''</td>\n",
       "      <td>1988-04-02</td>\n",
       "      <td>32</td>\n",
       "      <td>M</td>\n",
       "      <td>Left</td>\n",
       "      <td>Right</td>\n",
       "    </tr>\n",
       "    <tr>\n",
       "      <th>36</th>\n",
       "      <td>Hannah</td>\n",
       "      <td>1'10''</td>\n",
       "      <td>1988-03-01</td>\n",
       "      <td>32</td>\n",
       "      <td>F</td>\n",
       "      <td>Right</td>\n",
       "      <td>Left</td>\n",
       "    </tr>\n",
       "    <tr>\n",
       "      <th>37</th>\n",
       "      <td>Teshanna</td>\n",
       "      <td>2'2''</td>\n",
       "      <td>1988-03-01</td>\n",
       "      <td>32</td>\n",
       "      <td>F</td>\n",
       "      <td>Right</td>\n",
       "      <td>Left</td>\n",
       "    </tr>\n",
       "    <tr>\n",
       "      <th>38</th>\n",
       "      <td>Hayley</td>\n",
       "      <td>1'9''</td>\n",
       "      <td>1988-01-02</td>\n",
       "      <td>32</td>\n",
       "      <td>F</td>\n",
       "      <td>Right</td>\n",
       "      <td>Right</td>\n",
       "    </tr>\n",
       "    <tr>\n",
       "      <th>39</th>\n",
       "      <td>Alisha</td>\n",
       "      <td>2'0''</td>\n",
       "      <td>1988-09-04</td>\n",
       "      <td>32</td>\n",
       "      <td>F</td>\n",
       "      <td>Right</td>\n",
       "      <td>Left</td>\n",
       "    </tr>\n",
       "  </tbody>\n",
       "</table>\n",
       "</div>"
      ],
      "text/plain": [
       "        name  Height       date edad Gender dom_hand   foot\n",
       "1      David   2'0'' 1988-05-01   32      M    Right   Left\n",
       "2       Lars   2'1'' 1987-10-03   33      M     Left   Left\n",
       "3       Zach   2'0'' 1987-12-02   32      M    Right  Right\n",
       "4       Josh   2'1'' 1988-01-01   32      M    Right   Left\n",
       "5       Lang   2'1'' 1988-02-01   32      M    Right   Left\n",
       "6     Scotty   2'1'' 1988-03-01   32      M    Right  Right\n",
       "7     Edward   2'2'' 1988-02-01   32      M    Right   Left\n",
       "8    Caitlin  1'11'' 1988-06-04   32      F    Right   Left\n",
       "9    Eleanor  1'11'' 1988-05-02   32      F    Right  Right\n",
       "10     Damon  1'10'' 1988-09-02   32      M     Left  Right\n",
       "11      Mark   2'3'' 1987-09-04   33      M    Right  Right\n",
       "12       Ray   2'0'' 1988-03-03   32      M    Right   Left\n",
       "13       Cal   2'2'' 1987-08-01   33      M    Right   Left\n",
       "14       Cam   2'3'' 1988-03-03   32      M    Right   Left\n",
       "15     Julie   2'2'' 1987-11-03   32      F    Right   Left\n",
       "16      Kate  1'11'' 1988-04-03   32      F    Right  Right\n",
       "17  Caroline   2'0'' 1987-12-02   32      F     Left  Right\n",
       "18    Maggie   2'0'' 1988-03-02   32      F    Right  Right\n",
       "19       Lee   2'2'' 1988-06-04   32      F     Left   Left\n",
       "20   Heather   2'1'' 1988-03-02   32      F    Right  Right\n",
       "21      Andy   2'0'' 1988-06-03   32      M    Right  Right\n",
       "22      Josh   2'0'' 1988-07-02   32      M    Right   Left\n",
       "23     Laura   2'0'' 1988-09-01   32      F     Left  Right\n",
       "24     Erica   2'0'' 1988-09-01   32      F    Right   Left\n",
       "25     Peggy   2'0'' 1988-10-04   32      F    Right   Left\n",
       "26      Glen   2'3'' 1988-07-04   32      M    Right   Left\n",
       "27      Abby   2'2'' 1988-02-04   32      F    Right   Left\n",
       "28     David   2'1'' 1987-12-03   32      M    Right  Right\n",
       "29      Mike   2'0'' 1988-11-03   31      M    Right   Left\n",
       "30    Dwayne  1'11'' 1988-08-03   32      M     Left  Right\n",
       "31  Danielle   2'0'' 1988-06-04   32      F    Right   Left\n",
       "32   Caitlin  1'10'' 1988-07-03   32      F    Right  Right\n",
       "33     Leigh   2'0'' 1988-03-02   32      F    Right   Left\n",
       "34     Dylan  1'11'' 1988-04-04   32      M     Left  Right\n",
       "35     Peter   2'0'' 1988-04-02   32      M     Left  Right\n",
       "36    Hannah  1'10'' 1988-03-01   32      F    Right   Left\n",
       "37  Teshanna   2'2'' 1988-03-01   32      F    Right   Left\n",
       "38    Hayley   1'9'' 1988-01-02   32      F    Right  Right\n",
       "39    Alisha   2'0'' 1988-09-04   32      F    Right   Left"
      ]
     },
     "execution_count": 213,
     "metadata": {},
     "output_type": "execute_result"
    }
   ],
   "source": [
    "df"
   ]
  },
  {
   "cell_type": "code",
   "execution_count": 254,
   "metadata": {},
   "outputs": [
    {
     "name": "stderr",
     "output_type": "stream",
     "text": [
      "C:\\Users\\GralG\\AppData\\Roaming\\Python\\Python37\\site-packages\\IPython\\core\\interactiveshell.py:3146: DtypeWarning: Columns (70,71,72,73,74,76,79) have mixed types. Specify dtype option on import or set low_memory=False.\n",
      "  interactivity=interactivity, compiler=compiler, result=result)\n"
     ]
    }
   ],
   "source": [
    "df = pd.read_csv('data/vehicles_messy.csv')"
   ]
  },
  {
   "cell_type": "code",
   "execution_count": 217,
   "metadata": {
    "scrolled": true
   },
   "outputs": [
    {
     "data": {
      "text/html": [
       "<div>\n",
       "<style scoped>\n",
       "    .dataframe tbody tr th:only-of-type {\n",
       "        vertical-align: middle;\n",
       "    }\n",
       "\n",
       "    .dataframe tbody tr th {\n",
       "        vertical-align: top;\n",
       "    }\n",
       "\n",
       "    .dataframe thead th {\n",
       "        text-align: right;\n",
       "    }\n",
       "</style>\n",
       "<table border=\"1\" class=\"dataframe\">\n",
       "  <thead>\n",
       "    <tr style=\"text-align: right;\">\n",
       "      <th></th>\n",
       "      <th>barrels08</th>\n",
       "      <th>barrelsA08</th>\n",
       "      <th>charge120</th>\n",
       "      <th>charge240</th>\n",
       "      <th>city08</th>\n",
       "      <th>city08U</th>\n",
       "      <th>cityA08</th>\n",
       "      <th>cityA08U</th>\n",
       "      <th>cityCD</th>\n",
       "      <th>cityE</th>\n",
       "      <th>...</th>\n",
       "      <th>mfrCode</th>\n",
       "      <th>c240Dscr</th>\n",
       "      <th>charge240b</th>\n",
       "      <th>c240bDscr</th>\n",
       "      <th>createdOn</th>\n",
       "      <th>modifiedOn</th>\n",
       "      <th>startStop</th>\n",
       "      <th>phevCity</th>\n",
       "      <th>phevHwy</th>\n",
       "      <th>phevComb</th>\n",
       "    </tr>\n",
       "  </thead>\n",
       "  <tbody>\n",
       "    <tr>\n",
       "      <th>0</th>\n",
       "      <td>15.695714</td>\n",
       "      <td>0.0</td>\n",
       "      <td>0.0</td>\n",
       "      <td>0.0</td>\n",
       "      <td>19</td>\n",
       "      <td>0.0</td>\n",
       "      <td>0</td>\n",
       "      <td>0.0</td>\n",
       "      <td>0.0</td>\n",
       "      <td>0.0</td>\n",
       "      <td>...</td>\n",
       "      <td>NaN</td>\n",
       "      <td>NaN</td>\n",
       "      <td>0.0</td>\n",
       "      <td>NaN</td>\n",
       "      <td>Tue Jan 01 00:00:00 EST 2013</td>\n",
       "      <td>Tue Jan 01 00:00:00 EST 2013</td>\n",
       "      <td>NaN</td>\n",
       "      <td>0</td>\n",
       "      <td>0</td>\n",
       "      <td>0</td>\n",
       "    </tr>\n",
       "    <tr>\n",
       "      <th>1</th>\n",
       "      <td>29.964545</td>\n",
       "      <td>0.0</td>\n",
       "      <td>0.0</td>\n",
       "      <td>0.0</td>\n",
       "      <td>9</td>\n",
       "      <td>0.0</td>\n",
       "      <td>0</td>\n",
       "      <td>0.0</td>\n",
       "      <td>0.0</td>\n",
       "      <td>0.0</td>\n",
       "      <td>...</td>\n",
       "      <td>NaN</td>\n",
       "      <td>NaN</td>\n",
       "      <td>0.0</td>\n",
       "      <td>NaN</td>\n",
       "      <td>Tue Jan 01 00:00:00 EST 2013</td>\n",
       "      <td>Tue Jan 01 00:00:00 EST 2013</td>\n",
       "      <td>NaN</td>\n",
       "      <td>0</td>\n",
       "      <td>0</td>\n",
       "      <td>0</td>\n",
       "    </tr>\n",
       "    <tr>\n",
       "      <th>2</th>\n",
       "      <td>12.207778</td>\n",
       "      <td>0.0</td>\n",
       "      <td>0.0</td>\n",
       "      <td>0.0</td>\n",
       "      <td>23</td>\n",
       "      <td>0.0</td>\n",
       "      <td>0</td>\n",
       "      <td>0.0</td>\n",
       "      <td>0.0</td>\n",
       "      <td>0.0</td>\n",
       "      <td>...</td>\n",
       "      <td>NaN</td>\n",
       "      <td>NaN</td>\n",
       "      <td>0.0</td>\n",
       "      <td>NaN</td>\n",
       "      <td>Tue Jan 01 00:00:00 EST 2013</td>\n",
       "      <td>Tue Jan 01 00:00:00 EST 2013</td>\n",
       "      <td>NaN</td>\n",
       "      <td>0</td>\n",
       "      <td>0</td>\n",
       "      <td>0</td>\n",
       "    </tr>\n",
       "    <tr>\n",
       "      <th>3</th>\n",
       "      <td>29.964545</td>\n",
       "      <td>0.0</td>\n",
       "      <td>0.0</td>\n",
       "      <td>0.0</td>\n",
       "      <td>10</td>\n",
       "      <td>0.0</td>\n",
       "      <td>0</td>\n",
       "      <td>0.0</td>\n",
       "      <td>0.0</td>\n",
       "      <td>0.0</td>\n",
       "      <td>...</td>\n",
       "      <td>NaN</td>\n",
       "      <td>NaN</td>\n",
       "      <td>0.0</td>\n",
       "      <td>NaN</td>\n",
       "      <td>Tue Jan 01 00:00:00 EST 2013</td>\n",
       "      <td>Tue Jan 01 00:00:00 EST 2013</td>\n",
       "      <td>NaN</td>\n",
       "      <td>0</td>\n",
       "      <td>0</td>\n",
       "      <td>0</td>\n",
       "    </tr>\n",
       "    <tr>\n",
       "      <th>4</th>\n",
       "      <td>17.347895</td>\n",
       "      <td>0.0</td>\n",
       "      <td>0.0</td>\n",
       "      <td>0.0</td>\n",
       "      <td>17</td>\n",
       "      <td>0.0</td>\n",
       "      <td>0</td>\n",
       "      <td>0.0</td>\n",
       "      <td>0.0</td>\n",
       "      <td>0.0</td>\n",
       "      <td>...</td>\n",
       "      <td>NaN</td>\n",
       "      <td>NaN</td>\n",
       "      <td>0.0</td>\n",
       "      <td>NaN</td>\n",
       "      <td>Tue Jan 01 00:00:00 EST 2013</td>\n",
       "      <td>Tue Jan 01 00:00:00 EST 2013</td>\n",
       "      <td>NaN</td>\n",
       "      <td>0</td>\n",
       "      <td>0</td>\n",
       "      <td>0</td>\n",
       "    </tr>\n",
       "  </tbody>\n",
       "</table>\n",
       "<p>5 rows × 83 columns</p>\n",
       "</div>"
      ],
      "text/plain": [
       "   barrels08  barrelsA08  charge120  charge240  city08  city08U  cityA08  \\\n",
       "0  15.695714         0.0        0.0        0.0      19      0.0        0   \n",
       "1  29.964545         0.0        0.0        0.0       9      0.0        0   \n",
       "2  12.207778         0.0        0.0        0.0      23      0.0        0   \n",
       "3  29.964545         0.0        0.0        0.0      10      0.0        0   \n",
       "4  17.347895         0.0        0.0        0.0      17      0.0        0   \n",
       "\n",
       "   cityA08U  cityCD  cityE  ...  mfrCode  c240Dscr  charge240b  c240bDscr  \\\n",
       "0       0.0     0.0    0.0  ...      NaN       NaN         0.0        NaN   \n",
       "1       0.0     0.0    0.0  ...      NaN       NaN         0.0        NaN   \n",
       "2       0.0     0.0    0.0  ...      NaN       NaN         0.0        NaN   \n",
       "3       0.0     0.0    0.0  ...      NaN       NaN         0.0        NaN   \n",
       "4       0.0     0.0    0.0  ...      NaN       NaN         0.0        NaN   \n",
       "\n",
       "                      createdOn                    modifiedOn  startStop  \\\n",
       "0  Tue Jan 01 00:00:00 EST 2013  Tue Jan 01 00:00:00 EST 2013        NaN   \n",
       "1  Tue Jan 01 00:00:00 EST 2013  Tue Jan 01 00:00:00 EST 2013        NaN   \n",
       "2  Tue Jan 01 00:00:00 EST 2013  Tue Jan 01 00:00:00 EST 2013        NaN   \n",
       "3  Tue Jan 01 00:00:00 EST 2013  Tue Jan 01 00:00:00 EST 2013        NaN   \n",
       "4  Tue Jan 01 00:00:00 EST 2013  Tue Jan 01 00:00:00 EST 2013        NaN   \n",
       "\n",
       "   phevCity  phevHwy  phevComb  \n",
       "0         0        0         0  \n",
       "1         0        0         0  \n",
       "2         0        0         0  \n",
       "3         0        0         0  \n",
       "4         0        0         0  \n",
       "\n",
       "[5 rows x 83 columns]"
      ]
     },
     "execution_count": 217,
     "metadata": {},
     "output_type": "execute_result"
    }
   ],
   "source": [
    "df.head()"
   ]
  },
  {
   "cell_type": "code",
   "execution_count": 216,
   "metadata": {
    "scrolled": true
   },
   "outputs": [
    {
     "name": "stdout",
     "output_type": "stream",
     "text": [
      "<class 'pandas.core.frame.DataFrame'>\n",
      "RangeIndex: 37843 entries, 0 to 37842\n",
      "Data columns (total 83 columns):\n",
      "barrels08          37843 non-null float64\n",
      "barrelsA08         37843 non-null float64\n",
      "charge120          37843 non-null float64\n",
      "charge240          37843 non-null float64\n",
      "city08             37843 non-null int64\n",
      "city08U            37843 non-null float64\n",
      "cityA08            37843 non-null int64\n",
      "cityA08U           37843 non-null float64\n",
      "cityCD             37843 non-null float64\n",
      "cityE              37843 non-null float64\n",
      "cityUF             37843 non-null float64\n",
      "co2                37843 non-null int64\n",
      "co2A               37843 non-null int64\n",
      "co2TailpipeAGpm    37843 non-null float64\n",
      "co2TailpipeGpm     37843 non-null float64\n",
      "comb08             37843 non-null int64\n",
      "comb08U            37843 non-null float64\n",
      "combA08            37843 non-null int64\n",
      "combA08U           37843 non-null float64\n",
      "combE              37843 non-null float64\n",
      "combinedCD         37843 non-null float64\n",
      "combinedUF         37843 non-null float64\n",
      "cylinders          37720 non-null float64\n",
      "displ              37723 non-null float64\n",
      "drive              36654 non-null object\n",
      "engId              37843 non-null int64\n",
      "eng_dscr           22440 non-null object\n",
      "feScore            37843 non-null int64\n",
      "fuelCost08         37843 non-null int64\n",
      "fuelCostA08        37843 non-null int64\n",
      "fuelType           37843 non-null object\n",
      "fuelType1          37843 non-null object\n",
      "ghgScore           37843 non-null int64\n",
      "ghgScoreA          37843 non-null int64\n",
      "highway08          37843 non-null int64\n",
      "highway08U         37843 non-null float64\n",
      "highwayA08         37843 non-null int64\n",
      "highwayA08U        37843 non-null float64\n",
      "highwayCD          37843 non-null float64\n",
      "highwayE           37843 non-null float64\n",
      "highwayUF          37843 non-null float64\n",
      "hlv                37843 non-null int64\n",
      "hpv                37843 non-null int64\n",
      "id                 37843 non-null int64\n",
      "lv2                37843 non-null int64\n",
      "lv4                37843 non-null int64\n",
      "make               37843 non-null object\n",
      "model              37843 non-null object\n",
      "mpgData            37843 non-null object\n",
      "phevBlended        37843 non-null bool\n",
      "pv2                37843 non-null int64\n",
      "pv4                37843 non-null int64\n",
      "range              37843 non-null int64\n",
      "rangeCity          37843 non-null float64\n",
      "rangeCityA         37843 non-null float64\n",
      "rangeHwy           37843 non-null float64\n",
      "rangeHwyA          37843 non-null float64\n",
      "trany              37832 non-null object\n",
      "UCity              37843 non-null float64\n",
      "UCityA             37843 non-null float64\n",
      "UHighway           37843 non-null float64\n",
      "UHighwayA          37843 non-null float64\n",
      "VClass             37843 non-null object\n",
      "year               37843 non-null int64\n",
      "youSaveSpend       37843 non-null int64\n",
      "guzzler            2281 non-null object\n",
      "trans_dscr         15047 non-null object\n",
      "tCharger           5186 non-null object\n",
      "sCharger           666 non-null object\n",
      "atvType            3072 non-null object\n",
      "fuelType2          1408 non-null object\n",
      "rangeA             1403 non-null object\n",
      "evMotor            562 non-null object\n",
      "mfrCode            7025 non-null object\n",
      "c240Dscr           37 non-null object\n",
      "charge240b         37843 non-null float64\n",
      "c240bDscr          36 non-null object\n",
      "createdOn          37843 non-null object\n",
      "modifiedOn         37843 non-null object\n",
      "startStop          6138 non-null object\n",
      "phevCity           37843 non-null int64\n",
      "phevHwy            37843 non-null int64\n",
      "phevComb           37843 non-null int64\n",
      "dtypes: bool(1), float64(32), int64(27), object(23)\n",
      "memory usage: 23.7+ MB\n"
     ]
    }
   ],
   "source": [
    "df.info()"
   ]
  },
  {
   "cell_type": "code",
   "execution_count": 230,
   "metadata": {},
   "outputs": [],
   "source": [
    "arr = np.array([2,3,3,4,5,5,6,3,3,4,4])"
   ]
  },
  {
   "cell_type": "code",
   "execution_count": 220,
   "metadata": {},
   "outputs": [
    {
     "data": {
      "text/plain": [
       "4.0"
      ]
     },
     "execution_count": 220,
     "metadata": {},
     "output_type": "execute_result"
    }
   ],
   "source": [
    "arr.mean()"
   ]
  },
  {
   "cell_type": "code",
   "execution_count": 221,
   "metadata": {},
   "outputs": [
    {
     "data": {
      "text/plain": [
       "1.0"
      ]
     },
     "execution_count": 221,
     "metadata": {},
     "output_type": "execute_result"
    }
   ],
   "source": [
    "arr.std()"
   ]
  },
  {
   "cell_type": "code",
   "execution_count": null,
   "metadata": {},
   "outputs": [],
   "source": []
  },
  {
   "cell_type": "code",
   "execution_count": 227,
   "metadata": {},
   "outputs": [],
   "source": [
    "arr2 = np.array([3,3,4,5,5,6,3,3,4,4,50,60])"
   ]
  },
  {
   "cell_type": "code",
   "execution_count": 223,
   "metadata": {},
   "outputs": [
    {
     "data": {
      "text/plain": [
       "12.5"
      ]
     },
     "execution_count": 223,
     "metadata": {},
     "output_type": "execute_result"
    }
   ],
   "source": [
    "arr2.mean()"
   ]
  },
  {
   "cell_type": "code",
   "execution_count": 225,
   "metadata": {},
   "outputs": [
    {
     "data": {
      "text/plain": [
       "19.13765920900464"
      ]
     },
     "execution_count": 225,
     "metadata": {},
     "output_type": "execute_result"
    }
   ],
   "source": [
    "arr2.std()"
   ]
  },
  {
   "cell_type": "code",
   "execution_count": 231,
   "metadata": {},
   "outputs": [
    {
     "data": {
      "image/png": "[encoded data removed]",
      "text/plain": [
       "<Figure size 432x288 with 1 Axes>"
      ]
     },
     "metadata": {
      "needs_background": "light"
     },
     "output_type": "display_data"
    }
   ],
   "source": [
    "plt.boxplot(arr)\n",
    "plt.show();"
   ]
  },
  {
   "cell_type": "code",
   "execution_count": 232,
   "metadata": {},
   "outputs": [
    {
     "data": {
      "image/png": "[encoded data removed]",
      "text/plain": [
       "<Figure size 432x288 with 1 Axes>"
      ]
     },
     "metadata": {
      "needs_background": "light"
     },
     "output_type": "display_data"
    }
   ],
   "source": [
    "plt.boxplot(arr2)\n",
    "plt.show();"
   ]
  },
  {
   "cell_type": "code",
   "execution_count": 234,
   "metadata": {},
   "outputs": [],
   "source": [
    "q25 = pd.Series(arr).quantile(.25)"
   ]
  },
  {
   "cell_type": "code",
   "execution_count": 235,
   "metadata": {},
   "outputs": [],
   "source": [
    "q75 = pd.Series(arr).quantile(.75)"
   ]
  },
  {
   "cell_type": "code",
   "execution_count": 236,
   "metadata": {},
   "outputs": [],
   "source": [
    "iqr = q75-q25"
   ]
  },
  {
   "cell_type": "code",
   "execution_count": 237,
   "metadata": {},
   "outputs": [
    {
     "data": {
      "text/plain": [
       "3.0"
      ]
     },
     "execution_count": 237,
     "metadata": {},
     "output_type": "execute_result"
    }
   ],
   "source": [
    "q25"
   ]
  },
  {
   "cell_type": "code",
   "execution_count": 239,
   "metadata": {},
   "outputs": [],
   "source": [
    "arr3 = np.array([3,4,56,58,63,57,50,65,55,50,60])"
   ]
  },
  {
   "cell_type": "code",
   "execution_count": 240,
   "metadata": {},
   "outputs": [
    {
     "data": {
      "image/png": "[encoded data removed]",
      "text/plain": [
       "<Figure size 432x288 with 1 Axes>"
      ]
     },
     "metadata": {
      "needs_background": "light"
     },
     "output_type": "display_data"
    }
   ],
   "source": [
    "plt.boxplot(arr3)\n",
    "plt.show();"
   ]
  },
  {
   "cell_type": "code",
   "execution_count": 241,
   "metadata": {},
   "outputs": [],
   "source": [
    "q25 = pd.Series(arr3).quantile(.25)"
   ]
  },
  {
   "cell_type": "code",
   "execution_count": 245,
   "metadata": {
    "scrolled": true
   },
   "outputs": [
    {
     "name": "stdout",
     "output_type": "stream",
     "text": [
      "<class 'pandas.core.frame.DataFrame'>\n",
      "RangeIndex: 37843 entries, 0 to 37842\n",
      "Data columns (total 83 columns):\n",
      "barrels08          37843 non-null float64\n",
      "barrelsA08         37843 non-null float64\n",
      "charge120          37843 non-null float64\n",
      "charge240          37843 non-null float64\n",
      "city08             37843 non-null int64\n",
      "city08U            37843 non-null float64\n",
      "cityA08            37843 non-null int64\n",
      "cityA08U           37843 non-null float64\n",
      "cityCD             37843 non-null float64\n",
      "cityE              37843 non-null float64\n",
      "cityUF             37843 non-null float64\n",
      "co2                37843 non-null int64\n",
      "co2A               37843 non-null int64\n",
      "co2TailpipeAGpm    37843 non-null float64\n",
      "co2TailpipeGpm     37843 non-null float64\n",
      "comb08             37843 non-null int64\n",
      "comb08U            37843 non-null float64\n",
      "combA08            37843 non-null int64\n",
      "combA08U           37843 non-null float64\n",
      "combE              37843 non-null float64\n",
      "combinedCD         37843 non-null float64\n",
      "combinedUF         37843 non-null float64\n",
      "cylinders          37720 non-null float64\n",
      "displ              37723 non-null float64\n",
      "drive              36654 non-null object\n",
      "engId              37843 non-null int64\n",
      "eng_dscr           22440 non-null object\n",
      "feScore            37843 non-null int64\n",
      "fuelCost08         37843 non-null int64\n",
      "fuelCostA08        37843 non-null int64\n",
      "fuelType           37843 non-null object\n",
      "fuelType1          37843 non-null object\n",
      "ghgScore           37843 non-null int64\n",
      "ghgScoreA          37843 non-null int64\n",
      "highway08          37843 non-null int64\n",
      "highway08U         37843 non-null float64\n",
      "highwayA08         37843 non-null int64\n",
      "highwayA08U        37843 non-null float64\n",
      "highwayCD          37843 non-null float64\n",
      "highwayE           37843 non-null float64\n",
      "highwayUF          37843 non-null float64\n",
      "hlv                37843 non-null int64\n",
      "hpv                37843 non-null int64\n",
      "id                 37843 non-null int64\n",
      "lv2                37843 non-null int64\n",
      "lv4                37843 non-null int64\n",
      "make               37843 non-null object\n",
      "model              37843 non-null object\n",
      "mpgData            37843 non-null object\n",
      "phevBlended        37843 non-null bool\n",
      "pv2                37843 non-null int64\n",
      "pv4                37843 non-null int64\n",
      "range              37843 non-null int64\n",
      "rangeCity          37843 non-null float64\n",
      "rangeCityA         37843 non-null float64\n",
      "rangeHwy           37843 non-null float64\n",
      "rangeHwyA          37843 non-null float64\n",
      "trany              37832 non-null object\n",
      "UCity              37843 non-null float64\n",
      "UCityA             37843 non-null float64\n",
      "UHighway           37843 non-null float64\n",
      "UHighwayA          37843 non-null float64\n",
      "VClass             37843 non-null object\n",
      "year               37843 non-null int64\n",
      "youSaveSpend       37843 non-null int64\n",
      "guzzler            2281 non-null object\n",
      "trans_dscr         15047 non-null object\n",
      "tCharger           5186 non-null object\n",
      "sCharger           666 non-null object\n",
      "atvType            3072 non-null object\n",
      "fuelType2          1408 non-null object\n",
      "rangeA             1403 non-null object\n",
      "evMotor            562 non-null object\n",
      "mfrCode            7025 non-null object\n",
      "c240Dscr           37 non-null object\n",
      "charge240b         37843 non-null float64\n",
      "c240bDscr          36 non-null object\n",
      "createdOn          37843 non-null object\n",
      "modifiedOn         37843 non-null object\n",
      "startStop          6138 non-null object\n",
      "phevCity           37843 non-null int64\n",
      "phevHwy            37843 non-null int64\n",
      "phevComb           37843 non-null int64\n",
      "dtypes: bool(1), float64(32), int64(27), object(23)\n",
      "memory usage: 23.7+ MB\n"
     ]
    }
   ],
   "source": [
    "df.info()"
   ]
  },
  {
   "cell_type": "code",
   "execution_count": 255,
   "metadata": {},
   "outputs": [],
   "source": [
    "df2 = df[['co2','make','model','trany','mpgData','year','fuelType','cylinders']]"
   ]
  },
  {
   "cell_type": "code",
   "execution_count": 249,
   "metadata": {
    "scrolled": true
   },
   "outputs": [
    {
     "data": {
      "text/plain": [
       "array([ -1,   0,  84,  87, 471, 349, 429, 446, 305, 393, 412, 320, 472,\n",
       "       477, 430, 373, 460, 418, 360, 423, 442, 421, 391, 307, 302, 623,\n",
       "       596, 463, 425, 367, 406, 413, 433, 459, 470, 383, 401, 437, 473,\n",
       "       389, 288, 279, 278, 277, 287, 361, 364, 478, 462, 450, 482, 372,\n",
       "       402, 386, 436, 316, 358, 317, 468, 432, 443, 283, 339, 323, 325,\n",
       "       428, 297, 370, 415, 548, 444, 309, 639, 534, 497, 244, 517, 646,\n",
       "       633, 488, 285, 276, 354, 457, 494, 448, 374, 407, 384, 405, 409,\n",
       "       399, 404, 414, 397, 417, 424, 490, 557, 645, 479, 434, 480, 280,\n",
       "       304, 447, 493, 394, 532, 521, 501, 568, 618, 533, 567, 576, 526,\n",
       "       601, 625, 525, 529, 621, 675, 382, 523, 388, 357, 385, 387, 570,\n",
       "       720, 581, 133, 441, 474, 453, 487, 308, 419, 326, 747, 710, 723,\n",
       "       615, 731, 169, 395, 476, 464, 270, 271, 267, 345, 295, 431, 291,\n",
       "       293, 268, 296, 333, 426, 392, 343, 439, 259, 531, 398, 286, 318,\n",
       "       310, 344, 331, 362, 375, 410, 337, 322, 312, 292, 341, 351, 290,\n",
       "       390, 289, 376, 381, 311, 379, 346, 500,  81, 847, 562, 564, 634,\n",
       "       626, 356, 368, 515, 508, 342, 313, 369, 301, 498, 506, 454, 458,\n",
       "       469, 452, 224, 400, 475, 408, 513, 491, 427, 560, 584, 592, 619,\n",
       "       613, 514, 451, 574, 353, 578, 371, 281, 352, 638, 637, 495, 628,\n",
       "       614, 319, 330, 377, 365, 416, 355, 549, 363, 541, 611, 686, 696,\n",
       "       336, 274, 238, 403, 378, 321, 300, 273, 617, 328, 314, 334, 335,\n",
       "       440, 511, 338, 520, 524, 503, 222, 505, 481, 420, 676, 260, 461,\n",
       "       546, 554, 565, 350, 211, 340, 586, 580, 366, 499, 518, 466, 449,\n",
       "       329, 465, 622, 612, 569, 228, 209, 688, 275, 697, 684, 303, 605,\n",
       "       551, 507, 588, 680, 668, 559, 561, 643, 582, 609, 647, 650, 671,\n",
       "       763, 692, 790, 422, 556, 604, 608, 467, 600, 610, 484, 587, 254,\n",
       "       438, 445, 266, 233, 456, 566, 179, 298, 485, 504, 129, 539, 263,\n",
       "       620, 200, 486, 215, 595, 563, 348, 324, 489, 742, 262, 516, 538,\n",
       "       261, 527, 572, 218, 284, 265, 455, 332, 239, 237, 242, 607, 606,\n",
       "       130, 249, 502, 435, 396, 571, 677, 717, 679, 669, 264, 258, 483,\n",
       "       496, 269, 558, 630, 528, 579, 577, 552, 602, 627, 210, 411, 801,\n",
       "       359, 188, 257, 599, 641, 636, 542, 347, 294, 243, 247, 223, 519,\n",
       "       512, 664, 315, 178, 555, 225, 196, 805, 681,  91, 206, 306, 256,\n",
       "       255, 544, 299, 380, 327, 229,  40, 740, 721, 678, 718, 716, 540,\n",
       "       282, 198, 253, 537, 543, 547, 583, 522, 535, 591, 656, 220, 251,\n",
       "       727, 227, 545, 272, 553,  51, 212, 590, 246, 101, 593, 252, 663,\n",
       "       762, 158, 138, 104, 170,  37, 241, 659, 250, 184, 226, 711, 217,\n",
       "       112, 536, 221, 698, 492, 704, 672, 674, 661, 662, 183, 230, 530,\n",
       "       652, 214, 683, 171, 189, 194, 594, 624, 724, 248], dtype=int64)"
      ]
     },
     "execution_count": 249,
     "metadata": {},
     "output_type": "execute_result"
    }
   ],
   "source": [
    "df2['co2'].unique()"
   ]
  },
  {
   "cell_type": "code",
   "execution_count": 250,
   "metadata": {},
   "outputs": [
    {
     "data": {
      "text/plain": [
       "array(['Regular', 'Premium', 'Diesel', 'CNG', 'Gasoline or natural gas',\n",
       "       'Gasoline or E85', 'Electricity', 'Gasoline or propane',\n",
       "       'Premium or E85', 'Midgrade', 'Premium Gas or Electricity',\n",
       "       'Regular Gas and Electricity', 'Premium and Electricity',\n",
       "       'Regular Gas or Electricity'], dtype=object)"
      ]
     },
     "execution_count": 250,
     "metadata": {},
     "output_type": "execute_result"
    }
   ],
   "source": [
    "df2['fuelType'].unique()"
   ]
  },
  {
   "cell_type": "code",
   "execution_count": 256,
   "metadata": {},
   "outputs": [
    {
     "name": "stderr",
     "output_type": "stream",
     "text": [
      "C:\\Users\\GralG\\AppData\\Roaming\\Python\\Python37\\site-packages\\ipykernel_launcher.py:1: SettingWithCopyWarning: \n",
      "A value is trying to be set on a copy of a slice from a DataFrame.\n",
      "Try using .loc[row_indexer,col_indexer] = value instead\n",
      "\n",
      "See the caveats in the documentation: http://pandas.pydata.org/pandas-docs/stable/user_guide/indexing.html#returning-a-view-versus-a-copy\n",
      "  \"\"\"Entry point for launching an IPython kernel.\n"
     ]
    }
   ],
   "source": [
    "df2['Elect'] = ['Electric' if 'Electricity' in x else 'other' for x in df2['fuelType']]"
   ]
  },
  {
   "cell_type": "code",
   "execution_count": 261,
   "metadata": {},
   "outputs": [
    {
     "data": {
      "text/plain": [
       "array(['other', 'Electric'], dtype=object)"
      ]
     },
     "execution_count": 261,
     "metadata": {},
     "output_type": "execute_result"
    }
   ],
   "source": [
    "df2['Elect'].unique()"
   ]
  },
  {
   "cell_type": "code",
   "execution_count": 265,
   "metadata": {},
   "outputs": [
    {
     "name": "stdout",
     "output_type": "stream",
     "text": [
      "<class 'pandas.core.frame.DataFrame'>\n",
      "RangeIndex: 37843 entries, 0 to 37842\n",
      "Data columns (total 9 columns):\n",
      "co2          37843 non-null int64\n",
      "make         37843 non-null object\n",
      "model        37843 non-null object\n",
      "trany        37832 non-null object\n",
      "mpgData      37843 non-null object\n",
      "year         37843 non-null int64\n",
      "fuelType     37843 non-null object\n",
      "cylinders    37720 non-null float64\n",
      "Elect        37843 non-null object\n",
      "dtypes: float64(1), int64(2), object(6)\n",
      "memory usage: 2.6+ MB\n"
     ]
    }
   ],
   "source": [
    "df2.info()"
   ]
  },
  {
   "cell_type": "code",
   "execution_count": 266,
   "metadata": {},
   "outputs": [
    {
     "name": "stderr",
     "output_type": "stream",
     "text": [
      "C:\\Users\\GralG\\AppData\\Roaming\\Python\\Python37\\site-packages\\ipykernel_launcher.py:1: SettingWithCopyWarning: \n",
      "A value is trying to be set on a copy of a slice from a DataFrame.\n",
      "Try using .loc[row_indexer,col_indexer] = value instead\n",
      "\n",
      "See the caveats in the documentation: http://pandas.pydata.org/pandas-docs/stable/user_guide/indexing.html#returning-a-view-versus-a-copy\n",
      "  \"\"\"Entry point for launching an IPython kernel.\n"
     ]
    }
   ],
   "source": [
    "df2['trany'] = df2['trany'].astype('str')"
   ]
  },
  {
   "cell_type": "code",
   "execution_count": 271,
   "metadata": {},
   "outputs": [
    {
     "name": "stderr",
     "output_type": "stream",
     "text": [
      "C:\\Users\\GralG\\AppData\\Roaming\\Python\\Python37\\site-packages\\ipykernel_launcher.py:1: SettingWithCopyWarning: \n",
      "A value is trying to be set on a copy of a slice from a DataFrame.\n",
      "Try using .loc[row_indexer,col_indexer] = value instead\n",
      "\n",
      "See the caveats in the documentation: http://pandas.pydata.org/pandas-docs/stable/user_guide/indexing.html#returning-a-view-versus-a-copy\n",
      "  \"\"\"Entry point for launching an IPython kernel.\n"
     ]
    }
   ],
   "source": [
    "df2['vel'] = df2['trany'].apply(lambda x: re.findall('\\d+',x))"
   ]
  },
  {
   "cell_type": "code",
   "execution_count": 273,
   "metadata": {},
   "outputs": [
    {
     "name": "stderr",
     "output_type": "stream",
     "text": [
      "C:\\Users\\GralG\\AppData\\Roaming\\Python\\Python37\\site-packages\\ipykernel_launcher.py:1: SettingWithCopyWarning: \n",
      "A value is trying to be set on a copy of a slice from a DataFrame.\n",
      "Try using .loc[row_indexer,col_indexer] = value instead\n",
      "\n",
      "See the caveats in the documentation: http://pandas.pydata.org/pandas-docs/stable/user_guide/indexing.html#returning-a-view-versus-a-copy\n",
      "  \"\"\"Entry point for launching an IPython kernel.\n"
     ]
    }
   ],
   "source": [
    "df2['trany'] = df2['trany'].apply(lambda x: re.sub('\\d+.+','',x))"
   ]
  },
  {
   "cell_type": "code",
   "execution_count": 277,
   "metadata": {},
   "outputs": [
    {
     "name": "stderr",
     "output_type": "stream",
     "text": [
      "C:\\Users\\GralG\\AppData\\Roaming\\Python\\Python37\\site-packages\\ipykernel_launcher.py:1: SettingWithCopyWarning: \n",
      "A value is trying to be set on a copy of a slice from a DataFrame.\n",
      "Try using .loc[row_indexer,col_indexer] = value instead\n",
      "\n",
      "See the caveats in the documentation: http://pandas.pydata.org/pandas-docs/stable/user_guide/indexing.html#returning-a-view-versus-a-copy\n",
      "  \"\"\"Entry point for launching an IPython kernel.\n"
     ]
    }
   ],
   "source": [
    "df2['model'] = df2['model'].apply(lambda x: re.sub('\\d+.+','',x))"
   ]
  },
  {
   "cell_type": "code",
   "execution_count": 278,
   "metadata": {},
   "outputs": [
    {
     "data": {
      "text/html": [
       "<div>\n",
       "<style scoped>\n",
       "    .dataframe tbody tr th:only-of-type {\n",
       "        vertical-align: middle;\n",
       "    }\n",
       "\n",
       "    .dataframe tbody tr th {\n",
       "        vertical-align: top;\n",
       "    }\n",
       "\n",
       "    .dataframe thead th {\n",
       "        text-align: right;\n",
       "    }\n",
       "</style>\n",
       "<table border=\"1\" class=\"dataframe\">\n",
       "  <thead>\n",
       "    <tr style=\"text-align: right;\">\n",
       "      <th></th>\n",
       "      <th>co2</th>\n",
       "      <th>make</th>\n",
       "      <th>model</th>\n",
       "      <th>trany</th>\n",
       "      <th>mpgData</th>\n",
       "      <th>year</th>\n",
       "      <th>fuelType</th>\n",
       "      <th>cylinders</th>\n",
       "      <th>Elect</th>\n",
       "      <th>vel</th>\n",
       "    </tr>\n",
       "  </thead>\n",
       "  <tbody>\n",
       "    <tr>\n",
       "      <th>0</th>\n",
       "      <td>-1</td>\n",
       "      <td>Alfa Romeo</td>\n",
       "      <td>Spider Veloce</td>\n",
       "      <td>Manual</td>\n",
       "      <td>Y</td>\n",
       "      <td>1985</td>\n",
       "      <td>Regular</td>\n",
       "      <td>4.0</td>\n",
       "      <td>other</td>\n",
       "      <td>[5]</td>\n",
       "    </tr>\n",
       "    <tr>\n",
       "      <th>1</th>\n",
       "      <td>-1</td>\n",
       "      <td>Ferrari</td>\n",
       "      <td>Testarossa</td>\n",
       "      <td>Manual</td>\n",
       "      <td>N</td>\n",
       "      <td>1985</td>\n",
       "      <td>Regular</td>\n",
       "      <td>12.0</td>\n",
       "      <td>other</td>\n",
       "      <td>[5]</td>\n",
       "    </tr>\n",
       "    <tr>\n",
       "      <th>2</th>\n",
       "      <td>-1</td>\n",
       "      <td>Dodge</td>\n",
       "      <td>Charger</td>\n",
       "      <td>Manual</td>\n",
       "      <td>Y</td>\n",
       "      <td>1985</td>\n",
       "      <td>Regular</td>\n",
       "      <td>4.0</td>\n",
       "      <td>other</td>\n",
       "      <td>[5]</td>\n",
       "    </tr>\n",
       "    <tr>\n",
       "      <th>3</th>\n",
       "      <td>-1</td>\n",
       "      <td>Dodge</td>\n",
       "      <td>B</td>\n",
       "      <td>Automatic</td>\n",
       "      <td>N</td>\n",
       "      <td>1985</td>\n",
       "      <td>Regular</td>\n",
       "      <td>8.0</td>\n",
       "      <td>other</td>\n",
       "      <td>[3]</td>\n",
       "    </tr>\n",
       "    <tr>\n",
       "      <th>4</th>\n",
       "      <td>-1</td>\n",
       "      <td>Subaru</td>\n",
       "      <td>Legacy AWD Turbo</td>\n",
       "      <td>Manual</td>\n",
       "      <td>N</td>\n",
       "      <td>1993</td>\n",
       "      <td>Premium</td>\n",
       "      <td>4.0</td>\n",
       "      <td>other</td>\n",
       "      <td>[5]</td>\n",
       "    </tr>\n",
       "  </tbody>\n",
       "</table>\n",
       "</div>"
      ],
      "text/plain": [
       "   co2        make             model       trany mpgData  year fuelType  \\\n",
       "0   -1  Alfa Romeo    Spider Veloce      Manual        Y  1985  Regular   \n",
       "1   -1     Ferrari        Testarossa     Manual        N  1985  Regular   \n",
       "2   -1       Dodge           Charger     Manual        Y  1985  Regular   \n",
       "3   -1       Dodge                 B  Automatic        N  1985  Regular   \n",
       "4   -1      Subaru  Legacy AWD Turbo     Manual        N  1993  Premium   \n",
       "\n",
       "   cylinders  Elect  vel  \n",
       "0        4.0  other  [5]  \n",
       "1       12.0  other  [5]  \n",
       "2        4.0  other  [5]  \n",
       "3        8.0  other  [3]  \n",
       "4        4.0  other  [5]  "
      ]
     },
     "execution_count": 278,
     "metadata": {},
     "output_type": "execute_result"
    }
   ],
   "source": [
    "df2.head()"
   ]
  },
  {
   "cell_type": "code",
   "execution_count": null,
   "metadata": {},
   "outputs": [],
   "source": []
  }
 ],
 "metadata": {
  "kernelspec": {
   "display_name": "Python 3",
   "language": "python",
   "name": "python3"
  },
  "language_info": {
   "codemirror_mode": {
    "name": "ipython",
    "version": 3
   },
   "file_extension": ".py",
   "mimetype": "text/x-python",
   "name": "python",
   "nbconvert_exporter": "python",
   "pygments_lexer": "ipython3",
   "version": "3.7.4"
  }
 },
 "nbformat": 4,
 "nbformat_minor": 4
}
