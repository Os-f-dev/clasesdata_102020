{
 "cells": [
  {
   "cell_type": "code",
   "execution_count": 1,
   "metadata": {},
   "outputs": [],
   "source": [
    "import pandas as pd\n",
    "import numpy as np"
   ]
  },
  {
   "cell_type": "code",
   "execution_count": 2,
   "metadata": {},
   "outputs": [],
   "source": [
    "animals = pd.read_csv('data/animals.csv')"
   ]
  },
  {
   "cell_type": "code",
   "execution_count": 3,
   "metadata": {},
   "outputs": [
    {
     "data": {
      "text/html": [
       "<div>\n",
       "<style scoped>\n",
       "    .dataframe tbody tr th:only-of-type {\n",
       "        vertical-align: middle;\n",
       "    }\n",
       "\n",
       "    .dataframe tbody tr th {\n",
       "        vertical-align: top;\n",
       "    }\n",
       "\n",
       "    .dataframe thead th {\n",
       "        text-align: right;\n",
       "    }\n",
       "</style>\n",
       "<table border=\"1\" class=\"dataframe\">\n",
       "  <thead>\n",
       "    <tr style=\"text-align: right;\">\n",
       "      <th></th>\n",
       "      <th>brainwt</th>\n",
       "      <th>bodywt</th>\n",
       "      <th>animal</th>\n",
       "    </tr>\n",
       "  </thead>\n",
       "  <tbody>\n",
       "    <tr>\n",
       "      <th>0</th>\n",
       "      <td>3.385</td>\n",
       "      <td>44.500</td>\n",
       "      <td>Arctic_fox</td>\n",
       "    </tr>\n",
       "    <tr>\n",
       "      <th>1</th>\n",
       "      <td>0.480</td>\n",
       "      <td>15.499</td>\n",
       "      <td>Owl_monkey</td>\n",
       "    </tr>\n",
       "    <tr>\n",
       "      <th>2</th>\n",
       "      <td>1.350</td>\n",
       "      <td>8.100</td>\n",
       "      <td>Beaver</td>\n",
       "    </tr>\n",
       "    <tr>\n",
       "      <th>3</th>\n",
       "      <td>464.983</td>\n",
       "      <td>423.012</td>\n",
       "      <td>Cow</td>\n",
       "    </tr>\n",
       "    <tr>\n",
       "      <th>4</th>\n",
       "      <td>36.328</td>\n",
       "      <td>119.498</td>\n",
       "      <td>Gray_wolf</td>\n",
       "    </tr>\n",
       "    <tr>\n",
       "      <th>...</th>\n",
       "      <td>...</td>\n",
       "      <td>...</td>\n",
       "      <td>...</td>\n",
       "    </tr>\n",
       "    <tr>\n",
       "      <th>57</th>\n",
       "      <td>160.004</td>\n",
       "      <td>169.000</td>\n",
       "      <td>Brazilian_tapir</td>\n",
       "    </tr>\n",
       "    <tr>\n",
       "      <th>58</th>\n",
       "      <td>0.900</td>\n",
       "      <td>2.600</td>\n",
       "      <td>Tenrec</td>\n",
       "    </tr>\n",
       "    <tr>\n",
       "      <th>59</th>\n",
       "      <td>1.620</td>\n",
       "      <td>11.400</td>\n",
       "      <td>Phalanger</td>\n",
       "    </tr>\n",
       "    <tr>\n",
       "      <th>60</th>\n",
       "      <td>0.104</td>\n",
       "      <td>2.500</td>\n",
       "      <td>Tree_shrew</td>\n",
       "    </tr>\n",
       "    <tr>\n",
       "      <th>61</th>\n",
       "      <td>4.235</td>\n",
       "      <td>50.400</td>\n",
       "      <td>Red_fox</td>\n",
       "    </tr>\n",
       "  </tbody>\n",
       "</table>\n",
       "<p>62 rows × 3 columns</p>\n",
       "</div>"
      ],
      "text/plain": [
       "    brainwt   bodywt           animal\n",
       "0     3.385   44.500       Arctic_fox\n",
       "1     0.480   15.499       Owl_monkey\n",
       "2     1.350    8.100           Beaver\n",
       "3   464.983  423.012              Cow\n",
       "4    36.328  119.498        Gray_wolf\n",
       "..      ...      ...              ...\n",
       "57  160.004  169.000  Brazilian_tapir\n",
       "58    0.900    2.600           Tenrec\n",
       "59    1.620   11.400        Phalanger\n",
       "60    0.104    2.500       Tree_shrew\n",
       "61    4.235   50.400          Red_fox\n",
       "\n",
       "[62 rows x 3 columns]"
      ]
     },
     "execution_count": 3,
     "metadata": {},
     "output_type": "execute_result"
    }
   ],
   "source": [
    "animals"
   ]
  },
  {
   "cell_type": "code",
   "execution_count": 4,
   "metadata": {},
   "outputs": [
    {
     "name": "stdout",
     "output_type": "stream",
     "text": [
      "<class 'pandas.core.frame.DataFrame'>\n",
      "RangeIndex: 62 entries, 0 to 61\n",
      "Data columns (total 3 columns):\n",
      "brainwt    62 non-null float64\n",
      "bodywt     62 non-null float64\n",
      "animal     62 non-null object\n",
      "dtypes: float64(2), object(1)\n",
      "memory usage: 1.6+ KB\n"
     ]
    }
   ],
   "source": [
    "animals.info(memory_usage='low')"
   ]
  },
  {
   "cell_type": "code",
   "execution_count": 5,
   "metadata": {},
   "outputs": [],
   "source": [
    "animals['brainwt'] = animals['brainwt'].astype('float32')"
   ]
  },
  {
   "cell_type": "code",
   "execution_count": 6,
   "metadata": {},
   "outputs": [
    {
     "name": "stdout",
     "output_type": "stream",
     "text": [
      "<class 'pandas.core.frame.DataFrame'>\n",
      "RangeIndex: 62 entries, 0 to 61\n",
      "Data columns (total 3 columns):\n",
      "brainwt    62 non-null float32\n",
      "bodywt     62 non-null float64\n",
      "animal     62 non-null object\n",
      "dtypes: float32(1), float64(1), object(1)\n",
      "memory usage: 4.9 KB\n"
     ]
    }
   ],
   "source": [
    "animals.info(memory_usage='deep')"
   ]
  },
  {
   "cell_type": "code",
   "execution_count": 7,
   "metadata": {},
   "outputs": [],
   "source": [
    "stats = animals.describe()"
   ]
  },
  {
   "cell_type": "code",
   "execution_count": 8,
   "metadata": {},
   "outputs": [
    {
     "data": {
      "text/plain": [
       "brainwt                  6654.18\n",
       "bodywt                   5711.86\n",
       "animal     Yellow-bellied_marmot\n",
       "dtype: object"
      ]
     },
     "execution_count": 8,
     "metadata": {},
     "output_type": "execute_result"
    }
   ],
   "source": [
    "animals.max()"
   ]
  },
  {
   "cell_type": "code",
   "execution_count": 9,
   "metadata": {},
   "outputs": [
    {
     "data": {
      "text/plain": [
       "6654.18"
      ]
     },
     "execution_count": 9,
     "metadata": {},
     "output_type": "execute_result"
    }
   ],
   "source": [
    "animals.brainwt.max()"
   ]
  },
  {
   "cell_type": "code",
   "execution_count": 10,
   "metadata": {},
   "outputs": [
    {
     "data": {
      "text/plain": [
       "brainwt               0.005\n",
       "bodywt                 0.14\n",
       "animal     African_elephant\n",
       "dtype: object"
      ]
     },
     "execution_count": 10,
     "metadata": {},
     "output_type": "execute_result"
    }
   ],
   "source": [
    "animals.min()"
   ]
  },
  {
   "cell_type": "code",
   "execution_count": 11,
   "metadata": {},
   "outputs": [
    {
     "data": {
      "text/plain": [
       "0.005"
      ]
     },
     "execution_count": 11,
     "metadata": {},
     "output_type": "execute_result"
    }
   ],
   "source": [
    "animals.brainwt.min()"
   ]
  },
  {
   "cell_type": "code",
   "execution_count": 12,
   "metadata": {},
   "outputs": [
    {
     "data": {
      "text/plain": [
       "13    Lesser_short-tailed-shrew\n",
       "Name: animal, dtype: object"
      ]
     },
     "execution_count": 12,
     "metadata": {},
     "output_type": "execute_result"
    }
   ],
   "source": [
    "animals[animals['brainwt'] == animals['brainwt'].min()]['animal']"
   ]
  },
  {
   "cell_type": "code",
   "execution_count": 13,
   "metadata": {},
   "outputs": [
    {
     "data": {
      "text/plain": [
       "brainwt    808528.875000\n",
       "bodywt     865418.787715\n",
       "dtype: float64"
      ]
     },
     "execution_count": 13,
     "metadata": {},
     "output_type": "execute_result"
    }
   ],
   "source": [
    "animals.var()"
   ]
  },
  {
   "cell_type": "code",
   "execution_count": 14,
   "metadata": {},
   "outputs": [
    {
     "data": {
      "text/plain": [
       "brainwt     3.3425\n",
       "bodywt     17.2500\n",
       "dtype: float64"
      ]
     },
     "execution_count": 14,
     "metadata": {},
     "output_type": "execute_result"
    }
   ],
   "source": [
    "animals.median()"
   ]
  },
  {
   "cell_type": "code",
   "execution_count": 15,
   "metadata": {},
   "outputs": [
    {
     "data": {
      "text/plain": [
       "brainwt     3.3425\n",
       "bodywt     17.2500\n",
       "Name: 0.5, dtype: float64"
      ]
     },
     "execution_count": 15,
     "metadata": {},
     "output_type": "execute_result"
    }
   ],
   "source": [
    "animals.quantile(0.5)"
   ]
  },
  {
   "cell_type": "code",
   "execution_count": 16,
   "metadata": {},
   "outputs": [
    {
     "data": {
      "text/plain": [
       "brainwt    0.60\n",
       "bodywt     4.25\n",
       "Name: 0.25, dtype: float64"
      ]
     },
     "execution_count": 16,
     "metadata": {},
     "output_type": "execute_result"
    }
   ],
   "source": [
    "animals.quantile(0.25)"
   ]
  },
  {
   "cell_type": "code",
   "execution_count": 17,
   "metadata": {},
   "outputs": [
    {
     "data": {
      "text/plain": [
       "brainwt     48.20125\n",
       "bodywt     165.99825\n",
       "Name: 0.75, dtype: float64"
      ]
     },
     "execution_count": 17,
     "metadata": {},
     "output_type": "execute_result"
    }
   ],
   "source": [
    "animals.quantile(0.75)"
   ]
  },
  {
   "cell_type": "code",
   "execution_count": 18,
   "metadata": {},
   "outputs": [
    {
     "data": {
      "text/html": [
       "<div>\n",
       "<style scoped>\n",
       "    .dataframe tbody tr th:only-of-type {\n",
       "        vertical-align: middle;\n",
       "    }\n",
       "\n",
       "    .dataframe tbody tr th {\n",
       "        vertical-align: top;\n",
       "    }\n",
       "\n",
       "    .dataframe thead th {\n",
       "        text-align: right;\n",
       "    }\n",
       "</style>\n",
       "<table border=\"1\" class=\"dataframe\">\n",
       "  <thead>\n",
       "    <tr style=\"text-align: right;\">\n",
       "      <th></th>\n",
       "      <th>brainwt</th>\n",
       "      <th>bodywt</th>\n",
       "    </tr>\n",
       "  </thead>\n",
       "  <tbody>\n",
       "    <tr>\n",
       "      <th>count</th>\n",
       "      <td>62.000000</td>\n",
       "      <td>62.000000</td>\n",
       "    </tr>\n",
       "    <tr>\n",
       "      <th>mean</th>\n",
       "      <td>198.794312</td>\n",
       "      <td>283.135355</td>\n",
       "    </tr>\n",
       "    <tr>\n",
       "      <th>std</th>\n",
       "      <td>899.182312</td>\n",
       "      <td>930.278876</td>\n",
       "    </tr>\n",
       "    <tr>\n",
       "      <th>min</th>\n",
       "      <td>0.005000</td>\n",
       "      <td>0.140000</td>\n",
       "    </tr>\n",
       "    <tr>\n",
       "      <th>25%</th>\n",
       "      <td>0.600000</td>\n",
       "      <td>4.250000</td>\n",
       "    </tr>\n",
       "    <tr>\n",
       "      <th>50%</th>\n",
       "      <td>3.342500</td>\n",
       "      <td>17.250000</td>\n",
       "    </tr>\n",
       "    <tr>\n",
       "      <th>75%</th>\n",
       "      <td>48.201250</td>\n",
       "      <td>165.998250</td>\n",
       "    </tr>\n",
       "    <tr>\n",
       "      <th>max</th>\n",
       "      <td>6654.180176</td>\n",
       "      <td>5711.860000</td>\n",
       "    </tr>\n",
       "  </tbody>\n",
       "</table>\n",
       "</div>"
      ],
      "text/plain": [
       "           brainwt       bodywt\n",
       "count    62.000000    62.000000\n",
       "mean    198.794312   283.135355\n",
       "std     899.182312   930.278876\n",
       "min       0.005000     0.140000\n",
       "25%       0.600000     4.250000\n",
       "50%       3.342500    17.250000\n",
       "75%      48.201250   165.998250\n",
       "max    6654.180176  5711.860000"
      ]
     },
     "execution_count": 18,
     "metadata": {},
     "output_type": "execute_result"
    }
   ],
   "source": [
    "stats"
   ]
  },
  {
   "cell_type": "code",
   "execution_count": 19,
   "metadata": {},
   "outputs": [
    {
     "data": {
      "text/plain": [
       "brainwt    True\n",
       "bodywt     True\n",
       "dtype: bool"
      ]
     },
     "execution_count": 19,
     "metadata": {},
     "output_type": "execute_result"
    }
   ],
   "source": [
    "animals.quantile(0.5)==animals.median()"
   ]
  },
  {
   "cell_type": "code",
   "execution_count": 20,
   "metadata": {},
   "outputs": [
    {
     "data": {
      "text/plain": [
       "True"
      ]
     },
     "execution_count": 20,
     "metadata": {},
     "output_type": "execute_result"
    }
   ],
   "source": [
    "animals.brainwt.quantile(0)==animals.brainwt.min()"
   ]
  },
  {
   "cell_type": "code",
   "execution_count": 21,
   "metadata": {},
   "outputs": [
    {
     "data": {
      "text/plain": [
       "True"
      ]
     },
     "execution_count": 21,
     "metadata": {},
     "output_type": "execute_result"
    }
   ],
   "source": [
    "animals.brainwt.quantile(1)==animals.brainwt.max()"
   ]
  },
  {
   "cell_type": "code",
   "execution_count": 22,
   "metadata": {},
   "outputs": [
    {
     "data": {
      "text/plain": [
       "<AxesSubplot:>"
      ]
     },
     "execution_count": 22,
     "metadata": {},
     "output_type": "execute_result"
    },
    {
     "data": {
      "image/png": "[encoded data removed]",
      "text/plain": [
       "<Figure size 432x288 with 1 Axes>"
      ]
     },
     "metadata": {
      "needs_background": "light"
     },
     "output_type": "display_data"
    }
   ],
   "source": [
    "animals.boxplot()"
   ]
  },
  {
   "cell_type": "code",
   "execution_count": 23,
   "metadata": {},
   "outputs": [],
   "source": [
    "stats = stats.T"
   ]
  },
  {
   "cell_type": "code",
   "execution_count": 24,
   "metadata": {},
   "outputs": [],
   "source": [
    "stats['IQR'] = stats['75%']- stats['25%']\n"
   ]
  },
  {
   "cell_type": "code",
   "execution_count": 25,
   "metadata": {},
   "outputs": [
    {
     "data": {
      "text/plain": [
       "brainwt     47.60125\n",
       "bodywt     161.74825\n",
       "dtype: float64"
      ]
     },
     "execution_count": 25,
     "metadata": {},
     "output_type": "execute_result"
    }
   ],
   "source": [
    "stats['75%'] - stats['25%']"
   ]
  },
  {
   "cell_type": "code",
   "execution_count": 26,
   "metadata": {},
   "outputs": [
    {
     "data": {
      "text/html": [
       "<div>\n",
       "<style scoped>\n",
       "    .dataframe tbody tr th:only-of-type {\n",
       "        vertical-align: middle;\n",
       "    }\n",
       "\n",
       "    .dataframe tbody tr th {\n",
       "        vertical-align: top;\n",
       "    }\n",
       "\n",
       "    .dataframe thead th {\n",
       "        text-align: right;\n",
       "    }\n",
       "</style>\n",
       "<table border=\"1\" class=\"dataframe\">\n",
       "  <thead>\n",
       "    <tr style=\"text-align: right;\">\n",
       "      <th></th>\n",
       "      <th>count</th>\n",
       "      <th>mean</th>\n",
       "      <th>std</th>\n",
       "      <th>min</th>\n",
       "      <th>25%</th>\n",
       "      <th>50%</th>\n",
       "      <th>75%</th>\n",
       "      <th>max</th>\n",
       "      <th>IQR</th>\n",
       "      <th>IQR1.5</th>\n",
       "      <th>IQR1.5n</th>\n",
       "    </tr>\n",
       "  </thead>\n",
       "  <tbody>\n",
       "    <tr>\n",
       "      <th>brainwt</th>\n",
       "      <td>62.0</td>\n",
       "      <td>198.794312</td>\n",
       "      <td>899.182312</td>\n",
       "      <td>0.005</td>\n",
       "      <td>0.60</td>\n",
       "      <td>3.3425</td>\n",
       "      <td>48.20125</td>\n",
       "      <td>6654.180176</td>\n",
       "      <td>47.60125</td>\n",
       "      <td>119.603125</td>\n",
       "      <td>-70.801875</td>\n",
       "    </tr>\n",
       "    <tr>\n",
       "      <th>bodywt</th>\n",
       "      <td>62.0</td>\n",
       "      <td>283.135355</td>\n",
       "      <td>930.278876</td>\n",
       "      <td>0.140</td>\n",
       "      <td>4.25</td>\n",
       "      <td>17.2500</td>\n",
       "      <td>165.99825</td>\n",
       "      <td>5711.860000</td>\n",
       "      <td>161.74825</td>\n",
       "      <td>408.620625</td>\n",
       "      <td>-238.372375</td>\n",
       "    </tr>\n",
       "  </tbody>\n",
       "</table>\n",
       "</div>"
      ],
      "text/plain": [
       "         count        mean         std    min   25%      50%        75%  \\\n",
       "brainwt   62.0  198.794312  899.182312  0.005  0.60   3.3425   48.20125   \n",
       "bodywt    62.0  283.135355  930.278876  0.140  4.25  17.2500  165.99825   \n",
       "\n",
       "                 max        IQR      IQR1.5     IQR1.5n  \n",
       "brainwt  6654.180176   47.60125  119.603125  -70.801875  \n",
       "bodywt   5711.860000  161.74825  408.620625 -238.372375  "
      ]
     },
     "execution_count": 26,
     "metadata": {},
     "output_type": "execute_result"
    }
   ],
   "source": [
    "stats['IQR'] = stats['75%'] - stats['25%']\n",
    "stats['IQR1.5'] = 1.5*stats['IQR']+stats['75%']\n",
    "stats['IQR1.5n'] = stats['25%']-1.5*stats['IQR']\n",
    "stats"
   ]
  },
  {
   "cell_type": "code",
   "execution_count": 27,
   "metadata": {},
   "outputs": [],
   "source": [
    "animals = animals[(animals['brainwt'] > -70.8)& (animals['brainwt']< 119.60)]\n",
    "animals = animals[(animals['bodywt'] > -238.3)& (animals['bodywt']< 408.62)]"
   ]
  },
  {
   "cell_type": "code",
   "execution_count": 29,
   "metadata": {},
   "outputs": [
    {
     "data": {
      "image/png": "[encoded data removed]",
      "text/plain": [
       "<Figure size 432x288 with 1 Axes>"
      ]
     },
     "metadata": {
      "needs_background": "light"
     },
     "output_type": "display_data"
    }
   ],
   "source": [
    "animals.boxplot();"
   ]
  },
  {
   "cell_type": "code",
   "execution_count": 33,
   "metadata": {},
   "outputs": [
    {
     "data": {
      "image/png": "[encoded data removed]",
      "text/plain": [
       "<Figure size 432x288 with 2 Axes>"
      ]
     },
     "metadata": {
      "needs_background": "light"
     },
     "output_type": "display_data"
    }
   ],
   "source": [
    "animals.hist();"
   ]
  },
  {
   "cell_type": "code",
   "execution_count": 35,
   "metadata": {},
   "outputs": [
    {
     "data": {
      "image/png": "[encoded data removed]",
      "text/plain": [
       "<Figure size 432x288 with 2 Axes>"
      ]
     },
     "metadata": {
      "needs_background": "light"
     },
     "output_type": "display_data"
    }
   ],
   "source": [
    "animals.hist(bins = 50);"
   ]
  },
  {
   "cell_type": "code",
   "execution_count": 37,
   "metadata": {},
   "outputs": [],
   "source": [
    "from scipy.stats import norm, kurtosis"
   ]
  },
  {
   "cell_type": "code",
   "execution_count": 42,
   "metadata": {},
   "outputs": [
    {
     "data": {
      "text/plain": [
       "7.420409392946455"
      ]
     },
     "execution_count": 42,
     "metadata": {},
     "output_type": "execute_result"
    }
   ],
   "source": [
    "kurtosis(animals['brainwt'])"
   ]
  },
  {
   "cell_type": "code",
   "execution_count": 43,
   "metadata": {},
   "outputs": [
    {
     "data": {
      "text/plain": [
       "5.628636542090433"
      ]
     },
     "execution_count": 43,
     "metadata": {},
     "output_type": "execute_result"
    }
   ],
   "source": [
    "kurtosis(animals['bodywt'])"
   ]
  },
  {
   "cell_type": "code",
   "execution_count": 44,
   "metadata": {},
   "outputs": [],
   "source": [
    "from scipy.stats import skew"
   ]
  },
  {
   "cell_type": "code",
   "execution_count": 45,
   "metadata": {},
   "outputs": [
    {
     "data": {
      "text/plain": [
       "2.2999822093741007"
      ]
     },
     "execution_count": 45,
     "metadata": {},
     "output_type": "execute_result"
    }
   ],
   "source": [
    "skew(animals['bodywt'])"
   ]
  },
  {
   "cell_type": "code",
   "execution_count": 47,
   "metadata": {},
   "outputs": [
    {
     "data": {
      "text/plain": [
       "2.828979253768921"
      ]
     },
     "execution_count": 47,
     "metadata": {},
     "output_type": "execute_result"
    }
   ],
   "source": [
    "skew(animals['brainwt'])"
   ]
  },
  {
   "cell_type": "code",
   "execution_count": 48,
   "metadata": {},
   "outputs": [
    {
     "data": {
      "text/html": [
       "<div>\n",
       "<style scoped>\n",
       "    .dataframe tbody tr th:only-of-type {\n",
       "        vertical-align: middle;\n",
       "    }\n",
       "\n",
       "    .dataframe tbody tr th {\n",
       "        vertical-align: top;\n",
       "    }\n",
       "\n",
       "    .dataframe thead th {\n",
       "        text-align: right;\n",
       "    }\n",
       "</style>\n",
       "<table border=\"1\" class=\"dataframe\">\n",
       "  <thead>\n",
       "    <tr style=\"text-align: right;\">\n",
       "      <th></th>\n",
       "      <th>brainwt</th>\n",
       "      <th>bodywt</th>\n",
       "    </tr>\n",
       "  </thead>\n",
       "  <tbody>\n",
       "    <tr>\n",
       "      <th>brainwt</th>\n",
       "      <td>1.000000</td>\n",
       "      <td>0.770494</td>\n",
       "    </tr>\n",
       "    <tr>\n",
       "      <th>bodywt</th>\n",
       "      <td>0.770494</td>\n",
       "      <td>1.000000</td>\n",
       "    </tr>\n",
       "  </tbody>\n",
       "</table>\n",
       "</div>"
      ],
      "text/plain": [
       "          brainwt    bodywt\n",
       "brainwt  1.000000  0.770494\n",
       "bodywt   0.770494  1.000000"
      ]
     },
     "execution_count": 48,
     "metadata": {},
     "output_type": "execute_result"
    }
   ],
   "source": [
    "animals.corr()"
   ]
  },
  {
   "cell_type": "code",
   "execution_count": 50,
   "metadata": {},
   "outputs": [
    {
     "data": {
      "text/html": [
       "<div>\n",
       "<style scoped>\n",
       "    .dataframe tbody tr th:only-of-type {\n",
       "        vertical-align: middle;\n",
       "    }\n",
       "\n",
       "    .dataframe tbody tr th {\n",
       "        vertical-align: top;\n",
       "    }\n",
       "\n",
       "    .dataframe thead th {\n",
       "        text-align: right;\n",
       "    }\n",
       "</style>\n",
       "<table border=\"1\" class=\"dataframe\">\n",
       "  <thead>\n",
       "    <tr style=\"text-align: right;\">\n",
       "      <th></th>\n",
       "      <th>brainwt</th>\n",
       "      <th>bodywt</th>\n",
       "      <th>animal</th>\n",
       "    </tr>\n",
       "  </thead>\n",
       "  <tbody>\n",
       "    <tr>\n",
       "      <th>13</th>\n",
       "      <td>0.005000</td>\n",
       "      <td>0.140</td>\n",
       "      <td>Lesser_short-tailed-shrew</td>\n",
       "    </tr>\n",
       "    <tr>\n",
       "      <th>44</th>\n",
       "      <td>100.002998</td>\n",
       "      <td>156.993</td>\n",
       "      <td>Jaguar</td>\n",
       "    </tr>\n",
       "  </tbody>\n",
       "</table>\n",
       "</div>"
      ],
      "text/plain": [
       "       brainwt   bodywt                     animal\n",
       "13    0.005000    0.140  Lesser_short-tailed-shrew\n",
       "44  100.002998  156.993                     Jaguar"
      ]
     },
     "execution_count": 50,
     "metadata": {},
     "output_type": "execute_result"
    }
   ],
   "source": [
    "animals[(animals['brainwt'] == animals['brainwt'].min())|(animals['brainwt'] == animals['brainwt'].max())]"
   ]
  },
  {
   "cell_type": "code",
   "execution_count": null,
   "metadata": {},
   "outputs": [],
   "source": [
    "#!= \"Negacion\"\n",
    "#~"
   ]
  },
  {
   "cell_type": "code",
   "execution_count": 55,
   "metadata": {},
   "outputs": [
    {
     "data": {
      "text/html": [
       "<div>\n",
       "<style scoped>\n",
       "    .dataframe tbody tr th:only-of-type {\n",
       "        vertical-align: middle;\n",
       "    }\n",
       "\n",
       "    .dataframe tbody tr th {\n",
       "        vertical-align: top;\n",
       "    }\n",
       "\n",
       "    .dataframe thead th {\n",
       "        text-align: right;\n",
       "    }\n",
       "</style>\n",
       "<table border=\"1\" class=\"dataframe\">\n",
       "  <thead>\n",
       "    <tr style=\"text-align: right;\">\n",
       "      <th></th>\n",
       "      <th>brainwt</th>\n",
       "      <th>bodywt</th>\n",
       "      <th>animal</th>\n",
       "    </tr>\n",
       "  </thead>\n",
       "  <tbody>\n",
       "    <tr>\n",
       "      <th>6</th>\n",
       "      <td>14.831000</td>\n",
       "      <td>98.199</td>\n",
       "      <td>Roe_deer</td>\n",
       "    </tr>\n",
       "    <tr>\n",
       "      <th>48</th>\n",
       "      <td>59.997002</td>\n",
       "      <td>80.996</td>\n",
       "      <td>Giant_armadillo</td>\n",
       "    </tr>\n",
       "  </tbody>\n",
       "</table>\n",
       "</div>"
      ],
      "text/plain": [
       "      brainwt  bodywt           animal\n",
       "6   14.831000  98.199         Roe_deer\n",
       "48  59.997002  80.996  Giant_armadillo"
      ]
     },
     "execution_count": 55,
     "metadata": {},
     "output_type": "execute_result"
    }
   ],
   "source": [
    "animals[(animals['bodywt'] > 80) & ((animals['bodywt'] < 100) & (animals['bodywt'] > 40))]"
   ]
  },
  {
   "cell_type": "code",
   "execution_count": 56,
   "metadata": {},
   "outputs": [],
   "source": [
    "from scipy import stats"
   ]
  },
  {
   "cell_type": "code",
   "execution_count": 57,
   "metadata": {},
   "outputs": [
    {
     "data": {
      "text/plain": [
       "90.52294117647061"
      ]
     },
     "execution_count": 57,
     "metadata": {},
     "output_type": "execute_result"
    }
   ],
   "source": [
    "stats.tmean(animals['bodywt'],(20,300))"
   ]
  },
  {
   "cell_type": "code",
   "execution_count": 58,
   "metadata": {},
   "outputs": [
    {
     "data": {
      "text/plain": [
       "3215.0864499338236"
      ]
     },
     "execution_count": 58,
     "metadata": {},
     "output_type": "execute_result"
    }
   ],
   "source": [
    "stats.tvar(animals['bodywt'],(20,300))"
   ]
  },
  {
   "cell_type": "code",
   "execution_count": 62,
   "metadata": {},
   "outputs": [
    {
     "data": {
      "text/plain": [
       "21.0"
      ]
     },
     "execution_count": 62,
     "metadata": {},
     "output_type": "execute_result"
    }
   ],
   "source": [
    "stats.tmin(animals['bodywt'], lowerlimit=20)"
   ]
  },
  {
   "cell_type": "code",
   "execution_count": 68,
   "metadata": {},
   "outputs": [
    {
     "data": {
      "text/plain": [
       "98.199"
      ]
     },
     "execution_count": 68,
     "metadata": {},
     "output_type": "execute_result"
    }
   ],
   "source": [
    "stats.tmax(animals['bodywt'], upperlimit= animals['brainwt'].max())"
   ]
  },
  {
   "cell_type": "code",
   "execution_count": 72,
   "metadata": {},
   "outputs": [],
   "source": [
    "maxi = animals['brainwt'].max()"
   ]
  },
  {
   "cell_type": "code",
   "execution_count": 66,
   "metadata": {},
   "outputs": [
    {
     "data": {
      "text/plain": [
       "56.701732336268385"
      ]
     },
     "execution_count": 66,
     "metadata": {},
     "output_type": "execute_result"
    }
   ],
   "source": [
    "stats.tstd(animals['bodywt'], limits=(20,300))"
   ]
  },
  {
   "cell_type": "code",
   "execution_count": 67,
   "metadata": {},
   "outputs": [
    {
     "data": {
      "text/plain": [
       "1.5890964501833051"
      ]
     },
     "execution_count": 67,
     "metadata": {},
     "output_type": "execute_result"
    }
   ],
   "source": [
    "stats.variation(animals['bodywt'])"
   ]
  },
  {
   "cell_type": "code",
   "execution_count": 70,
   "metadata": {},
   "outputs": [
    {
     "data": {
      "text/plain": [
       "3"
      ]
     },
     "execution_count": 70,
     "metadata": {},
     "output_type": "execute_result"
    }
   ],
   "source": [
    "eval(\"1 + 2\")"
   ]
  },
  {
   "cell_type": "code",
   "execution_count": 73,
   "metadata": {},
   "outputs": [
    {
     "data": {
      "text/plain": [
       "120.00299835205078"
      ]
     },
     "execution_count": 73,
     "metadata": {},
     "output_type": "execute_result"
    }
   ],
   "source": [
    "eval(\"maxi + 20 \")"
   ]
  },
  {
   "cell_type": "code",
   "execution_count": 74,
   "metadata": {},
   "outputs": [
    {
     "data": {
      "text/plain": [
       "[0, 1, 2, 3, 4, 5, 6, 7, 8, 9]"
      ]
     },
     "execution_count": 74,
     "metadata": {},
     "output_type": "execute_result"
    }
   ],
   "source": [
    "eval(\"[i for i in range(10)]\")"
   ]
  },
  {
   "cell_type": "code",
   "execution_count": 75,
   "metadata": {},
   "outputs": [],
   "source": [
    "x = [i for i in range(10)]"
   ]
  },
  {
   "cell_type": "code",
   "execution_count": 82,
   "metadata": {},
   "outputs": [],
   "source": [
    "y = [i for i in range(10,21)]"
   ]
  },
  {
   "cell_type": "code",
   "execution_count": 83,
   "metadata": {},
   "outputs": [
    {
     "data": {
      "text/plain": [
       "[0, 1, 2, 3, 4, 5, 6, 7, 8, 9]"
      ]
     },
     "execution_count": 83,
     "metadata": {},
     "output_type": "execute_result"
    }
   ],
   "source": [
    "x"
   ]
  },
  {
   "cell_type": "code",
   "execution_count": 84,
   "metadata": {},
   "outputs": [
    {
     "data": {
      "text/plain": [
       "[10, 11, 12, 13, 14, 15, 16, 17, 18, 19, 20]"
      ]
     },
     "execution_count": 84,
     "metadata": {},
     "output_type": "execute_result"
    }
   ],
   "source": [
    "y"
   ]
  },
  {
   "cell_type": "code",
   "execution_count": 86,
   "metadata": {},
   "outputs": [
    {
     "data": {
      "text/plain": [
       "[(0, 10),\n",
       " (1, 11),\n",
       " (2, 12),\n",
       " (3, 13),\n",
       " (4, 14),\n",
       " (5, 15),\n",
       " (6, 16),\n",
       " (7, 17),\n",
       " (8, 18),\n",
       " (9, 19)]"
      ]
     },
     "execution_count": 86,
     "metadata": {},
     "output_type": "execute_result"
    }
   ],
   "source": [
    "eval(\"list(zip(x,y))\")"
   ]
  },
  {
   "cell_type": "code",
   "execution_count": 87,
   "metadata": {},
   "outputs": [],
   "source": [
    "import math"
   ]
  },
  {
   "cell_type": "code",
   "execution_count": 88,
   "metadata": {},
   "outputs": [
    {
     "data": {
      "text/plain": [
       "9.42477796076938"
      ]
     },
     "execution_count": 88,
     "metadata": {},
     "output_type": "execute_result"
    }
   ],
   "source": [
    "eval(\"math.pi*3\")"
   ]
  },
  {
   "cell_type": "code",
   "execution_count": 92,
   "metadata": {},
   "outputs": [
    {
     "data": {
      "text/plain": [
       "[100, 121, 144, 169, 196, 225, 256, 289, 324, 361, 400]"
      ]
     },
     "execution_count": 92,
     "metadata": {},
     "output_type": "execute_result"
    }
   ],
   "source": [
    "eval(\"[(lambda x:x**2)(x) for x in y]\")"
   ]
  },
  {
   "cell_type": "code",
   "execution_count": 93,
   "metadata": {},
   "outputs": [],
   "source": [
    "def suma(x):\n",
    "    return x+2"
   ]
  },
  {
   "cell_type": "code",
   "execution_count": 95,
   "metadata": {},
   "outputs": [],
   "source": [
    "res = eval(\"[suma(x) for x in y]\")"
   ]
  },
  {
   "cell_type": "code",
   "execution_count": 97,
   "metadata": {},
   "outputs": [
    {
     "data": {
      "text/plain": [
       "[12, 13, 14, 15, 16, 17, 18, 19, 20, 21, 22]"
      ]
     },
     "execution_count": 97,
     "metadata": {},
     "output_type": "execute_result"
    }
   ],
   "source": [
    "res"
   ]
  },
  {
   "cell_type": "code",
   "execution_count": 101,
   "metadata": {},
   "outputs": [
    {
     "data": {
      "text/plain": [
       "<code object <module> at 0x000001F060159E40, file \"<string>\", line 1>"
      ]
     },
     "execution_count": 101,
     "metadata": {},
     "output_type": "execute_result"
    }
   ],
   "source": [
    "code = compile(\"9+6*(4/3)\", \"<string>\",\"eval\")\n",
    "code"
   ]
  },
  {
   "cell_type": "code",
   "execution_count": 102,
   "metadata": {},
   "outputs": [
    {
     "data": {
      "text/plain": [
       "17.0"
      ]
     },
     "execution_count": 102,
     "metadata": {},
     "output_type": "execute_result"
    }
   ],
   "source": [
    "eval(code)"
   ]
  },
  {
   "cell_type": "code",
   "execution_count": 104,
   "metadata": {},
   "outputs": [
    {
     "data": {
      "text/plain": [
       "50965.01042163601"
      ]
     },
     "execution_count": 104,
     "metadata": {},
     "output_type": "execute_result"
    }
   ],
   "source": [
    "code = compile(\"4/3 * math.pi * math.pow(23,3)\", \"str\", \"eval\")\n",
    "eval(code)"
   ]
  },
  {
   "cell_type": "code",
   "execution_count": 105,
   "metadata": {},
   "outputs": [
    {
     "data": {
      "text/html": [
       "<div>\n",
       "<style scoped>\n",
       "    .dataframe tbody tr th:only-of-type {\n",
       "        vertical-align: middle;\n",
       "    }\n",
       "\n",
       "    .dataframe tbody tr th {\n",
       "        vertical-align: top;\n",
       "    }\n",
       "\n",
       "    .dataframe thead th {\n",
       "        text-align: right;\n",
       "    }\n",
       "</style>\n",
       "<table border=\"1\" class=\"dataframe\">\n",
       "  <thead>\n",
       "    <tr style=\"text-align: right;\">\n",
       "      <th></th>\n",
       "      <th>brainwt</th>\n",
       "      <th>bodywt</th>\n",
       "      <th>animal</th>\n",
       "    </tr>\n",
       "  </thead>\n",
       "  <tbody>\n",
       "    <tr>\n",
       "      <th>0</th>\n",
       "      <td>3.385000</td>\n",
       "      <td>44.500</td>\n",
       "      <td>Arctic_fox</td>\n",
       "    </tr>\n",
       "    <tr>\n",
       "      <th>4</th>\n",
       "      <td>36.327999</td>\n",
       "      <td>119.498</td>\n",
       "      <td>Gray_wolf</td>\n",
       "    </tr>\n",
       "    <tr>\n",
       "      <th>5</th>\n",
       "      <td>27.660000</td>\n",
       "      <td>114.996</td>\n",
       "      <td>Goat</td>\n",
       "    </tr>\n",
       "    <tr>\n",
       "      <th>6</th>\n",
       "      <td>14.831000</td>\n",
       "      <td>98.199</td>\n",
       "      <td>Roe_deer</td>\n",
       "    </tr>\n",
       "    <tr>\n",
       "      <th>8</th>\n",
       "      <td>4.190000</td>\n",
       "      <td>57.998</td>\n",
       "      <td>Vervet</td>\n",
       "    </tr>\n",
       "    <tr>\n",
       "      <th>23</th>\n",
       "      <td>10.000000</td>\n",
       "      <td>114.996</td>\n",
       "      <td>Patas_monkey</td>\n",
       "    </tr>\n",
       "    <tr>\n",
       "      <th>34</th>\n",
       "      <td>6.800000</td>\n",
       "      <td>179.003</td>\n",
       "      <td>Rhesus_monkey</td>\n",
       "    </tr>\n",
       "    <tr>\n",
       "      <th>35</th>\n",
       "      <td>34.998001</td>\n",
       "      <td>56.003</td>\n",
       "      <td>Kangaroo</td>\n",
       "    </tr>\n",
       "    <tr>\n",
       "      <th>43</th>\n",
       "      <td>55.500999</td>\n",
       "      <td>175.002</td>\n",
       "      <td>Sheep</td>\n",
       "    </tr>\n",
       "    <tr>\n",
       "      <th>46</th>\n",
       "      <td>10.550000</td>\n",
       "      <td>179.504</td>\n",
       "      <td>Baboon</td>\n",
       "    </tr>\n",
       "    <tr>\n",
       "      <th>48</th>\n",
       "      <td>59.997002</td>\n",
       "      <td>80.996</td>\n",
       "      <td>Giant_armadillo</td>\n",
       "    </tr>\n",
       "    <tr>\n",
       "      <th>50</th>\n",
       "      <td>4.288000</td>\n",
       "      <td>39.201</td>\n",
       "      <td>Raccoon</td>\n",
       "    </tr>\n",
       "    <tr>\n",
       "      <th>61</th>\n",
       "      <td>4.235000</td>\n",
       "      <td>50.400</td>\n",
       "      <td>Red_fox</td>\n",
       "    </tr>\n",
       "  </tbody>\n",
       "</table>\n",
       "</div>"
      ],
      "text/plain": [
       "      brainwt   bodywt           animal\n",
       "0    3.385000   44.500       Arctic_fox\n",
       "4   36.327999  119.498        Gray_wolf\n",
       "5   27.660000  114.996             Goat\n",
       "6   14.831000   98.199         Roe_deer\n",
       "8    4.190000   57.998           Vervet\n",
       "23  10.000000  114.996     Patas_monkey\n",
       "34   6.800000  179.003    Rhesus_monkey\n",
       "35  34.998001   56.003         Kangaroo\n",
       "43  55.500999  175.002            Sheep\n",
       "46  10.550000  179.504           Baboon\n",
       "48  59.997002   80.996  Giant_armadillo\n",
       "50   4.288000   39.201          Raccoon\n",
       "61   4.235000   50.400          Red_fox"
      ]
     },
     "execution_count": 105,
     "metadata": {},
     "output_type": "execute_result"
    }
   ],
   "source": [
    "animals[pd.eval('animals.bodywt > 30 & animals.brainwt < 80')]"
   ]
  },
  {
   "cell_type": "code",
   "execution_count": 110,
   "metadata": {},
   "outputs": [
    {
     "data": {
      "text/html": [
       "<div>\n",
       "<style scoped>\n",
       "    .dataframe tbody tr th:only-of-type {\n",
       "        vertical-align: middle;\n",
       "    }\n",
       "\n",
       "    .dataframe tbody tr th {\n",
       "        vertical-align: top;\n",
       "    }\n",
       "\n",
       "    .dataframe thead th {\n",
       "        text-align: right;\n",
       "    }\n",
       "</style>\n",
       "<table border=\"1\" class=\"dataframe\">\n",
       "  <thead>\n",
       "    <tr style=\"text-align: right;\">\n",
       "      <th></th>\n",
       "      <th>brainwt</th>\n",
       "      <th>bodywt</th>\n",
       "      <th>animal</th>\n",
       "    </tr>\n",
       "  </thead>\n",
       "  <tbody>\n",
       "    <tr>\n",
       "      <th>35</th>\n",
       "      <td>34.998001</td>\n",
       "      <td>56.003</td>\n",
       "      <td>Kangaroo</td>\n",
       "    </tr>\n",
       "    <tr>\n",
       "      <th>48</th>\n",
       "      <td>59.997002</td>\n",
       "      <td>80.996</td>\n",
       "      <td>Giant_armadillo</td>\n",
       "    </tr>\n",
       "  </tbody>\n",
       "</table>\n",
       "</div>"
      ],
      "text/plain": [
       "      brainwt  bodywt           animal\n",
       "35  34.998001  56.003         Kangaroo\n",
       "48  59.997002  80.996  Giant_armadillo"
      ]
     },
     "execution_count": 110,
     "metadata": {},
     "output_type": "execute_result"
    }
   ],
   "source": [
    "animals.query('brainwt > 30 & bodywt < 100')"
   ]
  },
  {
   "cell_type": "code",
   "execution_count": 113,
   "metadata": {},
   "outputs": [],
   "source": [
    "animals_new = animals.eval(\"\"\"\n",
    "ratio_wt = brainwt/bodywt\n",
    "new_column = ratio_wt*2\"\"\")"
   ]
  },
  {
   "cell_type": "code",
   "execution_count": 115,
   "metadata": {
    "scrolled": true
   },
   "outputs": [
    {
     "data": {
      "text/html": [
       "<div>\n",
       "<style scoped>\n",
       "    .dataframe tbody tr th:only-of-type {\n",
       "        vertical-align: middle;\n",
       "    }\n",
       "\n",
       "    .dataframe tbody tr th {\n",
       "        vertical-align: top;\n",
       "    }\n",
       "\n",
       "    .dataframe thead th {\n",
       "        text-align: right;\n",
       "    }\n",
       "</style>\n",
       "<table border=\"1\" class=\"dataframe\">\n",
       "  <thead>\n",
       "    <tr style=\"text-align: right;\">\n",
       "      <th></th>\n",
       "      <th>brainwt</th>\n",
       "      <th>bodywt</th>\n",
       "      <th>animal</th>\n",
       "      <th>ratio_wt</th>\n",
       "      <th>new_column</th>\n",
       "    </tr>\n",
       "  </thead>\n",
       "  <tbody>\n",
       "    <tr>\n",
       "      <th>0</th>\n",
       "      <td>3.385000</td>\n",
       "      <td>44.500</td>\n",
       "      <td>Arctic_fox</td>\n",
       "      <td>0.076067</td>\n",
       "      <td>0.152135</td>\n",
       "    </tr>\n",
       "    <tr>\n",
       "      <th>1</th>\n",
       "      <td>0.480000</td>\n",
       "      <td>15.499</td>\n",
       "      <td>Owl_monkey</td>\n",
       "      <td>0.030970</td>\n",
       "      <td>0.061939</td>\n",
       "    </tr>\n",
       "    <tr>\n",
       "      <th>2</th>\n",
       "      <td>1.350000</td>\n",
       "      <td>8.100</td>\n",
       "      <td>Beaver</td>\n",
       "      <td>0.166667</td>\n",
       "      <td>0.333333</td>\n",
       "    </tr>\n",
       "    <tr>\n",
       "      <th>4</th>\n",
       "      <td>36.327999</td>\n",
       "      <td>119.498</td>\n",
       "      <td>Gray_wolf</td>\n",
       "      <td>0.304005</td>\n",
       "      <td>0.608010</td>\n",
       "    </tr>\n",
       "    <tr>\n",
       "      <th>5</th>\n",
       "      <td>27.660000</td>\n",
       "      <td>114.996</td>\n",
       "      <td>Goat</td>\n",
       "      <td>0.240530</td>\n",
       "      <td>0.481060</td>\n",
       "    </tr>\n",
       "    <tr>\n",
       "      <th>6</th>\n",
       "      <td>14.831000</td>\n",
       "      <td>98.199</td>\n",
       "      <td>Roe_deer</td>\n",
       "      <td>0.151030</td>\n",
       "      <td>0.302060</td>\n",
       "    </tr>\n",
       "    <tr>\n",
       "      <th>7</th>\n",
       "      <td>1.040000</td>\n",
       "      <td>5.500</td>\n",
       "      <td>Guinea_pig</td>\n",
       "      <td>0.189091</td>\n",
       "      <td>0.378182</td>\n",
       "    </tr>\n",
       "    <tr>\n",
       "      <th>8</th>\n",
       "      <td>4.190000</td>\n",
       "      <td>57.998</td>\n",
       "      <td>Vervet</td>\n",
       "      <td>0.072244</td>\n",
       "      <td>0.144488</td>\n",
       "    </tr>\n",
       "    <tr>\n",
       "      <th>9</th>\n",
       "      <td>0.425000</td>\n",
       "      <td>6.400</td>\n",
       "      <td>Chinchilla</td>\n",
       "      <td>0.066406</td>\n",
       "      <td>0.132813</td>\n",
       "    </tr>\n",
       "    <tr>\n",
       "      <th>10</th>\n",
       "      <td>0.101000</td>\n",
       "      <td>4.000</td>\n",
       "      <td>Ground_squirrel</td>\n",
       "      <td>0.025250</td>\n",
       "      <td>0.050500</td>\n",
       "    </tr>\n",
       "    <tr>\n",
       "      <th>11</th>\n",
       "      <td>0.920000</td>\n",
       "      <td>5.700</td>\n",
       "      <td>Arctic</td>\n",
       "      <td>0.161404</td>\n",
       "      <td>0.322807</td>\n",
       "    </tr>\n",
       "    <tr>\n",
       "      <th>12</th>\n",
       "      <td>1.000000</td>\n",
       "      <td>6.600</td>\n",
       "      <td>African_giant_pouched_rat</td>\n",
       "      <td>0.151515</td>\n",
       "      <td>0.303030</td>\n",
       "    </tr>\n",
       "    <tr>\n",
       "      <th>13</th>\n",
       "      <td>0.005000</td>\n",
       "      <td>0.140</td>\n",
       "      <td>Lesser_short-tailed-shrew</td>\n",
       "      <td>0.035714</td>\n",
       "      <td>0.071429</td>\n",
       "    </tr>\n",
       "    <tr>\n",
       "      <th>14</th>\n",
       "      <td>0.060000</td>\n",
       "      <td>1.000</td>\n",
       "      <td>Star-nosed_mole</td>\n",
       "      <td>0.060000</td>\n",
       "      <td>0.120000</td>\n",
       "    </tr>\n",
       "    <tr>\n",
       "      <th>15</th>\n",
       "      <td>3.500000</td>\n",
       "      <td>10.800</td>\n",
       "      <td>Nine-banded_armadillo</td>\n",
       "      <td>0.324074</td>\n",
       "      <td>0.648148</td>\n",
       "    </tr>\n",
       "    <tr>\n",
       "      <th>16</th>\n",
       "      <td>2.000000</td>\n",
       "      <td>12.300</td>\n",
       "      <td>Tree_hyrax</td>\n",
       "      <td>0.162602</td>\n",
       "      <td>0.325203</td>\n",
       "    </tr>\n",
       "    <tr>\n",
       "      <th>17</th>\n",
       "      <td>1.700000</td>\n",
       "      <td>6.300</td>\n",
       "      <td>N._American</td>\n",
       "      <td>0.269841</td>\n",
       "      <td>0.539683</td>\n",
       "    </tr>\n",
       "    <tr>\n",
       "      <th>19</th>\n",
       "      <td>0.023000</td>\n",
       "      <td>0.300</td>\n",
       "      <td>Big_brown_bat</td>\n",
       "      <td>0.076667</td>\n",
       "      <td>0.153333</td>\n",
       "    </tr>\n",
       "    <tr>\n",
       "      <th>22</th>\n",
       "      <td>0.785000</td>\n",
       "      <td>3.500</td>\n",
       "      <td>European_hedgehog</td>\n",
       "      <td>0.224286</td>\n",
       "      <td>0.448571</td>\n",
       "    </tr>\n",
       "    <tr>\n",
       "      <th>23</th>\n",
       "      <td>10.000000</td>\n",
       "      <td>114.996</td>\n",
       "      <td>Patas_monkey</td>\n",
       "      <td>0.086960</td>\n",
       "      <td>0.173919</td>\n",
       "    </tr>\n",
       "    <tr>\n",
       "      <th>24</th>\n",
       "      <td>3.300000</td>\n",
       "      <td>25.600</td>\n",
       "      <td>Cat</td>\n",
       "      <td>0.128906</td>\n",
       "      <td>0.257812</td>\n",
       "    </tr>\n",
       "    <tr>\n",
       "      <th>25</th>\n",
       "      <td>0.200000</td>\n",
       "      <td>5.000</td>\n",
       "      <td>Galago</td>\n",
       "      <td>0.040000</td>\n",
       "      <td>0.080000</td>\n",
       "    </tr>\n",
       "    <tr>\n",
       "      <th>26</th>\n",
       "      <td>1.410000</td>\n",
       "      <td>17.500</td>\n",
       "      <td>Genet</td>\n",
       "      <td>0.080571</td>\n",
       "      <td>0.161143</td>\n",
       "    </tr>\n",
       "    <tr>\n",
       "      <th>29</th>\n",
       "      <td>85.003998</td>\n",
       "      <td>324.992</td>\n",
       "      <td>Gray_seal</td>\n",
       "      <td>0.261557</td>\n",
       "      <td>0.523114</td>\n",
       "    </tr>\n",
       "    <tr>\n",
       "      <th>30</th>\n",
       "      <td>0.750000</td>\n",
       "      <td>12.300</td>\n",
       "      <td>Rock_hyrax1</td>\n",
       "      <td>0.060976</td>\n",
       "      <td>0.121951</td>\n",
       "    </tr>\n",
       "    <tr>\n",
       "      <th>33</th>\n",
       "      <td>3.500000</td>\n",
       "      <td>3.900</td>\n",
       "      <td>Water_opossum</td>\n",
       "      <td>0.897436</td>\n",
       "      <td>1.794872</td>\n",
       "    </tr>\n",
       "    <tr>\n",
       "      <th>34</th>\n",
       "      <td>6.800000</td>\n",
       "      <td>179.003</td>\n",
       "      <td>Rhesus_monkey</td>\n",
       "      <td>0.037988</td>\n",
       "      <td>0.075976</td>\n",
       "    </tr>\n",
       "    <tr>\n",
       "      <th>35</th>\n",
       "      <td>34.998001</td>\n",
       "      <td>56.003</td>\n",
       "      <td>Kangaroo</td>\n",
       "      <td>0.624931</td>\n",
       "      <td>1.249862</td>\n",
       "    </tr>\n",
       "    <tr>\n",
       "      <th>36</th>\n",
       "      <td>4.050000</td>\n",
       "      <td>17.000</td>\n",
       "      <td>Yellow-bellied_marmot</td>\n",
       "      <td>0.238235</td>\n",
       "      <td>0.476471</td>\n",
       "    </tr>\n",
       "    <tr>\n",
       "      <th>37</th>\n",
       "      <td>0.120000</td>\n",
       "      <td>1.000</td>\n",
       "      <td>Golden_hamster</td>\n",
       "      <td>0.120000</td>\n",
       "      <td>0.240000</td>\n",
       "    </tr>\n",
       "    <tr>\n",
       "      <th>38</th>\n",
       "      <td>0.023000</td>\n",
       "      <td>0.400</td>\n",
       "      <td>Mouse</td>\n",
       "      <td>0.057500</td>\n",
       "      <td>0.115000</td>\n",
       "    </tr>\n",
       "    <tr>\n",
       "      <th>39</th>\n",
       "      <td>0.010000</td>\n",
       "      <td>0.250</td>\n",
       "      <td>Little_brown_bat</td>\n",
       "      <td>0.040000</td>\n",
       "      <td>0.080000</td>\n",
       "    </tr>\n",
       "    <tr>\n",
       "      <th>40</th>\n",
       "      <td>1.400000</td>\n",
       "      <td>12.500</td>\n",
       "      <td>Slow_loris</td>\n",
       "      <td>0.112000</td>\n",
       "      <td>0.224000</td>\n",
       "    </tr>\n",
       "    <tr>\n",
       "      <th>42</th>\n",
       "      <td>2.500000</td>\n",
       "      <td>12.100</td>\n",
       "      <td>Rabbit</td>\n",
       "      <td>0.206612</td>\n",
       "      <td>0.413223</td>\n",
       "    </tr>\n",
       "    <tr>\n",
       "      <th>43</th>\n",
       "      <td>55.500999</td>\n",
       "      <td>175.002</td>\n",
       "      <td>Sheep</td>\n",
       "      <td>0.317145</td>\n",
       "      <td>0.634290</td>\n",
       "    </tr>\n",
       "    <tr>\n",
       "      <th>44</th>\n",
       "      <td>100.002998</td>\n",
       "      <td>156.993</td>\n",
       "      <td>Jaguar</td>\n",
       "      <td>0.636990</td>\n",
       "      <td>1.273980</td>\n",
       "    </tr>\n",
       "    <tr>\n",
       "      <th>46</th>\n",
       "      <td>10.550000</td>\n",
       "      <td>179.504</td>\n",
       "      <td>Baboon</td>\n",
       "      <td>0.058773</td>\n",
       "      <td>0.117546</td>\n",
       "    </tr>\n",
       "    <tr>\n",
       "      <th>47</th>\n",
       "      <td>0.550000</td>\n",
       "      <td>2.400</td>\n",
       "      <td>Desert_hedgehog</td>\n",
       "      <td>0.229167</td>\n",
       "      <td>0.458333</td>\n",
       "    </tr>\n",
       "    <tr>\n",
       "      <th>48</th>\n",
       "      <td>59.997002</td>\n",
       "      <td>80.996</td>\n",
       "      <td>Giant_armadillo</td>\n",
       "      <td>0.740740</td>\n",
       "      <td>1.481481</td>\n",
       "    </tr>\n",
       "    <tr>\n",
       "      <th>49</th>\n",
       "      <td>3.600000</td>\n",
       "      <td>21.000</td>\n",
       "      <td>Rock_hyrax2</td>\n",
       "      <td>0.171429</td>\n",
       "      <td>0.342857</td>\n",
       "    </tr>\n",
       "    <tr>\n",
       "      <th>50</th>\n",
       "      <td>4.288000</td>\n",
       "      <td>39.201</td>\n",
       "      <td>Raccoon</td>\n",
       "      <td>0.109385</td>\n",
       "      <td>0.218770</td>\n",
       "    </tr>\n",
       "    <tr>\n",
       "      <th>51</th>\n",
       "      <td>0.280000</td>\n",
       "      <td>1.900</td>\n",
       "      <td>Rat</td>\n",
       "      <td>0.147368</td>\n",
       "      <td>0.294737</td>\n",
       "    </tr>\n",
       "    <tr>\n",
       "      <th>52</th>\n",
       "      <td>0.075000</td>\n",
       "      <td>1.200</td>\n",
       "      <td>E._American_mole</td>\n",
       "      <td>0.062500</td>\n",
       "      <td>0.125000</td>\n",
       "    </tr>\n",
       "    <tr>\n",
       "      <th>53</th>\n",
       "      <td>0.122000</td>\n",
       "      <td>3.000</td>\n",
       "      <td>Mole_rat</td>\n",
       "      <td>0.040667</td>\n",
       "      <td>0.081333</td>\n",
       "    </tr>\n",
       "    <tr>\n",
       "      <th>54</th>\n",
       "      <td>0.048000</td>\n",
       "      <td>0.330</td>\n",
       "      <td>Musk_shrew</td>\n",
       "      <td>0.145455</td>\n",
       "      <td>0.290909</td>\n",
       "    </tr>\n",
       "    <tr>\n",
       "      <th>56</th>\n",
       "      <td>3.000000</td>\n",
       "      <td>25.001</td>\n",
       "      <td>Echidna</td>\n",
       "      <td>0.119995</td>\n",
       "      <td>0.239990</td>\n",
       "    </tr>\n",
       "    <tr>\n",
       "      <th>58</th>\n",
       "      <td>0.900000</td>\n",
       "      <td>2.600</td>\n",
       "      <td>Tenrec</td>\n",
       "      <td>0.346154</td>\n",
       "      <td>0.692308</td>\n",
       "    </tr>\n",
       "    <tr>\n",
       "      <th>59</th>\n",
       "      <td>1.620000</td>\n",
       "      <td>11.400</td>\n",
       "      <td>Phalanger</td>\n",
       "      <td>0.142105</td>\n",
       "      <td>0.284211</td>\n",
       "    </tr>\n",
       "    <tr>\n",
       "      <th>60</th>\n",
       "      <td>0.104000</td>\n",
       "      <td>2.500</td>\n",
       "      <td>Tree_shrew</td>\n",
       "      <td>0.041600</td>\n",
       "      <td>0.083200</td>\n",
       "    </tr>\n",
       "    <tr>\n",
       "      <th>61</th>\n",
       "      <td>4.235000</td>\n",
       "      <td>50.400</td>\n",
       "      <td>Red_fox</td>\n",
       "      <td>0.084028</td>\n",
       "      <td>0.168056</td>\n",
       "    </tr>\n",
       "  </tbody>\n",
       "</table>\n",
       "</div>"
      ],
      "text/plain": [
       "       brainwt   bodywt                     animal  ratio_wt  new_column\n",
       "0     3.385000   44.500                 Arctic_fox  0.076067    0.152135\n",
       "1     0.480000   15.499                 Owl_monkey  0.030970    0.061939\n",
       "2     1.350000    8.100                     Beaver  0.166667    0.333333\n",
       "4    36.327999  119.498                  Gray_wolf  0.304005    0.608010\n",
       "5    27.660000  114.996                       Goat  0.240530    0.481060\n",
       "6    14.831000   98.199                   Roe_deer  0.151030    0.302060\n",
       "7     1.040000    5.500                 Guinea_pig  0.189091    0.378182\n",
       "8     4.190000   57.998                     Vervet  0.072244    0.144488\n",
       "9     0.425000    6.400                 Chinchilla  0.066406    0.132813\n",
       "10    0.101000    4.000            Ground_squirrel  0.025250    0.050500\n",
       "11    0.920000    5.700                     Arctic  0.161404    0.322807\n",
       "12    1.000000    6.600  African_giant_pouched_rat  0.151515    0.303030\n",
       "13    0.005000    0.140  Lesser_short-tailed-shrew  0.035714    0.071429\n",
       "14    0.060000    1.000            Star-nosed_mole  0.060000    0.120000\n",
       "15    3.500000   10.800      Nine-banded_armadillo  0.324074    0.648148\n",
       "16    2.000000   12.300                 Tree_hyrax  0.162602    0.325203\n",
       "17    1.700000    6.300                N._American  0.269841    0.539683\n",
       "19    0.023000    0.300              Big_brown_bat  0.076667    0.153333\n",
       "22    0.785000    3.500          European_hedgehog  0.224286    0.448571\n",
       "23   10.000000  114.996               Patas_monkey  0.086960    0.173919\n",
       "24    3.300000   25.600                        Cat  0.128906    0.257812\n",
       "25    0.200000    5.000                     Galago  0.040000    0.080000\n",
       "26    1.410000   17.500                      Genet  0.080571    0.161143\n",
       "29   85.003998  324.992                  Gray_seal  0.261557    0.523114\n",
       "30    0.750000   12.300                Rock_hyrax1  0.060976    0.121951\n",
       "33    3.500000    3.900              Water_opossum  0.897436    1.794872\n",
       "34    6.800000  179.003              Rhesus_monkey  0.037988    0.075976\n",
       "35   34.998001   56.003                   Kangaroo  0.624931    1.249862\n",
       "36    4.050000   17.000      Yellow-bellied_marmot  0.238235    0.476471\n",
       "37    0.120000    1.000             Golden_hamster  0.120000    0.240000\n",
       "38    0.023000    0.400                      Mouse  0.057500    0.115000\n",
       "39    0.010000    0.250           Little_brown_bat  0.040000    0.080000\n",
       "40    1.400000   12.500                 Slow_loris  0.112000    0.224000\n",
       "42    2.500000   12.100                     Rabbit  0.206612    0.413223\n",
       "43   55.500999  175.002                      Sheep  0.317145    0.634290\n",
       "44  100.002998  156.993                     Jaguar  0.636990    1.273980\n",
       "46   10.550000  179.504                     Baboon  0.058773    0.117546\n",
       "47    0.550000    2.400            Desert_hedgehog  0.229167    0.458333\n",
       "48   59.997002   80.996            Giant_armadillo  0.740740    1.481481\n",
       "49    3.600000   21.000                Rock_hyrax2  0.171429    0.342857\n",
       "50    4.288000   39.201                    Raccoon  0.109385    0.218770\n",
       "51    0.280000    1.900                        Rat  0.147368    0.294737\n",
       "52    0.075000    1.200           E._American_mole  0.062500    0.125000\n",
       "53    0.122000    3.000                   Mole_rat  0.040667    0.081333\n",
       "54    0.048000    0.330                 Musk_shrew  0.145455    0.290909\n",
       "56    3.000000   25.001                    Echidna  0.119995    0.239990\n",
       "58    0.900000    2.600                     Tenrec  0.346154    0.692308\n",
       "59    1.620000   11.400                  Phalanger  0.142105    0.284211\n",
       "60    0.104000    2.500                 Tree_shrew  0.041600    0.083200\n",
       "61    4.235000   50.400                    Red_fox  0.084028    0.168056"
      ]
     },
     "execution_count": 115,
     "metadata": {},
     "output_type": "execute_result"
    }
   ],
   "source": [
    "eval(animals_new"
   ]
  },
  {
   "cell_type": "code",
   "execution_count": 118,
   "metadata": {
    "scrolled": true
   },
   "outputs": [
    {
     "data": {
      "text/plain": [
       "['brainwt,bodywt,animal\\n',\n",
       " '3.385,44.5,Arctic_fox\\n',\n",
       " '0.48,15.499,Owl_monkey\\n',\n",
       " '1.35,8.1,Beaver\\n',\n",
       " '464.983,423.012,Cow\\n',\n",
       " '36.328,119.498,Gray_wolf\\n',\n",
       " '27.66,114.996,Goat\\n',\n",
       " '14.831,98.199,Roe_deer\\n',\n",
       " '1.04,5.5,Guinea_pig\\n',\n",
       " '4.19,57.998,Vervet\\n',\n",
       " '0.425,6.4,Chinchilla\\n',\n",
       " '0.101,4,Ground_squirrel\\n',\n",
       " '0.92,5.7,Arctic\\n',\n",
       " '1,6.6,African_giant_pouched_rat\\n',\n",
       " '0.005,0.14,Lesser_short-tailed-shrew\\n',\n",
       " '0.06,1,Star-nosed_mole\\n',\n",
       " '3.5,10.8,Nine-banded_armadillo\\n',\n",
       " '2,12.3,Tree_hyrax\\n',\n",
       " '1.7,6.3,N._American\\n',\n",
       " '2547.07,4603.17,Asian_elephant\\n',\n",
       " '0.023,0.3,Big_brown_bat\\n',\n",
       " '187.092,419.012,Donkey\\n',\n",
       " '521.026,654.977,Horse\\n',\n",
       " '0.785,3.5,European_hedgehog\\n',\n",
       " '10,114.996,Patas_monkey\\n',\n",
       " '3.3,25.6,Cat\\n',\n",
       " '0.2,5,Galago\\n',\n",
       " '1.41,17.5,Genet\\n',\n",
       " '529.006,680.005,Giraffe\\n',\n",
       " '206.996,406.019,Gorilla\\n',\n",
       " '85.004,324.992,Gray_seal\\n',\n",
       " '0.75,12.3,Rock_hyrax1\\n',\n",
       " '61.998,1320.02,Human\\n',\n",
       " '6654.18,5711.86,African_elephant\\n',\n",
       " '3.5,3.9,Water_opossum\\n',\n",
       " '6.8,179.003,Rhesus_monkey\\n',\n",
       " '34.998,56.003,Kangaroo\\n',\n",
       " '4.05,17,Yellow-bellied_marmot\\n',\n",
       " '0.12,1,Golden_hamster\\n',\n",
       " '0.023,0.4,Mouse\\n',\n",
       " '0.01,0.25,Little_brown_bat\\n',\n",
       " '1.4,12.5,Slow_loris\\n',\n",
       " '250.01,489.997,Okapi\\n',\n",
       " '2.5,12.1,Rabbit\\n',\n",
       " '55.501,175.002,Sheep\\n',\n",
       " '100.003,156.993,Jaguar\\n',\n",
       " '52.159,440.011,Chimpanzee\\n',\n",
       " '10.55,179.504,Baboon\\n',\n",
       " '0.55,2.4,Desert_hedgehog\\n',\n",
       " '59.997,80.996,Giant_armadillo\\n',\n",
       " '3.6,21,Rock_hyrax2\\n',\n",
       " '4.288,39.201,Raccoon\\n',\n",
       " '0.28,1.9,Rat\\n',\n",
       " '0.075,1.2,E._American_mole\\n',\n",
       " '0.122,3,Mole_rat\\n',\n",
       " '0.048,0.33,Musk_shrew\\n',\n",
       " '192.001,180.008,Pig\\n',\n",
       " '3,25.001,Echidna\\n',\n",
       " '160.004,169,Brazilian_tapir\\n',\n",
       " '0.9,2.6,Tenrec\\n',\n",
       " '1.62,11.4,Phalanger\\n',\n",
       " '0.104,2.5,Tree_shrew\\n',\n",
       " '4.235,50.4,Red_fox\\n']"
      ]
     },
     "execution_count": 118,
     "metadata": {},
     "output_type": "execute_result"
    }
   ],
   "source": [
    "with open('data/animals.csv','r') as f:\n",
    "    f_read = f.readlines()\n",
    "    \n",
    "f_read"
   ]
  },
  {
   "cell_type": "code",
   "execution_count": 119,
   "metadata": {},
   "outputs": [],
   "source": [
    "eval(\"animals_new.to_csv('data/animals_new.csv')\")"
   ]
  },
  {
   "cell_type": "code",
   "execution_count": 120,
   "metadata": {},
   "outputs": [
    {
     "ename": "SyntaxError",
     "evalue": "invalid syntax (<string>, line 1)",
     "output_type": "error",
     "traceback": [
      "Traceback \u001b[1;36m(most recent call last)\u001b[0m:\n",
      "  File \u001b[0;32m\"C:\\Users\\GralG\\AppData\\Roaming\\Python\\Python37\\site-packages\\IPython\\core\\interactiveshell.py\"\u001b[0m, line \u001b[0;32m3417\u001b[0m, in \u001b[0;35mrun_code\u001b[0m\n    exec(code_obj, self.user_global_ns, self.user_ns)\n",
      "\u001b[1;36m  File \u001b[1;32m\"<ipython-input-120-91131ad69dfa>\"\u001b[1;36m, line \u001b[1;32m1\u001b[1;36m, in \u001b[1;35m<module>\u001b[1;36m\u001b[0m\n\u001b[1;33m    eval(\"x=2, x*2\")\u001b[0m\n",
      "\u001b[1;36m  File \u001b[1;32m\"<string>\"\u001b[1;36m, line \u001b[1;32m1\u001b[0m\n\u001b[1;33m    x=2, x*2\u001b[0m\n\u001b[1;37m     ^\u001b[0m\n\u001b[1;31mSyntaxError\u001b[0m\u001b[1;31m:\u001b[0m invalid syntax\n"
     ]
    }
   ],
   "source": [
    "eval(\"x=2, x*2\")"
   ]
  },
  {
   "cell_type": "code",
   "execution_count": 122,
   "metadata": {},
   "outputs": [],
   "source": [
    "animals['brainkg'] = animals['brainwt']*0.4536\n",
    "animals['bodykg'] = animals['bodywt']*0.4536"
   ]
  },
  {
   "cell_type": "code",
   "execution_count": 125,
   "metadata": {
    "scrolled": true
   },
   "outputs": [
    {
     "data": {
      "text/html": [
       "<div>\n",
       "<style scoped>\n",
       "    .dataframe tbody tr th:only-of-type {\n",
       "        vertical-align: middle;\n",
       "    }\n",
       "\n",
       "    .dataframe tbody tr th {\n",
       "        vertical-align: top;\n",
       "    }\n",
       "\n",
       "    .dataframe thead th {\n",
       "        text-align: right;\n",
       "    }\n",
       "</style>\n",
       "<table border=\"1\" class=\"dataframe\">\n",
       "  <thead>\n",
       "    <tr style=\"text-align: right;\">\n",
       "      <th></th>\n",
       "      <th>brainwt</th>\n",
       "      <th>bodywt</th>\n",
       "      <th>animal</th>\n",
       "      <th>brainkg</th>\n",
       "      <th>bodykg</th>\n",
       "      <th>wratio</th>\n",
       "    </tr>\n",
       "  </thead>\n",
       "  <tbody>\n",
       "    <tr>\n",
       "      <th>0</th>\n",
       "      <td>3.385000</td>\n",
       "      <td>44.500</td>\n",
       "      <td>Arctic_fox</td>\n",
       "      <td>1.535436</td>\n",
       "      <td>20.185200</td>\n",
       "      <td>0.076067</td>\n",
       "    </tr>\n",
       "    <tr>\n",
       "      <th>1</th>\n",
       "      <td>0.480000</td>\n",
       "      <td>15.499</td>\n",
       "      <td>Owl_monkey</td>\n",
       "      <td>0.217728</td>\n",
       "      <td>7.030346</td>\n",
       "      <td>0.030970</td>\n",
       "    </tr>\n",
       "    <tr>\n",
       "      <th>2</th>\n",
       "      <td>1.350000</td>\n",
       "      <td>8.100</td>\n",
       "      <td>Beaver</td>\n",
       "      <td>0.612360</td>\n",
       "      <td>3.674160</td>\n",
       "      <td>0.166667</td>\n",
       "    </tr>\n",
       "    <tr>\n",
       "      <th>4</th>\n",
       "      <td>36.327999</td>\n",
       "      <td>119.498</td>\n",
       "      <td>Gray_wolf</td>\n",
       "      <td>16.478380</td>\n",
       "      <td>54.204293</td>\n",
       "      <td>0.304005</td>\n",
       "    </tr>\n",
       "    <tr>\n",
       "      <th>5</th>\n",
       "      <td>27.660000</td>\n",
       "      <td>114.996</td>\n",
       "      <td>Goat</td>\n",
       "      <td>12.546576</td>\n",
       "      <td>52.162186</td>\n",
       "      <td>0.240530</td>\n",
       "    </tr>\n",
       "    <tr>\n",
       "      <th>6</th>\n",
       "      <td>14.831000</td>\n",
       "      <td>98.199</td>\n",
       "      <td>Roe_deer</td>\n",
       "      <td>6.727342</td>\n",
       "      <td>44.543066</td>\n",
       "      <td>0.151030</td>\n",
       "    </tr>\n",
       "    <tr>\n",
       "      <th>7</th>\n",
       "      <td>1.040000</td>\n",
       "      <td>5.500</td>\n",
       "      <td>Guinea_pig</td>\n",
       "      <td>0.471744</td>\n",
       "      <td>2.494800</td>\n",
       "      <td>0.189091</td>\n",
       "    </tr>\n",
       "    <tr>\n",
       "      <th>8</th>\n",
       "      <td>4.190000</td>\n",
       "      <td>57.998</td>\n",
       "      <td>Vervet</td>\n",
       "      <td>1.900584</td>\n",
       "      <td>26.307893</td>\n",
       "      <td>0.072244</td>\n",
       "    </tr>\n",
       "    <tr>\n",
       "      <th>9</th>\n",
       "      <td>0.425000</td>\n",
       "      <td>6.400</td>\n",
       "      <td>Chinchilla</td>\n",
       "      <td>0.192780</td>\n",
       "      <td>2.903040</td>\n",
       "      <td>0.066406</td>\n",
       "    </tr>\n",
       "    <tr>\n",
       "      <th>10</th>\n",
       "      <td>0.101000</td>\n",
       "      <td>4.000</td>\n",
       "      <td>Ground_squirrel</td>\n",
       "      <td>0.045814</td>\n",
       "      <td>1.814400</td>\n",
       "      <td>0.025250</td>\n",
       "    </tr>\n",
       "    <tr>\n",
       "      <th>11</th>\n",
       "      <td>0.920000</td>\n",
       "      <td>5.700</td>\n",
       "      <td>Arctic</td>\n",
       "      <td>0.417312</td>\n",
       "      <td>2.585520</td>\n",
       "      <td>0.161404</td>\n",
       "    </tr>\n",
       "    <tr>\n",
       "      <th>12</th>\n",
       "      <td>1.000000</td>\n",
       "      <td>6.600</td>\n",
       "      <td>African_giant_pouched_rat</td>\n",
       "      <td>0.453600</td>\n",
       "      <td>2.993760</td>\n",
       "      <td>0.151515</td>\n",
       "    </tr>\n",
       "    <tr>\n",
       "      <th>13</th>\n",
       "      <td>0.005000</td>\n",
       "      <td>0.140</td>\n",
       "      <td>Lesser_short-tailed-shrew</td>\n",
       "      <td>0.002268</td>\n",
       "      <td>0.063504</td>\n",
       "      <td>0.035714</td>\n",
       "    </tr>\n",
       "    <tr>\n",
       "      <th>14</th>\n",
       "      <td>0.060000</td>\n",
       "      <td>1.000</td>\n",
       "      <td>Star-nosed_mole</td>\n",
       "      <td>0.027216</td>\n",
       "      <td>0.453600</td>\n",
       "      <td>0.060000</td>\n",
       "    </tr>\n",
       "    <tr>\n",
       "      <th>15</th>\n",
       "      <td>3.500000</td>\n",
       "      <td>10.800</td>\n",
       "      <td>Nine-banded_armadillo</td>\n",
       "      <td>1.587600</td>\n",
       "      <td>4.898880</td>\n",
       "      <td>0.324074</td>\n",
       "    </tr>\n",
       "    <tr>\n",
       "      <th>16</th>\n",
       "      <td>2.000000</td>\n",
       "      <td>12.300</td>\n",
       "      <td>Tree_hyrax</td>\n",
       "      <td>0.907200</td>\n",
       "      <td>5.579280</td>\n",
       "      <td>0.162602</td>\n",
       "    </tr>\n",
       "    <tr>\n",
       "      <th>17</th>\n",
       "      <td>1.700000</td>\n",
       "      <td>6.300</td>\n",
       "      <td>N._American</td>\n",
       "      <td>0.771120</td>\n",
       "      <td>2.857680</td>\n",
       "      <td>0.269841</td>\n",
       "    </tr>\n",
       "    <tr>\n",
       "      <th>19</th>\n",
       "      <td>0.023000</td>\n",
       "      <td>0.300</td>\n",
       "      <td>Big_brown_bat</td>\n",
       "      <td>0.010433</td>\n",
       "      <td>0.136080</td>\n",
       "      <td>0.076667</td>\n",
       "    </tr>\n",
       "    <tr>\n",
       "      <th>22</th>\n",
       "      <td>0.785000</td>\n",
       "      <td>3.500</td>\n",
       "      <td>European_hedgehog</td>\n",
       "      <td>0.356076</td>\n",
       "      <td>1.587600</td>\n",
       "      <td>0.224286</td>\n",
       "    </tr>\n",
       "    <tr>\n",
       "      <th>23</th>\n",
       "      <td>10.000000</td>\n",
       "      <td>114.996</td>\n",
       "      <td>Patas_monkey</td>\n",
       "      <td>4.536000</td>\n",
       "      <td>52.162186</td>\n",
       "      <td>0.086960</td>\n",
       "    </tr>\n",
       "    <tr>\n",
       "      <th>24</th>\n",
       "      <td>3.300000</td>\n",
       "      <td>25.600</td>\n",
       "      <td>Cat</td>\n",
       "      <td>1.496880</td>\n",
       "      <td>11.612160</td>\n",
       "      <td>0.128906</td>\n",
       "    </tr>\n",
       "    <tr>\n",
       "      <th>25</th>\n",
       "      <td>0.200000</td>\n",
       "      <td>5.000</td>\n",
       "      <td>Galago</td>\n",
       "      <td>0.090720</td>\n",
       "      <td>2.268000</td>\n",
       "      <td>0.040000</td>\n",
       "    </tr>\n",
       "    <tr>\n",
       "      <th>26</th>\n",
       "      <td>1.410000</td>\n",
       "      <td>17.500</td>\n",
       "      <td>Genet</td>\n",
       "      <td>0.639576</td>\n",
       "      <td>7.938000</td>\n",
       "      <td>0.080571</td>\n",
       "    </tr>\n",
       "    <tr>\n",
       "      <th>29</th>\n",
       "      <td>85.003998</td>\n",
       "      <td>324.992</td>\n",
       "      <td>Gray_seal</td>\n",
       "      <td>38.557812</td>\n",
       "      <td>147.416371</td>\n",
       "      <td>0.261557</td>\n",
       "    </tr>\n",
       "    <tr>\n",
       "      <th>30</th>\n",
       "      <td>0.750000</td>\n",
       "      <td>12.300</td>\n",
       "      <td>Rock_hyrax1</td>\n",
       "      <td>0.340200</td>\n",
       "      <td>5.579280</td>\n",
       "      <td>0.060976</td>\n",
       "    </tr>\n",
       "    <tr>\n",
       "      <th>33</th>\n",
       "      <td>3.500000</td>\n",
       "      <td>3.900</td>\n",
       "      <td>Water_opossum</td>\n",
       "      <td>1.587600</td>\n",
       "      <td>1.769040</td>\n",
       "      <td>0.897436</td>\n",
       "    </tr>\n",
       "    <tr>\n",
       "      <th>34</th>\n",
       "      <td>6.800000</td>\n",
       "      <td>179.003</td>\n",
       "      <td>Rhesus_monkey</td>\n",
       "      <td>3.084480</td>\n",
       "      <td>81.195761</td>\n",
       "      <td>0.037988</td>\n",
       "    </tr>\n",
       "    <tr>\n",
       "      <th>35</th>\n",
       "      <td>34.998001</td>\n",
       "      <td>56.003</td>\n",
       "      <td>Kangaroo</td>\n",
       "      <td>15.875093</td>\n",
       "      <td>25.402961</td>\n",
       "      <td>0.624931</td>\n",
       "    </tr>\n",
       "    <tr>\n",
       "      <th>36</th>\n",
       "      <td>4.050000</td>\n",
       "      <td>17.000</td>\n",
       "      <td>Yellow-bellied_marmot</td>\n",
       "      <td>1.837080</td>\n",
       "      <td>7.711200</td>\n",
       "      <td>0.238235</td>\n",
       "    </tr>\n",
       "    <tr>\n",
       "      <th>37</th>\n",
       "      <td>0.120000</td>\n",
       "      <td>1.000</td>\n",
       "      <td>Golden_hamster</td>\n",
       "      <td>0.054432</td>\n",
       "      <td>0.453600</td>\n",
       "      <td>0.120000</td>\n",
       "    </tr>\n",
       "    <tr>\n",
       "      <th>38</th>\n",
       "      <td>0.023000</td>\n",
       "      <td>0.400</td>\n",
       "      <td>Mouse</td>\n",
       "      <td>0.010433</td>\n",
       "      <td>0.181440</td>\n",
       "      <td>0.057500</td>\n",
       "    </tr>\n",
       "    <tr>\n",
       "      <th>39</th>\n",
       "      <td>0.010000</td>\n",
       "      <td>0.250</td>\n",
       "      <td>Little_brown_bat</td>\n",
       "      <td>0.004536</td>\n",
       "      <td>0.113400</td>\n",
       "      <td>0.040000</td>\n",
       "    </tr>\n",
       "    <tr>\n",
       "      <th>40</th>\n",
       "      <td>1.400000</td>\n",
       "      <td>12.500</td>\n",
       "      <td>Slow_loris</td>\n",
       "      <td>0.635040</td>\n",
       "      <td>5.670000</td>\n",
       "      <td>0.112000</td>\n",
       "    </tr>\n",
       "    <tr>\n",
       "      <th>42</th>\n",
       "      <td>2.500000</td>\n",
       "      <td>12.100</td>\n",
       "      <td>Rabbit</td>\n",
       "      <td>1.134000</td>\n",
       "      <td>5.488560</td>\n",
       "      <td>0.206612</td>\n",
       "    </tr>\n",
       "    <tr>\n",
       "      <th>43</th>\n",
       "      <td>55.500999</td>\n",
       "      <td>175.002</td>\n",
       "      <td>Sheep</td>\n",
       "      <td>25.175253</td>\n",
       "      <td>79.380907</td>\n",
       "      <td>0.317145</td>\n",
       "    </tr>\n",
       "    <tr>\n",
       "      <th>44</th>\n",
       "      <td>100.002998</td>\n",
       "      <td>156.993</td>\n",
       "      <td>Jaguar</td>\n",
       "      <td>45.361359</td>\n",
       "      <td>71.212025</td>\n",
       "      <td>0.636990</td>\n",
       "    </tr>\n",
       "    <tr>\n",
       "      <th>46</th>\n",
       "      <td>10.550000</td>\n",
       "      <td>179.504</td>\n",
       "      <td>Baboon</td>\n",
       "      <td>4.785480</td>\n",
       "      <td>81.423014</td>\n",
       "      <td>0.058773</td>\n",
       "    </tr>\n",
       "    <tr>\n",
       "      <th>47</th>\n",
       "      <td>0.550000</td>\n",
       "      <td>2.400</td>\n",
       "      <td>Desert_hedgehog</td>\n",
       "      <td>0.249480</td>\n",
       "      <td>1.088640</td>\n",
       "      <td>0.229167</td>\n",
       "    </tr>\n",
       "    <tr>\n",
       "      <th>48</th>\n",
       "      <td>59.997002</td>\n",
       "      <td>80.996</td>\n",
       "      <td>Giant_armadillo</td>\n",
       "      <td>27.214640</td>\n",
       "      <td>36.739786</td>\n",
       "      <td>0.740740</td>\n",
       "    </tr>\n",
       "    <tr>\n",
       "      <th>49</th>\n",
       "      <td>3.600000</td>\n",
       "      <td>21.000</td>\n",
       "      <td>Rock_hyrax2</td>\n",
       "      <td>1.632960</td>\n",
       "      <td>9.525600</td>\n",
       "      <td>0.171429</td>\n",
       "    </tr>\n",
       "    <tr>\n",
       "      <th>50</th>\n",
       "      <td>4.288000</td>\n",
       "      <td>39.201</td>\n",
       "      <td>Raccoon</td>\n",
       "      <td>1.945037</td>\n",
       "      <td>17.781574</td>\n",
       "      <td>0.109385</td>\n",
       "    </tr>\n",
       "    <tr>\n",
       "      <th>51</th>\n",
       "      <td>0.280000</td>\n",
       "      <td>1.900</td>\n",
       "      <td>Rat</td>\n",
       "      <td>0.127008</td>\n",
       "      <td>0.861840</td>\n",
       "      <td>0.147368</td>\n",
       "    </tr>\n",
       "    <tr>\n",
       "      <th>52</th>\n",
       "      <td>0.075000</td>\n",
       "      <td>1.200</td>\n",
       "      <td>E._American_mole</td>\n",
       "      <td>0.034020</td>\n",
       "      <td>0.544320</td>\n",
       "      <td>0.062500</td>\n",
       "    </tr>\n",
       "    <tr>\n",
       "      <th>53</th>\n",
       "      <td>0.122000</td>\n",
       "      <td>3.000</td>\n",
       "      <td>Mole_rat</td>\n",
       "      <td>0.055339</td>\n",
       "      <td>1.360800</td>\n",
       "      <td>0.040667</td>\n",
       "    </tr>\n",
       "    <tr>\n",
       "      <th>54</th>\n",
       "      <td>0.048000</td>\n",
       "      <td>0.330</td>\n",
       "      <td>Musk_shrew</td>\n",
       "      <td>0.021773</td>\n",
       "      <td>0.149688</td>\n",
       "      <td>0.145455</td>\n",
       "    </tr>\n",
       "    <tr>\n",
       "      <th>56</th>\n",
       "      <td>3.000000</td>\n",
       "      <td>25.001</td>\n",
       "      <td>Echidna</td>\n",
       "      <td>1.360800</td>\n",
       "      <td>11.340454</td>\n",
       "      <td>0.119995</td>\n",
       "    </tr>\n",
       "    <tr>\n",
       "      <th>58</th>\n",
       "      <td>0.900000</td>\n",
       "      <td>2.600</td>\n",
       "      <td>Tenrec</td>\n",
       "      <td>0.408240</td>\n",
       "      <td>1.179360</td>\n",
       "      <td>0.346154</td>\n",
       "    </tr>\n",
       "    <tr>\n",
       "      <th>59</th>\n",
       "      <td>1.620000</td>\n",
       "      <td>11.400</td>\n",
       "      <td>Phalanger</td>\n",
       "      <td>0.734832</td>\n",
       "      <td>5.171040</td>\n",
       "      <td>0.142105</td>\n",
       "    </tr>\n",
       "    <tr>\n",
       "      <th>60</th>\n",
       "      <td>0.104000</td>\n",
       "      <td>2.500</td>\n",
       "      <td>Tree_shrew</td>\n",
       "      <td>0.047174</td>\n",
       "      <td>1.134000</td>\n",
       "      <td>0.041600</td>\n",
       "    </tr>\n",
       "    <tr>\n",
       "      <th>61</th>\n",
       "      <td>4.235000</td>\n",
       "      <td>50.400</td>\n",
       "      <td>Red_fox</td>\n",
       "      <td>1.920996</td>\n",
       "      <td>22.861440</td>\n",
       "      <td>0.084028</td>\n",
       "    </tr>\n",
       "  </tbody>\n",
       "</table>\n",
       "</div>"
      ],
      "text/plain": [
       "       brainwt   bodywt                     animal    brainkg      bodykg  \\\n",
       "0     3.385000   44.500                 Arctic_fox   1.535436   20.185200   \n",
       "1     0.480000   15.499                 Owl_monkey   0.217728    7.030346   \n",
       "2     1.350000    8.100                     Beaver   0.612360    3.674160   \n",
       "4    36.327999  119.498                  Gray_wolf  16.478380   54.204293   \n",
       "5    27.660000  114.996                       Goat  12.546576   52.162186   \n",
       "6    14.831000   98.199                   Roe_deer   6.727342   44.543066   \n",
       "7     1.040000    5.500                 Guinea_pig   0.471744    2.494800   \n",
       "8     4.190000   57.998                     Vervet   1.900584   26.307893   \n",
       "9     0.425000    6.400                 Chinchilla   0.192780    2.903040   \n",
       "10    0.101000    4.000            Ground_squirrel   0.045814    1.814400   \n",
       "11    0.920000    5.700                     Arctic   0.417312    2.585520   \n",
       "12    1.000000    6.600  African_giant_pouched_rat   0.453600    2.993760   \n",
       "13    0.005000    0.140  Lesser_short-tailed-shrew   0.002268    0.063504   \n",
       "14    0.060000    1.000            Star-nosed_mole   0.027216    0.453600   \n",
       "15    3.500000   10.800      Nine-banded_armadillo   1.587600    4.898880   \n",
       "16    2.000000   12.300                 Tree_hyrax   0.907200    5.579280   \n",
       "17    1.700000    6.300                N._American   0.771120    2.857680   \n",
       "19    0.023000    0.300              Big_brown_bat   0.010433    0.136080   \n",
       "22    0.785000    3.500          European_hedgehog   0.356076    1.587600   \n",
       "23   10.000000  114.996               Patas_monkey   4.536000   52.162186   \n",
       "24    3.300000   25.600                        Cat   1.496880   11.612160   \n",
       "25    0.200000    5.000                     Galago   0.090720    2.268000   \n",
       "26    1.410000   17.500                      Genet   0.639576    7.938000   \n",
       "29   85.003998  324.992                  Gray_seal  38.557812  147.416371   \n",
       "30    0.750000   12.300                Rock_hyrax1   0.340200    5.579280   \n",
       "33    3.500000    3.900              Water_opossum   1.587600    1.769040   \n",
       "34    6.800000  179.003              Rhesus_monkey   3.084480   81.195761   \n",
       "35   34.998001   56.003                   Kangaroo  15.875093   25.402961   \n",
       "36    4.050000   17.000      Yellow-bellied_marmot   1.837080    7.711200   \n",
       "37    0.120000    1.000             Golden_hamster   0.054432    0.453600   \n",
       "38    0.023000    0.400                      Mouse   0.010433    0.181440   \n",
       "39    0.010000    0.250           Little_brown_bat   0.004536    0.113400   \n",
       "40    1.400000   12.500                 Slow_loris   0.635040    5.670000   \n",
       "42    2.500000   12.100                     Rabbit   1.134000    5.488560   \n",
       "43   55.500999  175.002                      Sheep  25.175253   79.380907   \n",
       "44  100.002998  156.993                     Jaguar  45.361359   71.212025   \n",
       "46   10.550000  179.504                     Baboon   4.785480   81.423014   \n",
       "47    0.550000    2.400            Desert_hedgehog   0.249480    1.088640   \n",
       "48   59.997002   80.996            Giant_armadillo  27.214640   36.739786   \n",
       "49    3.600000   21.000                Rock_hyrax2   1.632960    9.525600   \n",
       "50    4.288000   39.201                    Raccoon   1.945037   17.781574   \n",
       "51    0.280000    1.900                        Rat   0.127008    0.861840   \n",
       "52    0.075000    1.200           E._American_mole   0.034020    0.544320   \n",
       "53    0.122000    3.000                   Mole_rat   0.055339    1.360800   \n",
       "54    0.048000    0.330                 Musk_shrew   0.021773    0.149688   \n",
       "56    3.000000   25.001                    Echidna   1.360800   11.340454   \n",
       "58    0.900000    2.600                     Tenrec   0.408240    1.179360   \n",
       "59    1.620000   11.400                  Phalanger   0.734832    5.171040   \n",
       "60    0.104000    2.500                 Tree_shrew   0.047174    1.134000   \n",
       "61    4.235000   50.400                    Red_fox   1.920996   22.861440   \n",
       "\n",
       "      wratio  \n",
       "0   0.076067  \n",
       "1   0.030970  \n",
       "2   0.166667  \n",
       "4   0.304005  \n",
       "5   0.240530  \n",
       "6   0.151030  \n",
       "7   0.189091  \n",
       "8   0.072244  \n",
       "9   0.066406  \n",
       "10  0.025250  \n",
       "11  0.161404  \n",
       "12  0.151515  \n",
       "13  0.035714  \n",
       "14  0.060000  \n",
       "15  0.324074  \n",
       "16  0.162602  \n",
       "17  0.269841  \n",
       "19  0.076667  \n",
       "22  0.224286  \n",
       "23  0.086960  \n",
       "24  0.128906  \n",
       "25  0.040000  \n",
       "26  0.080571  \n",
       "29  0.261557  \n",
       "30  0.060976  \n",
       "33  0.897436  \n",
       "34  0.037988  \n",
       "35  0.624931  \n",
       "36  0.238235  \n",
       "37  0.120000  \n",
       "38  0.057500  \n",
       "39  0.040000  \n",
       "40  0.112000  \n",
       "42  0.206612  \n",
       "43  0.317145  \n",
       "44  0.636990  \n",
       "46  0.058773  \n",
       "47  0.229167  \n",
       "48  0.740740  \n",
       "49  0.171429  \n",
       "50  0.109385  \n",
       "51  0.147368  \n",
       "52  0.062500  \n",
       "53  0.040667  \n",
       "54  0.145455  \n",
       "56  0.119995  \n",
       "58  0.346154  \n",
       "59  0.142105  \n",
       "60  0.041600  \n",
       "61  0.084028  "
      ]
     },
     "execution_count": 125,
     "metadata": {},
     "output_type": "execute_result"
    }
   ],
   "source": [
    "animals['wratio'] = np.where(animals['brainkg'] != 0, animals['brainkg']/ animals['bodykg'],0)\n",
    "animals"
   ]
  },
  {
   "cell_type": "code",
   "execution_count": 129,
   "metadata": {},
   "outputs": [],
   "source": [
    "animals['animals_and'] = np.where((animals['brainwt'] > 15 )&(animals['brainwt'] < 100),\n",
    "                      animals['bodywt']/animals['brainwt'],0)"
   ]
  },
  {
   "cell_type": "code",
   "execution_count": 133,
   "metadata": {
    "scrolled": true
   },
   "outputs": [],
   "source": [
    "animals['nested']= np.where(animals['brainwt'] > 15, animals['bodywt']/animals['brainwt'],\n",
    "                           np.where(animals['brainwt'] < 10, animals['bodywt']*animals['brainwt'],0))"
   ]
  },
  {
   "cell_type": "code",
   "execution_count": 134,
   "metadata": {
    "scrolled": true
   },
   "outputs": [
    {
     "data": {
      "text/html": [
       "<div>\n",
       "<style scoped>\n",
       "    .dataframe tbody tr th:only-of-type {\n",
       "        vertical-align: middle;\n",
       "    }\n",
       "\n",
       "    .dataframe tbody tr th {\n",
       "        vertical-align: top;\n",
       "    }\n",
       "\n",
       "    .dataframe thead th {\n",
       "        text-align: right;\n",
       "    }\n",
       "</style>\n",
       "<table border=\"1\" class=\"dataframe\">\n",
       "  <thead>\n",
       "    <tr style=\"text-align: right;\">\n",
       "      <th></th>\n",
       "      <th>brainwt</th>\n",
       "      <th>bodywt</th>\n",
       "      <th>animal</th>\n",
       "      <th>brainkg</th>\n",
       "      <th>bodykg</th>\n",
       "      <th>wratio</th>\n",
       "      <th>animals_and</th>\n",
       "      <th>nested</th>\n",
       "    </tr>\n",
       "  </thead>\n",
       "  <tbody>\n",
       "    <tr>\n",
       "      <th>0</th>\n",
       "      <td>3.385000</td>\n",
       "      <td>44.500</td>\n",
       "      <td>Arctic_fox</td>\n",
       "      <td>1.535436</td>\n",
       "      <td>20.185200</td>\n",
       "      <td>0.076067</td>\n",
       "      <td>0.000000</td>\n",
       "      <td>150.632500</td>\n",
       "    </tr>\n",
       "    <tr>\n",
       "      <th>1</th>\n",
       "      <td>0.480000</td>\n",
       "      <td>15.499</td>\n",
       "      <td>Owl_monkey</td>\n",
       "      <td>0.217728</td>\n",
       "      <td>7.030346</td>\n",
       "      <td>0.030970</td>\n",
       "      <td>0.000000</td>\n",
       "      <td>7.439520</td>\n",
       "    </tr>\n",
       "    <tr>\n",
       "      <th>2</th>\n",
       "      <td>1.350000</td>\n",
       "      <td>8.100</td>\n",
       "      <td>Beaver</td>\n",
       "      <td>0.612360</td>\n",
       "      <td>3.674160</td>\n",
       "      <td>0.166667</td>\n",
       "      <td>0.000000</td>\n",
       "      <td>10.935000</td>\n",
       "    </tr>\n",
       "    <tr>\n",
       "      <th>4</th>\n",
       "      <td>36.327999</td>\n",
       "      <td>119.498</td>\n",
       "      <td>Gray_wolf</td>\n",
       "      <td>16.478380</td>\n",
       "      <td>54.204293</td>\n",
       "      <td>0.304005</td>\n",
       "      <td>3.289419</td>\n",
       "      <td>3.289419</td>\n",
       "    </tr>\n",
       "    <tr>\n",
       "      <th>5</th>\n",
       "      <td>27.660000</td>\n",
       "      <td>114.996</td>\n",
       "      <td>Goat</td>\n",
       "      <td>12.546576</td>\n",
       "      <td>52.162186</td>\n",
       "      <td>0.240530</td>\n",
       "      <td>4.157484</td>\n",
       "      <td>4.157484</td>\n",
       "    </tr>\n",
       "    <tr>\n",
       "      <th>6</th>\n",
       "      <td>14.831000</td>\n",
       "      <td>98.199</td>\n",
       "      <td>Roe_deer</td>\n",
       "      <td>6.727342</td>\n",
       "      <td>44.543066</td>\n",
       "      <td>0.151030</td>\n",
       "      <td>0.000000</td>\n",
       "      <td>0.000000</td>\n",
       "    </tr>\n",
       "    <tr>\n",
       "      <th>7</th>\n",
       "      <td>1.040000</td>\n",
       "      <td>5.500</td>\n",
       "      <td>Guinea_pig</td>\n",
       "      <td>0.471744</td>\n",
       "      <td>2.494800</td>\n",
       "      <td>0.189091</td>\n",
       "      <td>0.000000</td>\n",
       "      <td>5.720000</td>\n",
       "    </tr>\n",
       "    <tr>\n",
       "      <th>8</th>\n",
       "      <td>4.190000</td>\n",
       "      <td>57.998</td>\n",
       "      <td>Vervet</td>\n",
       "      <td>1.900584</td>\n",
       "      <td>26.307893</td>\n",
       "      <td>0.072244</td>\n",
       "      <td>0.000000</td>\n",
       "      <td>243.011623</td>\n",
       "    </tr>\n",
       "    <tr>\n",
       "      <th>9</th>\n",
       "      <td>0.425000</td>\n",
       "      <td>6.400</td>\n",
       "      <td>Chinchilla</td>\n",
       "      <td>0.192780</td>\n",
       "      <td>2.903040</td>\n",
       "      <td>0.066406</td>\n",
       "      <td>0.000000</td>\n",
       "      <td>2.720000</td>\n",
       "    </tr>\n",
       "    <tr>\n",
       "      <th>10</th>\n",
       "      <td>0.101000</td>\n",
       "      <td>4.000</td>\n",
       "      <td>Ground_squirrel</td>\n",
       "      <td>0.045814</td>\n",
       "      <td>1.814400</td>\n",
       "      <td>0.025250</td>\n",
       "      <td>0.000000</td>\n",
       "      <td>0.404000</td>\n",
       "    </tr>\n",
       "    <tr>\n",
       "      <th>11</th>\n",
       "      <td>0.920000</td>\n",
       "      <td>5.700</td>\n",
       "      <td>Arctic</td>\n",
       "      <td>0.417312</td>\n",
       "      <td>2.585520</td>\n",
       "      <td>0.161404</td>\n",
       "      <td>0.000000</td>\n",
       "      <td>5.244000</td>\n",
       "    </tr>\n",
       "    <tr>\n",
       "      <th>12</th>\n",
       "      <td>1.000000</td>\n",
       "      <td>6.600</td>\n",
       "      <td>African_giant_pouched_rat</td>\n",
       "      <td>0.453600</td>\n",
       "      <td>2.993760</td>\n",
       "      <td>0.151515</td>\n",
       "      <td>0.000000</td>\n",
       "      <td>6.600000</td>\n",
       "    </tr>\n",
       "    <tr>\n",
       "      <th>13</th>\n",
       "      <td>0.005000</td>\n",
       "      <td>0.140</td>\n",
       "      <td>Lesser_short-tailed-shrew</td>\n",
       "      <td>0.002268</td>\n",
       "      <td>0.063504</td>\n",
       "      <td>0.035714</td>\n",
       "      <td>0.000000</td>\n",
       "      <td>0.000700</td>\n",
       "    </tr>\n",
       "    <tr>\n",
       "      <th>14</th>\n",
       "      <td>0.060000</td>\n",
       "      <td>1.000</td>\n",
       "      <td>Star-nosed_mole</td>\n",
       "      <td>0.027216</td>\n",
       "      <td>0.453600</td>\n",
       "      <td>0.060000</td>\n",
       "      <td>0.000000</td>\n",
       "      <td>0.060000</td>\n",
       "    </tr>\n",
       "    <tr>\n",
       "      <th>15</th>\n",
       "      <td>3.500000</td>\n",
       "      <td>10.800</td>\n",
       "      <td>Nine-banded_armadillo</td>\n",
       "      <td>1.587600</td>\n",
       "      <td>4.898880</td>\n",
       "      <td>0.324074</td>\n",
       "      <td>0.000000</td>\n",
       "      <td>37.800000</td>\n",
       "    </tr>\n",
       "    <tr>\n",
       "      <th>16</th>\n",
       "      <td>2.000000</td>\n",
       "      <td>12.300</td>\n",
       "      <td>Tree_hyrax</td>\n",
       "      <td>0.907200</td>\n",
       "      <td>5.579280</td>\n",
       "      <td>0.162602</td>\n",
       "      <td>0.000000</td>\n",
       "      <td>24.600000</td>\n",
       "    </tr>\n",
       "    <tr>\n",
       "      <th>17</th>\n",
       "      <td>1.700000</td>\n",
       "      <td>6.300</td>\n",
       "      <td>N._American</td>\n",
       "      <td>0.771120</td>\n",
       "      <td>2.857680</td>\n",
       "      <td>0.269841</td>\n",
       "      <td>0.000000</td>\n",
       "      <td>10.710000</td>\n",
       "    </tr>\n",
       "    <tr>\n",
       "      <th>19</th>\n",
       "      <td>0.023000</td>\n",
       "      <td>0.300</td>\n",
       "      <td>Big_brown_bat</td>\n",
       "      <td>0.010433</td>\n",
       "      <td>0.136080</td>\n",
       "      <td>0.076667</td>\n",
       "      <td>0.000000</td>\n",
       "      <td>0.006900</td>\n",
       "    </tr>\n",
       "    <tr>\n",
       "      <th>22</th>\n",
       "      <td>0.785000</td>\n",
       "      <td>3.500</td>\n",
       "      <td>European_hedgehog</td>\n",
       "      <td>0.356076</td>\n",
       "      <td>1.587600</td>\n",
       "      <td>0.224286</td>\n",
       "      <td>0.000000</td>\n",
       "      <td>2.747500</td>\n",
       "    </tr>\n",
       "    <tr>\n",
       "      <th>23</th>\n",
       "      <td>10.000000</td>\n",
       "      <td>114.996</td>\n",
       "      <td>Patas_monkey</td>\n",
       "      <td>4.536000</td>\n",
       "      <td>52.162186</td>\n",
       "      <td>0.086960</td>\n",
       "      <td>0.000000</td>\n",
       "      <td>0.000000</td>\n",
       "    </tr>\n",
       "    <tr>\n",
       "      <th>24</th>\n",
       "      <td>3.300000</td>\n",
       "      <td>25.600</td>\n",
       "      <td>Cat</td>\n",
       "      <td>1.496880</td>\n",
       "      <td>11.612160</td>\n",
       "      <td>0.128906</td>\n",
       "      <td>0.000000</td>\n",
       "      <td>84.479999</td>\n",
       "    </tr>\n",
       "    <tr>\n",
       "      <th>25</th>\n",
       "      <td>0.200000</td>\n",
       "      <td>5.000</td>\n",
       "      <td>Galago</td>\n",
       "      <td>0.090720</td>\n",
       "      <td>2.268000</td>\n",
       "      <td>0.040000</td>\n",
       "      <td>0.000000</td>\n",
       "      <td>1.000000</td>\n",
       "    </tr>\n",
       "    <tr>\n",
       "      <th>26</th>\n",
       "      <td>1.410000</td>\n",
       "      <td>17.500</td>\n",
       "      <td>Genet</td>\n",
       "      <td>0.639576</td>\n",
       "      <td>7.938000</td>\n",
       "      <td>0.080571</td>\n",
       "      <td>0.000000</td>\n",
       "      <td>24.674999</td>\n",
       "    </tr>\n",
       "    <tr>\n",
       "      <th>29</th>\n",
       "      <td>85.003998</td>\n",
       "      <td>324.992</td>\n",
       "      <td>Gray_seal</td>\n",
       "      <td>38.557812</td>\n",
       "      <td>147.416371</td>\n",
       "      <td>0.261557</td>\n",
       "      <td>3.823255</td>\n",
       "      <td>3.823255</td>\n",
       "    </tr>\n",
       "    <tr>\n",
       "      <th>30</th>\n",
       "      <td>0.750000</td>\n",
       "      <td>12.300</td>\n",
       "      <td>Rock_hyrax1</td>\n",
       "      <td>0.340200</td>\n",
       "      <td>5.579280</td>\n",
       "      <td>0.060976</td>\n",
       "      <td>0.000000</td>\n",
       "      <td>9.225000</td>\n",
       "    </tr>\n",
       "    <tr>\n",
       "      <th>33</th>\n",
       "      <td>3.500000</td>\n",
       "      <td>3.900</td>\n",
       "      <td>Water_opossum</td>\n",
       "      <td>1.587600</td>\n",
       "      <td>1.769040</td>\n",
       "      <td>0.897436</td>\n",
       "      <td>0.000000</td>\n",
       "      <td>13.650000</td>\n",
       "    </tr>\n",
       "    <tr>\n",
       "      <th>34</th>\n",
       "      <td>6.800000</td>\n",
       "      <td>179.003</td>\n",
       "      <td>Rhesus_monkey</td>\n",
       "      <td>3.084480</td>\n",
       "      <td>81.195761</td>\n",
       "      <td>0.037988</td>\n",
       "      <td>0.000000</td>\n",
       "      <td>1217.220434</td>\n",
       "    </tr>\n",
       "    <tr>\n",
       "      <th>35</th>\n",
       "      <td>34.998001</td>\n",
       "      <td>56.003</td>\n",
       "      <td>Kangaroo</td>\n",
       "      <td>15.875093</td>\n",
       "      <td>25.402961</td>\n",
       "      <td>0.624931</td>\n",
       "      <td>1.600177</td>\n",
       "      <td>1.600177</td>\n",
       "    </tr>\n",
       "    <tr>\n",
       "      <th>36</th>\n",
       "      <td>4.050000</td>\n",
       "      <td>17.000</td>\n",
       "      <td>Yellow-bellied_marmot</td>\n",
       "      <td>1.837080</td>\n",
       "      <td>7.711200</td>\n",
       "      <td>0.238235</td>\n",
       "      <td>0.000000</td>\n",
       "      <td>68.850003</td>\n",
       "    </tr>\n",
       "    <tr>\n",
       "      <th>37</th>\n",
       "      <td>0.120000</td>\n",
       "      <td>1.000</td>\n",
       "      <td>Golden_hamster</td>\n",
       "      <td>0.054432</td>\n",
       "      <td>0.453600</td>\n",
       "      <td>0.120000</td>\n",
       "      <td>0.000000</td>\n",
       "      <td>0.120000</td>\n",
       "    </tr>\n",
       "    <tr>\n",
       "      <th>38</th>\n",
       "      <td>0.023000</td>\n",
       "      <td>0.400</td>\n",
       "      <td>Mouse</td>\n",
       "      <td>0.010433</td>\n",
       "      <td>0.181440</td>\n",
       "      <td>0.057500</td>\n",
       "      <td>0.000000</td>\n",
       "      <td>0.009200</td>\n",
       "    </tr>\n",
       "    <tr>\n",
       "      <th>39</th>\n",
       "      <td>0.010000</td>\n",
       "      <td>0.250</td>\n",
       "      <td>Little_brown_bat</td>\n",
       "      <td>0.004536</td>\n",
       "      <td>0.113400</td>\n",
       "      <td>0.040000</td>\n",
       "      <td>0.000000</td>\n",
       "      <td>0.002500</td>\n",
       "    </tr>\n",
       "    <tr>\n",
       "      <th>40</th>\n",
       "      <td>1.400000</td>\n",
       "      <td>12.500</td>\n",
       "      <td>Slow_loris</td>\n",
       "      <td>0.635040</td>\n",
       "      <td>5.670000</td>\n",
       "      <td>0.112000</td>\n",
       "      <td>0.000000</td>\n",
       "      <td>17.500000</td>\n",
       "    </tr>\n",
       "    <tr>\n",
       "      <th>42</th>\n",
       "      <td>2.500000</td>\n",
       "      <td>12.100</td>\n",
       "      <td>Rabbit</td>\n",
       "      <td>1.134000</td>\n",
       "      <td>5.488560</td>\n",
       "      <td>0.206612</td>\n",
       "      <td>0.000000</td>\n",
       "      <td>30.250000</td>\n",
       "    </tr>\n",
       "    <tr>\n",
       "      <th>43</th>\n",
       "      <td>55.500999</td>\n",
       "      <td>175.002</td>\n",
       "      <td>Sheep</td>\n",
       "      <td>25.175253</td>\n",
       "      <td>79.380907</td>\n",
       "      <td>0.317145</td>\n",
       "      <td>3.153132</td>\n",
       "      <td>3.153132</td>\n",
       "    </tr>\n",
       "    <tr>\n",
       "      <th>44</th>\n",
       "      <td>100.002998</td>\n",
       "      <td>156.993</td>\n",
       "      <td>Jaguar</td>\n",
       "      <td>45.361359</td>\n",
       "      <td>71.212025</td>\n",
       "      <td>0.636990</td>\n",
       "      <td>0.000000</td>\n",
       "      <td>1.569883</td>\n",
       "    </tr>\n",
       "    <tr>\n",
       "      <th>46</th>\n",
       "      <td>10.550000</td>\n",
       "      <td>179.504</td>\n",
       "      <td>Baboon</td>\n",
       "      <td>4.785480</td>\n",
       "      <td>81.423014</td>\n",
       "      <td>0.058773</td>\n",
       "      <td>0.000000</td>\n",
       "      <td>0.000000</td>\n",
       "    </tr>\n",
       "    <tr>\n",
       "      <th>47</th>\n",
       "      <td>0.550000</td>\n",
       "      <td>2.400</td>\n",
       "      <td>Desert_hedgehog</td>\n",
       "      <td>0.249480</td>\n",
       "      <td>1.088640</td>\n",
       "      <td>0.229167</td>\n",
       "      <td>0.000000</td>\n",
       "      <td>1.320000</td>\n",
       "    </tr>\n",
       "    <tr>\n",
       "      <th>48</th>\n",
       "      <td>59.997002</td>\n",
       "      <td>80.996</td>\n",
       "      <td>Giant_armadillo</td>\n",
       "      <td>27.214640</td>\n",
       "      <td>36.739786</td>\n",
       "      <td>0.740740</td>\n",
       "      <td>1.350001</td>\n",
       "      <td>1.350001</td>\n",
       "    </tr>\n",
       "    <tr>\n",
       "      <th>49</th>\n",
       "      <td>3.600000</td>\n",
       "      <td>21.000</td>\n",
       "      <td>Rock_hyrax2</td>\n",
       "      <td>1.632960</td>\n",
       "      <td>9.525600</td>\n",
       "      <td>0.171429</td>\n",
       "      <td>0.000000</td>\n",
       "      <td>75.599998</td>\n",
       "    </tr>\n",
       "    <tr>\n",
       "      <th>50</th>\n",
       "      <td>4.288000</td>\n",
       "      <td>39.201</td>\n",
       "      <td>Raccoon</td>\n",
       "      <td>1.945037</td>\n",
       "      <td>17.781574</td>\n",
       "      <td>0.109385</td>\n",
       "      <td>0.000000</td>\n",
       "      <td>168.093892</td>\n",
       "    </tr>\n",
       "    <tr>\n",
       "      <th>51</th>\n",
       "      <td>0.280000</td>\n",
       "      <td>1.900</td>\n",
       "      <td>Rat</td>\n",
       "      <td>0.127008</td>\n",
       "      <td>0.861840</td>\n",
       "      <td>0.147368</td>\n",
       "      <td>0.000000</td>\n",
       "      <td>0.532000</td>\n",
       "    </tr>\n",
       "    <tr>\n",
       "      <th>52</th>\n",
       "      <td>0.075000</td>\n",
       "      <td>1.200</td>\n",
       "      <td>E._American_mole</td>\n",
       "      <td>0.034020</td>\n",
       "      <td>0.544320</td>\n",
       "      <td>0.062500</td>\n",
       "      <td>0.000000</td>\n",
       "      <td>0.090000</td>\n",
       "    </tr>\n",
       "    <tr>\n",
       "      <th>53</th>\n",
       "      <td>0.122000</td>\n",
       "      <td>3.000</td>\n",
       "      <td>Mole_rat</td>\n",
       "      <td>0.055339</td>\n",
       "      <td>1.360800</td>\n",
       "      <td>0.040667</td>\n",
       "      <td>0.000000</td>\n",
       "      <td>0.366000</td>\n",
       "    </tr>\n",
       "    <tr>\n",
       "      <th>54</th>\n",
       "      <td>0.048000</td>\n",
       "      <td>0.330</td>\n",
       "      <td>Musk_shrew</td>\n",
       "      <td>0.021773</td>\n",
       "      <td>0.149688</td>\n",
       "      <td>0.145455</td>\n",
       "      <td>0.000000</td>\n",
       "      <td>0.015840</td>\n",
       "    </tr>\n",
       "    <tr>\n",
       "      <th>56</th>\n",
       "      <td>3.000000</td>\n",
       "      <td>25.001</td>\n",
       "      <td>Echidna</td>\n",
       "      <td>1.360800</td>\n",
       "      <td>11.340454</td>\n",
       "      <td>0.119995</td>\n",
       "      <td>0.000000</td>\n",
       "      <td>75.003000</td>\n",
       "    </tr>\n",
       "    <tr>\n",
       "      <th>58</th>\n",
       "      <td>0.900000</td>\n",
       "      <td>2.600</td>\n",
       "      <td>Tenrec</td>\n",
       "      <td>0.408240</td>\n",
       "      <td>1.179360</td>\n",
       "      <td>0.346154</td>\n",
       "      <td>0.000000</td>\n",
       "      <td>2.340000</td>\n",
       "    </tr>\n",
       "    <tr>\n",
       "      <th>59</th>\n",
       "      <td>1.620000</td>\n",
       "      <td>11.400</td>\n",
       "      <td>Phalanger</td>\n",
       "      <td>0.734832</td>\n",
       "      <td>5.171040</td>\n",
       "      <td>0.142105</td>\n",
       "      <td>0.000000</td>\n",
       "      <td>18.468000</td>\n",
       "    </tr>\n",
       "    <tr>\n",
       "      <th>60</th>\n",
       "      <td>0.104000</td>\n",
       "      <td>2.500</td>\n",
       "      <td>Tree_shrew</td>\n",
       "      <td>0.047174</td>\n",
       "      <td>1.134000</td>\n",
       "      <td>0.041600</td>\n",
       "      <td>0.000000</td>\n",
       "      <td>0.260000</td>\n",
       "    </tr>\n",
       "    <tr>\n",
       "      <th>61</th>\n",
       "      <td>4.235000</td>\n",
       "      <td>50.400</td>\n",
       "      <td>Red_fox</td>\n",
       "      <td>1.920996</td>\n",
       "      <td>22.861440</td>\n",
       "      <td>0.084028</td>\n",
       "      <td>0.000000</td>\n",
       "      <td>213.444007</td>\n",
       "    </tr>\n",
       "  </tbody>\n",
       "</table>\n",
       "</div>"
      ],
      "text/plain": [
       "       brainwt   bodywt                     animal    brainkg      bodykg  \\\n",
       "0     3.385000   44.500                 Arctic_fox   1.535436   20.185200   \n",
       "1     0.480000   15.499                 Owl_monkey   0.217728    7.030346   \n",
       "2     1.350000    8.100                     Beaver   0.612360    3.674160   \n",
       "4    36.327999  119.498                  Gray_wolf  16.478380   54.204293   \n",
       "5    27.660000  114.996                       Goat  12.546576   52.162186   \n",
       "6    14.831000   98.199                   Roe_deer   6.727342   44.543066   \n",
       "7     1.040000    5.500                 Guinea_pig   0.471744    2.494800   \n",
       "8     4.190000   57.998                     Vervet   1.900584   26.307893   \n",
       "9     0.425000    6.400                 Chinchilla   0.192780    2.903040   \n",
       "10    0.101000    4.000            Ground_squirrel   0.045814    1.814400   \n",
       "11    0.920000    5.700                     Arctic   0.417312    2.585520   \n",
       "12    1.000000    6.600  African_giant_pouched_rat   0.453600    2.993760   \n",
       "13    0.005000    0.140  Lesser_short-tailed-shrew   0.002268    0.063504   \n",
       "14    0.060000    1.000            Star-nosed_mole   0.027216    0.453600   \n",
       "15    3.500000   10.800      Nine-banded_armadillo   1.587600    4.898880   \n",
       "16    2.000000   12.300                 Tree_hyrax   0.907200    5.579280   \n",
       "17    1.700000    6.300                N._American   0.771120    2.857680   \n",
       "19    0.023000    0.300              Big_brown_bat   0.010433    0.136080   \n",
       "22    0.785000    3.500          European_hedgehog   0.356076    1.587600   \n",
       "23   10.000000  114.996               Patas_monkey   4.536000   52.162186   \n",
       "24    3.300000   25.600                        Cat   1.496880   11.612160   \n",
       "25    0.200000    5.000                     Galago   0.090720    2.268000   \n",
       "26    1.410000   17.500                      Genet   0.639576    7.938000   \n",
       "29   85.003998  324.992                  Gray_seal  38.557812  147.416371   \n",
       "30    0.750000   12.300                Rock_hyrax1   0.340200    5.579280   \n",
       "33    3.500000    3.900              Water_opossum   1.587600    1.769040   \n",
       "34    6.800000  179.003              Rhesus_monkey   3.084480   81.195761   \n",
       "35   34.998001   56.003                   Kangaroo  15.875093   25.402961   \n",
       "36    4.050000   17.000      Yellow-bellied_marmot   1.837080    7.711200   \n",
       "37    0.120000    1.000             Golden_hamster   0.054432    0.453600   \n",
       "38    0.023000    0.400                      Mouse   0.010433    0.181440   \n",
       "39    0.010000    0.250           Little_brown_bat   0.004536    0.113400   \n",
       "40    1.400000   12.500                 Slow_loris   0.635040    5.670000   \n",
       "42    2.500000   12.100                     Rabbit   1.134000    5.488560   \n",
       "43   55.500999  175.002                      Sheep  25.175253   79.380907   \n",
       "44  100.002998  156.993                     Jaguar  45.361359   71.212025   \n",
       "46   10.550000  179.504                     Baboon   4.785480   81.423014   \n",
       "47    0.550000    2.400            Desert_hedgehog   0.249480    1.088640   \n",
       "48   59.997002   80.996            Giant_armadillo  27.214640   36.739786   \n",
       "49    3.600000   21.000                Rock_hyrax2   1.632960    9.525600   \n",
       "50    4.288000   39.201                    Raccoon   1.945037   17.781574   \n",
       "51    0.280000    1.900                        Rat   0.127008    0.861840   \n",
       "52    0.075000    1.200           E._American_mole   0.034020    0.544320   \n",
       "53    0.122000    3.000                   Mole_rat   0.055339    1.360800   \n",
       "54    0.048000    0.330                 Musk_shrew   0.021773    0.149688   \n",
       "56    3.000000   25.001                    Echidna   1.360800   11.340454   \n",
       "58    0.900000    2.600                     Tenrec   0.408240    1.179360   \n",
       "59    1.620000   11.400                  Phalanger   0.734832    5.171040   \n",
       "60    0.104000    2.500                 Tree_shrew   0.047174    1.134000   \n",
       "61    4.235000   50.400                    Red_fox   1.920996   22.861440   \n",
       "\n",
       "      wratio  animals_and       nested  \n",
       "0   0.076067     0.000000   150.632500  \n",
       "1   0.030970     0.000000     7.439520  \n",
       "2   0.166667     0.000000    10.935000  \n",
       "4   0.304005     3.289419     3.289419  \n",
       "5   0.240530     4.157484     4.157484  \n",
       "6   0.151030     0.000000     0.000000  \n",
       "7   0.189091     0.000000     5.720000  \n",
       "8   0.072244     0.000000   243.011623  \n",
       "9   0.066406     0.000000     2.720000  \n",
       "10  0.025250     0.000000     0.404000  \n",
       "11  0.161404     0.000000     5.244000  \n",
       "12  0.151515     0.000000     6.600000  \n",
       "13  0.035714     0.000000     0.000700  \n",
       "14  0.060000     0.000000     0.060000  \n",
       "15  0.324074     0.000000    37.800000  \n",
       "16  0.162602     0.000000    24.600000  \n",
       "17  0.269841     0.000000    10.710000  \n",
       "19  0.076667     0.000000     0.006900  \n",
       "22  0.224286     0.000000     2.747500  \n",
       "23  0.086960     0.000000     0.000000  \n",
       "24  0.128906     0.000000    84.479999  \n",
       "25  0.040000     0.000000     1.000000  \n",
       "26  0.080571     0.000000    24.674999  \n",
       "29  0.261557     3.823255     3.823255  \n",
       "30  0.060976     0.000000     9.225000  \n",
       "33  0.897436     0.000000    13.650000  \n",
       "34  0.037988     0.000000  1217.220434  \n",
       "35  0.624931     1.600177     1.600177  \n",
       "36  0.238235     0.000000    68.850003  \n",
       "37  0.120000     0.000000     0.120000  \n",
       "38  0.057500     0.000000     0.009200  \n",
       "39  0.040000     0.000000     0.002500  \n",
       "40  0.112000     0.000000    17.500000  \n",
       "42  0.206612     0.000000    30.250000  \n",
       "43  0.317145     3.153132     3.153132  \n",
       "44  0.636990     0.000000     1.569883  \n",
       "46  0.058773     0.000000     0.000000  \n",
       "47  0.229167     0.000000     1.320000  \n",
       "48  0.740740     1.350001     1.350001  \n",
       "49  0.171429     0.000000    75.599998  \n",
       "50  0.109385     0.000000   168.093892  \n",
       "51  0.147368     0.000000     0.532000  \n",
       "52  0.062500     0.000000     0.090000  \n",
       "53  0.040667     0.000000     0.366000  \n",
       "54  0.145455     0.000000     0.015840  \n",
       "56  0.119995     0.000000    75.003000  \n",
       "58  0.346154     0.000000     2.340000  \n",
       "59  0.142105     0.000000    18.468000  \n",
       "60  0.041600     0.000000     0.260000  \n",
       "61  0.084028     0.000000   213.444007  "
      ]
     },
     "execution_count": 134,
     "metadata": {},
     "output_type": "execute_result"
    }
   ],
   "source": [
    "animals"
   ]
  },
  {
   "cell_type": "code",
   "execution_count": 135,
   "metadata": {},
   "outputs": [],
   "source": [
    "import sympy"
   ]
  },
  {
   "cell_type": "code",
   "execution_count": 136,
   "metadata": {},
   "outputs": [
    {
     "data": {
      "text/plain": [
       "3.0"
      ]
     },
     "execution_count": 136,
     "metadata": {},
     "output_type": "execute_result"
    }
   ],
   "source": [
    "math.sqrt(9)"
   ]
  },
  {
   "cell_type": "code",
   "execution_count": 137,
   "metadata": {},
   "outputs": [
    {
     "data": {
      "text/plain": [
       "2.8284271247461903"
      ]
     },
     "execution_count": 137,
     "metadata": {},
     "output_type": "execute_result"
    }
   ],
   "source": [
    "math.sqrt(8)"
   ]
  },
  {
   "cell_type": "code",
   "execution_count": 138,
   "metadata": {},
   "outputs": [
    {
     "data": {
      "text/latex": [
       "$\\displaystyle 3$"
      ],
      "text/plain": [
       "3"
      ]
     },
     "execution_count": 138,
     "metadata": {},
     "output_type": "execute_result"
    }
   ],
   "source": [
    "sympy.sqrt(9)"
   ]
  },
  {
   "cell_type": "code",
   "execution_count": 141,
   "metadata": {
    "scrolled": true
   },
   "outputs": [],
   "source": [
    "raiz = sympy.sqrt(8)"
   ]
  },
  {
   "cell_type": "code",
   "execution_count": 142,
   "metadata": {},
   "outputs": [
    {
     "data": {
      "text/latex": [
       "$\\displaystyle 8$"
      ],
      "text/plain": [
       "8"
      ]
     },
     "execution_count": 142,
     "metadata": {},
     "output_type": "execute_result"
    }
   ],
   "source": [
    "raiz**2"
   ]
  },
  {
   "cell_type": "code",
   "execution_count": 144,
   "metadata": {},
   "outputs": [],
   "source": [
    "from sympy import symbols"
   ]
  },
  {
   "cell_type": "code",
   "execution_count": 145,
   "metadata": {},
   "outputs": [],
   "source": [
    "x, y = symbols('x y')"
   ]
  },
  {
   "cell_type": "code",
   "execution_count": 154,
   "metadata": {},
   "outputs": [
    {
     "data": {
      "text/latex": [
       "$\\displaystyle x$"
      ],
      "text/plain": [
       "x"
      ]
     },
     "execution_count": 154,
     "metadata": {},
     "output_type": "execute_result"
    }
   ],
   "source": [
    "ec = 2*x/2\n",
    "ec"
   ]
  },
  {
   "cell_type": "code",
   "execution_count": 167,
   "metadata": {},
   "outputs": [],
   "source": [
    "expr = x + 2*y"
   ]
  },
  {
   "cell_type": "code",
   "execution_count": 173,
   "metadata": {},
   "outputs": [
    {
     "data": {
      "text/latex": [
       "$\\displaystyle 12$"
      ],
      "text/plain": [
       "12"
      ]
     },
     "execution_count": 173,
     "metadata": {},
     "output_type": "execute_result"
    }
   ],
   "source": [
    "expr.subs([(x,2),(y,5)])"
   ]
  },
  {
   "cell_type": "code",
   "execution_count": 166,
   "metadata": {},
   "outputs": [
    {
     "data": {
      "text/latex": [
       "$\\displaystyle 2 y + 4$"
      ],
      "text/plain": [
       "2*y + 4"
      ]
     },
     "execution_count": 166,
     "metadata": {},
     "output_type": "execute_result"
    }
   ],
   "source": [
    "expr_2 = cos(x)\n",
    "\n",
    "expr_2.subs(x, 4)"
   ]
  },
  {
   "cell_type": "code",
   "execution_count": null,
   "metadata": {},
   "outputs": [],
   "source": [
    "from sympy import *"
   ]
  },
  {
   "cell_type": "code",
   "execution_count": 157,
   "metadata": {},
   "outputs": [
    {
     "data": {
      "text/latex": [
       "$\\displaystyle e^{x} \\sin{\\left(x \\right)} + e^{x} \\cos{\\left(x \\right)}$"
      ],
      "text/plain": [
       "exp(x)*sin(x) + exp(x)*cos(x)"
      ]
     },
     "execution_count": 157,
     "metadata": {},
     "output_type": "execute_result"
    }
   ],
   "source": [
    "diff(sin(x)*exp(x),x) #derivadas"
   ]
  },
  {
   "cell_type": "code",
   "execution_count": 158,
   "metadata": {},
   "outputs": [
    {
     "data": {
      "text/latex": [
       "$\\displaystyle e^{x} \\sin{\\left(x \\right)}$"
      ],
      "text/plain": [
       "exp(x)*sin(x)"
      ]
     },
     "execution_count": 158,
     "metadata": {},
     "output_type": "execute_result"
    }
   ],
   "source": [
    "integrate(exp(x)*sin(x) + exp(x)*cos(x), x)"
   ]
  },
  {
   "cell_type": "raw",
   "metadata": {},
   "source": [
    "\\int\\limits_{0}^{\\pi} \\cos^{2}{\\left(x \\right)}\\,dx"
   ]
  },
  {
   "cell_type": "code",
   "execution_count": null,
   "metadata": {},
   "outputs": [],
   "source": [
    "x+2y=3\n",
    "3x+4y=17"
   ]
  },
  {
   "cell_type": "code",
   "execution_count": 178,
   "metadata": {},
   "outputs": [],
   "source": [
    "A = np.array([[1,2],[3,4]])\n",
    "b = np.array([3,17])"
   ]
  },
  {
   "cell_type": "code",
   "execution_count": 179,
   "metadata": {},
   "outputs": [],
   "source": [
    "import scipy.linalg as la"
   ]
  },
  {
   "cell_type": "code",
   "execution_count": 180,
   "metadata": {},
   "outputs": [],
   "source": [
    "x = la.solve(A,b)"
   ]
  },
  {
   "cell_type": "code",
   "execution_count": 181,
   "metadata": {},
   "outputs": [
    {
     "data": {
      "text/plain": [
       "True"
      ]
     },
     "execution_count": 181,
     "metadata": {},
     "output_type": "execute_result"
    }
   ],
   "source": [
    "np.allclose(A @ x, b)"
   ]
  },
  {
   "cell_type": "code",
   "execution_count": 182,
   "metadata": {},
   "outputs": [
    {
     "data": {
      "text/plain": [
       "array([[1. , 0.6],\n",
       "       [0.6, 4. ]])"
      ]
     },
     "execution_count": 182,
     "metadata": {},
     "output_type": "execute_result"
    }
   ],
   "source": [
    "\n",
    "A = np.array([[1,0.6],[0.6,4]])\n",
    "A\n"
   ]
  },
  {
   "cell_type": "code",
   "execution_count": 183,
   "metadata": {},
   "outputs": [],
   "source": [
    "p,l,u = la.lu(A)"
   ]
  },
  {
   "cell_type": "code",
   "execution_count": 185,
   "metadata": {
    "scrolled": true
   },
   "outputs": [
    {
     "data": {
      "text/plain": [
       "array([[1. , 0. ],\n",
       "       [0.6, 1. ]])"
      ]
     },
     "execution_count": 185,
     "metadata": {},
     "output_type": "execute_result"
    }
   ],
   "source": [
    "l"
   ]
  },
  {
   "cell_type": "code",
   "execution_count": 186,
   "metadata": {},
   "outputs": [
    {
     "data": {
      "text/plain": [
       "array([[1.  , 0.6 ],\n",
       "       [0.  , 3.64]])"
      ]
     },
     "execution_count": 186,
     "metadata": {},
     "output_type": "execute_result"
    }
   ],
   "source": [
    "u"
   ]
  },
  {
   "cell_type": "code",
   "execution_count": 187,
   "metadata": {},
   "outputs": [
    {
     "data": {
      "text/plain": [
       "array([[1.       , 0.6      ],\n",
       "       [0.       , 1.9078784]])"
      ]
     },
     "execution_count": 187,
     "metadata": {},
     "output_type": "execute_result"
    }
   ],
   "source": [
    "\n",
    "U = la.cholesky(A)\n",
    "U\n"
   ]
  },
  {
   "cell_type": "code",
   "execution_count": null,
   "metadata": {},
   "outputs": [],
   "source": [
    "la.svd"
   ]
  },
  {
   "cell_type": "code",
   "execution_count": 188,
   "metadata": {},
   "outputs": [],
   "source": [
    "from scipy import integrate"
   ]
  },
  {
   "cell_type": "code",
   "execution_count": 189,
   "metadata": {},
   "outputs": [],
   "source": [
    "f = lambda x: 12*x"
   ]
  },
  {
   "cell_type": "code",
   "execution_count": 190,
   "metadata": {},
   "outputs": [],
   "source": [
    "res = integrate.quad(f, 0,1)"
   ]
  },
  {
   "cell_type": "code",
   "execution_count": 191,
   "metadata": {},
   "outputs": [
    {
     "data": {
      "text/plain": [
       "(6.0, 6.661338147750939e-14)"
      ]
     },
     "execution_count": 191,
     "metadata": {},
     "output_type": "execute_result"
    }
   ],
   "source": [
    "res"
   ]
  },
  {
   "cell_type": "code",
   "execution_count": 192,
   "metadata": {},
   "outputs": [
    {
     "data": {
      "text/plain": [
       "(3.0, 6.661338147750939e-14)"
      ]
     },
     "execution_count": 192,
     "metadata": {},
     "output_type": "execute_result"
    }
   ],
   "source": [
    "f=lambda x, y : 12*x*1  # y=1\n",
    "\n",
    "res=integrate.dblquad(f, 0, 0.5, lambda x: 0, lambda x: 1)\n",
    "\n",
    "res"
   ]
  },
  {
   "cell_type": "code",
   "execution_count": 193,
   "metadata": {},
   "outputs": [],
   "source": [
    "from scipy.optimize import minimize"
   ]
  },
  {
   "cell_type": "code",
   "execution_count": 194,
   "metadata": {},
   "outputs": [],
   "source": [
    "def rosen(x):\n",
    "    return sum(100.0*(x[1:]-x[:-1]))**2."
   ]
  },
  {
   "cell_type": "code",
   "execution_count": 197,
   "metadata": {},
   "outputs": [
    {
     "name": "stdout",
     "output_type": "stream",
     "text": [
      "Optimization terminated successfully.\n",
      "         Current function value: 0.000000\n",
      "         Iterations: 132\n",
      "         Function evaluations: 261\n"
     ]
    }
   ],
   "source": [
    "x0 = np.array([1.3,0.7,0.6,1.2,0.6])\n",
    "\n",
    "res = minimize(rosen,x0, method = 'nelder-mead', options = {'xtol':1e-8, 'disp': True})"
   ]
  },
  {
   "cell_type": "code",
   "execution_count": 199,
   "metadata": {},
   "outputs": [
    {
     "name": "stdout",
     "output_type": "stream",
     "text": [
      "[0.         0.45454545 0.90909091 1.36363636 1.81818182 2.27272727\n",
      " 2.72727273 3.18181818 3.63636364 4.09090909 4.54545455 5.        ] [-0.65364362 -0.60001388 -0.42313893 -0.09242219  0.37976236  0.84649879\n",
      "  0.9808235   0.46118122 -0.52586509 -0.98820612 -0.10830906  0.97296947]\n"
     ]
    }
   ],
   "source": [
    "x = np.linspace(0,5,12)\n",
    "y = np.cos(x**2/3+4)\n",
    "print(x,y)"
   ]
  },
  {
   "cell_type": "code",
   "execution_count": 206,
   "metadata": {},
   "outputs": [
    {
     "data": {
      "text/plain": [
       "[<matplotlib.lines.Line2D at 0x1f066aca708>]"
      ]
     },
     "execution_count": 206,
     "metadata": {},
     "output_type": "execute_result"
    },
    {
     "data": {
      "image/png": "[encoded data removed]",
      "text/plain": [
       "<Figure size 432x288 with 1 Axes>"
      ]
     },
     "metadata": {
      "needs_background": "light"
     },
     "output_type": "display_data"
    }
   ],
   "source": [
    "plt.plot(x,y,'o')"
   ]
  },
  {
   "cell_type": "code",
   "execution_count": 200,
   "metadata": {},
   "outputs": [],
   "source": [
    "import numpy as np\n",
    "from scipy import signal\n",
    "import matplotlib.pyplot as plt"
   ]
  },
  {
   "cell_type": "code",
   "execution_count": 207,
   "metadata": {},
   "outputs": [],
   "source": [
    "from scipy.interpolate import interp1d"
   ]
  },
  {
   "cell_type": "code",
   "execution_count": 210,
   "metadata": {},
   "outputs": [
    {
     "data": {
      "text/plain": [
       "[<matplotlib.lines.Line2D at 0x1f066b9a548>]"
      ]
     },
     "execution_count": 210,
     "metadata": {},
     "output_type": "execute_result"
    },
    {
     "data": {
      "image/png": "[encoded data removed]",
      "text/plain": [
       "<Figure size 432x288 with 1 Axes>"
      ]
     },
     "metadata": {
      "needs_background": "light"
     },
     "output_type": "display_data"
    }
   ],
   "source": [
    "f = interp1d(x,y)\n",
    "\n",
    "xnew = np.linspace(0,5,50,endpoint=True)\n",
    "ynew = f(xnew)\n",
    "\n",
    "plt.plot(xnew,ynew, 'go')\n",
    "plt.plot(x,y,'b*')"
   ]
  },
  {
   "cell_type": "code",
   "execution_count": 211,
   "metadata": {},
   "outputs": [
    {
     "data": {
      "text/plain": [
       "[<matplotlib.lines.Line2D at 0x1f066bcb288>]"
      ]
     },
     "execution_count": 211,
     "metadata": {},
     "output_type": "execute_result"
    },
    {
     "data": {
      "image/png": "[encoded data removed]",
      "text/plain": [
       "<Figure size 432x288 with 1 Axes>"
      ]
     },
     "metadata": {
      "needs_background": "light"
     },
     "output_type": "display_data"
    }
   ],
   "source": [
    "f = interp1d(x,y)\n",
    "\n",
    "xnew = np.linspace(0,5,50,endpoint=True)\n",
    "ynew = f(xnew)\n",
    "\n",
    "plt.plot(xnew,ynew, 'go')\n",
    "plt.plot(x,y,'b-')"
   ]
  },
  {
   "cell_type": "code",
   "execution_count": 212,
   "metadata": {},
   "outputs": [],
   "source": [
    "s1=signal.firwin(40, 0.5)  # señal\n",
    "s2=signal.firwin(41, [0.3, 0.8])\n",
    "f1, w1=signal.freqz(s1)  # separar frecuencia y fase\n",
    "f2, w2=signal.freqz(s2)"
   ]
  },
  {
   "cell_type": "code",
   "execution_count": 213,
   "metadata": {},
   "outputs": [
    {
     "data": {
      "image/png": "[encoded data removed]",
      "text/plain": [
       "<Figure size 432x288 with 1 Axes>"
      ]
     },
     "metadata": {
      "needs_background": "light"
     },
     "output_type": "display_data"
    }
   ],
   "source": [
    "plt.title('Respuedsta en frecuencia de filtros')\n",
    "plt.plot(f1, 20*np.log10(np.abs(w1)), 'b')  # x=frecuencia, y=amplitud en db\n",
    "plt.plot(f2, 20*np.log10(np.abs(w2)), 'r')\n",
    "plt.ylabel('Amplitud (db)')\n",
    "plt.xlabel('Frecuancia Hz')\n",
    "plt.grid()\n",
    "plt.show();"
   ]
  },
  {
   "cell_type": "code",
   "execution_count": null,
   "metadata": {},
   "outputs": [],
   "source": []
  }
 ],
 "metadata": {
  "kernelspec": {
   "display_name": "Python 3",
   "language": "python",
   "name": "python3"
  },
  "language_info": {
   "codemirror_mode": {
    "name": "ipython",
    "version": 3
   },
   "file_extension": ".py",
   "mimetype": "text/x-python",
   "name": "python",
   "nbconvert_exporter": "python",
   "pygments_lexer": "ipython3",
   "version": "3.7.4"
  }
 },
 "nbformat": 4,
 "nbformat_minor": 4
}
