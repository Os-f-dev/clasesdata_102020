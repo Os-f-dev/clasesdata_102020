{
 "cells": [
  {
   "cell_type": "markdown",
   "metadata": {},
   "source": [
    "# Unsupervised Learning\n",
    "\n",
    "**Ejemplos:** (Cuando no hay etiquetas)\n",
    "\n",
    "+ Segmentación de clientes\n",
    "+ Segmentación de productos\n",
    "+ One-person segment (lo que funciona bien en un grupo no funciona necesariamente en otro)\n",
    "+ Agrupación según características"
   ]
  },
  {
   "cell_type": "markdown",
   "metadata": {},
   "source": [
    "**Escenario**\n",
    "\n",
    "Cada elemento (usuario, cliente, producto..) puede ser considerado un vector. Dado un paquete de vectores se distribuyen por clusters. Vectores similares estarán en el mismo cluster, y clusters similares estarán más 'cerca' entre si que los que son más diferentes.\n",
    "\n",
    "Todo éste proceder asume la existencia de una métrica de distancia, así se puede medir dicha distancia entre vectores dentro del espacio vectorial."
   ]
  },
  {
   "cell_type": "markdown",
   "metadata": {},
   "source": [
    "**Pasos para aplicar USL:**\n",
    "\n",
    "+ **1**: Representación vectorial\n",
    "+ **2**: Métrica, función de distancia\n",
    "+ **3**: Medida de similitud"
   ]
  },
  {
   "cell_type": "markdown",
   "metadata": {},
   "source": [
    "Cuando se crea un cluster, el vector en el centro del cluster (centroide) se considera el prototipo o el más representativo del cluster.\n",
    "\n",
    "\n",
    "**Problemas tratables por USL:**\n",
    "\n",
    "+ Segmentación de mercado\n",
    "+ Detección de fraude en seguros o banca\n",
    "+ Respuesta a tratamientos médicos\n",
    "+ Detección de outliers"
   ]
  },
  {
   "cell_type": "markdown",
   "metadata": {},
   "source": [
    "**Ejemplos de modelos:**\n",
    "\n",
    "+ K-Means\n",
    "+ Hierarchical Clustering\n",
    "+ DBSCAN\n",
    "+ HDBSCAN\n",
    "+ GMM"
   ]
  },
  {
   "cell_type": "markdown",
   "metadata": {},
   "source": [
    "# K-Means\n",
    "\n",
    "\n",
    "El más viejo y el más popular. La idea es seleccionar previamente cuantos clusters se desean ($k$). Se seleccionan los puntos centrales del cluster (centroides) de manera aleatoria. Para cada nuevo registro se reasigna un cluster y se recalcula el centroide (media). Se itera el proceso hasta que no haya cambio en la clusterización.\n",
    "\n",
    "![](data/kmeans.png)\n",
    "\n",
    "![](data/kmeans2.png)"
   ]
  },
  {
   "cell_type": "code",
   "execution_count": 3,
   "metadata": {},
   "outputs": [],
   "source": [
    "import matplotlib.pyplot as plt\n",
    "#from kneed import KneeLocator\n",
    "from sklearn.datasets import make_blobs\n",
    "from sklearn.cluster import KMeans\n",
    "from sklearn.metrics import silhouette_score\n",
    "from sklearn.preprocessing import StandardScaler"
   ]
  },
  {
   "cell_type": "code",
   "execution_count": 8,
   "metadata": {},
   "outputs": [],
   "source": [
    "features, true_labels = make_blobs(n_samples = 300, centers = 3, cluster_std = 2.75, random_state = 42)"
   ]
  },
  {
   "cell_type": "code",
   "execution_count": 9,
   "metadata": {},
   "outputs": [
    {
     "data": {
      "text/plain": [
       "array([[-8.14286966, -9.21718161],\n",
       "       [-9.24576395, -7.93763734],\n",
       "       [-0.24719911,  5.65696609]])"
      ]
     },
     "execution_count": 9,
     "metadata": {},
     "output_type": "execute_result"
    }
   ],
   "source": [
    "features[:3]"
   ]
  },
  {
   "cell_type": "code",
   "execution_count": 10,
   "metadata": {},
   "outputs": [
    {
     "data": {
      "text/plain": [
       "array([2, 2, 0])"
      ]
     },
     "execution_count": 10,
     "metadata": {},
     "output_type": "execute_result"
    }
   ],
   "source": [
    "true_labels[:3]"
   ]
  },
  {
   "cell_type": "code",
   "execution_count": 11,
   "metadata": {},
   "outputs": [
    {
     "data": {
      "text/plain": [
       "{0, 1, 2}"
      ]
     },
     "execution_count": 11,
     "metadata": {},
     "output_type": "execute_result"
    }
   ],
   "source": [
    "set(true_labels)"
   ]
  },
  {
   "cell_type": "code",
   "execution_count": 12,
   "metadata": {},
   "outputs": [],
   "source": [
    "scaler = StandardScaler()\n",
    "scaled_f = scaler.fit_transform(features)"
   ]
  },
  {
   "cell_type": "code",
   "execution_count": 13,
   "metadata": {},
   "outputs": [
    {
     "data": {
      "text/plain": [
       "array([[-1.16966133, -1.47111779],\n",
       "       [-1.36689329, -1.29273268],\n",
       "       [ 0.24233125,  0.60253182],\n",
       "       [ 1.00924092,  0.5102181 ],\n",
       "       [-1.94607506, -1.53178549]])"
      ]
     },
     "execution_count": 13,
     "metadata": {},
     "output_type": "execute_result"
    }
   ],
   "source": [
    "scaled_f[:5]"
   ]
  },
  {
   "cell_type": "code",
   "execution_count": 14,
   "metadata": {},
   "outputs": [],
   "source": [
    "kmeans = KMeans(init = 'random',\n",
    "               n_clusters = 3,\n",
    "               n_init = 10,\n",
    "               max_iter = 300,\n",
    "               random_state=42)"
   ]
  },
  {
   "cell_type": "code",
   "execution_count": 15,
   "metadata": {},
   "outputs": [
    {
     "data": {
      "text/plain": [
       "KMeans(algorithm='auto', copy_x=True, init='random', max_iter=300, n_clusters=3,\n",
       "       n_init=10, n_jobs=None, precompute_distances='auto', random_state=42,\n",
       "       tol=0.0001, verbose=0)"
      ]
     },
     "execution_count": 15,
     "metadata": {},
     "output_type": "execute_result"
    }
   ],
   "source": [
    "kmeans.fit(scaled_f)"
   ]
  },
  {
   "cell_type": "code",
   "execution_count": 16,
   "metadata": {},
   "outputs": [
    {
     "data": {
      "text/plain": [
       "105.43712315800344"
      ]
     },
     "execution_count": 16,
     "metadata": {},
     "output_type": "execute_result"
    }
   ],
   "source": [
    "kmeans.inertia_"
   ]
  },
  {
   "cell_type": "code",
   "execution_count": 17,
   "metadata": {},
   "outputs": [
    {
     "data": {
      "text/plain": [
       "array([[-0.95632267, -1.18100061],\n",
       "       [-0.21553783,  1.07066401],\n",
       "       [ 1.20017474,  0.09073808]])"
      ]
     },
     "execution_count": 17,
     "metadata": {},
     "output_type": "execute_result"
    }
   ],
   "source": [
    "kmeans.cluster_centers_"
   ]
  },
  {
   "cell_type": "code",
   "execution_count": 18,
   "metadata": {},
   "outputs": [
    {
     "data": {
      "text/plain": [
       "array([0, 0, 1, 2, 0, 2, 1, 2, 1, 1, 1, 2, 1, 1, 0, 1, 0, 1, 1, 1, 1, 1,\n",
       "       2, 0, 1, 0, 0, 2, 2, 1, 1, 1, 0, 1, 0, 1, 0, 2, 0, 2, 2, 1, 0, 2,\n",
       "       1, 1, 0, 2, 0, 2, 2, 0, 0, 1, 0, 2, 0, 1, 2, 1, 0, 2, 2, 2, 0, 2,\n",
       "       2, 0, 0, 1, 2, 0, 0, 1, 1, 0, 0, 2, 1, 2, 1, 1, 0, 1, 2, 0, 0, 1,\n",
       "       2, 1, 0, 1, 0, 1, 1, 0, 0, 1, 0, 0, 2, 1, 2, 1, 1, 1, 1, 1, 2, 0,\n",
       "       2, 1, 1, 1, 1, 2, 0, 1, 0, 2, 2, 2, 2, 0, 0, 0, 0, 1, 0, 0, 1, 1,\n",
       "       1, 1, 1, 2, 2, 0, 1, 0, 1, 1, 0, 1, 2, 2, 2, 1, 2, 1, 1, 0, 2, 0,\n",
       "       1, 2, 2, 0, 0, 1, 1, 0, 0, 0, 1, 0, 2, 1, 1, 1, 1, 1, 2, 1, 2, 2,\n",
       "       2, 1, 2, 2, 0, 1, 0, 2, 2, 0, 2, 1, 0, 2, 0, 0, 2, 0, 2, 1, 2, 2,\n",
       "       1, 0, 1, 1, 2, 2, 1, 2, 0, 0, 2, 1, 1, 0, 2, 2, 0, 0, 0, 0, 1, 0,\n",
       "       0, 2, 0, 0, 1, 2, 0, 0, 2, 1, 1, 0, 1, 0, 2, 2, 0, 2, 0, 0, 0, 2,\n",
       "       2, 1, 0, 2, 2, 2, 0, 2, 0, 2, 0, 2, 2, 0, 2, 1, 0, 1, 1, 1, 0, 1,\n",
       "       2, 2, 0, 2, 2, 1, 1, 2, 2, 2, 0, 0, 0, 1, 1, 1, 2, 2, 2, 2, 0, 2,\n",
       "       0, 2, 2, 0, 1, 2, 2, 1, 0, 1, 2, 1, 0, 0])"
      ]
     },
     "execution_count": 18,
     "metadata": {},
     "output_type": "execute_result"
    }
   ],
   "source": [
    "kmeans.labels_"
   ]
  },
  {
   "cell_type": "code",
   "execution_count": 19,
   "metadata": {},
   "outputs": [
    {
     "data": {
      "text/plain": [
       "array([0])"
      ]
     },
     "execution_count": 19,
     "metadata": {},
     "output_type": "execute_result"
    }
   ],
   "source": [
    "kmeans.predict([[-1.36689329, -1.29273268]])"
   ]
  },
  {
   "cell_type": "code",
   "execution_count": 20,
   "metadata": {},
   "outputs": [],
   "source": [
    "import matplotlib.pyplot as plt"
   ]
  },
  {
   "cell_type": "code",
   "execution_count": 28,
   "metadata": {},
   "outputs": [
    {
     "data": {
      "text/plain": [
       "<matplotlib.collections.PathCollection at 0x28b71bb5888>"
      ]
     },
     "execution_count": 28,
     "metadata": {},
     "output_type": "execute_result"
    },
    {
     "data": {
      "image/png": "[encoded data removed]",
      "text/plain": [
       "<Figure size 432x288 with 1 Axes>"
      ]
     },
     "metadata": {
      "needs_background": "light"
     },
     "output_type": "display_data"
    }
   ],
   "source": [
    "plt.scatter(scaled_f[:,0],scaled_f[:,1])"
   ]
  },
  {
   "cell_type": "code",
   "execution_count": 31,
   "metadata": {},
   "outputs": [],
   "source": [
    "import numpy as np"
   ]
  },
  {
   "cell_type": "code",
   "execution_count": 34,
   "metadata": {},
   "outputs": [],
   "source": [
    "import seaborn as sns"
   ]
  },
  {
   "cell_type": "code",
   "execution_count": 35,
   "metadata": {},
   "outputs": [
    {
     "name": "stderr",
     "output_type": "stream",
     "text": [
      "C:\\Users\\GralG\\AppData\\Roaming\\Python\\Python37\\site-packages\\seaborn\\_decorators.py:43: FutureWarning: Pass the following variables as keyword args: x, y. From version 0.12, the only valid positional argument will be `data`, and passing other arguments without an explicit keyword will result in an error or misinterpretation.\n",
      "  FutureWarning\n"
     ]
    },
    {
     "data": {
      "image/png": "[encoded data removed]",
      "text/plain": [
       "<Figure size 864x576 with 1 Axes>"
      ]
     },
     "metadata": {
      "needs_background": "light"
     },
     "output_type": "display_data"
    }
   ],
   "source": [
    "plt.figure(figsize = (12,8))\n",
    "sns.scatterplot(scaled_f[:,0],scaled_f[:,1], hue = kmeans.labels_, palette = sns.color_palette('hls', 3))\n",
    "plt.title('KMeans con 3 clusters')\n",
    "plt.show()\n"
   ]
  },
  {
   "cell_type": "markdown",
   "metadata": {},
   "source": [
    "# Hierarchical Clustering (Dendrograma)"
   ]
  },
  {
   "cell_type": "markdown",
   "metadata": {},
   "source": [
    "La mejora sobre K-Means es fundamentalmente que no hay que asumir el número de clusters.\n",
    "\n",
    "Hay dos maneras de atacar éste problema:\n",
    "\n",
    "+ Por aglomeración\n",
    "+ Por división"
   ]
  },
  {
   "cell_type": "markdown",
   "metadata": {},
   "source": [
    "**Aglomeración:**\n",
    "\n",
    "Se empieza asumiendo que cada registro es un cluster individual y se van combinando aquellos similares hasta conseguir un solo cluster, la población entera. Después se decide el número óptimo de clusters según la distancia.\n",
    "\n"
   ]
  },
  {
   "cell_type": "markdown",
   "metadata": {},
   "source": [
    "**División:**\n",
    "\n",
    "El proceso inverso. Se comienza con un solo cluster y se va dividiendo hasta tener el número óptimo de clusters (según distancia).\n",
    "\n",
    "\n",
    "![](data/hca.png)"
   ]
  },
  {
   "cell_type": "markdown",
   "metadata": {},
   "source": [
    "##### Medidas de distancia\n",
    "\n",
    "Aquí también entra la distancia, para medir entre registros/clusters. Normalmente, se usa la distancia euclídea. El uso de la métrica de distancia depende del problema en cuestión, por ejemplo, en una clusterización de lugares en la ciudad, podría ser mejor usar $cityblock$, o incluso tomar el tiempo que hay entre dos lugares (tiempo como métrica de distancia)."
   ]
  },
  {
   "cell_type": "markdown",
   "metadata": {},
   "source": [
    "##### Criterios de conexión (linkage criteria)\n",
    "\n",
    "Después de seleccionar la métrica de distancia, hay que decidir de qué manera se conectan los registros al cluster. Puede ser:\n",
    "\n",
    "+ Single-linkage: conexión entre los puntos más parecidos del cluster.\n",
    "+ Complete-linkage: conexión entre los puntos menos parecidos del cluster.\n",
    "+ Average-linkage: conexión entre los centroides del cluster.\n",
    "\n",
    "\n",
    "![](data/link.png)"
   ]
  },
  {
   "cell_type": "markdown",
   "metadata": {},
   "source": [
    "Al igual que la métrica de distancia, la elección del criterio de conexión ha de basarse en el propio problema. Por ejemplo, para clasificar varias tecnologías diferentes tendría sentido basarse en cuales son más parecidos. Si no existen justificaciones claras de cual usar, se suele usar el criterio de Ward, que viene a ser mínimos cuadrados de las distancias, respecto de la media del cluster. Esto concuerda con el concepto de distancia entre grupos en estadística (ANOVA, MANOVA....)\n",
    "\n",
    "https://es.wikipedia.org/wiki/M%C3%A9todo_de_Ward"
   ]
  },
  {
   "cell_type": "code",
   "execution_count": 44,
   "metadata": {},
   "outputs": [],
   "source": [
    "#Datos sinteticos\n",
    "\n",
    "np.set_printoptions(precision = 5, suppress = True)\n",
    "\n",
    "np.random.seed(2453)\n",
    "\n",
    "a = np.random.multivariate_normal([10,0],[[3,1], [1,4]], size = [100,])\n",
    "b = np.random.multivariate_normal([0,20],[[3,1], [1,4]], size = [50,])"
   ]
  },
  {
   "cell_type": "code",
   "execution_count": 39,
   "metadata": {
    "scrolled": true
   },
   "outputs": [
    {
     "data": {
      "text/plain": [
       "array([[-0.70301, 21.27917],\n",
       "       [ 3.0048 , 22.20668],\n",
       "       [ 3.03531, 17.47778],\n",
       "       [-3.53217, 21.65185],\n",
       "       [ 0.21286, 18.61586],\n",
       "       [ 1.99027, 20.77436],\n",
       "       [-0.70238, 19.41284],\n",
       "       [-2.23129, 17.4253 ],\n",
       "       [ 0.55333, 18.45491],\n",
       "       [-1.26678, 20.5818 ],\n",
       "       [ 1.22512, 20.6128 ],\n",
       "       [-2.95219, 21.92504],\n",
       "       [ 1.39689, 21.18277],\n",
       "       [ 1.50512, 19.75955],\n",
       "       [ 2.86697, 19.52229],\n",
       "       [-0.14282, 22.3043 ],\n",
       "       [ 1.34539, 21.43974],\n",
       "       [ 0.13788, 22.87997],\n",
       "       [ 1.224  , 20.61399],\n",
       "       [-2.39162, 15.63534],\n",
       "       [-0.29405, 21.22844],\n",
       "       [-0.2063 , 23.10706],\n",
       "       [-1.53227, 17.66859],\n",
       "       [-0.68856, 20.69246],\n",
       "       [-2.54586, 18.61938],\n",
       "       [ 2.49505, 22.32622],\n",
       "       [ 0.1621 , 17.91814],\n",
       "       [ 0.04025, 17.12017],\n",
       "       [ 4.6714 , 21.66391],\n",
       "       [-0.35779, 17.63646],\n",
       "       [-3.50578, 16.78981],\n",
       "       [ 1.65652, 22.21206],\n",
       "       [ 1.04404, 19.16585],\n",
       "       [-0.44878, 20.54243],\n",
       "       [ 1.42896, 19.60514],\n",
       "       [ 2.51634, 19.37152],\n",
       "       [ 1.80563, 23.50864],\n",
       "       [ 0.18202, 20.35296],\n",
       "       [ 0.68229, 21.15568],\n",
       "       [ 0.70626, 18.90752],\n",
       "       [ 0.0012 , 19.52563],\n",
       "       [ 1.26564, 21.49487],\n",
       "       [-3.30699, 19.66385],\n",
       "       [-1.97093, 21.08432],\n",
       "       [-0.88268, 18.83614],\n",
       "       [ 2.96717, 17.6374 ],\n",
       "       [-0.74002, 19.61028],\n",
       "       [-1.33149, 19.96838],\n",
       "       [ 1.10296, 19.27841],\n",
       "       [ 3.75675, 21.36298]])"
      ]
     },
     "execution_count": 39,
     "metadata": {},
     "output_type": "execute_result"
    }
   ],
   "source": [
    "b"
   ]
  },
  {
   "cell_type": "code",
   "execution_count": 40,
   "metadata": {},
   "outputs": [
    {
     "data": {
      "text/plain": [
       "array([[[12.04526,  0.92615]],\n",
       "\n",
       "       [[10.40834,  0.411  ]],\n",
       "\n",
       "       [[13.21427,  1.44825]],\n",
       "\n",
       "       [[ 7.55934, -0.01579]],\n",
       "\n",
       "       [[11.6267 ,  0.54769]],\n",
       "\n",
       "       [[ 6.58708,  1.0032 ]],\n",
       "\n",
       "       [[ 7.16615,  0.27817]],\n",
       "\n",
       "       [[ 9.51054,  1.20076]],\n",
       "\n",
       "       [[10.543  , -2.12837]],\n",
       "\n",
       "       [[10.11321, -1.48664]],\n",
       "\n",
       "       [[10.14383,  1.57072]],\n",
       "\n",
       "       [[ 9.89126, -1.94384]],\n",
       "\n",
       "       [[15.36319,  0.74112]],\n",
       "\n",
       "       [[ 9.99909, -1.94201]],\n",
       "\n",
       "       [[11.43793,  3.16749]],\n",
       "\n",
       "       [[ 9.06005,  0.49417]],\n",
       "\n",
       "       [[ 7.66521, -2.28621]],\n",
       "\n",
       "       [[10.69566,  0.74286]],\n",
       "\n",
       "       [[ 8.36838,  0.17897]],\n",
       "\n",
       "       [[ 8.89173,  0.14492]],\n",
       "\n",
       "       [[11.04686,  3.36918]],\n",
       "\n",
       "       [[10.00128,  0.29929]],\n",
       "\n",
       "       [[ 9.19337,  1.44786]],\n",
       "\n",
       "       [[ 7.25368, -0.83982]],\n",
       "\n",
       "       [[ 8.14345, -1.37055]],\n",
       "\n",
       "       [[11.57464,  0.70585]],\n",
       "\n",
       "       [[10.59015, -0.71503]],\n",
       "\n",
       "       [[11.23048, -1.28942]],\n",
       "\n",
       "       [[10.355  , -5.23891]],\n",
       "\n",
       "       [[ 7.8405 , -3.75877]],\n",
       "\n",
       "       [[15.27844,  4.55998]],\n",
       "\n",
       "       [[10.13177,  0.05987]],\n",
       "\n",
       "       [[ 9.38653,  0.52983]],\n",
       "\n",
       "       [[ 8.95751, -0.33209]],\n",
       "\n",
       "       [[11.53969,  0.31337]],\n",
       "\n",
       "       [[12.28639,  1.38031]],\n",
       "\n",
       "       [[10.79875, -0.96646]],\n",
       "\n",
       "       [[ 9.15911, -1.89934]],\n",
       "\n",
       "       [[12.36826,  0.44402]],\n",
       "\n",
       "       [[ 8.04038, -1.09074]],\n",
       "\n",
       "       [[ 9.93977, -0.21173]],\n",
       "\n",
       "       [[10.72508, -0.89239]],\n",
       "\n",
       "       [[ 9.40561,  0.42642]],\n",
       "\n",
       "       [[ 9.7324 ,  0.80812]],\n",
       "\n",
       "       [[ 7.19854, -3.50849]],\n",
       "\n",
       "       [[11.02191,  1.78302]],\n",
       "\n",
       "       [[ 9.34834,  0.25887]],\n",
       "\n",
       "       [[10.00418, -0.69418]],\n",
       "\n",
       "       [[10.02225,  0.62431]],\n",
       "\n",
       "       [[ 8.67571, -0.70614]],\n",
       "\n",
       "       [[ 8.08752, -1.77204]],\n",
       "\n",
       "       [[ 7.65724, -0.14306]],\n",
       "\n",
       "       [[10.0139 , -0.486  ]],\n",
       "\n",
       "       [[ 9.34461, -1.62581]],\n",
       "\n",
       "       [[ 9.94736, -2.33956]],\n",
       "\n",
       "       [[10.30445,  4.75489]],\n",
       "\n",
       "       [[11.34954,  1.74406]],\n",
       "\n",
       "       [[10.81277,  1.83284]],\n",
       "\n",
       "       [[12.34648, -1.66033]],\n",
       "\n",
       "       [[10.40031,  0.10011]],\n",
       "\n",
       "       [[12.29633,  2.3669 ]],\n",
       "\n",
       "       [[ 9.76819, -3.92765]],\n",
       "\n",
       "       [[ 7.48406,  1.49889]],\n",
       "\n",
       "       [[11.1957 , -2.91127]],\n",
       "\n",
       "       [[ 9.95736, -1.53219]],\n",
       "\n",
       "       [[ 8.24185, -2.96192]],\n",
       "\n",
       "       [[12.77073,  0.14248]],\n",
       "\n",
       "       [[10.37031,  0.57268]],\n",
       "\n",
       "       [[ 8.638  , -0.77785]],\n",
       "\n",
       "       [[ 9.03339, -1.26392]],\n",
       "\n",
       "       [[ 5.51645, -3.34835]],\n",
       "\n",
       "       [[10.59461,  1.23172]],\n",
       "\n",
       "       [[ 8.70326,  1.62146]],\n",
       "\n",
       "       [[ 8.97601,  0.52923]],\n",
       "\n",
       "       [[ 9.42795, -1.42976]],\n",
       "\n",
       "       [[13.13044,  0.80394]],\n",
       "\n",
       "       [[11.21756, -0.57496]],\n",
       "\n",
       "       [[12.69288, -0.8201 ]],\n",
       "\n",
       "       [[ 8.4228 ,  1.34555]],\n",
       "\n",
       "       [[ 9.18826,  0.91052]],\n",
       "\n",
       "       [[13.35166,  0.35948]],\n",
       "\n",
       "       [[ 9.28802, -1.61052]],\n",
       "\n",
       "       [[ 7.80527,  0.54103]],\n",
       "\n",
       "       [[ 9.12543, -1.98135]],\n",
       "\n",
       "       [[ 8.49957,  0.7344 ]],\n",
       "\n",
       "       [[ 8.41541, -2.27041]],\n",
       "\n",
       "       [[ 7.89029, -0.31646]],\n",
       "\n",
       "       [[ 8.67149, -4.50773]],\n",
       "\n",
       "       [[ 7.15299, -1.43136]],\n",
       "\n",
       "       [[10.96769, -1.61787]],\n",
       "\n",
       "       [[ 5.44648, -4.42932]],\n",
       "\n",
       "       [[ 6.3409 , -2.62184]],\n",
       "\n",
       "       [[10.19763,  0.59324]],\n",
       "\n",
       "       [[10.74759, -2.87081]],\n",
       "\n",
       "       [[ 7.02097, -1.90174]],\n",
       "\n",
       "       [[ 8.61534, -0.57531]],\n",
       "\n",
       "       [[11.798  ,  3.45316]],\n",
       "\n",
       "       [[10.41794, -2.38866]],\n",
       "\n",
       "       [[ 7.5309 , -2.16795]],\n",
       "\n",
       "       [[ 9.4749 ,  2.26723]]])"
      ]
     },
     "execution_count": 40,
     "metadata": {},
     "output_type": "execute_result"
    }
   ],
   "source": [
    "a"
   ]
  },
  {
   "cell_type": "code",
   "execution_count": 45,
   "metadata": {},
   "outputs": [
    {
     "data": {
      "text/plain": [
       "(150, 2)"
      ]
     },
     "execution_count": 45,
     "metadata": {},
     "output_type": "execute_result"
    }
   ],
   "source": [
    "X=np.concatenate((a,b))\n",
    "X.shape"
   ]
  },
  {
   "cell_type": "code",
   "execution_count": 46,
   "metadata": {},
   "outputs": [
    {
     "data": {
      "image/png": "[encoded data removed]",
      "text/plain": [
       "<Figure size 432x288 with 1 Axes>"
      ]
     },
     "metadata": {
      "needs_background": "light"
     },
     "output_type": "display_data"
    }
   ],
   "source": [
    "plt.scatter(X[:,0], X[:,1])\n",
    "plt.show();"
   ]
  },
  {
   "cell_type": "code",
   "execution_count": 47,
   "metadata": {},
   "outputs": [],
   "source": [
    "kmeans=KMeans(n_clusters=2)\n",
    "clusters=kmeans.fit(X)"
   ]
  },
  {
   "cell_type": "code",
   "execution_count": 48,
   "metadata": {},
   "outputs": [
    {
     "data": {
      "image/png": "[encoded data removed]",
      "text/plain": [
       "<Figure size 432x288 with 1 Axes>"
      ]
     },
     "metadata": {
      "needs_background": "light"
     },
     "output_type": "display_data"
    }
   ],
   "source": [
    "plt.scatter(X[:,0], X[:,1], c=clusters.fit_predict(X))\n",
    "plt.show();"
   ]
  },
  {
   "cell_type": "code",
   "execution_count": 49,
   "metadata": {},
   "outputs": [],
   "source": [
    "from scipy.cluster.hierarchy import dendrogram, linkage"
   ]
  },
  {
   "cell_type": "code",
   "execution_count": 50,
   "metadata": {},
   "outputs": [
    {
     "name": "stdout",
     "output_type": "stream",
     "text": [
      "Help on function linkage in module scipy.cluster.hierarchy:\n",
      "\n",
      "linkage(y, method='single', metric='euclidean', optimal_ordering=False)\n",
      "    Perform hierarchical/agglomerative clustering.\n",
      "    \n",
      "    The input y may be either a 1d condensed distance matrix\n",
      "    or a 2d array of observation vectors.\n",
      "    \n",
      "    If y is a 1d condensed distance matrix,\n",
      "    then y must be a :math:`\\binom{n}{2}` sized\n",
      "    vector where n is the number of original observations paired\n",
      "    in the distance matrix. The behavior of this function is very\n",
      "    similar to the MATLAB linkage function.\n",
      "    \n",
      "    A :math:`(n-1)` by 4 matrix ``Z`` is returned. At the\n",
      "    :math:`i`-th iteration, clusters with indices ``Z[i, 0]`` and\n",
      "    ``Z[i, 1]`` are combined to form cluster :math:`n + i`. A\n",
      "    cluster with an index less than :math:`n` corresponds to one of\n",
      "    the :math:`n` original observations. The distance between\n",
      "    clusters ``Z[i, 0]`` and ``Z[i, 1]`` is given by ``Z[i, 2]``. The\n",
      "    fourth value ``Z[i, 3]`` represents the number of original\n",
      "    observations in the newly formed cluster.\n",
      "    \n",
      "    The following linkage methods are used to compute the distance\n",
      "    :math:`d(s, t)` between two clusters :math:`s` and\n",
      "    :math:`t`. The algorithm begins with a forest of clusters that\n",
      "    have yet to be used in the hierarchy being formed. When two\n",
      "    clusters :math:`s` and :math:`t` from this forest are combined\n",
      "    into a single cluster :math:`u`, :math:`s` and :math:`t` are\n",
      "    removed from the forest, and :math:`u` is added to the\n",
      "    forest. When only one cluster remains in the forest, the algorithm\n",
      "    stops, and this cluster becomes the root.\n",
      "    \n",
      "    A distance matrix is maintained at each iteration. The ``d[i,j]``\n",
      "    entry corresponds to the distance between cluster :math:`i` and\n",
      "    :math:`j` in the original forest.\n",
      "    \n",
      "    At each iteration, the algorithm must update the distance matrix\n",
      "    to reflect the distance of the newly formed cluster u with the\n",
      "    remaining clusters in the forest.\n",
      "    \n",
      "    Suppose there are :math:`|u|` original observations\n",
      "    :math:`u[0], \\ldots, u[|u|-1]` in cluster :math:`u` and\n",
      "    :math:`|v|` original objects :math:`v[0], \\ldots, v[|v|-1]` in\n",
      "    cluster :math:`v`. Recall :math:`s` and :math:`t` are\n",
      "    combined to form cluster :math:`u`. Let :math:`v` be any\n",
      "    remaining cluster in the forest that is not :math:`u`.\n",
      "    \n",
      "    The following are methods for calculating the distance between the\n",
      "    newly formed cluster :math:`u` and each :math:`v`.\n",
      "    \n",
      "      * method='single' assigns\n",
      "    \n",
      "        .. math::\n",
      "           d(u,v) = \\min(dist(u[i],v[j]))\n",
      "    \n",
      "        for all points :math:`i` in cluster :math:`u` and\n",
      "        :math:`j` in cluster :math:`v`. This is also known as the\n",
      "        Nearest Point Algorithm.\n",
      "    \n",
      "      * method='complete' assigns\n",
      "    \n",
      "        .. math::\n",
      "           d(u, v) = \\max(dist(u[i],v[j]))\n",
      "    \n",
      "        for all points :math:`i` in cluster u and :math:`j` in\n",
      "        cluster :math:`v`. This is also known by the Farthest Point\n",
      "        Algorithm or Voor Hees Algorithm.\n",
      "    \n",
      "      * method='average' assigns\n",
      "    \n",
      "        .. math::\n",
      "           d(u,v) = \\sum_{ij} \\frac{d(u[i], v[j])}\n",
      "                                   {(|u|*|v|)}\n",
      "    \n",
      "        for all points :math:`i` and :math:`j` where :math:`|u|`\n",
      "        and :math:`|v|` are the cardinalities of clusters :math:`u`\n",
      "        and :math:`v`, respectively. This is also called the UPGMA\n",
      "        algorithm.\n",
      "    \n",
      "      * method='weighted' assigns\n",
      "    \n",
      "        .. math::\n",
      "           d(u,v) = (dist(s,v) + dist(t,v))/2\n",
      "    \n",
      "        where cluster u was formed with cluster s and t and v\n",
      "        is a remaining cluster in the forest. (also called WPGMA)\n",
      "    \n",
      "      * method='centroid' assigns\n",
      "    \n",
      "        .. math::\n",
      "           dist(s,t) = ||c_s-c_t||_2\n",
      "    \n",
      "        where :math:`c_s` and :math:`c_t` are the centroids of\n",
      "        clusters :math:`s` and :math:`t`, respectively. When two\n",
      "        clusters :math:`s` and :math:`t` are combined into a new\n",
      "        cluster :math:`u`, the new centroid is computed over all the\n",
      "        original objects in clusters :math:`s` and :math:`t`. The\n",
      "        distance then becomes the Euclidean distance between the\n",
      "        centroid of :math:`u` and the centroid of a remaining cluster\n",
      "        :math:`v` in the forest. This is also known as the UPGMC\n",
      "        algorithm.\n",
      "    \n",
      "      * method='median' assigns :math:`d(s,t)` like the ``centroid``\n",
      "        method. When two clusters :math:`s` and :math:`t` are combined\n",
      "        into a new cluster :math:`u`, the average of centroids s and t\n",
      "        give the new centroid :math:`u`. This is also known as the\n",
      "        WPGMC algorithm.\n",
      "    \n",
      "      * method='ward' uses the Ward variance minimization algorithm.\n",
      "        The new entry :math:`d(u,v)` is computed as follows,\n",
      "    \n",
      "        .. math::\n",
      "    \n",
      "           d(u,v) = \\sqrt{\\frac{|v|+|s|}\n",
      "                               {T}d(v,s)^2\n",
      "                        + \\frac{|v|+|t|}\n",
      "                               {T}d(v,t)^2\n",
      "                        - \\frac{|v|}\n",
      "                               {T}d(s,t)^2}\n",
      "    \n",
      "        where :math:`u` is the newly joined cluster consisting of\n",
      "        clusters :math:`s` and :math:`t`, :math:`v` is an unused\n",
      "        cluster in the forest, :math:`T=|v|+|s|+|t|`, and\n",
      "        :math:`|*|` is the cardinality of its argument. This is also\n",
      "        known as the incremental algorithm.\n",
      "    \n",
      "    Warning: When the minimum distance pair in the forest is chosen, there\n",
      "    may be two or more pairs with the same minimum distance. This\n",
      "    implementation may choose a different minimum than the MATLAB\n",
      "    version.\n",
      "    \n",
      "    Parameters\n",
      "    ----------\n",
      "    y : ndarray\n",
      "        A condensed distance matrix. A condensed distance matrix\n",
      "        is a flat array containing the upper triangular of the distance matrix.\n",
      "        This is the form that ``pdist`` returns. Alternatively, a collection of\n",
      "        :math:`m` observation vectors in :math:`n` dimensions may be passed as\n",
      "        an :math:`m` by :math:`n` array. All elements of the condensed distance\n",
      "        matrix must be finite, i.e. no NaNs or infs.\n",
      "    method : str, optional\n",
      "        The linkage algorithm to use. See the ``Linkage Methods`` section below\n",
      "        for full descriptions.\n",
      "    metric : str or function, optional\n",
      "        The distance metric to use in the case that y is a collection of\n",
      "        observation vectors; ignored otherwise. See the ``pdist``\n",
      "        function for a list of valid distance metrics. A custom distance\n",
      "        function can also be used.\n",
      "    optimal_ordering : bool, optional\n",
      "        If True, the linkage matrix will be reordered so that the distance\n",
      "        between successive leaves is minimal. This results in a more intuitive\n",
      "        tree structure when the data are visualized. defaults to False, because\n",
      "        this algorithm can be slow, particularly on large datasets [2]_. See\n",
      "        also the `optimal_leaf_ordering` function.\n",
      "    \n",
      "        .. versionadded:: 1.0.0\n",
      "    \n",
      "    Returns\n",
      "    -------\n",
      "    Z : ndarray\n",
      "        The hierarchical clustering encoded as a linkage matrix.\n",
      "    \n",
      "    Notes\n",
      "    -----\n",
      "    1. For method 'single' an optimized algorithm based on minimum spanning\n",
      "       tree is implemented. It has time complexity :math:`O(n^2)`.\n",
      "       For methods 'complete', 'average', 'weighted' and 'ward' an algorithm\n",
      "       called nearest-neighbors chain is implemented. It also has time\n",
      "       complexity :math:`O(n^2)`.\n",
      "       For other methods a naive algorithm is implemented with :math:`O(n^3)`\n",
      "       time complexity.\n",
      "       All algorithms use :math:`O(n^2)` memory.\n",
      "       Refer to [1]_ for details about the algorithms.\n",
      "    2. Methods 'centroid', 'median' and 'ward' are correctly defined only if\n",
      "       Euclidean pairwise metric is used. If `y` is passed as precomputed\n",
      "       pairwise distances, then it is a user responsibility to assure that\n",
      "       these distances are in fact Euclidean, otherwise the produced result\n",
      "       will be incorrect.\n",
      "    \n",
      "    See Also\n",
      "    --------\n",
      "    scipy.spatial.distance.pdist : pairwise distance metrics\n",
      "    \n",
      "    References\n",
      "    ----------\n",
      "    .. [1] Daniel Mullner, \"Modern hierarchical, agglomerative clustering\n",
      "           algorithms\", :arXiv:`1109.2378v1`.\n",
      "    .. [2] Ziv Bar-Joseph, David K. Gifford, Tommi S. Jaakkola, \"Fast optimal\n",
      "           leaf ordering for hierarchical clustering\", 2001. Bioinformatics\n",
      "           :doi:`10.1093/bioinformatics/17.suppl_1.S22`\n",
      "    \n",
      "    Examples\n",
      "    --------\n",
      "    >>> from scipy.cluster.hierarchy import dendrogram, linkage\n",
      "    >>> from matplotlib import pyplot as plt\n",
      "    >>> X = [[i] for i in [2, 8, 0, 4, 1, 9, 9, 0]]\n",
      "    \n",
      "    >>> Z = linkage(X, 'ward')\n",
      "    >>> fig = plt.figure(figsize=(25, 10))\n",
      "    >>> dn = dendrogram(Z)\n",
      "    \n",
      "    >>> Z = linkage(X, 'single')\n",
      "    >>> fig = plt.figure(figsize=(25, 10))\n",
      "    >>> dn = dendrogram(Z)\n",
      "    >>> plt.show()\n",
      "\n"
     ]
    }
   ],
   "source": [
    "help(linkage)"
   ]
  },
  {
   "cell_type": "code",
   "execution_count": 51,
   "metadata": {},
   "outputs": [],
   "source": [
    "z = linkage(X, 'ward')"
   ]
  },
  {
   "cell_type": "code",
   "execution_count": 52,
   "metadata": {},
   "outputs": [
    {
     "data": {
      "image/png": "[encoded data removed]",
      "text/plain": [
       "<Figure size 648x360 with 1 Axes>"
      ]
     },
     "metadata": {
      "needs_background": "light"
     },
     "output_type": "display_data"
    }
   ],
   "source": [
    "plt.figure(figsize=(9, 5))\n",
    "dendrogram(z, leaf_rotation=90., leaf_font_size=8.)\n",
    "plt.show();"
   ]
  },
  {
   "cell_type": "code",
   "execution_count": 55,
   "metadata": {},
   "outputs": [
    {
     "data": {
      "image/png": "[encoded data removed]",
      "text/plain": [
       "<Figure size 432x288 with 1 Axes>"
      ]
     },
     "metadata": {
      "needs_background": "light"
     },
     "output_type": "display_data"
    }
   ],
   "source": [
    "dendrogram(z,truncate_mode='lastp', p = 12,\n",
    "           leaf_rotation=90., leaf_font_size=8.,\n",
    "           show_contracted=True, show_leaf_counts=False)\n",
    "plt.title('Dendrograma')\n",
    "plt.xlabel('indice de muestra')\n",
    "plt.ylabel('distancia')\n",
    "\n",
    "plt.show();"
   ]
  },
  {
   "cell_type": "code",
   "execution_count": 54,
   "metadata": {},
   "outputs": [
    {
     "name": "stdout",
     "output_type": "stream",
     "text": [
      "Help on function dendrogram in module scipy.cluster.hierarchy:\n",
      "\n",
      "dendrogram(Z, p=30, truncate_mode=None, color_threshold=None, get_leaves=True, orientation='top', labels=None, count_sort=False, distance_sort=False, show_leaf_counts=True, no_plot=False, no_labels=False, leaf_font_size=None, leaf_rotation=None, leaf_label_func=None, show_contracted=False, link_color_func=None, ax=None, above_threshold_color='b')\n",
      "    Plot the hierarchical clustering as a dendrogram.\n",
      "    \n",
      "    The dendrogram illustrates how each cluster is\n",
      "    composed by drawing a U-shaped link between a non-singleton\n",
      "    cluster and its children.  The top of the U-link indicates a\n",
      "    cluster merge.  The two legs of the U-link indicate which clusters\n",
      "    were merged.  The length of the two legs of the U-link represents\n",
      "    the distance between the child clusters.  It is also the\n",
      "    cophenetic distance between original observations in the two\n",
      "    children clusters.\n",
      "    \n",
      "    Parameters\n",
      "    ----------\n",
      "    Z : ndarray\n",
      "        The linkage matrix encoding the hierarchical clustering to\n",
      "        render as a dendrogram. See the ``linkage`` function for more\n",
      "        information on the format of ``Z``.\n",
      "    p : int, optional\n",
      "        The ``p`` parameter for ``truncate_mode``.\n",
      "    truncate_mode : str, optional\n",
      "        The dendrogram can be hard to read when the original\n",
      "        observation matrix from which the linkage is derived is\n",
      "        large. Truncation is used to condense the dendrogram. There\n",
      "        are several modes:\n",
      "    \n",
      "        ``None``\n",
      "          No truncation is performed (default).\n",
      "          Note: ``'none'`` is an alias for ``None`` that's kept for\n",
      "          backward compatibility.\n",
      "    \n",
      "        ``'lastp'``\n",
      "          The last ``p`` non-singleton clusters formed in the linkage are the\n",
      "          only non-leaf nodes in the linkage; they correspond to rows\n",
      "          ``Z[n-p-2:end]`` in ``Z``. All other non-singleton clusters are\n",
      "          contracted into leaf nodes.\n",
      "    \n",
      "        ``'level'``\n",
      "          No more than ``p`` levels of the dendrogram tree are displayed.\n",
      "          A \"level\" includes all nodes with ``p`` merges from the last merge.\n",
      "    \n",
      "          Note: ``'mtica'`` is an alias for ``'level'`` that's kept for\n",
      "          backward compatibility.\n",
      "    \n",
      "    color_threshold : double, optional\n",
      "        For brevity, let :math:`t` be the ``color_threshold``.\n",
      "        Colors all the descendent links below a cluster node\n",
      "        :math:`k` the same color if :math:`k` is the first node below\n",
      "        the cut threshold :math:`t`. All links connecting nodes with\n",
      "        distances greater than or equal to the threshold are colored\n",
      "        blue. If :math:`t` is less than or equal to zero, all nodes\n",
      "        are colored blue. If ``color_threshold`` is None or\n",
      "        'default', corresponding with MATLAB(TM) behavior, the\n",
      "        threshold is set to ``0.7*max(Z[:,2])``.\n",
      "    get_leaves : bool, optional\n",
      "        Includes a list ``R['leaves']=H`` in the result\n",
      "        dictionary. For each :math:`i`, ``H[i] == j``, cluster node\n",
      "        ``j`` appears in position ``i`` in the left-to-right traversal\n",
      "        of the leaves, where :math:`j < 2n-1` and :math:`i < n`.\n",
      "    orientation : str, optional\n",
      "        The direction to plot the dendrogram, which can be any\n",
      "        of the following strings:\n",
      "    \n",
      "        ``'top'``\n",
      "          Plots the root at the top, and plot descendent links going downwards.\n",
      "          (default).\n",
      "    \n",
      "        ``'bottom'``\n",
      "          Plots the root at the bottom, and plot descendent links going\n",
      "          upwards.\n",
      "    \n",
      "        ``'left'``\n",
      "          Plots the root at the left, and plot descendent links going right.\n",
      "    \n",
      "        ``'right'``\n",
      "          Plots the root at the right, and plot descendent links going left.\n",
      "    \n",
      "    labels : ndarray, optional\n",
      "        By default ``labels`` is None so the index of the original observation\n",
      "        is used to label the leaf nodes.  Otherwise, this is an :math:`n`\n",
      "        -sized list (or tuple). The ``labels[i]`` value is the text to put\n",
      "        under the :math:`i` th leaf node only if it corresponds to an original\n",
      "        observation and not a non-singleton cluster.\n",
      "    count_sort : str or bool, optional\n",
      "        For each node n, the order (visually, from left-to-right) n's\n",
      "        two descendent links are plotted is determined by this\n",
      "        parameter, which can be any of the following values:\n",
      "    \n",
      "        ``False``\n",
      "          Nothing is done.\n",
      "    \n",
      "        ``'ascending'`` or ``True``\n",
      "          The child with the minimum number of original objects in its cluster\n",
      "          is plotted first.\n",
      "    \n",
      "        ``'descending'``\n",
      "          The child with the maximum number of original objects in its cluster\n",
      "          is plotted first.\n",
      "    \n",
      "        Note ``distance_sort`` and ``count_sort`` cannot both be True.\n",
      "    distance_sort : str or bool, optional\n",
      "        For each node n, the order (visually, from left-to-right) n's\n",
      "        two descendent links are plotted is determined by this\n",
      "        parameter, which can be any of the following values:\n",
      "    \n",
      "        ``False``\n",
      "          Nothing is done.\n",
      "    \n",
      "        ``'ascending'`` or ``True``\n",
      "          The child with the minimum distance between its direct descendents is\n",
      "          plotted first.\n",
      "    \n",
      "        ``'descending'``\n",
      "          The child with the maximum distance between its direct descendents is\n",
      "          plotted first.\n",
      "    \n",
      "        Note ``distance_sort`` and ``count_sort`` cannot both be True.\n",
      "    show_leaf_counts : bool, optional\n",
      "         When True, leaf nodes representing :math:`k>1` original\n",
      "         observation are labeled with the number of observations they\n",
      "         contain in parentheses.\n",
      "    no_plot : bool, optional\n",
      "        When True, the final rendering is not performed. This is\n",
      "        useful if only the data structures computed for the rendering\n",
      "        are needed or if matplotlib is not available.\n",
      "    no_labels : bool, optional\n",
      "        When True, no labels appear next to the leaf nodes in the\n",
      "        rendering of the dendrogram.\n",
      "    leaf_rotation : double, optional\n",
      "        Specifies the angle (in degrees) to rotate the leaf\n",
      "        labels. When unspecified, the rotation is based on the number of\n",
      "        nodes in the dendrogram (default is 0).\n",
      "    leaf_font_size : int, optional\n",
      "        Specifies the font size (in points) of the leaf labels. When\n",
      "        unspecified, the size based on the number of nodes in the\n",
      "        dendrogram.\n",
      "    leaf_label_func : lambda or function, optional\n",
      "        When leaf_label_func is a callable function, for each\n",
      "        leaf with cluster index :math:`k < 2n-1`. The function\n",
      "        is expected to return a string with the label for the\n",
      "        leaf.\n",
      "    \n",
      "        Indices :math:`k < n` correspond to original observations\n",
      "        while indices :math:`k \\geq n` correspond to non-singleton\n",
      "        clusters.\n",
      "    \n",
      "        For example, to label singletons with their node id and\n",
      "        non-singletons with their id, count, and inconsistency\n",
      "        coefficient, simply do::\n",
      "    \n",
      "            # First define the leaf label function.\n",
      "            def llf(id):\n",
      "                if id < n:\n",
      "                    return str(id)\n",
      "                else:\n",
      "                    return '[%d %d %1.2f]' % (id, count, R[n-id,3])\n",
      "            # The text for the leaf nodes is going to be big so force\n",
      "            # a rotation of 90 degrees.\n",
      "            dendrogram(Z, leaf_label_func=llf, leaf_rotation=90)\n",
      "    \n",
      "    show_contracted : bool, optional\n",
      "        When True the heights of non-singleton nodes contracted\n",
      "        into a leaf node are plotted as crosses along the link\n",
      "        connecting that leaf node.  This really is only useful when\n",
      "        truncation is used (see ``truncate_mode`` parameter).\n",
      "    link_color_func : callable, optional\n",
      "        If given, `link_color_function` is called with each non-singleton id\n",
      "        corresponding to each U-shaped link it will paint. The function is\n",
      "        expected to return the color to paint the link, encoded as a matplotlib\n",
      "        color string code. For example::\n",
      "    \n",
      "            dendrogram(Z, link_color_func=lambda k: colors[k])\n",
      "    \n",
      "        colors the direct links below each untruncated non-singleton node\n",
      "        ``k`` using ``colors[k]``.\n",
      "    ax : matplotlib Axes instance, optional\n",
      "        If None and `no_plot` is not True, the dendrogram will be plotted\n",
      "        on the current axes.  Otherwise if `no_plot` is not True the\n",
      "        dendrogram will be plotted on the given ``Axes`` instance. This can be\n",
      "        useful if the dendrogram is part of a more complex figure.\n",
      "    above_threshold_color : str, optional\n",
      "        This matplotlib color string sets the color of the links above the\n",
      "        color_threshold. The default is 'b'.\n",
      "    \n",
      "    Returns\n",
      "    -------\n",
      "    R : dict\n",
      "        A dictionary of data structures computed to render the\n",
      "        dendrogram. Its has the following keys:\n",
      "    \n",
      "        ``'color_list'``\n",
      "          A list of color names. The k'th element represents the color of the\n",
      "          k'th link.\n",
      "    \n",
      "        ``'icoord'`` and ``'dcoord'``\n",
      "          Each of them is a list of lists. Let ``icoord = [I1, I2, ..., Ip]``\n",
      "          where ``Ik = [xk1, xk2, xk3, xk4]`` and ``dcoord = [D1, D2, ..., Dp]``\n",
      "          where ``Dk = [yk1, yk2, yk3, yk4]``, then the k'th link painted is\n",
      "          ``(xk1, yk1)`` - ``(xk2, yk2)`` - ``(xk3, yk3)`` - ``(xk4, yk4)``.\n",
      "    \n",
      "        ``'ivl'``\n",
      "          A list of labels corresponding to the leaf nodes.\n",
      "    \n",
      "        ``'leaves'``\n",
      "          For each i, ``H[i] == j``, cluster node ``j`` appears in position\n",
      "          ``i`` in the left-to-right traversal of the leaves, where\n",
      "          :math:`j < 2n-1` and :math:`i < n`. If ``j`` is less than ``n``, the\n",
      "          ``i``-th leaf node corresponds to an original observation.\n",
      "          Otherwise, it corresponds to a non-singleton cluster.\n",
      "    \n",
      "    See Also\n",
      "    --------\n",
      "    linkage, set_link_color_palette\n",
      "    \n",
      "    Notes\n",
      "    -----\n",
      "    It is expected that the distances in ``Z[:,2]`` be monotonic, otherwise\n",
      "    crossings appear in the dendrogram.\n",
      "    \n",
      "    Examples\n",
      "    --------\n",
      "    >>> from scipy.cluster import hierarchy\n",
      "    >>> import matplotlib.pyplot as plt\n",
      "    \n",
      "    A very basic example:\n",
      "    \n",
      "    >>> ytdist = np.array([662., 877., 255., 412., 996., 295., 468., 268.,\n",
      "    ...                    400., 754., 564., 138., 219., 869., 669.])\n",
      "    >>> Z = hierarchy.linkage(ytdist, 'single')\n",
      "    >>> plt.figure()\n",
      "    >>> dn = hierarchy.dendrogram(Z)\n",
      "    \n",
      "    Now plot in given axes, improve the color scheme and use both vertical and\n",
      "    horizontal orientations:\n",
      "    \n",
      "    >>> hierarchy.set_link_color_palette(['m', 'c', 'y', 'k'])\n",
      "    >>> fig, axes = plt.subplots(1, 2, figsize=(8, 3))\n",
      "    >>> dn1 = hierarchy.dendrogram(Z, ax=axes[0], above_threshold_color='y',\n",
      "    ...                            orientation='top')\n",
      "    >>> dn2 = hierarchy.dendrogram(Z, ax=axes[1],\n",
      "    ...                            above_threshold_color='#bcbddc',\n",
      "    ...                            orientation='right')\n",
      "    >>> hierarchy.set_link_color_palette(None)  # reset to default after use\n",
      "    >>> plt.show()\n",
      "\n"
     ]
    }
   ],
   "source": [
    "help(dendrogram)"
   ]
  },
  {
   "cell_type": "code",
   "execution_count": 56,
   "metadata": {},
   "outputs": [],
   "source": [
    "def fancy_dendro(*args, **kwargs):\n",
    "    max_d=kwargs.pop('max_d', None)\n",
    "    \n",
    "    if max_d and 'color_threshold' not in kwargs:\n",
    "        kwargs['color_threshold']=max_d\n",
    "        \n",
    "    annotate_above=kwargs.pop('annotate_above', None)\n",
    "    \n",
    "    ddata=dendrogram(*args, **kwargs)\n",
    "    \n",
    "    if not kwargs.get('no_plot', False):\n",
    "        plt.title('Dendrograma')\n",
    "        plt.xlabel('Indice de muestra o (tamaño del cluster)')\n",
    "        plt.ylabel('Distancia')\n",
    "        \n",
    "        for i,d,c in zip(ddata['icoord'], ddata['dcoord'], ddata['color_list']):\n",
    "            x=0.5*sum(i[1:3])\n",
    "            y=d[1]\n",
    "            \n",
    "            if y>annotate_above:\n",
    "                plt.plot(x,y,'o', c=c)\n",
    "                plt.annotate('%.3g'%y, (x,y), xytext=(0,-5),textcoords='offset points', va='top', ha='center')\n",
    "                \n",
    "        if max_d:\n",
    "            plt.axhline(y=max_d, c='k')\n",
    "    "
   ]
  },
  {
   "cell_type": "code",
   "execution_count": 57,
   "metadata": {},
   "outputs": [
    {
     "data": {
      "image/png": "[encoded data removed]",
      "text/plain": [
       "<Figure size 432x288 with 1 Axes>"
      ]
     },
     "metadata": {
      "needs_background": "light"
     },
     "output_type": "display_data"
    }
   ],
   "source": [
    "fancy_dendro(z, truncate_mode='lastp', p=12,\n",
    "                 leaf_rotation=90., leaf_font_size=8.,\n",
    "                 show_contracted=True, annotate_above=10)\n",
    "\n",
    "plt.show();"
   ]
  },
  {
   "cell_type": "code",
   "execution_count": 59,
   "metadata": {},
   "outputs": [
    {
     "data": {
      "image/png": "[encoded data removed]",
      "text/plain": [
       "<Figure size 432x288 with 1 Axes>"
      ]
     },
     "metadata": {
      "needs_background": "light"
     },
     "output_type": "display_data"
    }
   ],
   "source": [
    "fancy_dendro(z, truncate_mode='lastp', p=12,\n",
    "                 leaf_rotation=90., leaf_font_size=8.,\n",
    "                 show_contracted=True, annotate_above=10, max_d =15)\n",
    "\n",
    "plt.show();"
   ]
  },
  {
   "cell_type": "code",
   "execution_count": 60,
   "metadata": {},
   "outputs": [],
   "source": [
    "from scipy.cluster.hierarchy import fcluster"
   ]
  },
  {
   "cell_type": "code",
   "execution_count": 61,
   "metadata": {},
   "outputs": [],
   "source": [
    "max_d = 50\n",
    "clusters = fcluster(z, max_d, criterion = 'distance')"
   ]
  },
  {
   "cell_type": "code",
   "execution_count": 62,
   "metadata": {},
   "outputs": [
    {
     "data": {
      "text/plain": [
       "array([2, 2, 2, 2, 2, 2, 2, 2, 2, 2, 2, 2, 2, 2, 2, 2, 2, 2, 2, 2, 2, 2,\n",
       "       2, 2, 2, 2, 2, 2, 2, 2, 2, 2, 2, 2, 2, 2, 2, 2, 2, 2, 2, 2, 2, 2,\n",
       "       2, 2, 2, 2, 2, 2, 2, 2, 2, 2, 2, 2, 2, 2, 2, 2, 2, 2, 2, 2, 2, 2,\n",
       "       2, 2, 2, 2, 2, 2, 2, 2, 2, 2, 2, 2, 2, 2, 2, 2, 2, 2, 2, 2, 2, 2,\n",
       "       2, 2, 2, 2, 2, 2, 2, 2, 2, 2, 2, 2, 1, 1, 1, 1, 1, 1, 1, 1, 1, 1,\n",
       "       1, 1, 1, 1, 1, 1, 1, 1, 1, 1, 1, 1, 1, 1, 1, 1, 1, 1, 1, 1, 1, 1,\n",
       "       1, 1, 1, 1, 1, 1, 1, 1, 1, 1, 1, 1, 1, 1, 1, 1, 1, 1], dtype=int32)"
      ]
     },
     "execution_count": 62,
     "metadata": {},
     "output_type": "execute_result"
    }
   ],
   "source": [
    "clusters"
   ]
  },
  {
   "cell_type": "code",
   "execution_count": 64,
   "metadata": {},
   "outputs": [
    {
     "data": {
      "text/plain": [
       "array([3, 3, 3, 3, 3, 3, 3, 3, 2, 2, 3, 2, 3, 2, 3, 3, 2, 3, 3, 3, 3, 3,\n",
       "       3, 2, 2, 3, 2, 2, 2, 2, 3, 3, 3, 2, 3, 3, 2, 2, 3, 2, 3, 2, 3, 3,\n",
       "       2, 3, 3, 3, 3, 2, 2, 3, 3, 2, 2, 3, 3, 3, 2, 3, 3, 2, 3, 2, 2, 2,\n",
       "       3, 3, 2, 2, 2, 3, 3, 3, 2, 3, 2, 2, 3, 3, 3, 2, 3, 2, 3, 2, 3, 2,\n",
       "       2, 2, 2, 2, 3, 2, 2, 2, 3, 2, 2, 3, 1, 1, 1, 1, 1, 1, 1, 1, 1, 1,\n",
       "       1, 1, 1, 1, 1, 1, 1, 1, 1, 1, 1, 1, 1, 1, 1, 1, 1, 1, 1, 1, 1, 1,\n",
       "       1, 1, 1, 1, 1, 1, 1, 1, 1, 1, 1, 1, 1, 1, 1, 1, 1, 1], dtype=int32)"
      ]
     },
     "execution_count": 64,
     "metadata": {},
     "output_type": "execute_result"
    }
   ],
   "source": [
    "max_d = 20\n",
    "clusters = fcluster(z, max_d, criterion = 'distance')\n",
    "clusters"
   ]
  },
  {
   "cell_type": "code",
   "execution_count": 65,
   "metadata": {},
   "outputs": [
    {
     "name": "stdout",
     "output_type": "stream",
     "text": [
      "Help on function fcluster in module scipy.cluster.hierarchy:\n",
      "\n",
      "fcluster(Z, t, criterion='inconsistent', depth=2, R=None, monocrit=None)\n",
      "    Form flat clusters from the hierarchical clustering defined by\n",
      "    the given linkage matrix.\n",
      "    \n",
      "    Parameters\n",
      "    ----------\n",
      "    Z : ndarray\n",
      "        The hierarchical clustering encoded with the matrix returned\n",
      "        by the `linkage` function.\n",
      "    t : scalar\n",
      "        For criteria 'inconsistent', 'distance' or 'monocrit',\n",
      "         this is the threshold to apply when forming flat clusters.\n",
      "        For 'maxclust' or 'maxclust_monocrit' criteria,\n",
      "         this would be max number of clusters requested.\n",
      "    criterion : str, optional\n",
      "        The criterion to use in forming flat clusters. This can\n",
      "        be any of the following values:\n",
      "    \n",
      "          ``inconsistent`` :\n",
      "              If a cluster node and all its\n",
      "              descendants have an inconsistent value less than or equal\n",
      "              to `t` then all its leaf descendants belong to the\n",
      "              same flat cluster. When no non-singleton cluster meets\n",
      "              this criterion, every node is assigned to its own\n",
      "              cluster. (Default)\n",
      "    \n",
      "          ``distance`` :\n",
      "              Forms flat clusters so that the original\n",
      "              observations in each flat cluster have no greater a\n",
      "              cophenetic distance than `t`.\n",
      "    \n",
      "          ``maxclust`` :\n",
      "              Finds a minimum threshold ``r`` so that\n",
      "              the cophenetic distance between any two original\n",
      "              observations in the same flat cluster is no more than\n",
      "              ``r`` and no more than `t` flat clusters are formed.\n",
      "    \n",
      "          ``monocrit`` :\n",
      "              Forms a flat cluster from a cluster node c\n",
      "              with index i when ``monocrit[j] <= t``.\n",
      "    \n",
      "              For example, to threshold on the maximum mean distance\n",
      "              as computed in the inconsistency matrix R with a\n",
      "              threshold of 0.8 do::\n",
      "    \n",
      "                  MR = maxRstat(Z, R, 3)\n",
      "                  cluster(Z, t=0.8, criterion='monocrit', monocrit=MR)\n",
      "    \n",
      "          ``maxclust_monocrit`` :\n",
      "              Forms a flat cluster from a\n",
      "              non-singleton cluster node ``c`` when ``monocrit[i] <=\n",
      "              r`` for all cluster indices ``i`` below and including\n",
      "              ``c``. ``r`` is minimized such that no more than ``t``\n",
      "              flat clusters are formed. monocrit must be\n",
      "              monotonic. For example, to minimize the threshold t on\n",
      "              maximum inconsistency values so that no more than 3 flat\n",
      "              clusters are formed, do::\n",
      "    \n",
      "                  MI = maxinconsts(Z, R)\n",
      "                  cluster(Z, t=3, criterion='maxclust_monocrit', monocrit=MI)\n",
      "    \n",
      "    depth : int, optional\n",
      "        The maximum depth to perform the inconsistency calculation.\n",
      "        It has no meaning for the other criteria. Default is 2.\n",
      "    R : ndarray, optional\n",
      "        The inconsistency matrix to use for the 'inconsistent'\n",
      "        criterion. This matrix is computed if not provided.\n",
      "    monocrit : ndarray, optional\n",
      "        An array of length n-1. `monocrit[i]` is the\n",
      "        statistics upon which non-singleton i is thresholded. The\n",
      "        monocrit vector must be monotonic, i.e. given a node c with\n",
      "        index i, for all node indices j corresponding to nodes\n",
      "        below c, ``monocrit[i] >= monocrit[j]``.\n",
      "    \n",
      "    Returns\n",
      "    -------\n",
      "    fcluster : ndarray\n",
      "        An array of length ``n``. ``T[i]`` is the flat cluster number to\n",
      "        which original observation ``i`` belongs.\n",
      "    \n",
      "    See Also\n",
      "    --------\n",
      "    linkage : for information about hierarchical clustering methods work.\n",
      "    \n",
      "    Examples\n",
      "    --------\n",
      "    >>> from scipy.cluster.hierarchy import ward, fcluster\n",
      "    >>> from scipy.spatial.distance import pdist\n",
      "    \n",
      "    All cluster linkage methods - e.g. `scipy.cluster.hierarchy.ward`\n",
      "    generate a linkage matrix ``Z`` as their output:\n",
      "    \n",
      "    >>> X = [[0, 0], [0, 1], [1, 0],\n",
      "    ...      [0, 4], [0, 3], [1, 4],\n",
      "    ...      [4, 0], [3, 0], [4, 1],\n",
      "    ...      [4, 4], [3, 4], [4, 3]]\n",
      "    \n",
      "    >>> Z = ward(pdist(X))\n",
      "    \n",
      "    >>> Z\n",
      "    array([[ 0.        ,  1.        ,  1.        ,  2.        ],\n",
      "           [ 3.        ,  4.        ,  1.        ,  2.        ],\n",
      "           [ 6.        ,  7.        ,  1.        ,  2.        ],\n",
      "           [ 9.        , 10.        ,  1.        ,  2.        ],\n",
      "           [ 2.        , 12.        ,  1.29099445,  3.        ],\n",
      "           [ 5.        , 13.        ,  1.29099445,  3.        ],\n",
      "           [ 8.        , 14.        ,  1.29099445,  3.        ],\n",
      "           [11.        , 15.        ,  1.29099445,  3.        ],\n",
      "           [16.        , 17.        ,  5.77350269,  6.        ],\n",
      "           [18.        , 19.        ,  5.77350269,  6.        ],\n",
      "           [20.        , 21.        ,  8.16496581, 12.        ]])\n",
      "    \n",
      "    This matrix represents a dendrogram, where the first and second elements\n",
      "    are the two clusters merged at each step, the third element is the\n",
      "    distance between these clusters, and the fourth element is the size of\n",
      "    the new cluster - the number of original data points included.\n",
      "    \n",
      "    `scipy.cluster.hierarchy.fcluster` can be used to flatten the\n",
      "    dendrogram, obtaining as a result an assignation of the original data\n",
      "    points to single clusters.\n",
      "    \n",
      "    This assignation mostly depends on a distance threshold ``t`` - the maximum\n",
      "    inter-cluster distance allowed:\n",
      "    \n",
      "    >>> fcluster(Z, t=0.9, criterion='distance')\n",
      "    array([ 1,  2,  3,  4,  5,  6,  7,  8,  9, 10, 11, 12], dtype=int32)\n",
      "    \n",
      "    >>> fcluster(Z, t=1.1, criterion='distance')\n",
      "    array([1, 1, 2, 3, 3, 4, 5, 5, 6, 7, 7, 8], dtype=int32)\n",
      "    \n",
      "    >>> fcluster(Z, t=3, criterion='distance')\n",
      "    array([1, 1, 1, 2, 2, 2, 3, 3, 3, 4, 4, 4], dtype=int32)\n",
      "    \n",
      "    >>> fcluster(Z, t=9, criterion='distance')\n",
      "    array([1, 1, 1, 1, 1, 1, 1, 1, 1, 1, 1, 1], dtype=int32)\n",
      "    \n",
      "    In the first case, the threshold ``t`` is too small to allow any two\n",
      "    samples in the data to form a cluster, so 12 different clusters are\n",
      "    returned.\n",
      "    \n",
      "    In the second case, the threshold is large enough to allow the first\n",
      "    4 points to be merged with their nearest neighbors. So here only 8\n",
      "    clusters are returned.\n",
      "    \n",
      "    The third case, with a much higher threshold, allows for up to 8 data\n",
      "    points to be connected - so 4 clusters are returned here.\n",
      "    \n",
      "    Lastly, the threshold of the fourth case is large enough to allow for\n",
      "    all data points to be merged together - so a single cluster is returned.\n",
      "\n"
     ]
    }
   ],
   "source": [
    "help(fcluster)"
   ]
  },
  {
   "cell_type": "code",
   "execution_count": 66,
   "metadata": {},
   "outputs": [],
   "source": [
    "from sklearn.datasets import make_moons"
   ]
  },
  {
   "cell_type": "markdown",
   "metadata": {},
   "source": [
    "# Kmeans vs Hierarchical"
   ]
  },
  {
   "cell_type": "code",
   "execution_count": 72,
   "metadata": {},
   "outputs": [],
   "source": [
    "moons = make_moons(n_samples= 100, shuffle= True, noise = 0.04)[0]"
   ]
  },
  {
   "cell_type": "code",
   "execution_count": 69,
   "metadata": {},
   "outputs": [],
   "source": [
    "moons = make_moons(n_samples= 100, shuffle= True, noise = 0.04)"
   ]
  },
  {
   "cell_type": "code",
   "execution_count": 68,
   "metadata": {
    "scrolled": true
   },
   "outputs": [
    {
     "data": {
      "text/plain": [
       "array([[ 0.5289 , -0.44438],\n",
       "       [ 0.94681,  0.07976],\n",
       "       [-0.00418,  0.36267],\n",
       "       [-0.63845,  0.81129],\n",
       "       [ 0.31587,  0.99011],\n",
       "       [ 0.13586,  1.02781],\n",
       "       [-0.88743,  0.48745],\n",
       "       [ 0.36913,  0.89511],\n",
       "       [ 1.66886, -0.21577],\n",
       "       [ 0.45845,  0.82859],\n",
       "       [ 0.94645,  0.37613],\n",
       "       [ 0.05525,  0.26611],\n",
       "       [-0.62427,  0.78572],\n",
       "       [-1.09105,  0.02616],\n",
       "       [-0.29075,  0.97005],\n",
       "       [ 0.07046, -0.04527],\n",
       "       [ 1.79968,  0.04582],\n",
       "       [ 1.17314, -0.55329],\n",
       "       [ 0.11571,  0.05339],\n",
       "       [ 1.40844, -0.36046],\n",
       "       [ 0.36019, -0.37701],\n",
       "       [ 0.59923,  0.69068],\n",
       "       [-0.27231,  0.97181],\n",
       "       [ 1.92978, -0.01871],\n",
       "       [-0.42835,  0.85872],\n",
       "       [ 1.96904,  0.4445 ],\n",
       "       [ 1.55023, -0.32482],\n",
       "       [ 1.60082, -0.18429],\n",
       "       [ 0.5291 , -0.42319],\n",
       "       [-0.52754,  0.9058 ],\n",
       "       [ 1.9667 ,  0.33923],\n",
       "       [ 1.00215, -0.51896],\n",
       "       [ 0.9165 , -0.5056 ],\n",
       "       [ 0.09001,  0.43004],\n",
       "       [-0.72277,  0.6612 ],\n",
       "       [ 0.90161,  0.24925],\n",
       "       [-0.79823,  0.48103],\n",
       "       [ 0.98981, -0.02872],\n",
       "       [ 0.49406,  0.80937],\n",
       "       [ 1.82183, -0.08215],\n",
       "       [ 0.64248, -0.45931],\n",
       "       [ 0.79166,  0.5527 ],\n",
       "       [ 0.44687, -0.4116 ],\n",
       "       [ 0.81692,  0.57104],\n",
       "       [ 0.04523,  0.09995],\n",
       "       [ 1.15903, -0.44282],\n",
       "       [ 0.09862,  0.12641],\n",
       "       [ 2.00071,  0.3874 ],\n",
       "       [-0.19133,  1.03158],\n",
       "       [-0.9956 ,  0.13851],\n",
       "       [ 0.38583,  0.875  ],\n",
       "       [ 0.2357 ,  1.01637],\n",
       "       [ 0.1704 , -0.077  ],\n",
       "       [ 1.94232,  0.0994 ],\n",
       "       [ 1.37245, -0.38858],\n",
       "       [-1.02766,  0.16492],\n",
       "       [ 0.31349, -0.28727],\n",
       "       [ 1.63917, -0.30975],\n",
       "       [ 0.92666,  0.44454],\n",
       "       [-0.51311,  0.87577],\n",
       "       [ 1.66146, -0.09352],\n",
       "       [ 0.01647,  0.50732],\n",
       "       [-0.72286,  0.678  ],\n",
       "       [ 0.29573, -0.17639],\n",
       "       [ 0.96209,  0.26678],\n",
       "       [-0.87292,  0.37493],\n",
       "       [-0.67398,  0.73073],\n",
       "       [ 0.80569, -0.48651],\n",
       "       [ 1.62052, -0.24244],\n",
       "       [ 0.80967, -0.50374],\n",
       "       [ 1.50956, -0.43265],\n",
       "       [ 0.02035,  0.9255 ],\n",
       "       [-0.97001,  0.13235],\n",
       "       [ 0.70795, -0.48061],\n",
       "       [ 1.97028,  0.12781],\n",
       "       [-0.99801,  0.06774],\n",
       "       [ 0.24377, -0.1533 ],\n",
       "       [ 0.42384, -0.26938],\n",
       "       [ 1.89401,  0.29215],\n",
       "       [ 1.01817, -0.43654],\n",
       "       [-0.33407,  0.9327 ],\n",
       "       [ 0.01331,  0.28162],\n",
       "       [-0.96947,  0.36944],\n",
       "       [ 0.65196,  0.72539],\n",
       "       [ 0.79389,  0.47078],\n",
       "       [-0.01995,  1.02782],\n",
       "       [ 0.17383, -0.01242],\n",
       "       [ 1.90678,  0.04107],\n",
       "       [-0.82184,  0.60418],\n",
       "       [-0.03243,  1.00411],\n",
       "       [ 0.19387,  1.06644],\n",
       "       [ 0.46734,  0.89303],\n",
       "       [-0.93394,  0.454  ],\n",
       "       [ 1.97926,  0.53047],\n",
       "       [ 1.03644,  0.15606],\n",
       "       [ 0.98172, -0.50557],\n",
       "       [ 0.69843,  0.71162],\n",
       "       [ 1.00662,  0.07629],\n",
       "       [ 0.80067,  0.75551],\n",
       "       [ 1.27708, -0.46436]])"
      ]
     },
     "execution_count": 68,
     "metadata": {},
     "output_type": "execute_result"
    }
   ],
   "source": [
    "moons"
   ]
  },
  {
   "cell_type": "code",
   "execution_count": 73,
   "metadata": {},
   "outputs": [
    {
     "data": {
      "image/png": "[encoded data removed]",
      "text/plain": [
       "<Figure size 432x288 with 1 Axes>"
      ]
     },
     "metadata": {
      "needs_background": "light"
     },
     "output_type": "display_data"
    }
   ],
   "source": [
    "plt.scatter(moons[:,0], moons[:,1]);"
   ]
  },
  {
   "cell_type": "code",
   "execution_count": 74,
   "metadata": {},
   "outputs": [],
   "source": [
    "from sklearn.cluster import KMeans\n",
    "from sklearn.cluster import AgglomerativeClustering as AC"
   ]
  },
  {
   "cell_type": "code",
   "execution_count": 75,
   "metadata": {},
   "outputs": [],
   "source": [
    "cluster  = KMeans(n_clusters = 2).fit(moons)"
   ]
  },
  {
   "cell_type": "code",
   "execution_count": 76,
   "metadata": {},
   "outputs": [
    {
     "data": {
      "image/png": "[encoded data removed]",
      "text/plain": [
       "<Figure size 432x288 with 1 Axes>"
      ]
     },
     "metadata": {
      "needs_background": "light"
     },
     "output_type": "display_data"
    }
   ],
   "source": [
    "plt.scatter(moons[:,0], moons[:,1], c = cluster.labels_);"
   ]
  },
  {
   "cell_type": "code",
   "execution_count": 77,
   "metadata": {},
   "outputs": [
    {
     "data": {
      "image/png": "[encoded data removed]",
      "text/plain": [
       "<Figure size 432x288 with 1 Axes>"
      ]
     },
     "metadata": {
      "needs_background": "light"
     },
     "output_type": "display_data"
    }
   ],
   "source": [
    "cluster = AC().fit(moons)#por defecto para jerarquico toma de metodo el de ward\n",
    "#The distance between clusters is the sum of squared differences within all clusters\n",
    "\n",
    "plt.scatter(moons[:,0], moons[:,1], c = cluster.labels_);"
   ]
  },
  {
   "cell_type": "code",
   "execution_count": 78,
   "metadata": {},
   "outputs": [
    {
     "data": {
      "image/png": "[encoded data removed]",
      "text/plain": [
       "<Figure size 432x288 with 1 Axes>"
      ]
     },
     "metadata": {
      "needs_background": "light"
     },
     "output_type": "display_data"
    }
   ],
   "source": [
    "cluster=AC(linkage='single').fit(moons)\n",
    "\n",
    "plt.scatter(moons[:,0], moons[:,1], c=cluster.labels_);"
   ]
  },
  {
   "cell_type": "code",
   "execution_count": 79,
   "metadata": {},
   "outputs": [],
   "source": [
    "import umap"
   ]
  },
  {
   "cell_type": "code",
   "execution_count": 81,
   "metadata": {},
   "outputs": [],
   "source": [
    "from sklearn.datasets import load_digits"
   ]
  },
  {
   "cell_type": "code",
   "execution_count": 82,
   "metadata": {},
   "outputs": [],
   "source": [
    "digits = load_digits()"
   ]
  },
  {
   "cell_type": "code",
   "execution_count": 84,
   "metadata": {
    "scrolled": true
   },
   "outputs": [
    {
     "name": "stdout",
     "output_type": "stream",
     "text": [
      ".. _digits_dataset:\n",
      "\n",
      "Optical recognition of handwritten digits dataset\n",
      "--------------------------------------------------\n",
      "\n",
      "**Data Set Characteristics:**\n",
      "\n",
      "    :Number of Instances: 5620\n",
      "    :Number of Attributes: 64\n",
      "    :Attribute Information: 8x8 image of integer pixels in the range 0..16.\n",
      "    :Missing Attribute Values: None\n",
      "    :Creator: E. Alpaydin (alpaydin '@' boun.edu.tr)\n",
      "    :Date: July; 1998\n",
      "\n",
      "This is a copy of the test set of the UCI ML hand-written digits datasets\n",
      "https://archive.ics.uci.edu/ml/datasets/Optical+Recognition+of+Handwritten+Digits\n",
      "\n",
      "The data set contains images of hand-written digits: 10 classes where\n",
      "each class refers to a digit.\n",
      "\n",
      "Preprocessing programs made available by NIST were used to extract\n",
      "normalized bitmaps of handwritten digits from a preprinted form. From a\n",
      "total of 43 people, 30 contributed to the training set and different 13\n",
      "to the test set. 32x32 bitmaps are divided into nonoverlapping blocks of\n",
      "4x4 and the number of on pixels are counted in each block. This generates\n",
      "an input matrix of 8x8 where each element is an integer in the range\n",
      "0..16. This reduces dimensionality and gives invariance to small\n",
      "distortions.\n",
      "\n",
      "For info on NIST preprocessing routines, see M. D. Garris, J. L. Blue, G.\n",
      "T. Candela, D. L. Dimmick, J. Geist, P. J. Grother, S. A. Janet, and C.\n",
      "L. Wilson, NIST Form-Based Handprint Recognition System, NISTIR 5469,\n",
      "1994.\n",
      "\n",
      ".. topic:: References\n",
      "\n",
      "  - C. Kaynak (1995) Methods of Combining Multiple Classifiers and Their\n",
      "    Applications to Handwritten Digit Recognition, MSc Thesis, Institute of\n",
      "    Graduate Studies in Science and Engineering, Bogazici University.\n",
      "  - E. Alpaydin, C. Kaynak (1998) Cascading Classifiers, Kybernetika.\n",
      "  - Ken Tang and Ponnuthurai N. Suganthan and Xi Yao and A. Kai Qin.\n",
      "    Linear dimensionalityreduction using relevance weighted LDA. School of\n",
      "    Electrical and Electronic Engineering Nanyang Technological University.\n",
      "    2005.\n",
      "  - Claudio Gentile. A New Approximate Maximal Margin Classification\n",
      "    Algorithm. NIPS. 2000.\n"
     ]
    }
   ],
   "source": [
    "print(digits.DESCR)"
   ]
  },
  {
   "cell_type": "code",
   "execution_count": 85,
   "metadata": {},
   "outputs": [
    {
     "data": {
      "image/png": "[encoded data removed]",
      "text/plain": [
       "<Figure size 432x288 with 400 Axes>"
      ]
     },
     "metadata": {},
     "output_type": "display_data"
    }
   ],
   "source": [
    "fig, ax_array = plt.subplots(20, 20)\n",
    "axes = ax_array.flatten()\n",
    "for i, ax in enumerate(axes):\n",
    "    ax.imshow(digits.images[i], cmap='gray_r')\n",
    "plt.setp(axes, xticks=[], yticks=[], frame_on=False)\n",
    "plt.tight_layout(h_pad=0.5, w_pad=0.01)"
   ]
  },
  {
   "cell_type": "code",
   "execution_count": 91,
   "metadata": {},
   "outputs": [
    {
     "data": {
      "text/plain": [
       "64"
      ]
     },
     "execution_count": 91,
     "metadata": {},
     "output_type": "execute_result"
    }
   ],
   "source": [
    "len(digits.data[0])"
   ]
  },
  {
   "cell_type": "code",
   "execution_count": 92,
   "metadata": {},
   "outputs": [
    {
     "data": {
      "text/plain": [
       "array([ 0.,  0.,  5., 13.,  9.,  1.,  0.,  0.,  0.,  0., 13., 15., 10.,\n",
       "       15.,  5.,  0.,  0.,  3., 15.,  2.,  0., 11.,  8.,  0.,  0.,  4.,\n",
       "       12.,  0.,  0.,  8.,  8.,  0.,  0.,  5.,  8.,  0.,  0.,  9.,  8.,\n",
       "        0.,  0.,  4., 11.,  0.,  1., 12.,  7.,  0.,  0.,  2., 14.,  5.,\n",
       "       10., 12.,  0.,  0.,  0.,  0.,  6., 13., 10.,  0.,  0.,  0.])"
      ]
     },
     "execution_count": 92,
     "metadata": {},
     "output_type": "execute_result"
    }
   ],
   "source": [
    "digits.data[0]"
   ]
  },
  {
   "cell_type": "code",
   "execution_count": 93,
   "metadata": {},
   "outputs": [
    {
     "data": {
      "text/plain": [
       "0"
      ]
     },
     "execution_count": 93,
     "metadata": {},
     "output_type": "execute_result"
    }
   ],
   "source": [
    "digits.target[0]"
   ]
  },
  {
   "cell_type": "code",
   "execution_count": 86,
   "metadata": {},
   "outputs": [
    {
     "data": {
      "text/plain": [
       "UMAP(a=None, angular_rp_forest=False, b=None,\n",
       "     force_approximation_algorithm=False, init='spectral', learning_rate=1.0,\n",
       "     local_connectivity=1.0, low_memory=False, metric='euclidean',\n",
       "     metric_kwds=None, min_dist=0.1, n_components=2, n_epochs=None,\n",
       "     n_neighbors=15, negative_sample_rate=5, output_metric='euclidean',\n",
       "     output_metric_kwds=None, random_state=42, repulsion_strength=1.0,\n",
       "     set_op_mix_ratio=1.0, spread=1.0, target_metric='categorical',\n",
       "     target_metric_kwds=None, target_n_neighbors=-1, target_weight=0.5,\n",
       "     transform_queue_size=4.0, transform_seed=42, unique=False, verbose=False)"
      ]
     },
     "execution_count": 86,
     "metadata": {},
     "output_type": "execute_result"
    }
   ],
   "source": [
    "reducer = umap.UMAP(random_state=42)\n",
    "reducer.fit(digits.data)"
   ]
  },
  {
   "cell_type": "code",
   "execution_count": 87,
   "metadata": {},
   "outputs": [],
   "source": [
    "embedding = reducer.transform(digits.data)"
   ]
  },
  {
   "cell_type": "code",
   "execution_count": 88,
   "metadata": {},
   "outputs": [
    {
     "data": {
      "image/png": "[encoded data removed]",
      "text/plain": [
       "<Figure size 432x288 with 2 Axes>"
      ]
     },
     "metadata": {
      "needs_background": "light"
     },
     "output_type": "display_data"
    }
   ],
   "source": [
    "plt.scatter(embedding[:, 0], embedding[:, 1], c=digits.target, cmap='Spectral', s=5)\n",
    "plt.gca().set_aspect('equal', 'datalim')\n",
    "plt.colorbar(boundaries=np.arange(11)-0.5).set_ticks(np.arange(10))\n",
    "plt.title('UMAP projection of the Digits dataset', fontsize=24);"
   ]
  },
  {
   "cell_type": "code",
   "execution_count": null,
   "metadata": {},
   "outputs": [],
   "source": []
  }
 ],
 "metadata": {
  "kernelspec": {
   "display_name": "Python 3",
   "language": "python",
   "name": "python3"
  },
  "language_info": {
   "codemirror_mode": {
    "name": "ipython",
    "version": 3
   },
   "file_extension": ".py",
   "mimetype": "text/x-python",
   "name": "python",
   "nbconvert_exporter": "python",
   "pygments_lexer": "ipython3",
   "version": "3.7.4"
  }
 },
 "nbformat": 4,
 "nbformat_minor": 4
}
