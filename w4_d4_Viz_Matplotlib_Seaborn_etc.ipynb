{
 "cells": [
  {
   "cell_type": "code",
   "execution_count": 4,
   "metadata": {},
   "outputs": [],
   "source": [
    "import matplotlib.pyplot as plt\n",
    "import numpy as np\n",
    "import os\n",
    "from string import ascii_letters\n",
    "import numpy as np\n",
    "import pandas as pd\n",
    "import seaborn as sns\n",
    "import matplotlib.pyplot as plt\n",
    "from datetime import datetime\n",
    "\n",
    "\n",
    "import bar_chart_race as bcr\n",
    "%matplotlib inline\n"
   ]
  },
  {
   "cell_type": "code",
   "execution_count": null,
   "metadata": {},
   "outputs": [],
   "source": [
    "fig ,ax = plt.subplots()\n",
    "plt.plot()"
   ]
  },
  {
   "cell_type": "code",
   "execution_count": null,
   "metadata": {},
   "outputs": [],
   "source": [
    "x = np.arange(0,10,1)\n",
    "\n",
    "y = x**2\n",
    "\n",
    "plt.plot(x,y)\n",
    "plt.show();"
   ]
  },
  {
   "cell_type": "code",
   "execution_count": null,
   "metadata": {},
   "outputs": [],
   "source": [
    "fig ,ax = plt.subplots()\n",
    "ax.plot([1,2,3,4],[1,3,4,5], color = 'g')\n",
    "\n",
    "ax.plot([2,3,5,6],[2.3,4.5,5.5,6.5], color = 'r')"
   ]
  },
  {
   "cell_type": "code",
   "execution_count": null,
   "metadata": {},
   "outputs": [],
   "source": [
    "x = np.linspace(0,2,100)\n",
    "\n",
    "fig,ax = plt.subplots(figsize = (8,8))\n",
    "ax.plot(x,x,label = 'lineal')\n",
    "ax.plot(x,x**2, label = 'cuadratica')\n",
    "ax.plot(x,x**3, label = 'cubica')\n",
    "\n",
    "ax.set_xlabel('etiqueta x')\n",
    "ax.set_ylabel('etiqueta y')\n",
    "ax.set_title('plot')\n",
    "ax.legend()"
   ]
  },
  {
   "cell_type": "code",
   "execution_count": null,
   "metadata": {},
   "outputs": [],
   "source": [
    "plt.scatter(x,y);"
   ]
  },
  {
   "cell_type": "code",
   "execution_count": null,
   "metadata": {},
   "outputs": [],
   "source": [
    "plt.plot(x,y, 'o');"
   ]
  },
  {
   "cell_type": "code",
   "execution_count": null,
   "metadata": {},
   "outputs": [],
   "source": [
    "plt.plot(x,y, 'ro');"
   ]
  },
  {
   "cell_type": "code",
   "execution_count": null,
   "metadata": {},
   "outputs": [],
   "source": [
    "plt.plot(x,y, 'g*');"
   ]
  },
  {
   "cell_type": "code",
   "execution_count": null,
   "metadata": {},
   "outputs": [],
   "source": [
    "plt.plot(x,y, 'r-');"
   ]
  },
  {
   "cell_type": "code",
   "execution_count": null,
   "metadata": {},
   "outputs": [],
   "source": [
    "plt.plot(x,y, 'b.')"
   ]
  },
  {
   "cell_type": "code",
   "execution_count": null,
   "metadata": {},
   "outputs": [],
   "source": [
    "plt.bar(x,y)"
   ]
  },
  {
   "cell_type": "code",
   "execution_count": null,
   "metadata": {},
   "outputs": [],
   "source": [
    "plt.barh(x,y)"
   ]
  },
  {
   "cell_type": "code",
   "execution_count": null,
   "metadata": {},
   "outputs": [],
   "source": [
    "a = np.random.random((10,1))\n",
    "b= np.random.random((10,1))\n",
    "c = np.random.random((10,1))\n",
    "\n",
    "plt.figure(figsize = (10,4))\n",
    "plt.subplot(1,3,1)\n",
    "plt.title('otro plot')\n",
    "plt.plot(a)\n",
    "plt.plot(b)\n",
    "plt.subplot(1,3,2)\n",
    "plt.title('otro plot 2-')\n",
    "plt.plot(b)\n",
    "plt.plot(c);\n",
    "plt.subplot(1,3,3)\n",
    "plt.bar(x,y)"
   ]
  },
  {
   "cell_type": "code",
   "execution_count": null,
   "metadata": {},
   "outputs": [],
   "source": [
    "fig = plt.figure(figsize = (10,4))\n",
    "display(fig)\n",
    "for i in range(4):\n",
    "    a = np.random.random(10)\n",
    "    plt.subplot(2,2,i+1)\n",
    "    plt.plot(a);\n",
    "    \n",
    "plt.savefig('data/4plots.png')"
   ]
  },
  {
   "cell_type": "code",
   "execution_count": null,
   "metadata": {},
   "outputs": [],
   "source": [
    "x=np.array([1,1,1,1,1,1,1,1,1,1])\n",
    "y=np.random.random(10)\n",
    "\n",
    "print(x, y)"
   ]
  },
  {
   "cell_type": "code",
   "execution_count": null,
   "metadata": {},
   "outputs": [],
   "source": [
    "plt.scatter(x,y)"
   ]
  },
  {
   "cell_type": "code",
   "execution_count": null,
   "metadata": {},
   "outputs": [],
   "source": [
    "for i in range(0,5,1):\n",
    "    plt.scatter(x+i,y)\n",
    "plt.plot(x+5,y, 'y+');"
   ]
  },
  {
   "cell_type": "code",
   "execution_count": null,
   "metadata": {},
   "outputs": [],
   "source": [
    "cloud=np.random.random((2, 100))\n",
    "plt.scatter(*cloud)\n",
    "plt.savefig('data/nube.jpg')\n",
    "plt.show();"
   ]
  },
  {
   "cell_type": "code",
   "execution_count": null,
   "metadata": {},
   "outputs": [],
   "source": [
    "from mpl_toolkits.mplot3d import Axes3D"
   ]
  },
  {
   "cell_type": "code",
   "execution_count": null,
   "metadata": {},
   "outputs": [],
   "source": [
    "ang=np.linspace(-5*np.pi, 5*np.pi, 200)"
   ]
  },
  {
   "cell_type": "code",
   "execution_count": null,
   "metadata": {},
   "outputs": [],
   "source": [
    "z = np.linspace(-4,4,200)\n",
    "x=3*np.cos(ang)\n",
    "y = 3*np.sin(ang)\n",
    "\n",
    "fig = plt.figure()\n",
    "ax = fig.gca(projection = '3d')\n",
    "ax.plot(x,y,z)\n",
    "plt.show();"
   ]
  },
  {
   "cell_type": "code",
   "execution_count": null,
   "metadata": {},
   "outputs": [],
   "source": [
    "data = pd.read_csv('data/iris.csv')\n",
    "data"
   ]
  },
  {
   "cell_type": "code",
   "execution_count": null,
   "metadata": {},
   "outputs": [],
   "source": [
    "x = data['sepal.length']\n",
    "y = data['sepal.width']\n",
    "\n",
    "z= data['petal.length']"
   ]
  },
  {
   "cell_type": "code",
   "execution_count": null,
   "metadata": {},
   "outputs": [],
   "source": [
    "fig = plt.figure()\n",
    "ax = fig.gca(projection = '3d')\n",
    "ax.scatter(x,y,z)\n",
    "plt.show();"
   ]
  },
  {
   "cell_type": "code",
   "execution_count": null,
   "metadata": {},
   "outputs": [],
   "source": [
    "z=np.linspace(-4, 4, 200)\n",
    "\n",
    "r=2*z+1\n",
    "\n",
    "x=r*np.cos(ang)\n",
    "y=r*np.sin(ang)\n",
    "\n",
    "fig=plt.figure()\n",
    "ax=fig.gca(projection='3d')\n",
    "ax.plot(x, y, z)\n",
    "plt.show();"
   ]
  },
  {
   "cell_type": "code",
   "execution_count": null,
   "metadata": {},
   "outputs": [],
   "source": [
    "\n",
    "def square(L, c=(0, 0)):\n",
    "    x=(np.array([0,0,1,1, 0])*L)-c[0]-L/2\n",
    "    y=(np.array([0,1,1,0, 0])*L)-c[1]-L/2\n",
    "    return np.array([x, y])"
   ]
  },
  {
   "cell_type": "code",
   "execution_count": null,
   "metadata": {},
   "outputs": [],
   "source": [
    "c = square(10,(0,0))\n",
    "c"
   ]
  },
  {
   "cell_type": "code",
   "execution_count": null,
   "metadata": {},
   "outputs": [],
   "source": [
    "plt.plot(c[0],c[1], 'bo')"
   ]
  },
  {
   "cell_type": "code",
   "execution_count": null,
   "metadata": {},
   "outputs": [],
   "source": [
    "for i in range(10):\n",
    "    c = square(9-i, (0,0))\n",
    "    plt.plot(*c)"
   ]
  },
  {
   "cell_type": "code",
   "execution_count": null,
   "metadata": {},
   "outputs": [],
   "source": [
    "for i in range(10):\n",
    "    c = square(9-i, (0,i))\n",
    "    plt.plot(*c)"
   ]
  },
  {
   "cell_type": "code",
   "execution_count": null,
   "metadata": {},
   "outputs": [],
   "source": [
    "for i in range(10):\n",
    "    c = square(9-i, (i,0))\n",
    "    plt.plot(*c)"
   ]
  },
  {
   "cell_type": "code",
   "execution_count": null,
   "metadata": {},
   "outputs": [],
   "source": [
    "day = pd.read_csv('data/day.csv')"
   ]
  },
  {
   "cell_type": "code",
   "execution_count": null,
   "metadata": {},
   "outputs": [],
   "source": [
    "plt.scatter('temp', 'cnt', data = day, c = 'season')\n",
    "plt.xlabel('Temp normalizada en Celsius', fontsize = 'large')\n",
    "plt.ylabel('Conteo de bicicletas',fontsize = 'large')\n",
    "plt.legend()"
   ]
  },
  {
   "cell_type": "code",
   "execution_count": null,
   "metadata": {},
   "outputs": [],
   "source": [
    "plt.rcParams['figure.figsize'] = [15,10]\n",
    "\n",
    "fontdict = {'fontsize':18,\n",
    "            'weight':'bold',\n",
    "            'horizontalalignment': 'center'}\n",
    "\n",
    "fontdictx = {'fontsize':18,\n",
    "            'weight':'bold',\n",
    "            'horizontalalignment': 'center'}\n",
    "\n",
    "fontdicty = {'fontsize':16,\n",
    "            'weight':'bold',\n",
    "            'verticalalignment': 'baseline',\n",
    "            'horizontalalignment': 'center'}\n",
    "\n",
    "spring = plt.scatter('temp','cnt',data = day[day['season']== 2], marker = 'o', c = 'orange')\n",
    "summer = plt.scatter('temp','cnt',data = day[day['season']== 3], marker = 'o', c = 'green')\n",
    "autum = plt.scatter('temp','cnt',data = day[day['season']== 4], marker = 'o', c = 'blue')\n",
    "winter = plt.scatter('temp','cnt',data = day[day['season']== 1], marker = 'o', c = 'red')\n",
    "\n",
    "plt.legend(handles = (spring,summer,autum,winter),\n",
    "          labels = ('primavera','verano','otoño','invierno'),\n",
    "          title = 'estaciones',title_fontsize = 16,\n",
    "          scatterpoints = 1,\n",
    "          bbox_to_anchor = (1,0.7), loc = 2, borderaxespad = 1.,\n",
    "          ncol= 1,\n",
    "          fontsize = 14)\n",
    "plt.title('relacion de renta de bicicletas por estacion y por temperatura', fontdict = fontdict, color = 'black')\n",
    "plt.xlabel('tmp normalizada', fontdict = fontdictx)\n",
    "plt.ylabel('conteo bicicletas', fontdict = fontdicty)"
   ]
  },
  {
   "cell_type": "code",
   "execution_count": null,
   "metadata": {},
   "outputs": [],
   "source": [
    "day"
   ]
  },
  {
   "cell_type": "code",
   "execution_count": null,
   "metadata": {},
   "outputs": [],
   "source": [
    "fig = plt.figure()\n",
    "\n",
    "plt.rcParams['figure.figsize'] = [10,10]\n",
    "plt.rcParams['font.weight'] = 'bold'\n",
    "\n",
    "plt.subplots_adjust(wspace = 0.5)\n",
    "\n",
    "\n",
    "fontdicty1={'fontsize': 18,\n",
    "          'weight' : 'bold'}\n",
    "\n",
    "fontdictx1={'fontsize': 18,\n",
    "          'weight' : 'bold',\n",
    "          'horizontalalignment': 'center'}\n",
    "\n",
    "fig.suptitle('Rent de bicicletas, por temp, y por estacion', fontsize = 25, position = (0.5,1.0))\n",
    "\n",
    "ax3 = fig.add_subplot(143) #sharey=ax3)\n",
    "ax3.scatter('temp', 'cnt', data=day.loc[day['season']==4], c=\"brown\")\n",
    "ax3.set_title('Fall or Autumn', fontdict=fontdict,color=\"brown\")\n",
    "\n",
    "\n",
    "ax1 = fig.add_subplot(141, sharey=ax3)\n",
    "ax1.scatter('temp', 'cnt', data=day.loc[day['season']==2], c=\"green\")\n",
    "ax1.set_title('Spring', fontdict=fontdict, color=\"green\")\n",
    "ax1.set_ylabel(\"Count of Total Rental Bikes\", fontdict=fontdicty1, position=(0.5,0.5))\n",
    "\n",
    "\n",
    "ax2 = fig.add_subplot(142, sharey=ax3)\n",
    "ax2.scatter('temp', 'cnt', data=day.loc[day['season']==3], c=\"orange\")\n",
    "ax2.set_title('Summer', fontdict=fontdict, color=\"orange\")\n",
    "plt.setp(ax2.get_yticklabels(), visible=False)\n",
    "\n",
    "\n",
    "\n",
    "ax4 = fig.add_subplot(144, sharey=ax3)\n",
    "ax4.scatter('temp', 'cnt', data=day.loc[day['season']==1])\n",
    "ax4.set_title('Winter', fontdict=fontdict, color=\"blue\")\n",
    "ax4.set_xlabel(\"Normalized temperature\", fontdict=fontdictx, position=(-1.5,0));"
   ]
  },
  {
   "cell_type": "code",
   "execution_count": null,
   "metadata": {},
   "outputs": [],
   "source": [
    "import seaborn as sns"
   ]
  },
  {
   "cell_type": "code",
   "execution_count": null,
   "metadata": {},
   "outputs": [],
   "source": [
    "data"
   ]
  },
  {
   "cell_type": "code",
   "execution_count": null,
   "metadata": {
    "scrolled": true
   },
   "outputs": [],
   "source": [
    "sns.countplot('variety', data = data)\n",
    "plt.show();"
   ]
  },
  {
   "cell_type": "code",
   "execution_count": null,
   "metadata": {},
   "outputs": [],
   "source": [
    "data['variety'].value_counts().plot.pie(explode = [0,.1,0.1], shadow = True, figsize = (10,8), autopct = \"%1.2f%%\")"
   ]
  },
  {
   "cell_type": "code",
   "execution_count": null,
   "metadata": {},
   "outputs": [],
   "source": [
    "sns.jointplot(x = 'sepal.length', y= 'sepal.width', data = data)"
   ]
  },
  {
   "cell_type": "code",
   "execution_count": null,
   "metadata": {},
   "outputs": [],
   "source": [
    "sns.jointplot(x = 'sepal.length', y= 'sepal.width', data = data, kind = 'reg')"
   ]
  },
  {
   "cell_type": "code",
   "execution_count": null,
   "metadata": {},
   "outputs": [],
   "source": [
    "sns.jointplot(x = 'sepal.length', y= 'sepal.width', data = data, kind = 'hex')"
   ]
  },
  {
   "cell_type": "code",
   "execution_count": null,
   "metadata": {},
   "outputs": [],
   "source": [
    "sns.jointplot(x = 'sepal.length', y= 'sepal.width', data = data, kind = 'kde', space = 0, color = 'y')"
   ]
  },
  {
   "cell_type": "code",
   "execution_count": null,
   "metadata": {},
   "outputs": [],
   "source": [
    "sns.jointplot(x = 'sepal.length', y= 'sepal.width', data = data,color = 'k').plot_joint(sns.kdeplot, zorder = 0, n_levels = 6)"
   ]
  },
  {
   "cell_type": "code",
   "execution_count": null,
   "metadata": {},
   "outputs": [],
   "source": [
    "sns.FacetGrid(data, hue = 'variety', size = 5).map(plt.scatter,'sepal.length','sepal.width').add_legend()"
   ]
  },
  {
   "cell_type": "code",
   "execution_count": null,
   "metadata": {},
   "outputs": [],
   "source": [
    "fig = plt.gcf()\n",
    "fig.set_size_inches(10,7)\n",
    "fig = sns.boxplot(x = 'variety', y=  'petal.length', data = data, order = ['Setosa','Virginica','Versicolor'],\n",
    "                  linewidth =2.5, orient = 'v',dodge = True)"
   ]
  },
  {
   "cell_type": "code",
   "execution_count": null,
   "metadata": {},
   "outputs": [],
   "source": [
    "fig = plt.gcf()\n",
    "fig.set_size_inches(10,7)\n",
    "fig = sns.stripplot(x = 'variety', y=  'petal.length', data = data, jitter = True, edgecolor = 'gray', size =8,\n",
    "                    orient = 'v', palette = 'winter')"
   ]
  },
  {
   "cell_type": "code",
   "execution_count": null,
   "metadata": {},
   "outputs": [],
   "source": [
    "fig = plt.gcf()\n",
    "fig.set_size_inches(10,7)\n",
    "fig = sns.boxplot(x = 'variety',y=  'petal.length', data = data)\n",
    "fig = sns.stripplot(x = 'variety', y=  'petal.length', data = data, jitter = True, edgecolor = 'gray', size =8,\n",
    "                    orient = 'v', palette = 'winter')"
   ]
  },
  {
   "cell_type": "code",
   "execution_count": null,
   "metadata": {},
   "outputs": [],
   "source": [
    "fig = plt.gcf()\n",
    "fig.set_size_inches(10,7)\n",
    "fig = sns.violinplot(x = 'variety',y=  'petal.length', data = data)"
   ]
  },
  {
   "cell_type": "code",
   "execution_count": null,
   "metadata": {},
   "outputs": [],
   "source": [
    "\n",
    "plt.figure(figsize = (15,10))\n",
    "plt.subplot(2,2,1)\n",
    "sns.violinplot(x = 'variety',y=  'petal.length', data = data)\n",
    "plt.subplot(2,2,2)\n",
    "sns.violinplot(x = 'variety',y=  'petal.width', data = data)\n",
    "plt.subplot(2,2,3)\n",
    "sns.violinplot(x = 'variety',y=  'sepal.length', data = data)\n",
    "plt.subplot(2,2,4)\n",
    "sns.violinplot(x = 'variety',y=  'sepal.width', data = data)"
   ]
  },
  {
   "cell_type": "code",
   "execution_count": null,
   "metadata": {},
   "outputs": [],
   "source": [
    "sns.pairplot(data, hue = 'variety')"
   ]
  },
  {
   "cell_type": "code",
   "execution_count": null,
   "metadata": {},
   "outputs": [],
   "source": [
    "sns.set(style ='white')\n",
    "rs = np.random.RandomState(33) #Seed "
   ]
  },
  {
   "cell_type": "code",
   "execution_count": null,
   "metadata": {},
   "outputs": [],
   "source": [
    "d = pd.DataFrame(data = rs.normal(size = (100, 26)),columns = list(ascii_letters[26:]))"
   ]
  },
  {
   "cell_type": "code",
   "execution_count": null,
   "metadata": {},
   "outputs": [],
   "source": [
    "corr = d.corr()"
   ]
  },
  {
   "cell_type": "code",
   "execution_count": null,
   "metadata": {
    "scrolled": true
   },
   "outputs": [],
   "source": [
    "mask = np.triu(np.ones_like(corr, dtype = np.bool))\n",
    "mask"
   ]
  },
  {
   "cell_type": "code",
   "execution_count": null,
   "metadata": {},
   "outputs": [],
   "source": [
    "cmap = sns.diverging_palette(220,10,as_cmap= True)\n",
    "cmap"
   ]
  },
  {
   "cell_type": "code",
   "execution_count": null,
   "metadata": {},
   "outputs": [],
   "source": [
    "f, ax = plt.subplots(figsize = (11,9))\n",
    "sns.heatmap(corr, mask = mask, cmap = cmap, vmax = .3, center = 0,\n",
    "           square = True, linewidths = 5, cbar_kws = {'shrink':.5});"
   ]
  },
  {
   "cell_type": "code",
   "execution_count": null,
   "metadata": {},
   "outputs": [],
   "source": [
    "df=pd.read_csv('data/vehicles.csv')\n",
    "df.head()"
   ]
  },
  {
   "cell_type": "code",
   "execution_count": null,
   "metadata": {},
   "outputs": [],
   "source": [
    "sns.countplot(df['Fuel Type'])"
   ]
  },
  {
   "cell_type": "code",
   "execution_count": null,
   "metadata": {},
   "outputs": [],
   "source": [
    "df['Fuel Type'].hist()"
   ]
  },
  {
   "cell_type": "code",
   "execution_count": null,
   "metadata": {},
   "outputs": [],
   "source": [
    "df['Fuel Type'].value_counts()[:5].plot(kind = 'pie')"
   ]
  },
  {
   "cell_type": "code",
   "execution_count": null,
   "metadata": {},
   "outputs": [],
   "source": [
    "df['Fuel Type'].value_counts()[:5].plot(kind = 'bar')"
   ]
  },
  {
   "cell_type": "code",
   "execution_count": null,
   "metadata": {},
   "outputs": [],
   "source": [
    "df['Fuel Type'].value_counts()[:5].plot(kind = 'barh')"
   ]
  },
  {
   "cell_type": "code",
   "execution_count": null,
   "metadata": {},
   "outputs": [],
   "source": [
    "sns.lmplot(x = 'Highway MPG',y ='City MPG', data = df)"
   ]
  },
  {
   "cell_type": "code",
   "execution_count": null,
   "metadata": {},
   "outputs": [],
   "source": [
    "pd.plotting.scatter_matrix(df, figsize=(15, 15));"
   ]
  },
  {
   "cell_type": "code",
   "execution_count": null,
   "metadata": {},
   "outputs": [],
   "source": [
    "vehicles_mean=df[['Highway MPG', 'City MPG', 'Drivetrain']].groupby('Drivetrain').agg('mean')\n",
    "vehicles_mean"
   ]
  },
  {
   "cell_type": "code",
   "execution_count": null,
   "metadata": {},
   "outputs": [],
   "source": [
    "consumo_max=vehicles_mean.apply(lambda x: max(x['Highway MPG'], x['City MPG']), axis=1)\n",
    "vehicles_mean['consumo_max']= consumo_max\n",
    "vehicles_mean"
   ]
  },
  {
   "cell_type": "code",
   "execution_count": null,
   "metadata": {},
   "outputs": [],
   "source": [
    "ax=vehicles_mean.plot.bar()\n",
    "ax.plot(vehicles_mean['consumo_max'], 'go-')\n",
    "ax.plot(0,30, marker = '$Hola$', color = 'blue', ms = 40)\n",
    "ax.plot(7,30, marker = 'h', color = 'y', ms = 50)\n",
    "ax.plot(7,25, marker = 's', color = 'y', ms = 20)"
   ]
  },
  {
   "cell_type": "code",
   "execution_count": 2,
   "metadata": {},
   "outputs": [],
   "source": [
    "import bar_chart_race as bcr"
   ]
  },
  {
   "cell_type": "code",
   "execution_count": 5,
   "metadata": {},
   "outputs": [],
   "source": [
    "crypto = pd.read_csv('data/crypto_complete.csv')"
   ]
  },
  {
   "cell_type": "code",
   "execution_count": 6,
   "metadata": {},
   "outputs": [],
   "source": [
    "crypto.sort_index(inplace = True,ascending = True)"
   ]
  },
  {
   "cell_type": "code",
   "execution_count": 7,
   "metadata": {},
   "outputs": [
    {
     "data": {
      "text/html": [
       "<div>\n",
       "<style scoped>\n",
       "    .dataframe tbody tr th:only-of-type {\n",
       "        vertical-align: middle;\n",
       "    }\n",
       "\n",
       "    .dataframe tbody tr th {\n",
       "        vertical-align: top;\n",
       "    }\n",
       "\n",
       "    .dataframe thead th {\n",
       "        text-align: right;\n",
       "    }\n",
       "</style>\n",
       "<table border=\"1\" class=\"dataframe\">\n",
       "  <thead>\n",
       "    <tr style=\"text-align: right;\">\n",
       "      <th></th>\n",
       "      <th>bitcoin-cash</th>\n",
       "      <th>bitcoin</th>\n",
       "      <th>dash</th>\n",
       "      <th>eos</th>\n",
       "      <th>ethereum-classic</th>\n",
       "      <th>ethereum</th>\n",
       "      <th>iota</th>\n",
       "      <th>litecoin</th>\n",
       "      <th>nano</th>\n",
       "      <th>neo</th>\n",
       "      <th>ripple</th>\n",
       "      <th>stellar</th>\n",
       "      <th>tron</th>\n",
       "      <th>verge</th>\n",
       "    </tr>\n",
       "    <tr>\n",
       "      <th>Date</th>\n",
       "      <th></th>\n",
       "      <th></th>\n",
       "      <th></th>\n",
       "      <th></th>\n",
       "      <th></th>\n",
       "      <th></th>\n",
       "      <th></th>\n",
       "      <th></th>\n",
       "      <th></th>\n",
       "      <th></th>\n",
       "      <th></th>\n",
       "      <th></th>\n",
       "      <th></th>\n",
       "      <th></th>\n",
       "    </tr>\n",
       "  </thead>\n",
       "  <tbody>\n",
       "    <tr>\n",
       "      <th>2018-05-07</th>\n",
       "      <td>1781.47</td>\n",
       "      <td>9665.85</td>\n",
       "      <td>486.01</td>\n",
       "      <td>18.400000</td>\n",
       "      <td>25.45</td>\n",
       "      <td>795.76</td>\n",
       "      <td>2.310000</td>\n",
       "      <td>171.92</td>\n",
       "      <td>8.790000</td>\n",
       "      <td>83.59</td>\n",
       "      <td>0.871236</td>\n",
       "      <td>0.414859</td>\n",
       "      <td>0.084966</td>\n",
       "      <td>0.075969</td>\n",
       "    </tr>\n",
       "    <tr>\n",
       "      <th>2018-05-06</th>\n",
       "      <td>1838.49</td>\n",
       "      <td>9940.14</td>\n",
       "      <td>521.14</td>\n",
       "      <td>17.900000</td>\n",
       "      <td>25.80</td>\n",
       "      <td>835.06</td>\n",
       "      <td>2.510000</td>\n",
       "      <td>182.88</td>\n",
       "      <td>9.080000</td>\n",
       "      <td>87.94</td>\n",
       "      <td>0.918675</td>\n",
       "      <td>0.432132</td>\n",
       "      <td>0.087098</td>\n",
       "      <td>0.079406</td>\n",
       "    </tr>\n",
       "    <tr>\n",
       "      <th>2018-05-05</th>\n",
       "      <td>1753.11</td>\n",
       "      <td>9964.50</td>\n",
       "      <td>508.47</td>\n",
       "      <td>18.570000</td>\n",
       "      <td>23.19</td>\n",
       "      <td>827.46</td>\n",
       "      <td>2.470000</td>\n",
       "      <td>181.63</td>\n",
       "      <td>9.390000</td>\n",
       "      <td>86.07</td>\n",
       "      <td>0.922354</td>\n",
       "      <td>0.435669</td>\n",
       "      <td>0.090875</td>\n",
       "      <td>0.082089</td>\n",
       "    </tr>\n",
       "    <tr>\n",
       "      <th>2018-05-04</th>\n",
       "      <td>1538.46</td>\n",
       "      <td>9779.20</td>\n",
       "      <td>502.68</td>\n",
       "      <td>18.060000</td>\n",
       "      <td>22.72</td>\n",
       "      <td>803.75</td>\n",
       "      <td>2.590000</td>\n",
       "      <td>170.38</td>\n",
       "      <td>10.440000</td>\n",
       "      <td>87.70</td>\n",
       "      <td>0.927695</td>\n",
       "      <td>0.439682</td>\n",
       "      <td>0.088867</td>\n",
       "      <td>0.081581</td>\n",
       "    </tr>\n",
       "    <tr>\n",
       "      <th>2018-05-03</th>\n",
       "      <td>1536.80</td>\n",
       "      <td>9798.33</td>\n",
       "      <td>511.29</td>\n",
       "      <td>19.270000</td>\n",
       "      <td>23.43</td>\n",
       "      <td>784.34</td>\n",
       "      <td>2.680000</td>\n",
       "      <td>164.00</td>\n",
       "      <td>9.930000</td>\n",
       "      <td>89.68</td>\n",
       "      <td>0.892916</td>\n",
       "      <td>0.442878</td>\n",
       "      <td>0.091438</td>\n",
       "      <td>0.084588</td>\n",
       "    </tr>\n",
       "    <tr>\n",
       "      <th>...</th>\n",
       "      <td>...</td>\n",
       "      <td>...</td>\n",
       "      <td>...</td>\n",
       "      <td>...</td>\n",
       "      <td>...</td>\n",
       "      <td>...</td>\n",
       "      <td>...</td>\n",
       "      <td>...</td>\n",
       "      <td>...</td>\n",
       "      <td>...</td>\n",
       "      <td>...</td>\n",
       "      <td>...</td>\n",
       "      <td>...</td>\n",
       "      <td>...</td>\n",
       "    </tr>\n",
       "    <tr>\n",
       "      <th>2017-09-17</th>\n",
       "      <td>438.90</td>\n",
       "      <td>3664.81</td>\n",
       "      <td>315.58</td>\n",
       "      <td>0.667683</td>\n",
       "      <td>10.21</td>\n",
       "      <td>257.00</td>\n",
       "      <td>0.505875</td>\n",
       "      <td>49.88</td>\n",
       "      <td>0.085101</td>\n",
       "      <td>20.64</td>\n",
       "      <td>0.181121</td>\n",
       "      <td>0.011710</td>\n",
       "      <td>0.003879</td>\n",
       "      <td>0.006152</td>\n",
       "    </tr>\n",
       "    <tr>\n",
       "      <th>2017-09-16</th>\n",
       "      <td>450.98</td>\n",
       "      <td>3808.84</td>\n",
       "      <td>301.23</td>\n",
       "      <td>0.685285</td>\n",
       "      <td>11.19</td>\n",
       "      <td>262.59</td>\n",
       "      <td>0.510361</td>\n",
       "      <td>52.83</td>\n",
       "      <td>0.088337</td>\n",
       "      <td>22.98</td>\n",
       "      <td>0.187417</td>\n",
       "      <td>0.012474</td>\n",
       "      <td>0.017671</td>\n",
       "      <td>0.006628</td>\n",
       "    </tr>\n",
       "    <tr>\n",
       "      <th>2017-09-15</th>\n",
       "      <td>448.39</td>\n",
       "      <td>3733.45</td>\n",
       "      <td>300.11</td>\n",
       "      <td>0.683713</td>\n",
       "      <td>11.20</td>\n",
       "      <td>258.66</td>\n",
       "      <td>0.509332</td>\n",
       "      <td>50.65</td>\n",
       "      <td>0.086548</td>\n",
       "      <td>19.12</td>\n",
       "      <td>0.189184</td>\n",
       "      <td>0.012571</td>\n",
       "      <td>0.001831</td>\n",
       "      <td>0.005604</td>\n",
       "    </tr>\n",
       "    <tr>\n",
       "      <th>2017-09-14</th>\n",
       "      <td>510.47</td>\n",
       "      <td>3920.60</td>\n",
       "      <td>303.74</td>\n",
       "      <td>0.754454</td>\n",
       "      <td>14.24</td>\n",
       "      <td>280.84</td>\n",
       "      <td>0.573630</td>\n",
       "      <td>62.43</td>\n",
       "      <td>0.092525</td>\n",
       "      <td>20.75</td>\n",
       "      <td>0.202010</td>\n",
       "      <td>0.015550</td>\n",
       "      <td>0.002479</td>\n",
       "      <td>0.006520</td>\n",
       "    </tr>\n",
       "    <tr>\n",
       "      <th>2017-09-13</th>\n",
       "      <td>519.20</td>\n",
       "      <td>4131.98</td>\n",
       "      <td>325.16</td>\n",
       "      <td>0.841224</td>\n",
       "      <td>14.45</td>\n",
       "      <td>291.12</td>\n",
       "      <td>0.595366</td>\n",
       "      <td>64.60</td>\n",
       "      <td>0.097609</td>\n",
       "      <td>21.29</td>\n",
       "      <td>0.209674</td>\n",
       "      <td>0.016301</td>\n",
       "      <td>0.002448</td>\n",
       "      <td>0.007028</td>\n",
       "    </tr>\n",
       "  </tbody>\n",
       "</table>\n",
       "<p>237 rows × 14 columns</p>\n",
       "</div>"
      ],
      "text/plain": [
       "            bitcoin-cash  bitcoin    dash        eos  ethereum-classic  \\\n",
       "Date                                                                     \n",
       "2018-05-07       1781.47  9665.85  486.01  18.400000             25.45   \n",
       "2018-05-06       1838.49  9940.14  521.14  17.900000             25.80   \n",
       "2018-05-05       1753.11  9964.50  508.47  18.570000             23.19   \n",
       "2018-05-04       1538.46  9779.20  502.68  18.060000             22.72   \n",
       "2018-05-03       1536.80  9798.33  511.29  19.270000             23.43   \n",
       "...                  ...      ...     ...        ...               ...   \n",
       "2017-09-17        438.90  3664.81  315.58   0.667683             10.21   \n",
       "2017-09-16        450.98  3808.84  301.23   0.685285             11.19   \n",
       "2017-09-15        448.39  3733.45  300.11   0.683713             11.20   \n",
       "2017-09-14        510.47  3920.60  303.74   0.754454             14.24   \n",
       "2017-09-13        519.20  4131.98  325.16   0.841224             14.45   \n",
       "\n",
       "            ethereum      iota  litecoin       nano    neo    ripple  \\\n",
       "Date                                                                   \n",
       "2018-05-07    795.76  2.310000    171.92   8.790000  83.59  0.871236   \n",
       "2018-05-06    835.06  2.510000    182.88   9.080000  87.94  0.918675   \n",
       "2018-05-05    827.46  2.470000    181.63   9.390000  86.07  0.922354   \n",
       "2018-05-04    803.75  2.590000    170.38  10.440000  87.70  0.927695   \n",
       "2018-05-03    784.34  2.680000    164.00   9.930000  89.68  0.892916   \n",
       "...              ...       ...       ...        ...    ...       ...   \n",
       "2017-09-17    257.00  0.505875     49.88   0.085101  20.64  0.181121   \n",
       "2017-09-16    262.59  0.510361     52.83   0.088337  22.98  0.187417   \n",
       "2017-09-15    258.66  0.509332     50.65   0.086548  19.12  0.189184   \n",
       "2017-09-14    280.84  0.573630     62.43   0.092525  20.75  0.202010   \n",
       "2017-09-13    291.12  0.595366     64.60   0.097609  21.29  0.209674   \n",
       "\n",
       "             stellar      tron     verge  \n",
       "Date                                      \n",
       "2018-05-07  0.414859  0.084966  0.075969  \n",
       "2018-05-06  0.432132  0.087098  0.079406  \n",
       "2018-05-05  0.435669  0.090875  0.082089  \n",
       "2018-05-04  0.439682  0.088867  0.081581  \n",
       "2018-05-03  0.442878  0.091438  0.084588  \n",
       "...              ...       ...       ...  \n",
       "2017-09-17  0.011710  0.003879  0.006152  \n",
       "2017-09-16  0.012474  0.017671  0.006628  \n",
       "2017-09-15  0.012571  0.001831  0.005604  \n",
       "2017-09-14  0.015550  0.002479  0.006520  \n",
       "2017-09-13  0.016301  0.002448  0.007028  \n",
       "\n",
       "[237 rows x 14 columns]"
      ]
     },
     "execution_count": 7,
     "metadata": {},
     "output_type": "execute_result"
    }
   ],
   "source": [
    "crypto.set_index('Date')"
   ]
  },
  {
   "cell_type": "code",
   "execution_count": 8,
   "metadata": {
    "scrolled": true
   },
   "outputs": [
    {
     "name": "stderr",
     "output_type": "stream",
     "text": [
      "C:\\Users\\GralG\\AppData\\Roaming\\Python\\Python37\\site-packages\\bar_chart_race\\_make_chart.py:286: UserWarning: FixedFormatter should only be used together with FixedLocator\n",
      "  ax.set_yticklabels(self.df_values.columns)\n",
      "C:\\Users\\GralG\\AppData\\Roaming\\Python\\Python37\\site-packages\\bar_chart_race\\_make_chart.py:287: UserWarning: FixedFormatter should only be used together with FixedLocator\n",
      "  ax.set_xticklabels([max_val] * len(ax.get_xticks()))\n"
     ]
    },
    {
     "ename": "Exception",
     "evalue": "You do not have ffmpeg installed on your machine. Download\n                            ffmpeg from here: https://www.ffmpeg.org/download.html.\n                            \n                            Matplotlib's original error message below:\n\n                            boolean index did not match indexed array along dimension 0; dimension is 15 but corresponding boolean dimension is 14\n                            ",
     "output_type": "error",
     "traceback": [
      "\u001b[1;31m---------------------------------------------------------------------------\u001b[0m",
      "\u001b[1;31mIndexError\u001b[0m                                Traceback (most recent call last)",
      "\u001b[1;32m~\\AppData\\Roaming\\Python\\Python37\\site-packages\\bar_chart_race\\_make_chart.py\u001b[0m in \u001b[0;36mmake_animation\u001b[1;34m(self)\u001b[0m\n\u001b[0;32m    427\u001b[0m             \u001b[1;32mif\u001b[0m \u001b[0mself\u001b[0m\u001b[1;33m.\u001b[0m\u001b[0mhtml\u001b[0m\u001b[1;33m:\u001b[0m\u001b[1;33m\u001b[0m\u001b[1;33m\u001b[0m\u001b[0m\n\u001b[1;32m--> 428\u001b[1;33m                 \u001b[0mret_val\u001b[0m \u001b[1;33m=\u001b[0m \u001b[0manim\u001b[0m\u001b[1;33m.\u001b[0m\u001b[0mto_html5_video\u001b[0m\u001b[1;33m(\u001b[0m\u001b[1;33m)\u001b[0m\u001b[1;33m\u001b[0m\u001b[1;33m\u001b[0m\u001b[0m\n\u001b[0m\u001b[0;32m    429\u001b[0m                 \u001b[1;32mtry\u001b[0m\u001b[1;33m:\u001b[0m\u001b[1;33m\u001b[0m\u001b[1;33m\u001b[0m\u001b[0m\n",
      "\u001b[1;32m~\\AppData\\Roaming\\Python\\Python37\\site-packages\\matplotlib\\animation.py\u001b[0m in \u001b[0;36mto_html5_video\u001b[1;34m(self, embed_limit)\u001b[0m\n\u001b[0;32m   1319\u001b[0m                                 fps=1000. / self._interval)\n\u001b[1;32m-> 1320\u001b[1;33m                 \u001b[0mself\u001b[0m\u001b[1;33m.\u001b[0m\u001b[0msave\u001b[0m\u001b[1;33m(\u001b[0m\u001b[0mstr\u001b[0m\u001b[1;33m(\u001b[0m\u001b[0mpath\u001b[0m\u001b[1;33m)\u001b[0m\u001b[1;33m,\u001b[0m \u001b[0mwriter\u001b[0m\u001b[1;33m=\u001b[0m\u001b[0mwriter\u001b[0m\u001b[1;33m)\u001b[0m\u001b[1;33m\u001b[0m\u001b[1;33m\u001b[0m\u001b[0m\n\u001b[0m\u001b[0;32m   1321\u001b[0m                 \u001b[1;31m# Now open and base64 encode.\u001b[0m\u001b[1;33m\u001b[0m\u001b[1;33m\u001b[0m\u001b[1;33m\u001b[0m\u001b[0m\n",
      "\u001b[1;32m~\\AppData\\Roaming\\Python\\Python37\\site-packages\\matplotlib\\animation.py\u001b[0m in \u001b[0;36msave\u001b[1;34m(self, filename, writer, fps, dpi, codec, bitrate, extra_args, metadata, extra_anim, savefig_kwargs, progress_callback)\u001b[0m\n\u001b[0;32m   1127\u001b[0m             \u001b[1;32mfor\u001b[0m \u001b[0manim\u001b[0m \u001b[1;32min\u001b[0m \u001b[0mall_anim\u001b[0m\u001b[1;33m:\u001b[0m\u001b[1;33m\u001b[0m\u001b[1;33m\u001b[0m\u001b[0m\n\u001b[1;32m-> 1128\u001b[1;33m                 \u001b[0manim\u001b[0m\u001b[1;33m.\u001b[0m\u001b[0m_init_draw\u001b[0m\u001b[1;33m(\u001b[0m\u001b[1;33m)\u001b[0m  \u001b[1;31m# Clear the initial frame\u001b[0m\u001b[1;33m\u001b[0m\u001b[1;33m\u001b[0m\u001b[0m\n\u001b[0m\u001b[0;32m   1129\u001b[0m             \u001b[0mframe_number\u001b[0m \u001b[1;33m=\u001b[0m \u001b[1;36m0\u001b[0m\u001b[1;33m\u001b[0m\u001b[1;33m\u001b[0m\u001b[0m\n",
      "\u001b[1;32m~\\AppData\\Roaming\\Python\\Python37\\site-packages\\matplotlib\\animation.py\u001b[0m in \u001b[0;36m_init_draw\u001b[1;34m(self)\u001b[0m\n\u001b[0;32m   1705\u001b[0m         \u001b[1;32melse\u001b[0m\u001b[1;33m:\u001b[0m\u001b[1;33m\u001b[0m\u001b[1;33m\u001b[0m\u001b[0m\n\u001b[1;32m-> 1706\u001b[1;33m             \u001b[0mself\u001b[0m\u001b[1;33m.\u001b[0m\u001b[0m_drawn_artists\u001b[0m \u001b[1;33m=\u001b[0m \u001b[0mself\u001b[0m\u001b[1;33m.\u001b[0m\u001b[0m_init_func\u001b[0m\u001b[1;33m(\u001b[0m\u001b[1;33m)\u001b[0m\u001b[1;33m\u001b[0m\u001b[1;33m\u001b[0m\u001b[0m\n\u001b[0m\u001b[0;32m   1707\u001b[0m             \u001b[1;32mif\u001b[0m \u001b[0mself\u001b[0m\u001b[1;33m.\u001b[0m\u001b[0m_blit\u001b[0m\u001b[1;33m:\u001b[0m\u001b[1;33m\u001b[0m\u001b[1;33m\u001b[0m\u001b[0m\n",
      "\u001b[1;32m~\\AppData\\Roaming\\Python\\Python37\\site-packages\\bar_chart_race\\_make_chart.py\u001b[0m in \u001b[0;36minit_func\u001b[1;34m()\u001b[0m\n\u001b[0;32m    419\u001b[0m         \u001b[1;32mdef\u001b[0m \u001b[0minit_func\u001b[0m\u001b[1;33m(\u001b[0m\u001b[1;33m)\u001b[0m\u001b[1;33m:\u001b[0m\u001b[1;33m\u001b[0m\u001b[1;33m\u001b[0m\u001b[0m\n\u001b[1;32m--> 420\u001b[1;33m             \u001b[0mself\u001b[0m\u001b[1;33m.\u001b[0m\u001b[0mplot_bars\u001b[0m\u001b[1;33m(\u001b[0m\u001b[1;36m0\u001b[0m\u001b[1;33m)\u001b[0m\u001b[1;33m\u001b[0m\u001b[1;33m\u001b[0m\u001b[0m\n\u001b[0m\u001b[0;32m    421\u001b[0m \u001b[1;33m\u001b[0m\u001b[0m\n",
      "\u001b[1;32m~\\AppData\\Roaming\\Python\\Python37\\site-packages\\bar_chart_race\\_make_chart.py\u001b[0m in \u001b[0;36mplot_bars\u001b[1;34m(self, i)\u001b[0m\n\u001b[0;32m    325\u001b[0m         \u001b[0mbar_location\u001b[0m \u001b[1;33m=\u001b[0m \u001b[0mbar_location\u001b[0m\u001b[1;33m[\u001b[0m\u001b[0mtop_filt\u001b[0m\u001b[1;33m]\u001b[0m\u001b[1;33m\u001b[0m\u001b[1;33m\u001b[0m\u001b[0m\n\u001b[1;32m--> 326\u001b[1;33m         \u001b[0mbar_length\u001b[0m \u001b[1;33m=\u001b[0m \u001b[0mself\u001b[0m\u001b[1;33m.\u001b[0m\u001b[0mdf_values\u001b[0m\u001b[1;33m.\u001b[0m\u001b[0miloc\u001b[0m\u001b[1;33m[\u001b[0m\u001b[0mi\u001b[0m\u001b[1;33m]\u001b[0m\u001b[1;33m.\u001b[0m\u001b[0mvalues\u001b[0m\u001b[1;33m[\u001b[0m\u001b[0mtop_filt\u001b[0m\u001b[1;33m]\u001b[0m\u001b[1;33m\u001b[0m\u001b[1;33m\u001b[0m\u001b[0m\n\u001b[0m\u001b[0;32m    327\u001b[0m         \u001b[0mcols\u001b[0m \u001b[1;33m=\u001b[0m \u001b[0mself\u001b[0m\u001b[1;33m.\u001b[0m\u001b[0mdf_values\u001b[0m\u001b[1;33m.\u001b[0m\u001b[0mcolumns\u001b[0m\u001b[1;33m[\u001b[0m\u001b[0mtop_filt\u001b[0m\u001b[1;33m]\u001b[0m\u001b[1;33m\u001b[0m\u001b[1;33m\u001b[0m\u001b[0m\n",
      "\u001b[1;31mIndexError\u001b[0m: boolean index did not match indexed array along dimension 0; dimension is 15 but corresponding boolean dimension is 14",
      "\nDuring handling of the above exception, another exception occurred:\n",
      "\u001b[1;31mException\u001b[0m                                 Traceback (most recent call last)",
      "\u001b[1;32m<ipython-input-8-1fbb2afbc416>\u001b[0m in \u001b[0;36m<module>\u001b[1;34m\u001b[0m\n\u001b[1;32m----> 1\u001b[1;33m \u001b[0mbcr\u001b[0m\u001b[1;33m.\u001b[0m\u001b[0mbar_chart_race\u001b[0m\u001b[1;33m(\u001b[0m\u001b[0mcrypto\u001b[0m\u001b[1;33m)\u001b[0m\u001b[1;33m\u001b[0m\u001b[1;33m\u001b[0m\u001b[0m\n\u001b[0m",
      "\u001b[1;32m~\\AppData\\Roaming\\Python\\Python37\\site-packages\\bar_chart_race\\_make_chart.py\u001b[0m in \u001b[0;36mbar_chart_race\u001b[1;34m(df, filename, orientation, sort, n_bars, fixed_order, fixed_max, steps_per_period, period_length, interpolate_period, label_bars, bar_size, period_label, period_fmt, period_summary_func, perpendicular_bar_func, figsize, cmap, title, title_size, bar_label_size, tick_label_size, shared_fontdict, scale, writer, fig, dpi, bar_kwargs, filter_column_colors)\u001b[0m\n\u001b[0;32m    781\u001b[0m                         \u001b[0mfigsize\u001b[0m\u001b[1;33m,\u001b[0m \u001b[0mcmap\u001b[0m\u001b[1;33m,\u001b[0m \u001b[0mtitle\u001b[0m\u001b[1;33m,\u001b[0m \u001b[0mtitle_size\u001b[0m\u001b[1;33m,\u001b[0m \u001b[0mbar_label_size\u001b[0m\u001b[1;33m,\u001b[0m \u001b[0mtick_label_size\u001b[0m\u001b[1;33m,\u001b[0m\u001b[1;33m\u001b[0m\u001b[1;33m\u001b[0m\u001b[0m\n\u001b[0;32m    782\u001b[0m                         shared_fontdict, scale, writer, fig, dpi, bar_kwargs, filter_column_colors)\n\u001b[1;32m--> 783\u001b[1;33m     \u001b[1;32mreturn\u001b[0m \u001b[0mbcr\u001b[0m\u001b[1;33m.\u001b[0m\u001b[0mmake_animation\u001b[0m\u001b[1;33m(\u001b[0m\u001b[1;33m)\u001b[0m\u001b[1;33m\u001b[0m\u001b[1;33m\u001b[0m\u001b[0m\n\u001b[0m\u001b[0;32m    784\u001b[0m \u001b[1;33m\u001b[0m\u001b[0m\n\u001b[0;32m    785\u001b[0m \u001b[1;32mdef\u001b[0m \u001b[0mload_dataset\u001b[0m\u001b[1;33m(\u001b[0m\u001b[0mname\u001b[0m\u001b[1;33m=\u001b[0m\u001b[1;34m'covid19'\u001b[0m\u001b[1;33m)\u001b[0m\u001b[1;33m:\u001b[0m\u001b[1;33m\u001b[0m\u001b[1;33m\u001b[0m\u001b[0m\n",
      "\u001b[1;32m~\\AppData\\Roaming\\Python\\Python37\\site-packages\\bar_chart_race\\_make_chart.py\u001b[0m in \u001b[0;36mmake_animation\u001b[1;34m(self)\u001b[0m\n\u001b[0;32m    444\u001b[0m             \u001b[1;32melse\u001b[0m\u001b[1;33m:\u001b[0m\u001b[1;33m\u001b[0m\u001b[1;33m\u001b[0m\u001b[0m\n\u001b[0;32m    445\u001b[0m                 \u001b[0mmessage\u001b[0m \u001b[1;33m=\u001b[0m \u001b[0mstr\u001b[0m\u001b[1;33m(\u001b[0m\u001b[0me\u001b[0m\u001b[1;33m)\u001b[0m\u001b[1;33m\u001b[0m\u001b[1;33m\u001b[0m\u001b[0m\n\u001b[1;32m--> 446\u001b[1;33m             \u001b[1;32mraise\u001b[0m \u001b[0mException\u001b[0m\u001b[1;33m(\u001b[0m\u001b[0mmessage\u001b[0m\u001b[1;33m)\u001b[0m\u001b[1;33m\u001b[0m\u001b[1;33m\u001b[0m\u001b[0m\n\u001b[0m\u001b[0;32m    447\u001b[0m         \u001b[1;32mfinally\u001b[0m\u001b[1;33m:\u001b[0m\u001b[1;33m\u001b[0m\u001b[1;33m\u001b[0m\u001b[0m\n\u001b[0;32m    448\u001b[0m             \u001b[0mplt\u001b[0m\u001b[1;33m.\u001b[0m\u001b[0mrcParams\u001b[0m \u001b[1;33m=\u001b[0m \u001b[0mself\u001b[0m\u001b[1;33m.\u001b[0m\u001b[0morig_rcParams\u001b[0m\u001b[1;33m\u001b[0m\u001b[1;33m\u001b[0m\u001b[0m\n",
      "\u001b[1;31mException\u001b[0m: You do not have ffmpeg installed on your machine. Download\n                            ffmpeg from here: https://www.ffmpeg.org/download.html.\n                            \n                            Matplotlib's original error message below:\n\n                            boolean index did not match indexed array along dimension 0; dimension is 15 but corresponding boolean dimension is 14\n                            "
     ]
    }
   ],
   "source": [
    "bcr.bar_chart_race(crypto)"
   ]
  },
  {
   "cell_type": "code",
   "execution_count": 2,
   "metadata": {},
   "outputs": [
    {
     "data": {
      "text/html": [
       "        <script type=\"text/javascript\">\n",
       "        window.PlotlyConfig = {MathJaxConfig: 'local'};\n",
       "        if (window.MathJax) {MathJax.Hub.Config({SVG: {font: \"STIX-Web\"}});}\n",
       "        if (typeof require !== 'undefined') {\n",
       "        require.undef(\"plotly\");\n",
       "        requirejs.config({\n",
       "            paths: {\n",
       "                'plotly': ['https://cdn.plot.ly/plotly-latest.min']\n",
       "            }\n",
       "        });\n",
       "        require(['plotly'], function(Plotly) {\n",
       "            window._Plotly = Plotly;\n",
       "        });\n",
       "        }\n",
       "        </script>\n",
       "        "
      ]
     },
     "metadata": {},
     "output_type": "display_data"
    }
   ],
   "source": [
    "import chart_studio.plotly as py\n",
    "import cufflinks as cf\n",
    "from ipywidgets import interact\n",
    "cf.go_offline()"
   ]
  },
  {
   "cell_type": "code",
   "execution_count": 4,
   "metadata": {},
   "outputs": [
    {
     "data": {
      "text/html": [
       "<div>\n",
       "<style scoped>\n",
       "    .dataframe tbody tr th:only-of-type {\n",
       "        vertical-align: middle;\n",
       "    }\n",
       "\n",
       "    .dataframe tbody tr th {\n",
       "        vertical-align: top;\n",
       "    }\n",
       "\n",
       "    .dataframe thead th {\n",
       "        text-align: right;\n",
       "    }\n",
       "</style>\n",
       "<table border=\"1\" class=\"dataframe\">\n",
       "  <thead>\n",
       "    <tr style=\"text-align: right;\">\n",
       "      <th></th>\n",
       "      <th>InvoiceNo</th>\n",
       "      <th>InvoiceDate</th>\n",
       "      <th>StockCode</th>\n",
       "      <th>Description</th>\n",
       "      <th>Quantity</th>\n",
       "      <th>UnitPrice</th>\n",
       "      <th>Revenue</th>\n",
       "      <th>CustomerID</th>\n",
       "      <th>Country</th>\n",
       "    </tr>\n",
       "  </thead>\n",
       "  <tbody>\n",
       "    <tr>\n",
       "      <th>0</th>\n",
       "      <td>536365</td>\n",
       "      <td>2010-12-01 08:26:00</td>\n",
       "      <td>85123A</td>\n",
       "      <td>CREAM HANGING HEART T-LIGHT HOLDER</td>\n",
       "      <td>6</td>\n",
       "      <td>2.55</td>\n",
       "      <td>15.3</td>\n",
       "      <td>17850</td>\n",
       "      <td>United Kingdom</td>\n",
       "    </tr>\n",
       "    <tr>\n",
       "      <th>1</th>\n",
       "      <td>536373</td>\n",
       "      <td>2010-12-01 09:02:00</td>\n",
       "      <td>85123A</td>\n",
       "      <td>CREAM HANGING HEART T-LIGHT HOLDER</td>\n",
       "      <td>6</td>\n",
       "      <td>2.55</td>\n",
       "      <td>15.3</td>\n",
       "      <td>17850</td>\n",
       "      <td>United Kingdom</td>\n",
       "    </tr>\n",
       "    <tr>\n",
       "      <th>2</th>\n",
       "      <td>536375</td>\n",
       "      <td>2010-12-01 09:32:00</td>\n",
       "      <td>85123A</td>\n",
       "      <td>CREAM HANGING HEART T-LIGHT HOLDER</td>\n",
       "      <td>6</td>\n",
       "      <td>2.55</td>\n",
       "      <td>15.3</td>\n",
       "      <td>17850</td>\n",
       "      <td>United Kingdom</td>\n",
       "    </tr>\n",
       "    <tr>\n",
       "      <th>3</th>\n",
       "      <td>536390</td>\n",
       "      <td>2010-12-01 10:19:00</td>\n",
       "      <td>85123A</td>\n",
       "      <td>CREAM HANGING HEART T-LIGHT HOLDER</td>\n",
       "      <td>64</td>\n",
       "      <td>2.55</td>\n",
       "      <td>163.2</td>\n",
       "      <td>17511</td>\n",
       "      <td>United Kingdom</td>\n",
       "    </tr>\n",
       "    <tr>\n",
       "      <th>4</th>\n",
       "      <td>536394</td>\n",
       "      <td>2010-12-01 10:39:00</td>\n",
       "      <td>85123A</td>\n",
       "      <td>CREAM HANGING HEART T-LIGHT HOLDER</td>\n",
       "      <td>32</td>\n",
       "      <td>2.55</td>\n",
       "      <td>81.6</td>\n",
       "      <td>13408</td>\n",
       "      <td>United Kingdom</td>\n",
       "    </tr>\n",
       "  </tbody>\n",
       "</table>\n",
       "</div>"
      ],
      "text/plain": [
       "   InvoiceNo         InvoiceDate StockCode  \\\n",
       "0     536365 2010-12-01 08:26:00    85123A   \n",
       "1     536373 2010-12-01 09:02:00    85123A   \n",
       "2     536375 2010-12-01 09:32:00    85123A   \n",
       "3     536390 2010-12-01 10:19:00    85123A   \n",
       "4     536394 2010-12-01 10:39:00    85123A   \n",
       "\n",
       "                          Description  Quantity  UnitPrice  Revenue  \\\n",
       "0  CREAM HANGING HEART T-LIGHT HOLDER         6       2.55     15.3   \n",
       "1  CREAM HANGING HEART T-LIGHT HOLDER         6       2.55     15.3   \n",
       "2  CREAM HANGING HEART T-LIGHT HOLDER         6       2.55     15.3   \n",
       "3  CREAM HANGING HEART T-LIGHT HOLDER        64       2.55    163.2   \n",
       "4  CREAM HANGING HEART T-LIGHT HOLDER        32       2.55     81.6   \n",
       "\n",
       "   CustomerID         Country  \n",
       "0       17850  United Kingdom  \n",
       "1       17850  United Kingdom  \n",
       "2       17850  United Kingdom  \n",
       "3       17511  United Kingdom  \n",
       "4       13408  United Kingdom  "
      ]
     },
     "execution_count": 4,
     "metadata": {},
     "output_type": "execute_result"
    }
   ],
   "source": [
    "df=pd.read_excel('data/Online Retail.xlsx')\n",
    "df.head()"
   ]
  },
  {
   "cell_type": "code",
   "execution_count": 1,
   "metadata": {},
   "outputs": [
    {
     "ename": "NameError",
     "evalue": "name 'df' is not defined",
     "output_type": "error",
     "traceback": [
      "\u001b[1;31m---------------------------------------------------------------------------\u001b[0m",
      "\u001b[1;31mNameError\u001b[0m                                 Traceback (most recent call last)",
      "\u001b[1;32m<ipython-input-1-8289b7f247e6>\u001b[0m in \u001b[0;36m<module>\u001b[1;34m\u001b[0m\n\u001b[1;32m----> 1\u001b[1;33m \u001b[0mdata\u001b[0m\u001b[1;33m=\u001b[0m\u001b[0mdf\u001b[0m\u001b[1;33m[\u001b[0m\u001b[0mdf\u001b[0m\u001b[1;33m.\u001b[0m\u001b[0mCountry\u001b[0m\u001b[1;33m!=\u001b[0m\u001b[1;34m'United Kingdom'\u001b[0m\u001b[1;33m]\u001b[0m\u001b[1;33m\u001b[0m\u001b[1;33m\u001b[0m\u001b[0m\n\u001b[0m\u001b[0;32m      2\u001b[0m \u001b[0mdata\u001b[0m\u001b[1;33m=\u001b[0m \u001b[0mdata\u001b[0m\u001b[1;33m.\u001b[0m\u001b[0mloc\u001b[0m\u001b[1;33m[\u001b[0m\u001b[1;33m(\u001b[0m\u001b[0mdata\u001b[0m\u001b[1;33m[\u001b[0m\u001b[1;34m'InvoiceDate'\u001b[0m\u001b[1;33m]\u001b[0m \u001b[1;33m>=\u001b[0m \u001b[1;34m'2011-4-1'\u001b[0m\u001b[1;33m)\u001b[0m \u001b[1;33m&\u001b[0m \u001b[1;33m(\u001b[0m\u001b[0mdata\u001b[0m\u001b[1;33m[\u001b[0m\u001b[1;34m'InvoiceDate'\u001b[0m\u001b[1;33m]\u001b[0m \u001b[1;33m<=\u001b[0m \u001b[1;34m'2011-4-30'\u001b[0m\u001b[1;33m)\u001b[0m \u001b[1;33m]\u001b[0m\u001b[1;33m\u001b[0m\u001b[1;33m\u001b[0m\u001b[0m\n",
      "\u001b[1;31mNameError\u001b[0m: name 'df' is not defined"
     ]
    }
   ],
   "source": [
    "data=df[df.Country!='United Kingdom']\n",
    "data= data.loc[(data['InvoiceDate'] >= '2011-4-1') & (data['InvoiceDate'] <= '2011-4-30') ]"
   ]
  },
  {
   "cell_type": "code",
   "execution_count": null,
   "metadata": {},
   "outputs": [],
   "source": [
    "data=data.groupby('Country').sum()\n",
    "data=data[['Quantity', 'Revenue']]"
   ]
  },
  {
   "cell_type": "code",
   "execution_count": null,
   "metadata": {},
   "outputs": [],
   "source": [
    "fig = data.iplot(kind='bar', xTitle='Country', title='Cantidad Total y beneficio')"
   ]
  },
  {
   "cell_type": "code",
   "execution_count": null,
   "metadata": {},
   "outputs": [],
   "source": [
    "import plotly.graph_objects as go"
   ]
  },
  {
   "cell_type": "code",
   "execution_count": null,
   "metadata": {},
   "outputs": [],
   "source": [
    "data=df.loc[df.Description=='PARTY BUNTING']\n"
   ]
  },
  {
   "cell_type": "code",
   "execution_count": null,
   "metadata": {},
   "outputs": [],
   "source": [
    "data=data.groupby('Country').mean()\n",
    "data=data[['Quantity', 'UnitPrice']]"
   ]
  },
  {
   "cell_type": "code",
   "execution_count": null,
   "metadata": {},
   "outputs": [],
   "source": [
    "data.reset_index(inplace = True)"
   ]
  },
  {
   "cell_type": "code",
   "execution_count": null,
   "metadata": {},
   "outputs": [],
   "source": [
    "data.iplot(x= 'Quantity', y = 'UnitPrice', categories = 'Country',\n",
    "          xTitle = 'Avg qty', yTitle = 'Avg unit price',\n",
    "          color = 'blue', title = 'AVG Country')"
   ]
  },
  {
   "cell_type": "code",
   "execution_count": null,
   "metadata": {},
   "outputs": [],
   "source": [
    "import plotly.express as px\n",
    "fig = px.scatter(data, x= 'Quantity', y = 'UnitPrice', color = 'Country')\n",
    "fig"
   ]
  },
  {
   "cell_type": "code",
   "execution_count": null,
   "metadata": {},
   "outputs": [],
   "source": [
    "prod_lst=['JUMBO BAG RED RETROSPOT', 'CREAM HANGING HEART T-LIGHT HOLDER',\n",
    "          'REGENCY CAKESTAND 3 TIER']\n",
    "country_lst=['EIRE', 'Germany', 'France']\n"
   ]
  },
  {
   "cell_type": "code",
   "execution_count": null,
   "metadata": {},
   "outputs": [],
   "source": [
    "data=df.loc[df.Description.isin(prod_lst)]\n",
    "data=data.loc[data.Country.isin(country_lst)]\n"
   ]
  },
  {
   "cell_type": "code",
   "execution_count": null,
   "metadata": {},
   "outputs": [],
   "source": [
    "data_v = data.pivot_table(values = 'Revenue', columns = 'Description',\n",
    "                         index = 'Country', aggfunc = sum)\n",
    "data_v"
   ]
  },
  {
   "cell_type": "code",
   "execution_count": null,
   "metadata": {},
   "outputs": [],
   "source": [
    "data_v = data.pivot_table(values = 'Revenue', columns = 'Description',\n",
    "                         index = 'Country', aggfunc = sum)\n",
    "data_v"
   ]
  },
  {
   "cell_type": "code",
   "execution_count": null,
   "metadata": {},
   "outputs": [],
   "source": [
    "data.groupby(['Country','Description'])['Revenue'].agg(sum)"
   ]
  },
  {
   "cell_type": "code",
   "execution_count": null,
   "metadata": {},
   "outputs": [],
   "source": [
    "data_v.reset_index(inplace=True)\n",
    "data_v.iplot(kind='bar', x='Country', title='Revenue by Country',\n",
    "          xTitle='Country', yTitle='Revenue')"
   ]
  },
  {
   "cell_type": "markdown",
   "metadata": {},
   "source": [
    "# Plotly "
   ]
  },
  {
   "cell_type": "code",
   "execution_count": null,
   "metadata": {},
   "outputs": [],
   "source": [
    "import plotly.express as px\n",
    "df = px.data.iris()\n",
    "fig = px.scatter_3d(df, x='sepal_length', y='sepal_width', z='petal_width',\n",
    "              color='species')\n",
    "fig.show()"
   ]
  },
  {
   "cell_type": "code",
   "execution_count": null,
   "metadata": {},
   "outputs": [],
   "source": [
    "df = px.data.iris()\n",
    "fig = px.scatter_3d(df, x='sepal_length', y='sepal_width', z='petal_width',\n",
    "                    color='petal_length', symbol='species')\n",
    "fig.show()"
   ]
  },
  {
   "cell_type": "code",
   "execution_count": null,
   "metadata": {},
   "outputs": [],
   "source": [
    "df = px.data.iris()\n",
    "fig = px.scatter_3d(df, x='sepal_length', y='sepal_width', z='petal_width',\n",
    "              color='petal_length', size='petal_length', size_max=18,\n",
    "              symbol='species', opacity=0.7)\n",
    "\n",
    "# tight layout\n",
    "fig.update_layout(margin=dict(l=0, r=0, b=0, t=0))"
   ]
  },
  {
   "cell_type": "code",
   "execution_count": null,
   "metadata": {},
   "outputs": [],
   "source": [
    "# Helix equation\n",
    "t = np.linspace(0, 20, 100)\n",
    "x, y, z = np.cos(t), np.sin(t), t\n",
    "\n",
    "fig = go.Figure(data=[go.Scatter3d(\n",
    "    x=x,\n",
    "    y=y,\n",
    "    z=z,\n",
    "    mode='markers',\n",
    "    marker=dict(\n",
    "        size=12,\n",
    "        color=z,                # set color to an array/list of desired values\n",
    "        colorscale='Viridis',   # choose a colorscale\n",
    "        opacity=0.8\n",
    "    )\n",
    ")])\n",
    "\n",
    "# tight layout\n",
    "fig.update_layout(margin=dict(l=0, r=0, b=0, t=0))\n",
    "fig.show()"
   ]
  },
  {
   "cell_type": "code",
   "execution_count": null,
   "metadata": {},
   "outputs": [],
   "source": []
  },
  {
   "cell_type": "code",
   "execution_count": null,
   "metadata": {},
   "outputs": [],
   "source": []
  },
  {
   "cell_type": "code",
   "execution_count": null,
   "metadata": {},
   "outputs": [],
   "source": []
  }
 ],
 "metadata": {
  "kernelspec": {
   "display_name": "Python 3",
   "language": "python",
   "name": "python3"
  },
  "language_info": {
   "codemirror_mode": {
    "name": "ipython",
    "version": 3
   },
   "file_extension": ".py",
   "mimetype": "text/x-python",
   "name": "python",
   "nbconvert_exporter": "python",
   "pygments_lexer": "ipython3",
   "version": "3.7.4"
  }
 },
 "nbformat": 4,
 "nbformat_minor": 4
}
