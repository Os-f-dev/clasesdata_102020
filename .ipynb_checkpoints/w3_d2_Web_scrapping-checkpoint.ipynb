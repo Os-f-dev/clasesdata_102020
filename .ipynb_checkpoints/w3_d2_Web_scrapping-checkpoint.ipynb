{
 "cells": [
  {
   "cell_type": "code",
   "execution_count": 88,
   "metadata": {},
   "outputs": [],
   "source": [
    "import re\n",
    "import requests\n",
    "from bs4 import BeautifulSoup\n",
    "import time"
   ]
  },
  {
   "cell_type": "code",
   "execution_count": 16,
   "metadata": {},
   "outputs": [],
   "source": [
    "url = 'http://olympus.realpython.org/profiles/aphrodite'"
   ]
  },
  {
   "cell_type": "code",
   "execution_count": 17,
   "metadata": {},
   "outputs": [],
   "source": [
    "req = requests.get(url)"
   ]
  },
  {
   "cell_type": "code",
   "execution_count": 20,
   "metadata": {},
   "outputs": [
    {
     "data": {
      "text/plain": [
       "b'<html>\\n<head>\\n<title>Profile: Aphrodite</title>\\n</head>\\n<body bgcolor=\"yellow\">\\n<center>\\n<br><br>\\n<img src=\"/static/aphrodite.gif\" />\\n<h2>Name: Aphrodite</h2>\\n<br><br>\\nFavorite animal: Dove\\n<br><br>\\nFavorite color: Red\\n<br><br>\\nHometown: Mount Olympus\\n</center>\\n</body>\\n</html>\\n'"
      ]
     },
     "execution_count": 20,
     "metadata": {},
     "output_type": "execute_result"
    }
   ],
   "source": [
    "req.content"
   ]
  },
  {
   "cell_type": "code",
   "execution_count": 22,
   "metadata": {},
   "outputs": [],
   "source": [
    "req_text = req.text"
   ]
  },
  {
   "cell_type": "code",
   "execution_count": 25,
   "metadata": {},
   "outputs": [],
   "source": [
    "title_index = req_text.find(\"<title>\")"
   ]
  },
  {
   "cell_type": "code",
   "execution_count": 28,
   "metadata": {},
   "outputs": [],
   "source": [
    "start_title = title_index+len(\"<title>\")"
   ]
  },
  {
   "cell_type": "code",
   "execution_count": 35,
   "metadata": {},
   "outputs": [],
   "source": [
    "end_index = req_text.find(\"</title>\")"
   ]
  },
  {
   "cell_type": "code",
   "execution_count": 36,
   "metadata": {},
   "outputs": [
    {
     "data": {
      "text/plain": [
       "39"
      ]
     },
     "execution_count": 36,
     "metadata": {},
     "output_type": "execute_result"
    }
   ],
   "source": [
    "end_index"
   ]
  },
  {
   "cell_type": "code",
   "execution_count": 37,
   "metadata": {},
   "outputs": [],
   "source": [
    "title = req_text[start_title:end_index]"
   ]
  },
  {
   "cell_type": "code",
   "execution_count": 38,
   "metadata": {},
   "outputs": [
    {
     "data": {
      "text/plain": [
       "'Profile: Aphrodite'"
      ]
     },
     "execution_count": 38,
     "metadata": {},
     "output_type": "execute_result"
    }
   ],
   "source": [
    "title"
   ]
  },
  {
   "cell_type": "code",
   "execution_count": 39,
   "metadata": {},
   "outputs": [],
   "source": [
    "pattern = \"<title.*?>.*?</title.?>\""
   ]
  },
  {
   "cell_type": "code",
   "execution_count": 42,
   "metadata": {},
   "outputs": [],
   "source": [
    "match = re.search(pattern,req_text, re.IGNORECASE)"
   ]
  },
  {
   "cell_type": "code",
   "execution_count": 43,
   "metadata": {},
   "outputs": [],
   "source": [
    "title = match.group()"
   ]
  },
  {
   "cell_type": "code",
   "execution_count": 47,
   "metadata": {},
   "outputs": [
    {
     "data": {
      "text/plain": [
       "'Profile: Aphrodite'"
      ]
     },
     "execution_count": 47,
     "metadata": {},
     "output_type": "execute_result"
    }
   ],
   "source": [
    "title_clean = re.sub(\"<.*?>\",\"\", title)\n",
    "title_clean"
   ]
  },
  {
   "cell_type": "code",
   "execution_count": 53,
   "metadata": {},
   "outputs": [],
   "source": [
    "match_2 = re.sub(pattern,\"\",req_text, re.IGNORECASE)"
   ]
  },
  {
   "cell_type": "code",
   "execution_count": 55,
   "metadata": {},
   "outputs": [
    {
     "ename": "TypeError",
     "evalue": "replace() takes no keyword arguments",
     "output_type": "error",
     "traceback": [
      "\u001b[1;31m---------------------------------------------------------------------------\u001b[0m",
      "\u001b[1;31mTypeError\u001b[0m                                 Traceback (most recent call last)",
      "\u001b[1;32m<ipython-input-55-36317a20a6a9>\u001b[0m in \u001b[0;36m<module>\u001b[1;34m\u001b[0m\n\u001b[1;32m----> 1\u001b[1;33m \u001b[0mreq_text\u001b[0m\u001b[1;33m.\u001b[0m\u001b[0mreplace\u001b[0m\u001b[1;33m(\u001b[0m\u001b[0mpattern\u001b[0m\u001b[1;33m,\u001b[0m\u001b[0mpattern\u001b[0m\u001b[1;33m,\u001b[0m \u001b[0mregex\u001b[0m \u001b[1;33m=\u001b[0m \u001b[1;32mTrue\u001b[0m\u001b[1;33m)\u001b[0m\u001b[1;33m\u001b[0m\u001b[1;33m\u001b[0m\u001b[0m\n\u001b[0m",
      "\u001b[1;31mTypeError\u001b[0m: replace() takes no keyword arguments"
     ]
    }
   ],
   "source": [
    "req_text.replace(pattern,pattern, regex = True)"
   ]
  },
  {
   "cell_type": "code",
   "execution_count": null,
   "metadata": {},
   "outputs": [],
   "source": [
    "url = 'http://olympus.realpython.org/profiles/dionysus'"
   ]
  },
  {
   "cell_type": "code",
   "execution_count": 63,
   "metadata": {},
   "outputs": [],
   "source": [
    "req = requests.get(url)"
   ]
  },
  {
   "cell_type": "code",
   "execution_count": 64,
   "metadata": {},
   "outputs": [],
   "source": [
    "sopa = BeautifulSoup(req.content, 'html.parser') #xml"
   ]
  },
  {
   "cell_type": "code",
   "execution_count": 66,
   "metadata": {},
   "outputs": [
    {
     "data": {
      "text/plain": [
       "<html>\n",
       "<head>\n",
       "<title>Profile: Dionysus</title>\n",
       "</head>\n",
       "<body bgcolor=\"yellow\">\n",
       "<center>\n",
       "<br/><br/>\n",
       "<img src=\"/static/dionysus.jpg\"/>\n",
       "<h2>Name: Dionysus</h2>\n",
       "<img src=\"/static/grapes.png\"/><br/><br/>\n",
       "Hometown: Mount Olympus\n",
       "<br/><br/>\n",
       "Favorite animal: Leopard <br/>\n",
       "<br/>\n",
       "Favorite Color: Wine\n",
       "</center>\n",
       "</body>\n",
       "</html>"
      ]
     },
     "execution_count": 66,
     "metadata": {},
     "output_type": "execute_result"
    }
   ],
   "source": [
    "sopa"
   ]
  },
  {
   "cell_type": "code",
   "execution_count": 67,
   "metadata": {},
   "outputs": [
    {
     "data": {
      "text/plain": [
       "'Profile: Dionysus'"
      ]
     },
     "execution_count": 67,
     "metadata": {},
     "output_type": "execute_result"
    }
   ],
   "source": [
    "sopa.title.text"
   ]
  },
  {
   "cell_type": "code",
   "execution_count": 68,
   "metadata": {},
   "outputs": [
    {
     "data": {
      "text/plain": [
       "<img src=\"/static/dionysus.jpg\"/>"
      ]
     },
     "execution_count": 68,
     "metadata": {},
     "output_type": "execute_result"
    }
   ],
   "source": [
    "sopa.find('img')"
   ]
  },
  {
   "cell_type": "code",
   "execution_count": 70,
   "metadata": {},
   "outputs": [],
   "source": [
    "img1, img2 = sopa.find_all('img')"
   ]
  },
  {
   "cell_type": "code",
   "execution_count": 72,
   "metadata": {},
   "outputs": [
    {
     "data": {
      "text/plain": [
       "'img'"
      ]
     },
     "execution_count": 72,
     "metadata": {},
     "output_type": "execute_result"
    }
   ],
   "source": [
    "img1.name"
   ]
  },
  {
   "cell_type": "code",
   "execution_count": 74,
   "metadata": {},
   "outputs": [
    {
     "data": {
      "text/plain": [
       "'/static/dionysus.jpg'"
      ]
     },
     "execution_count": 74,
     "metadata": {},
     "output_type": "execute_result"
    }
   ],
   "source": [
    "img1['src']"
   ]
  },
  {
   "cell_type": "code",
   "execution_count": 78,
   "metadata": {},
   "outputs": [
    {
     "data": {
      "text/plain": [
       "[<img src=\"/static/dionysus.jpg\"/>]"
      ]
     },
     "execution_count": 78,
     "metadata": {},
     "output_type": "execute_result"
    }
   ],
   "source": [
    "sopa.find_all(\"img\", src = \"/static/dionysus.jpg\")"
   ]
  },
  {
   "cell_type": "code",
   "execution_count": 79,
   "metadata": {
    "scrolled": true
   },
   "outputs": [
    {
     "name": "stdout",
     "output_type": "stream",
     "text": [
      "Defaulting to user installation because normal site-packages is not writeable\n",
      "Collecting mechanicalsoup\n",
      "  Downloading MechanicalSoup-0.12.0-py2.py3-none-any.whl (18 kB)\n",
      "Requirement already satisfied: lxml in c:\\users\\gralg\\appdata\\roaming\\python\\python37\\site-packages (from mechanicalsoup) (4.6.1)\n",
      "Requirement already satisfied: requests>=2.0 in c:\\users\\gralg\\appdata\\roaming\\python\\python37\\site-packages (from mechanicalsoup) (2.24.0)\n",
      "Requirement already satisfied: six>=1.4 in c:\\users\\gralg\\appdata\\roaming\\python\\python37\\site-packages (from mechanicalsoup) (1.15.0)\n",
      "Requirement already satisfied: beautifulsoup4>=4.4 in c:\\users\\gralg\\appdata\\roaming\\python\\python37\\site-packages (from mechanicalsoup) (4.9.1)\n",
      "Requirement already satisfied: urllib3!=1.25.0,!=1.25.1,<1.26,>=1.21.1 in c:\\users\\gralg\\appdata\\roaming\\python\\python37\\site-packages (from requests>=2.0->mechanicalsoup) (1.25.10)\n",
      "Requirement already satisfied: idna<3,>=2.5 in c:\\users\\gralg\\appdata\\roaming\\python\\python37\\site-packages (from requests>=2.0->mechanicalsoup) (2.10)\n",
      "Requirement already satisfied: chardet<4,>=3.0.2 in c:\\users\\gralg\\appdata\\roaming\\python\\python37\\site-packages (from requests>=2.0->mechanicalsoup) (3.0.4)\n",
      "Requirement already satisfied: certifi>=2017.4.17 in c:\\users\\gralg\\appdata\\roaming\\python\\python37\\site-packages (from requests>=2.0->mechanicalsoup) (2020.6.20)\n",
      "Requirement already satisfied: soupsieve>1.2 in c:\\users\\gralg\\appdata\\roaming\\python\\python37\\site-packages (from beautifulsoup4>=4.4->mechanicalsoup) (2.0.1)\n",
      "Installing collected packages: mechanicalsoup\n",
      "Successfully installed mechanicalsoup-0.12.0\n"
     ]
    },
    {
     "name": "stderr",
     "output_type": "stream",
     "text": [
      "WARNING: pip is being invoked by an old script wrapper. This will fail in a future version of pip.\n",
      "Please see https://github.com/pypa/pip/issues/5599 for advice on fixing the underlying issue.\n",
      "To avoid this problem you can invoke Python with '-m pip' instead of running pip directly.\n",
      "WARNING: You are using pip version 20.2.3; however, version 20.2.4 is available.\n",
      "You should consider upgrading via the 'c:\\program files\\python.exe -m pip install --upgrade pip' command.\n"
     ]
    }
   ],
   "source": [
    "!pip install mechanicalsoup"
   ]
  },
  {
   "cell_type": "code",
   "execution_count": 80,
   "metadata": {},
   "outputs": [],
   "source": [
    "import mechanicalsoup"
   ]
  },
  {
   "cell_type": "code",
   "execution_count": 81,
   "metadata": {},
   "outputs": [],
   "source": [
    "browser = mechanicalsoup.Browser()\n",
    "page = browser.get('http://olympus.realpython.org/dice')"
   ]
  },
  {
   "cell_type": "code",
   "execution_count": 90,
   "metadata": {},
   "outputs": [],
   "source": [
    "tag = page.soup.select(\"#result\")"
   ]
  },
  {
   "cell_type": "code",
   "execution_count": 91,
   "metadata": {},
   "outputs": [
    {
     "data": {
      "text/plain": [
       "[<h2 id=\"result\">4</h2>]"
      ]
     },
     "execution_count": 91,
     "metadata": {},
     "output_type": "execute_result"
    }
   ],
   "source": [
    "tag"
   ]
  },
  {
   "cell_type": "code",
   "execution_count": 86,
   "metadata": {},
   "outputs": [],
   "source": [
    "result = tag.text"
   ]
  },
  {
   "cell_type": "code",
   "execution_count": 87,
   "metadata": {},
   "outputs": [
    {
     "data": {
      "text/plain": [
       "'3'"
      ]
     },
     "execution_count": 87,
     "metadata": {},
     "output_type": "execute_result"
    }
   ],
   "source": [
    "result"
   ]
  },
  {
   "cell_type": "code",
   "execution_count": 89,
   "metadata": {},
   "outputs": [
    {
     "name": "stdout",
     "output_type": "stream",
     "text": [
      "El resultado del dado es : 5\n",
      "El resultado del dado es : 6\n",
      "El resultado del dado es : 3\n",
      "El resultado del dado es : 4\n"
     ]
    }
   ],
   "source": [
    "for i in range(4):\n",
    "    page = browser.get('http://olympus.realpython.org/dice')\n",
    "    tag = page.soup.select(\"#result\")[0]\n",
    "    result = tag.text\n",
    "    print(f'El resultado del dado es : {result}')\n",
    "    time.sleep(2)"
   ]
  },
  {
   "cell_type": "code",
   "execution_count": 92,
   "metadata": {},
   "outputs": [],
   "source": [
    "page = browser.get('http://olympus.realpython.org/login')"
   ]
  },
  {
   "cell_type": "code",
   "execution_count": 94,
   "metadata": {},
   "outputs": [],
   "source": [
    "page_sopa = page.soup"
   ]
  },
  {
   "cell_type": "code",
   "execution_count": 96,
   "metadata": {},
   "outputs": [],
   "source": [
    "form = page_sopa.select(\"form\")[0]\n",
    "form.select(\"input\")[0][\"value\"] = \"zeus\"\n",
    "form.select(\"input\")[1][\"value\"] = \"ThunderDude\""
   ]
  },
  {
   "cell_type": "code",
   "execution_count": 97,
   "metadata": {},
   "outputs": [
    {
     "ename": "TypeError",
     "evalue": "Cannot mix str and non-str arguments",
     "output_type": "error",
     "traceback": [
      "\u001b[1;31m---------------------------------------------------------------------------\u001b[0m",
      "\u001b[1;31mTypeError\u001b[0m                                 Traceback (most recent call last)",
      "\u001b[1;32m<ipython-input-97-76cf12b2f134>\u001b[0m in \u001b[0;36m<module>\u001b[1;34m\u001b[0m\n\u001b[1;32m----> 1\u001b[1;33m \u001b[0mprofiles_page\u001b[0m \u001b[1;33m=\u001b[0m \u001b[0mbrowser\u001b[0m\u001b[1;33m.\u001b[0m\u001b[0msubmit\u001b[0m\u001b[1;33m(\u001b[0m\u001b[0mform\u001b[0m\u001b[1;33m,\u001b[0m \u001b[0mpage\u001b[0m\u001b[1;33m)\u001b[0m\u001b[1;33m\u001b[0m\u001b[1;33m\u001b[0m\u001b[0m\n\u001b[0m",
      "\u001b[1;32m~\\AppData\\Roaming\\Python\\Python37\\site-packages\\mechanicalsoup\\browser.py\u001b[0m in \u001b[0;36msubmit\u001b[1;34m(self, form, url, **kwargs)\u001b[0m\n\u001b[0;32m    262\u001b[0m         \u001b[1;32mif\u001b[0m \u001b[0misinstance\u001b[0m\u001b[1;33m(\u001b[0m\u001b[0mform\u001b[0m\u001b[1;33m,\u001b[0m \u001b[0mForm\u001b[0m\u001b[1;33m)\u001b[0m\u001b[1;33m:\u001b[0m\u001b[1;33m\u001b[0m\u001b[1;33m\u001b[0m\u001b[0m\n\u001b[0;32m    263\u001b[0m             \u001b[0mform\u001b[0m \u001b[1;33m=\u001b[0m \u001b[0mform\u001b[0m\u001b[1;33m.\u001b[0m\u001b[0mform\u001b[0m\u001b[1;33m\u001b[0m\u001b[1;33m\u001b[0m\u001b[0m\n\u001b[1;32m--> 264\u001b[1;33m         \u001b[0mresponse\u001b[0m \u001b[1;33m=\u001b[0m \u001b[0mself\u001b[0m\u001b[1;33m.\u001b[0m\u001b[0m_request\u001b[0m\u001b[1;33m(\u001b[0m\u001b[0mform\u001b[0m\u001b[1;33m,\u001b[0m \u001b[0murl\u001b[0m\u001b[1;33m,\u001b[0m \u001b[1;33m**\u001b[0m\u001b[0mkwargs\u001b[0m\u001b[1;33m)\u001b[0m\u001b[1;33m\u001b[0m\u001b[1;33m\u001b[0m\u001b[0m\n\u001b[0m\u001b[0;32m    265\u001b[0m         \u001b[0mBrowser\u001b[0m\u001b[1;33m.\u001b[0m\u001b[0madd_soup\u001b[0m\u001b[1;33m(\u001b[0m\u001b[0mresponse\u001b[0m\u001b[1;33m,\u001b[0m \u001b[0mself\u001b[0m\u001b[1;33m.\u001b[0m\u001b[0msoup_config\u001b[0m\u001b[1;33m)\u001b[0m\u001b[1;33m\u001b[0m\u001b[1;33m\u001b[0m\u001b[0m\n\u001b[0;32m    266\u001b[0m         \u001b[1;32mreturn\u001b[0m \u001b[0mresponse\u001b[0m\u001b[1;33m\u001b[0m\u001b[1;33m\u001b[0m\u001b[0m\n",
      "\u001b[1;32m~\\AppData\\Roaming\\Python\\Python37\\site-packages\\mechanicalsoup\\browser.py\u001b[0m in \u001b[0;36m_request\u001b[1;34m(self, form, url, **kwargs)\u001b[0m\n\u001b[0;32m    144\u001b[0m         \u001b[0mmethod\u001b[0m \u001b[1;33m=\u001b[0m \u001b[0mstr\u001b[0m\u001b[1;33m(\u001b[0m\u001b[0mform\u001b[0m\u001b[1;33m.\u001b[0m\u001b[0mget\u001b[0m\u001b[1;33m(\u001b[0m\u001b[1;34m\"method\"\u001b[0m\u001b[1;33m,\u001b[0m \u001b[1;34m\"get\"\u001b[0m\u001b[1;33m)\u001b[0m\u001b[1;33m)\u001b[0m\u001b[1;33m\u001b[0m\u001b[1;33m\u001b[0m\u001b[0m\n\u001b[0;32m    145\u001b[0m         \u001b[0maction\u001b[0m \u001b[1;33m=\u001b[0m \u001b[0mform\u001b[0m\u001b[1;33m.\u001b[0m\u001b[0mget\u001b[0m\u001b[1;33m(\u001b[0m\u001b[1;34m\"action\"\u001b[0m\u001b[1;33m)\u001b[0m\u001b[1;33m\u001b[0m\u001b[1;33m\u001b[0m\u001b[0m\n\u001b[1;32m--> 146\u001b[1;33m         \u001b[0murl\u001b[0m \u001b[1;33m=\u001b[0m \u001b[0murllib\u001b[0m\u001b[1;33m.\u001b[0m\u001b[0mparse\u001b[0m\u001b[1;33m.\u001b[0m\u001b[0murljoin\u001b[0m\u001b[1;33m(\u001b[0m\u001b[0murl\u001b[0m\u001b[1;33m,\u001b[0m \u001b[0maction\u001b[0m\u001b[1;33m)\u001b[0m\u001b[1;33m\u001b[0m\u001b[1;33m\u001b[0m\u001b[0m\n\u001b[0m\u001b[0;32m    147\u001b[0m         \u001b[1;32mif\u001b[0m \u001b[0murl\u001b[0m \u001b[1;32mis\u001b[0m \u001b[1;32mNone\u001b[0m\u001b[1;33m:\u001b[0m  \u001b[1;31m# This happens when both `action` and `url` are None.\u001b[0m\u001b[1;33m\u001b[0m\u001b[1;33m\u001b[0m\u001b[0m\n\u001b[0;32m    148\u001b[0m             \u001b[1;32mraise\u001b[0m \u001b[0mValueError\u001b[0m\u001b[1;33m(\u001b[0m\u001b[1;34m'no URL to submit to'\u001b[0m\u001b[1;33m)\u001b[0m\u001b[1;33m\u001b[0m\u001b[1;33m\u001b[0m\u001b[0m\n",
      "\u001b[1;32mc:\\program files\\lib\\urllib\\parse.py\u001b[0m in \u001b[0;36murljoin\u001b[1;34m(base, url, allow_fragments)\u001b[0m\n\u001b[0;32m    505\u001b[0m         \u001b[1;32mreturn\u001b[0m \u001b[0mbase\u001b[0m\u001b[1;33m\u001b[0m\u001b[1;33m\u001b[0m\u001b[0m\n\u001b[0;32m    506\u001b[0m \u001b[1;33m\u001b[0m\u001b[0m\n\u001b[1;32m--> 507\u001b[1;33m     \u001b[0mbase\u001b[0m\u001b[1;33m,\u001b[0m \u001b[0murl\u001b[0m\u001b[1;33m,\u001b[0m \u001b[0m_coerce_result\u001b[0m \u001b[1;33m=\u001b[0m \u001b[0m_coerce_args\u001b[0m\u001b[1;33m(\u001b[0m\u001b[0mbase\u001b[0m\u001b[1;33m,\u001b[0m \u001b[0murl\u001b[0m\u001b[1;33m)\u001b[0m\u001b[1;33m\u001b[0m\u001b[1;33m\u001b[0m\u001b[0m\n\u001b[0m\u001b[0;32m    508\u001b[0m     \u001b[0mbscheme\u001b[0m\u001b[1;33m,\u001b[0m \u001b[0mbnetloc\u001b[0m\u001b[1;33m,\u001b[0m \u001b[0mbpath\u001b[0m\u001b[1;33m,\u001b[0m \u001b[0mbparams\u001b[0m\u001b[1;33m,\u001b[0m \u001b[0mbquery\u001b[0m\u001b[1;33m,\u001b[0m \u001b[0mbfragment\u001b[0m \u001b[1;33m=\u001b[0m\u001b[0;31m \u001b[0m\u001b[0;31m\\\u001b[0m\u001b[1;33m\u001b[0m\u001b[1;33m\u001b[0m\u001b[0m\n\u001b[0;32m    509\u001b[0m             \u001b[0murlparse\u001b[0m\u001b[1;33m(\u001b[0m\u001b[0mbase\u001b[0m\u001b[1;33m,\u001b[0m \u001b[1;34m''\u001b[0m\u001b[1;33m,\u001b[0m \u001b[0mallow_fragments\u001b[0m\u001b[1;33m)\u001b[0m\u001b[1;33m\u001b[0m\u001b[1;33m\u001b[0m\u001b[0m\n",
      "\u001b[1;32mc:\\program files\\lib\\urllib\\parse.py\u001b[0m in \u001b[0;36m_coerce_args\u001b[1;34m(*args)\u001b[0m\n\u001b[0;32m    118\u001b[0m         \u001b[1;31m# \"scheme=''\" default argument to some functions\u001b[0m\u001b[1;33m\u001b[0m\u001b[1;33m\u001b[0m\u001b[1;33m\u001b[0m\u001b[0m\n\u001b[0;32m    119\u001b[0m         \u001b[1;32mif\u001b[0m \u001b[0marg\u001b[0m \u001b[1;32mand\u001b[0m \u001b[0misinstance\u001b[0m\u001b[1;33m(\u001b[0m\u001b[0marg\u001b[0m\u001b[1;33m,\u001b[0m \u001b[0mstr\u001b[0m\u001b[1;33m)\u001b[0m \u001b[1;33m!=\u001b[0m \u001b[0mstr_input\u001b[0m\u001b[1;33m:\u001b[0m\u001b[1;33m\u001b[0m\u001b[1;33m\u001b[0m\u001b[0m\n\u001b[1;32m--> 120\u001b[1;33m             \u001b[1;32mraise\u001b[0m \u001b[0mTypeError\u001b[0m\u001b[1;33m(\u001b[0m\u001b[1;34m\"Cannot mix str and non-str arguments\"\u001b[0m\u001b[1;33m)\u001b[0m\u001b[1;33m\u001b[0m\u001b[1;33m\u001b[0m\u001b[0m\n\u001b[0m\u001b[0;32m    121\u001b[0m     \u001b[1;32mif\u001b[0m \u001b[0mstr_input\u001b[0m\u001b[1;33m:\u001b[0m\u001b[1;33m\u001b[0m\u001b[1;33m\u001b[0m\u001b[0m\n\u001b[0;32m    122\u001b[0m         \u001b[1;32mreturn\u001b[0m \u001b[0margs\u001b[0m \u001b[1;33m+\u001b[0m \u001b[1;33m(\u001b[0m\u001b[0m_noop\u001b[0m\u001b[1;33m,\u001b[0m\u001b[1;33m)\u001b[0m\u001b[1;33m\u001b[0m\u001b[1;33m\u001b[0m\u001b[0m\n",
      "\u001b[1;31mTypeError\u001b[0m: Cannot mix str and non-str arguments"
     ]
    }
   ],
   "source": [
    "profiles_page = browser.submit(form, page)"
   ]
  },
  {
   "cell_type": "code",
   "execution_count": 98,
   "metadata": {},
   "outputs": [
    {
     "data": {
      "text/plain": [
       "<Response [200]>"
      ]
     },
     "execution_count": 98,
     "metadata": {},
     "output_type": "execute_result"
    }
   ],
   "source": [
    "url = 'https://es.wikipedia.org/wiki/Premios_del_Cine_Europeo'\n",
    "\n",
    "req = requests.get(url)\n",
    "req"
   ]
  },
  {
   "cell_type": "code",
   "execution_count": 99,
   "metadata": {},
   "outputs": [
    {
     "data": {
      "text/plain": [
       "<!DOCTYPE html>\n",
       "\n",
       "<html class=\"client-nojs\" dir=\"ltr\" lang=\"es\">\n",
       "<head>\n",
       "<meta charset=\"utf-8\"/>\n",
       "<title>Premios del Cine Europeo - Wikipedia, la enciclopedia libre</title>\n",
       "<script>document.documentElement.className=\"client-js\";RLCONF={\"wgBreakFrames\":!1,\"wgSeparatorTransformTable\":[\",\\t.\",\" \\t,\"],\"wgDigitTransformTable\":[\"\",\"\"],\"wgDefaultDateFormat\":\"dmy\",\"wgMonthNames\":[\"\",\"enero\",\"febrero\",\"marzo\",\"abril\",\"mayo\",\"junio\",\"julio\",\"agosto\",\"septiembre\",\"octubre\",\"noviembre\",\"diciembre\"],\"wgRequestId\":\"15c985c0-6e50-476d-87ed-ab3edca7ac0c\",\"wgCSPNonce\":!1,\"wgCanonicalNamespace\":\"\",\"wgCanonicalSpecialPageName\":!1,\"wgNamespaceNumber\":0,\"wgPageName\":\"Premios_del_Cine_Europeo\",\"wgTitle\":\"Premios del Cine Europeo\",\"wgCurRevisionId\":124081417,\"wgRevisionId\":124081417,\"wgArticleId\":406088,\"wgIsArticle\":!0,\"wgIsRedirect\":!1,\"wgAction\":\"view\",\"wgUserName\":null,\"wgUserGroups\":[\"*\"],\"wgCategories\":[\"Wikipedia:Artículos con datos por trasladar a Wikidata\",\"Wikipedia:Artículos con identificadores GND\",\"Premios del Cine Europeo\"],\"wgPageContentLanguage\":\"es\",\"wgPageContentModel\":\"wikitext\",\"wgRelevantPageName\":\"Premios_del_Cine_Europeo\",\"wgRelevantArticleId\":\n",
       "406088,\"wgIsProbablyEditable\":!0,\"wgRelevantPageIsProbablyEditable\":!0,\"wgRestrictionEdit\":[],\"wgRestrictionMove\":[],\"wgMediaViewerOnClick\":!0,\"wgMediaViewerEnabledByDefault\":!0,\"wgPopupsReferencePreviews\":!1,\"wgPopupsConflictsWithNavPopupGadget\":!1,\"wgVisualEditor\":{\"pageLanguageCode\":\"es\",\"pageLanguageDir\":\"ltr\",\"pageVariantFallbacks\":\"es\"},\"wgMFDisplayWikibaseDescriptions\":{\"search\":!0,\"nearby\":!0,\"watchlist\":!0,\"tagline\":!0},\"wgWMESchemaEditAttemptStepOversample\":!1,\"wgULSCurrentAutonym\":\"español\",\"wgNoticeProject\":\"wikipedia\",\"wgCentralAuthMobileDomain\":!1,\"wgEditSubmitButtonLabelPublish\":!0,\"wgULSPosition\":\"interlanguage\",\"wgWikibaseItemId\":\"Q223740\"};RLSTATE={\"ext.gadget.imagenesinfobox\":\"ready\",\"ext.globalCssJs.user.styles\":\"ready\",\"site.styles\":\"ready\",\"noscript\":\"ready\",\"user.styles\":\"ready\",\"ext.globalCssJs.user\":\"ready\",\"user\":\"ready\",\"user.options\":\"loading\",\"ext.cite.styles\":\"ready\",\"skins.vector.styles.legacy\":\"ready\",\n",
       "\"jquery.tablesorter.styles\":\"ready\",\"mediawiki.toc.styles\":\"ready\",\"ext.visualEditor.desktopArticleTarget.noscript\":\"ready\",\"ext.uls.interlanguage\":\"ready\",\"ext.wikimediaBadges\":\"ready\",\"wikibase.client.init\":\"ready\"};RLPAGEMODULES=[\"ext.cite.ux-enhancements\",\"site\",\"mediawiki.page.ready\",\"jquery.tablesorter\",\"mediawiki.toc\",\"skins.vector.legacy.js\",\"ext.gadget.a-commons-directo\",\"ext.gadget.ReferenceTooltips\",\"ext.gadget.refToolbar\",\"ext.centralauth.centralautologin\",\"mmv.head\",\"mmv.bootstrap.autostart\",\"ext.popups\",\"ext.visualEditor.desktopArticleTarget.init\",\"ext.visualEditor.targetLoader\",\"ext.eventLogging\",\"ext.wikimediaEvents\",\"ext.navigationTiming\",\"ext.uls.compactlinks\",\"ext.uls.interface\",\"ext.cx.eventlogging.campaigns\",\"ext.quicksurveys.init\",\"ext.centralNotice.geoIP\",\"ext.centralNotice.startUp\"];</script>\n",
       "<script>(RLQ=window.RLQ||[]).push(function(){mw.loader.implement(\"user.options@1hzgi\",function($,jQuery,require,module){/*@nomin*/mw.user.tokens.set({\"patrolToken\":\"+\\\\\",\"watchToken\":\"+\\\\\",\"csrfToken\":\"+\\\\\"});mw.user.options.set({\"variant\":\"es\"});\n",
       "});});</script>\n",
       "<link href=\"/w/load.php?lang=es&amp;modules=ext.cite.styles%7Cext.uls.interlanguage%7Cext.visualEditor.desktopArticleTarget.noscript%7Cext.wikimediaBadges%7Cjquery.tablesorter.styles%7Cmediawiki.toc.styles%7Cskins.vector.styles.legacy%7Cwikibase.client.init&amp;only=styles&amp;skin=vector\" rel=\"stylesheet\"/>\n",
       "<script async=\"\" src=\"/w/load.php?lang=es&amp;modules=startup&amp;only=scripts&amp;raw=1&amp;skin=vector\"></script>\n",
       "<meta content=\"\" name=\"ResourceLoaderDynamicStyles\"/>\n",
       "<link href=\"/w/load.php?lang=es&amp;modules=ext.gadget.imagenesinfobox&amp;only=styles&amp;skin=vector\" rel=\"stylesheet\"/>\n",
       "<link href=\"/w/load.php?lang=es&amp;modules=site.styles&amp;only=styles&amp;skin=vector\" rel=\"stylesheet\"/>\n",
       "<noscript><link href=\"/w/load.php?lang=es&amp;modules=noscript&amp;only=styles&amp;skin=vector\" rel=\"stylesheet\"/></noscript>\n",
       "<meta content=\"MediaWiki 1.36.0-wmf.14\" name=\"generator\"/>\n",
       "<meta content=\"origin\" name=\"referrer\"/>\n",
       "<meta content=\"origin-when-crossorigin\" name=\"referrer\"/>\n",
       "<meta content=\"origin-when-cross-origin\" name=\"referrer\"/>\n",
       "<link href=\"//es.m.wikipedia.org/wiki/Premios_del_Cine_Europeo\" media=\"only screen and (max-width: 720px)\" rel=\"alternate\"/>\n",
       "<link href=\"/w/index.php?title=Premios_del_Cine_Europeo&amp;action=edit\" rel=\"alternate\" title=\"Editar\" type=\"application/x-wiki\"/>\n",
       "<link href=\"/w/index.php?title=Premios_del_Cine_Europeo&amp;action=edit\" rel=\"edit\" title=\"Editar\"/>\n",
       "<link href=\"/static/apple-touch/wikipedia.png\" rel=\"apple-touch-icon\"/>\n",
       "<link href=\"/static/favicon/wikipedia.ico\" rel=\"shortcut icon\"/>\n",
       "<link href=\"/w/opensearch_desc.php\" rel=\"search\" title=\"Wikipedia (es)\" type=\"application/opensearchdescription+xml\"/>\n",
       "<link href=\"//es.wikipedia.org/w/api.php?action=rsd\" rel=\"EditURI\" type=\"application/rsd+xml\"/>\n",
       "<link href=\"//creativecommons.org/licenses/by-sa/3.0/\" rel=\"license\"/>\n",
       "<link href=\"https://es.wikipedia.org/wiki/Premios_del_Cine_Europeo\" rel=\"canonical\"/>\n",
       "<link href=\"//login.wikimedia.org\" rel=\"dns-prefetch\"/>\n",
       "<link href=\"//meta.wikimedia.org\" rel=\"dns-prefetch\"/>\n",
       "</head>\n",
       "<body class=\"mediawiki ltr sitedir-ltr mw-hide-empty-elt ns-0 ns-subject mw-editable page-Premios_del_Cine_Europeo rootpage-Premios_del_Cine_Europeo skin-vector action-view skin-vector-legacy\"><div class=\"noprint\" id=\"mw-page-base\"></div>\n",
       "<div class=\"noprint\" id=\"mw-head-base\"></div>\n",
       "<div class=\"mw-body\" id=\"content\" role=\"main\">\n",
       "<a id=\"top\"></a>\n",
       "<div class=\"mw-body-content\" id=\"siteNotice\"><!-- CentralNotice --></div>\n",
       "<div class=\"mw-indicators mw-body-content\">\n",
       "</div>\n",
       "<h1 class=\"firstHeading\" id=\"firstHeading\" lang=\"es\">Premios del Cine Europeo</h1>\n",
       "<div class=\"mw-body-content\" id=\"bodyContent\">\n",
       "<div class=\"noprint\" id=\"siteSub\">De Wikipedia, la enciclopedia libre</div>\n",
       "<div id=\"contentSub\"></div>\n",
       "<div id=\"contentSub2\"></div>\n",
       "<div id=\"jump-to-nav\"></div>\n",
       "<a class=\"mw-jump-link\" href=\"#mw-head\">Ir a la navegación</a>\n",
       "<a class=\"mw-jump-link\" href=\"#searchInput\">Ir a la búsqueda</a>\n",
       "<div class=\"mw-content-ltr\" dir=\"ltr\" id=\"mw-content-text\" lang=\"es\"><div class=\"mw-parser-output\"><table class=\"infobox\" style=\"width:22.7em; line-height: 1.4em; text-align:left; padding:.23em;\"><tbody><tr><th class=\"cabecera\" colspan=\"3\" style=\"text-align:center;background-color:#FFEC80;color:black;\">Premio del cine europeo</th></tr><tr><th scope=\"row\" style=\"text-align:left;font-size: 92%; width: 36%;;\">Premio a</th><td colspan=\"2\" style=\"font-size: 92%;;\">\n",
       "A la excelencia en logros <a href=\"/wiki/Cine\" title=\"Cine\">cinematográficos</a> europeos</td></tr><tr><th scope=\"row\" style=\"text-align:left;font-size: 92%; width: 36%;;\">Otorgado por</th><td colspan=\"2\" style=\"font-size: 92%;;\">\n",
       "<a href=\"/wiki/Academia_de_Cine_Europeo\" title=\"Academia de Cine Europeo\">Academia de Cine Europeo</a></td></tr><tr><th scope=\"row\" style=\"text-align:left;font-size: 92%; width: 36%;;\">Ubicación</th><td colspan=\"2\" style=\"font-size: 92%;;\">\n",
       "<span class=\"flagicon\"><img alt=\"Bandera de Unión Europea\" class=\"thumbborder\" data-file-height=\"540\" data-file-width=\"810\" decoding=\"async\" height=\"13\" src=\"//upload.wikimedia.org/wikipedia/commons/thumb/b/b7/Flag_of_Europe.svg/20px-Flag_of_Europe.svg.png\" srcset=\"//upload.wikimedia.org/wikipedia/commons/thumb/b/b7/Flag_of_Europe.svg/30px-Flag_of_Europe.svg.png 1.5x, //upload.wikimedia.org/wikipedia/commons/thumb/b/b7/Flag_of_Europe.svg/40px-Flag_of_Europe.svg.png 2x\" title=\"Bandera de Unión Europea\" width=\"20\"/></span> <a href=\"/wiki/Europa\" title=\"Europa\">Europa</a></td></tr><tr><th colspan=\"3\" style=\"text-align:center;background-color:#FFEC80;\">Historia</th></tr><tr><th scope=\"row\" style=\"text-align:left;font-size: 92%; width: 36%;;\">Primera entrega</th><td colspan=\"2\" style=\"font-size: 92%;;\">\n",
       "<a href=\"/wiki/1988\" title=\"1988\">1988</a></td></tr><tr><td colspan=\"3\" style=\"text-align:center;background-color:#FFEC80;\"><a class=\"external text\" href=\"http://www.europeanfilmacademy.org/\" rel=\"nofollow\">Sitio web oficial</a></td></tr><tr><td class=\"noprint\" colspan=\"3\" style=\"text-align:left;\"><div class=\"plainlinks wikidata-link\" style=\"font-size: 0.85em\">[<a class=\"extiw\" href=\"https://www.wikidata.org/wiki/Q223740\" title=\"d:Q223740\">editar datos en Wikidata</a>]</div></td></tr></tbody></table>\n",
       "<p>Los <b>Premios del Cine Europeo</b> (<i>European Film Awards</i>, en inglés) se conceden anualmente por la <a href=\"/wiki/Academia_de_Cine_Europeo\" title=\"Academia de Cine Europeo\">Academia de Cine Europeo</a> para reconocer la excelencia en las producciones cinematográficas. Son los más prestigiosos premios paneuropeos.\n",
       "</p>\n",
       "<div aria-labelledby=\"mw-toc-heading\" class=\"toc\" id=\"toc\" role=\"navigation\"><input class=\"toctogglecheckbox\" id=\"toctogglecheckbox\" role=\"button\" style=\"display:none\" type=\"checkbox\"/><div class=\"toctitle\" dir=\"ltr\" lang=\"es\"><h2 id=\"mw-toc-heading\">Índice</h2><span class=\"toctogglespan\"><label class=\"toctogglelabel\" for=\"toctogglecheckbox\"></label></span></div>\n",
       "<ul>\n",
       "<li class=\"toclevel-1 tocsection-1\"><a href=\"#Historia\"><span class=\"tocnumber\">1</span> <span class=\"toctext\">Historia</span></a></li>\n",
       "<li class=\"toclevel-1 tocsection-2\"><a href=\"#Entrega_de_premios\"><span class=\"tocnumber\">2</span> <span class=\"toctext\">Entrega de premios</span></a></li>\n",
       "<li class=\"toclevel-1 tocsection-3\"><a href=\"#Palmarés\"><span class=\"tocnumber\">3</span> <span class=\"toctext\">Palmarés</span></a></li>\n",
       "<li class=\"toclevel-1 tocsection-4\"><a href=\"#Las_categorías\"><span class=\"tocnumber\">4</span> <span class=\"toctext\">Las categorías</span></a></li>\n",
       "<li class=\"toclevel-1 tocsection-5\"><a href=\"#Referencias\"><span class=\"tocnumber\">5</span> <span class=\"toctext\">Referencias</span></a></li>\n",
       "<li class=\"toclevel-1 tocsection-6\"><a href=\"#Otros_premios_de_cine\"><span class=\"tocnumber\">6</span> <span class=\"toctext\">Otros premios de cine</span></a></li>\n",
       "<li class=\"toclevel-1 tocsection-7\"><a href=\"#Enlaces_externos\"><span class=\"tocnumber\">7</span> <span class=\"toctext\">Enlaces externos</span></a></li>\n",
       "</ul>\n",
       "</div>\n",
       "<h2><span class=\"mw-headline\" id=\"Historia\">Historia</span><span class=\"mw-editsection\"><span class=\"mw-editsection-bracket\">[</span><a href=\"/w/index.php?title=Premios_del_Cine_Europeo&amp;action=edit&amp;section=1\" title=\"Editar sección: Historia\">editar</a><span class=\"mw-editsection-bracket\">]</span></span></h2>\n",
       "<p>Similares a los <a href=\"/wiki/Premios_%C3%93scar\" title=\"Premios Óscar\">Óscar</a>, los premios del cine europeo son seleccionados por la Academia del Cine Europeo. A veces son llamados los Óscar europeos. Su ámbito se restrige al <a class=\"new\" href=\"/w/index.php?title=Cine_europeo&amp;action=edit&amp;redlink=1\" title=\"Cine europeo (aún no redactado)\">cine europeo</a>.\n",
       "</p><p>Se comenzaron a otorgar en <a href=\"/wiki/1988\" title=\"1988\">1988</a> con el nombre de <i>Felix</i>, pero tuvieron una crisis a mediados de los 90. En <a href=\"/wiki/1997\" title=\"1997\">1997</a>, se les renombró como <i>Premios del Cine Europeo</i> (originalmente en inglés, <i>European Film Awards</i>). Al comienzo del siglo XXI se ha elevado su interés por ellos.\n",
       "</p>\n",
       "<h2><span class=\"mw-headline\" id=\"Entrega_de_premios\">Entrega de premios</span><span class=\"mw-editsection\"><span class=\"mw-editsection-bracket\">[</span><a href=\"/w/index.php?title=Premios_del_Cine_Europeo&amp;action=edit&amp;section=2\" title=\"Editar sección: Entrega de premios\">editar</a><span class=\"mw-editsection-bracket\">]</span></span></h2>\n",
       "<p>Las ceremonias tienen lugar en una ciudad diferente cada año. Ciertamente Berlín como sede de la Academia es el lugar donde más veces se ha realizado la entrega de premios. En la edición de 2009, se alteró el habitual sistema de alternancia entre la sede en Berlín y el resto de ciudades europeas, porque se celebró en <a href=\"/wiki/Bochum\" title=\"Bochum\">Bochum</a>, cerca de <a href=\"/wiki/Essen\" title=\"Essen\">Essen</a> que fue durante 2010 <a href=\"/wiki/Capital_Europea_de_la_Cultura\" title=\"Capital Europea de la Cultura\">Capital Europea de la Cultura</a>.<sup class=\"reference separada\" id=\"cite_ref-1\"><a href=\"#cite_note-1\"><span class=\"corchete-llamada\">[</span>1<span class=\"corchete-llamada\">]</span></a></sup>​\n",
       "</p>\n",
       "<table class=\"wikitable sortable\" style=\"font-size:90%; text-align:center;\">\n",
       "<tbody><tr>\n",
       "<th>Edición\n",
       "</th>\n",
       "<th>Año\n",
       "</th>\n",
       "<th>Sitio\n",
       "</th>\n",
       "<th>Ciudad\n",
       "</th>\n",
       "<th>Presentador\n",
       "</th>\n",
       "<th>Año\n",
       "</th></tr>\n",
       "<tr>\n",
       "<td>1\n",
       "</td>\n",
       "<td>1988\n",
       "</td>\n",
       "<td><a href=\"/wiki/Theater_des_Westens\" title=\"Theater des Westens\">Theater des Westens</a>\n",
       "</td>\n",
       "<td><span class=\"flagicon\"><img alt=\"Bandera de Alemania\" class=\"thumbborder\" data-file-height=\"600\" data-file-width=\"1000\" decoding=\"async\" height=\"12\" src=\"//upload.wikimedia.org/wikipedia/commons/thumb/9/97/Flag_of_the_German_Democratic_Republic.svg/20px-Flag_of_the_German_Democratic_Republic.svg.png\" srcset=\"//upload.wikimedia.org/wikipedia/commons/thumb/9/97/Flag_of_the_German_Democratic_Republic.svg/30px-Flag_of_the_German_Democratic_Republic.svg.png 1.5x, //upload.wikimedia.org/wikipedia/commons/thumb/9/97/Flag_of_the_German_Democratic_Republic.svg/40px-Flag_of_the_German_Democratic_Republic.svg.png 2x\" title=\"Bandera de Alemania\" width=\"20\"/></span> <a href=\"/wiki/Berl%C3%ADn\" title=\"Berlín\">Berlín</a>\n",
       "</td>\n",
       "<td><a href=\"/wiki/Jan_Niklas\" title=\"Jan Niklas\">Jan Niklas</a>, Désirée Nosbusch\n",
       "</td>\n",
       "<td>26 de noviembre de 1988\n",
       "</td></tr>\n",
       "<tr>\n",
       "<td>2\n",
       "</td>\n",
       "<td>1989\n",
       "</td>\n",
       "<td><a href=\"/wiki/Teatro_de_los_Campos_El%C3%ADseos\" title=\"Teatro de los Campos Elíseos\">Teatro de los Campos Elíseos</a>\n",
       "</td>\n",
       "<td><span class=\"flagicon\"><img alt=\"Bandera de Francia\" class=\"thumbborder\" data-file-height=\"600\" data-file-width=\"900\" decoding=\"async\" height=\"13\" src=\"//upload.wikimedia.org/wikipedia/commons/thumb/c/c3/Flag_of_France.svg/20px-Flag_of_France.svg.png\" srcset=\"//upload.wikimedia.org/wikipedia/commons/thumb/c/c3/Flag_of_France.svg/30px-Flag_of_France.svg.png 1.5x, //upload.wikimedia.org/wikipedia/commons/thumb/c/c3/Flag_of_France.svg/40px-Flag_of_France.svg.png 2x\" title=\"Bandera de Francia\" width=\"20\"/></span> <a href=\"/wiki/Par%C3%ADs\" title=\"París\">París</a>\n",
       "</td>\n",
       "<td><a href=\"/wiki/Fernando_Rey\" title=\"Fernando Rey\">Fernando Rey</a>, Agnès Soral\n",
       "</td>\n",
       "<td>25 de noviembre de 1989\n",
       "</td></tr>\n",
       "<tr>\n",
       "<td>3\n",
       "</td>\n",
       "<td>1990\n",
       "</td>\n",
       "<td>Royal Concert Hall\n",
       "</td>\n",
       "<td><span class=\"flagicon\"><img alt=\"Bandera de Reino Unido\" class=\"thumbborder\" data-file-height=\"600\" data-file-width=\"1200\" decoding=\"async\" height=\"10\" src=\"//upload.wikimedia.org/wikipedia/commons/thumb/a/ae/Flag_of_the_United_Kingdom.svg/20px-Flag_of_the_United_Kingdom.svg.png\" srcset=\"//upload.wikimedia.org/wikipedia/commons/thumb/a/ae/Flag_of_the_United_Kingdom.svg/30px-Flag_of_the_United_Kingdom.svg.png 1.5x, //upload.wikimedia.org/wikipedia/commons/thumb/a/ae/Flag_of_the_United_Kingdom.svg/40px-Flag_of_the_United_Kingdom.svg.png 2x\" title=\"Bandera de Reino Unido\" width=\"20\"/></span> <a href=\"/wiki/Glasgow\" title=\"Glasgow\">Glasgow</a>\n",
       "</td>\n",
       "<td>Schenna MacDonald, Melvyn Bragg\n",
       "</td>\n",
       "<td>2 de diciembre de 1990\n",
       "</td></tr>\n",
       "<tr>\n",
       "<td>4\n",
       "</td>\n",
       "<td>1991\n",
       "</td>\n",
       "<td>Babelsberg\n",
       "</td>\n",
       "<td><span class=\"flagicon\"><img alt=\"Bandera de Alemania\" class=\"thumbborder\" data-file-height=\"600\" data-file-width=\"1000\" decoding=\"async\" height=\"12\" src=\"//upload.wikimedia.org/wikipedia/commons/thumb/b/ba/Flag_of_Germany.svg/20px-Flag_of_Germany.svg.png\" srcset=\"//upload.wikimedia.org/wikipedia/commons/thumb/b/ba/Flag_of_Germany.svg/30px-Flag_of_Germany.svg.png 1.5x, //upload.wikimedia.org/wikipedia/commons/thumb/b/ba/Flag_of_Germany.svg/40px-Flag_of_Germany.svg.png 2x\" title=\"Bandera de Alemania\" width=\"20\"/></span> <a href=\"/wiki/Potsdam\" title=\"Potsdam\">Potsdam</a>\n",
       "</td>\n",
       "<td><a href=\"/wiki/D%C3%A9sir%C3%A9e_Nosbusch\" title=\"Désirée Nosbusch\">Désirée Nosbusch-Becker</a>, Johannes Willms\n",
       "</td>\n",
       "<td>1 de diciembre de 1991\n",
       "</td></tr>\n",
       "<tr>\n",
       "<td>5\n",
       "</td>\n",
       "<td>1992\n",
       "</td>\n",
       "<td>Babelsberg\n",
       "</td>\n",
       "<td><span class=\"flagicon\"><img alt=\"Bandera de Alemania\" class=\"thumbborder\" data-file-height=\"600\" data-file-width=\"1000\" decoding=\"async\" height=\"12\" src=\"//upload.wikimedia.org/wikipedia/commons/thumb/b/ba/Flag_of_Germany.svg/20px-Flag_of_Germany.svg.png\" srcset=\"//upload.wikimedia.org/wikipedia/commons/thumb/b/ba/Flag_of_Germany.svg/30px-Flag_of_Germany.svg.png 1.5x, //upload.wikimedia.org/wikipedia/commons/thumb/b/ba/Flag_of_Germany.svg/40px-Flag_of_Germany.svg.png 2x\" title=\"Bandera de Alemania\" width=\"20\"/></span> <a href=\"/wiki/Potsdam\" title=\"Potsdam\">Potsdam</a>\n",
       "</td>\n",
       "<td><a href=\"/wiki/Senta_Berger\" title=\"Senta Berger\">Senta Berger</a>, <a href=\"/wiki/Ben_Kingsley\" title=\"Ben Kingsley\">Ben Kingsley</a>\n",
       "</td>\n",
       "<td>25 de noviembre de 1992\n",
       "</td></tr>\n",
       "<tr>\n",
       "<td>6\n",
       "</td>\n",
       "<td>1993\n",
       "</td>\n",
       "<td>Babelsberg\n",
       "</td>\n",
       "<td><span class=\"flagicon\"><img alt=\"Bandera de Alemania\" class=\"thumbborder\" data-file-height=\"600\" data-file-width=\"1000\" decoding=\"async\" height=\"12\" src=\"//upload.wikimedia.org/wikipedia/commons/thumb/b/ba/Flag_of_Germany.svg/20px-Flag_of_Germany.svg.png\" srcset=\"//upload.wikimedia.org/wikipedia/commons/thumb/b/ba/Flag_of_Germany.svg/30px-Flag_of_Germany.svg.png 1.5x, //upload.wikimedia.org/wikipedia/commons/thumb/b/ba/Flag_of_Germany.svg/40px-Flag_of_Germany.svg.png 2x\" title=\"Bandera de Alemania\" width=\"20\"/></span> <a href=\"/wiki/Potsdam\" title=\"Potsdam\">Potsdam</a>\n",
       "</td>\n",
       "<td><a href=\"/wiki/Fanny_Ardant\" title=\"Fanny Ardant\">Fanny Ardant</a>\n",
       "</td>\n",
       "<td>4 de diciembre de 1993\n",
       "</td></tr>\n",
       "<tr>\n",
       "<td>7\n",
       "</td>\n",
       "<td>1994\n",
       "</td>\n",
       "<td>Spiegelzelt\n",
       "</td>\n",
       "<td><span class=\"flagicon\"><img alt=\"Bandera de Alemania\" class=\"thumbborder\" data-file-height=\"600\" data-file-width=\"1000\" decoding=\"async\" height=\"12\" src=\"//upload.wikimedia.org/wikipedia/commons/thumb/b/ba/Flag_of_Germany.svg/20px-Flag_of_Germany.svg.png\" srcset=\"//upload.wikimedia.org/wikipedia/commons/thumb/b/ba/Flag_of_Germany.svg/30px-Flag_of_Germany.svg.png 1.5x, //upload.wikimedia.org/wikipedia/commons/thumb/b/ba/Flag_of_Germany.svg/40px-Flag_of_Germany.svg.png 2x\" title=\"Bandera de Alemania\" width=\"20\"/></span> <a href=\"/wiki/Berl%C3%ADn\" title=\"Berlín\">Berlín</a>\n",
       "</td>\n",
       "<td>-\n",
       "</td>\n",
       "<td>27 de noviembre de 1994\n",
       "</td></tr>\n",
       "<tr>\n",
       "<td>8\n",
       "</td>\n",
       "<td>1995\n",
       "</td>\n",
       "<td>Bar jeder Vernunft\n",
       "</td>\n",
       "<td><span class=\"flagicon\"><img alt=\"Bandera de Alemania\" class=\"thumbborder\" data-file-height=\"600\" data-file-width=\"1000\" decoding=\"async\" height=\"12\" src=\"//upload.wikimedia.org/wikipedia/commons/thumb/b/ba/Flag_of_Germany.svg/20px-Flag_of_Germany.svg.png\" srcset=\"//upload.wikimedia.org/wikipedia/commons/thumb/b/ba/Flag_of_Germany.svg/30px-Flag_of_Germany.svg.png 1.5x, //upload.wikimedia.org/wikipedia/commons/thumb/b/ba/Flag_of_Germany.svg/40px-Flag_of_Germany.svg.png 2x\" title=\"Bandera de Alemania\" width=\"20\"/></span> <a href=\"/wiki/Berl%C3%ADn\" title=\"Berlín\">Berlín</a>\n",
       "</td>\n",
       "<td>-\n",
       "</td>\n",
       "<td>12 de noviembre de 1995\n",
       "</td></tr>\n",
       "<tr>\n",
       "<td>9\n",
       "</td>\n",
       "<td>1996\n",
       "</td>\n",
       "<td>Blaues Zelt am Lützowplatz\n",
       "</td>\n",
       "<td><span class=\"flagicon\"><img alt=\"Bandera de Alemania\" class=\"thumbborder\" data-file-height=\"600\" data-file-width=\"1000\" decoding=\"async\" height=\"12\" src=\"//upload.wikimedia.org/wikipedia/commons/thumb/b/ba/Flag_of_Germany.svg/20px-Flag_of_Germany.svg.png\" srcset=\"//upload.wikimedia.org/wikipedia/commons/thumb/b/ba/Flag_of_Germany.svg/30px-Flag_of_Germany.svg.png 1.5x, //upload.wikimedia.org/wikipedia/commons/thumb/b/ba/Flag_of_Germany.svg/40px-Flag_of_Germany.svg.png 2x\" title=\"Bandera de Alemania\" width=\"20\"/></span> <a href=\"/wiki/Berl%C3%ADn\" title=\"Berlín\">Berlín</a>\n",
       "</td>\n",
       "<td>-\n",
       "</td>\n",
       "<td>8 de noviembre de 1996\n",
       "</td></tr>\n",
       "<tr>\n",
       "<td>10\n",
       "</td>\n",
       "<td>1997\n",
       "</td>\n",
       "<td>Flughafen Tempelhof\n",
       "</td>\n",
       "<td><span class=\"flagicon\"><img alt=\"Bandera de Alemania\" class=\"thumbborder\" data-file-height=\"600\" data-file-width=\"1000\" decoding=\"async\" height=\"12\" src=\"//upload.wikimedia.org/wikipedia/commons/thumb/b/ba/Flag_of_Germany.svg/20px-Flag_of_Germany.svg.png\" srcset=\"//upload.wikimedia.org/wikipedia/commons/thumb/b/ba/Flag_of_Germany.svg/30px-Flag_of_Germany.svg.png 1.5x, //upload.wikimedia.org/wikipedia/commons/thumb/b/ba/Flag_of_Germany.svg/40px-Flag_of_Germany.svg.png 2x\" title=\"Bandera de Alemania\" width=\"20\"/></span> <a href=\"/wiki/Berl%C3%ADn\" title=\"Berlín\">Berlín</a>\n",
       "</td>\n",
       "<td>Tania Bryer\n",
       "</td>\n",
       "<td>7 de diciembre de 1997\n",
       "</td></tr>\n",
       "<tr>\n",
       "<td>11\n",
       "</td>\n",
       "<td>1998\n",
       "</td>\n",
       "<td><a class=\"mw-redirect\" href=\"/wiki/Old_Vic_Theatre\" title=\"Old Vic Theatre\">Old Vic Theatre</a>\n",
       "</td>\n",
       "<td><span class=\"flagicon\"><img alt=\"Bandera de Reino Unido\" class=\"thumbborder\" data-file-height=\"600\" data-file-width=\"1200\" decoding=\"async\" height=\"10\" src=\"//upload.wikimedia.org/wikipedia/commons/thumb/a/ae/Flag_of_the_United_Kingdom.svg/20px-Flag_of_the_United_Kingdom.svg.png\" srcset=\"//upload.wikimedia.org/wikipedia/commons/thumb/a/ae/Flag_of_the_United_Kingdom.svg/30px-Flag_of_the_United_Kingdom.svg.png 1.5x, //upload.wikimedia.org/wikipedia/commons/thumb/a/ae/Flag_of_the_United_Kingdom.svg/40px-Flag_of_the_United_Kingdom.svg.png 2x\" title=\"Bandera de Reino Unido\" width=\"20\"/></span> <a href=\"/wiki/Londres\" title=\"Londres\">Londres</a>\n",
       "</td>\n",
       "<td><a href=\"/wiki/Mel_Smith\" title=\"Mel Smith\">Mel Smith</a>, <a href=\"/wiki/Carole_Bouquet\" title=\"Carole Bouquet\">Carole Bouquet</a>\n",
       "</td>\n",
       "<td>4 de diciembre de 1998\n",
       "</td></tr>\n",
       "<tr>\n",
       "<td>12\n",
       "</td>\n",
       "<td>1999\n",
       "</td>\n",
       "<td>Schiller Theater\n",
       "</td>\n",
       "<td><span class=\"flagicon\"><img alt=\"Bandera de Alemania\" class=\"thumbborder\" data-file-height=\"600\" data-file-width=\"1000\" decoding=\"async\" height=\"12\" src=\"//upload.wikimedia.org/wikipedia/commons/thumb/b/ba/Flag_of_Germany.svg/20px-Flag_of_Germany.svg.png\" srcset=\"//upload.wikimedia.org/wikipedia/commons/thumb/b/ba/Flag_of_Germany.svg/30px-Flag_of_Germany.svg.png 1.5x, //upload.wikimedia.org/wikipedia/commons/thumb/b/ba/Flag_of_Germany.svg/40px-Flag_of_Germany.svg.png 2x\" title=\"Bandera de Alemania\" width=\"20\"/></span> <a href=\"/wiki/Berl%C3%ADn\" title=\"Berlín\">Berlín</a>\n",
       "</td>\n",
       "<td><a href=\"/wiki/Mel_Smith\" title=\"Mel Smith\">Mel Smith</a>, <a href=\"/wiki/Carole_Bouquet\" title=\"Carole Bouquet\">Carole Bouquet</a>\n",
       "</td>\n",
       "<td>4 de diciembre de 1999\n",
       "</td></tr>\n",
       "<tr>\n",
       "<td>13\n",
       "</td>\n",
       "<td>2000\n",
       "</td>\n",
       "<td>Théâtre national de Chaillot\n",
       "</td>\n",
       "<td><span class=\"flagicon\"><img alt=\"Bandera de Francia\" class=\"thumbborder\" data-file-height=\"600\" data-file-width=\"900\" decoding=\"async\" height=\"13\" src=\"//upload.wikimedia.org/wikipedia/commons/thumb/c/c3/Flag_of_France.svg/20px-Flag_of_France.svg.png\" srcset=\"//upload.wikimedia.org/wikipedia/commons/thumb/c/c3/Flag_of_France.svg/30px-Flag_of_France.svg.png 1.5x, //upload.wikimedia.org/wikipedia/commons/thumb/c/c3/Flag_of_France.svg/40px-Flag_of_France.svg.png 2x\" title=\"Bandera de Francia\" width=\"20\"/></span> <a href=\"/wiki/Par%C3%ADs\" title=\"París\">París</a>\n",
       "</td>\n",
       "<td><a href=\"/wiki/Rupert_Everett\" title=\"Rupert Everett\">Rupert Everett</a>, <a href=\"/wiki/Antoine_de_Caunes\" title=\"Antoine de Caunes\">Antoine de Caunes</a>\n",
       "</td>\n",
       "<td>2 de diciembre de 2000\n",
       "</td></tr>\n",
       "<tr>\n",
       "<td>14\n",
       "</td>\n",
       "<td>2001\n",
       "</td>\n",
       "<td>Tempodrom\n",
       "</td>\n",
       "<td><span class=\"flagicon\"><img alt=\"Bandera de Alemania\" class=\"thumbborder\" data-file-height=\"600\" data-file-width=\"1000\" decoding=\"async\" height=\"12\" src=\"//upload.wikimedia.org/wikipedia/commons/thumb/b/ba/Flag_of_Germany.svg/20px-Flag_of_Germany.svg.png\" srcset=\"//upload.wikimedia.org/wikipedia/commons/thumb/b/ba/Flag_of_Germany.svg/30px-Flag_of_Germany.svg.png 1.5x, //upload.wikimedia.org/wikipedia/commons/thumb/b/ba/Flag_of_Germany.svg/40px-Flag_of_Germany.svg.png 2x\" title=\"Bandera de Alemania\" width=\"20\"/></span> <a href=\"/wiki/Berl%C3%ADn\" title=\"Berlín\">Berlín</a>\n",
       "</td>\n",
       "<td><a href=\"/wiki/Mel_Smith\" title=\"Mel Smith\">Mel Smith</a>\n",
       "</td>\n",
       "<td>1 de diciembre de 2001\n",
       "</td></tr>\n",
       "<tr>\n",
       "<td>15\n",
       "</td>\n",
       "<td>2002\n",
       "</td>\n",
       "<td>Teatro dell'Opera di Roma\n",
       "</td>\n",
       "<td><span class=\"flagicon\"><img alt=\"Bandera de Italia\" class=\"thumbborder\" data-file-height=\"1000\" data-file-width=\"1500\" decoding=\"async\" height=\"13\" src=\"//upload.wikimedia.org/wikipedia/commons/thumb/0/03/Flag_of_Italy.svg/20px-Flag_of_Italy.svg.png\" srcset=\"//upload.wikimedia.org/wikipedia/commons/thumb/0/03/Flag_of_Italy.svg/30px-Flag_of_Italy.svg.png 1.5x, //upload.wikimedia.org/wikipedia/commons/thumb/0/03/Flag_of_Italy.svg/40px-Flag_of_Italy.svg.png 2x\" title=\"Bandera de Italia\" width=\"20\"/></span> <a href=\"/wiki/Roma\" title=\"Roma\">Roma</a>\n",
       "</td>\n",
       "<td><a href=\"/wiki/Asia_Argento\" title=\"Asia Argento\">Asia Argento</a>, <a href=\"/wiki/Mel_Smith\" title=\"Mel Smith\">Mel Smith</a>\n",
       "</td>\n",
       "<td>7 de diciembre de 2002\n",
       "</td></tr>\n",
       "<tr>\n",
       "<td>16\n",
       "</td>\n",
       "<td>2003\n",
       "</td>\n",
       "<td>Treptow Arena\n",
       "</td>\n",
       "<td><span class=\"flagicon\"><img alt=\"Bandera de Alemania\" class=\"thumbborder\" data-file-height=\"600\" data-file-width=\"1000\" decoding=\"async\" height=\"12\" src=\"//upload.wikimedia.org/wikipedia/commons/thumb/b/ba/Flag_of_Germany.svg/20px-Flag_of_Germany.svg.png\" srcset=\"//upload.wikimedia.org/wikipedia/commons/thumb/b/ba/Flag_of_Germany.svg/30px-Flag_of_Germany.svg.png 1.5x, //upload.wikimedia.org/wikipedia/commons/thumb/b/ba/Flag_of_Germany.svg/40px-Flag_of_Germany.svg.png 2x\" title=\"Bandera de Alemania\" width=\"20\"/></span> <a href=\"/wiki/Berl%C3%ADn\" title=\"Berlín\">Berlín</a>\n",
       "</td>\n",
       "<td>Heino Ferch\n",
       "</td>\n",
       "<td>6 de diciembre de 2003\n",
       "</td></tr>\n",
       "<tr>\n",
       "<td>17\n",
       "</td>\n",
       "<td>2004\n",
       "</td>\n",
       "<td>Centro de convenciones internacional de Barcelona\n",
       "</td>\n",
       "<td><span class=\"flagicon\"><img alt=\"Bandera de España\" class=\"thumbborder\" data-file-height=\"500\" data-file-width=\"750\" decoding=\"async\" height=\"13\" src=\"//upload.wikimedia.org/wikipedia/commons/thumb/9/9a/Flag_of_Spain.svg/20px-Flag_of_Spain.svg.png\" srcset=\"//upload.wikimedia.org/wikipedia/commons/thumb/9/9a/Flag_of_Spain.svg/30px-Flag_of_Spain.svg.png 1.5x, //upload.wikimedia.org/wikipedia/commons/thumb/9/9a/Flag_of_Spain.svg/40px-Flag_of_Spain.svg.png 2x\" title=\"Bandera de España\" width=\"20\"/></span> <a href=\"/wiki/Barcelona\" title=\"Barcelona\">Barcelona</a>\n",
       "</td>\n",
       "<td><a href=\"/wiki/Maria_de_Medeiros\" title=\"Maria de Medeiros\">Maria de Medeiros</a>, <a href=\"/wiki/Juanjo_Puigcorb%C3%A9\" title=\"Juanjo Puigcorbé\">Juanjo Puigcorbé</a>\n",
       "</td>\n",
       "<td>11 de diciembre de 2004\n",
       "</td></tr>\n",
       "<tr>\n",
       "<td>18\n",
       "</td>\n",
       "<td>2005\n",
       "</td>\n",
       "<td>Treptow Arena\n",
       "</td>\n",
       "<td><span class=\"flagicon\"><img alt=\"Bandera de Alemania\" class=\"thumbborder\" data-file-height=\"600\" data-file-width=\"1000\" decoding=\"async\" height=\"12\" src=\"//upload.wikimedia.org/wikipedia/commons/thumb/b/ba/Flag_of_Germany.svg/20px-Flag_of_Germany.svg.png\" srcset=\"//upload.wikimedia.org/wikipedia/commons/thumb/b/ba/Flag_of_Germany.svg/30px-Flag_of_Germany.svg.png 1.5x, //upload.wikimedia.org/wikipedia/commons/thumb/b/ba/Flag_of_Germany.svg/40px-Flag_of_Germany.svg.png 2x\" title=\"Bandera de Alemania\" width=\"20\"/></span> <a href=\"/wiki/Berl%C3%ADn\" title=\"Berlín\">Berlín</a>\n",
       "</td>\n",
       "<td>Heino Ferch\n",
       "</td>\n",
       "<td>3 de diciembre de 2005\n",
       "</td></tr>\n",
       "<tr>\n",
       "<td>19\n",
       "</td>\n",
       "<td>2006\n",
       "</td>\n",
       "<td>EXPO XXI Center\n",
       "</td>\n",
       "<td><span class=\"flagicon\"><img alt=\"Bandera de Polonia\" class=\"thumbborder\" data-file-height=\"400\" data-file-width=\"640\" decoding=\"async\" height=\"13\" src=\"//upload.wikimedia.org/wikipedia/commons/thumb/1/12/Flag_of_Poland.svg/20px-Flag_of_Poland.svg.png\" srcset=\"//upload.wikimedia.org/wikipedia/commons/thumb/1/12/Flag_of_Poland.svg/30px-Flag_of_Poland.svg.png 1.5x, //upload.wikimedia.org/wikipedia/commons/thumb/1/12/Flag_of_Poland.svg/40px-Flag_of_Poland.svg.png 2x\" title=\"Bandera de Polonia\" width=\"20\"/></span> <a href=\"/wiki/Varsovia\" title=\"Varsovia\">Varsovia</a>\n",
       "</td>\n",
       "<td>Maciej Stuhr, <a href=\"/wiki/Sophie_Marceau\" title=\"Sophie Marceau\">Sophie Marceau</a>\n",
       "</td>\n",
       "<td>2 de diciembre de 2006\n",
       "</td></tr>\n",
       "<tr>\n",
       "<td>20\n",
       "</td>\n",
       "<td>2007\n",
       "</td>\n",
       "<td>Treptow Arena\n",
       "</td>\n",
       "<td><span class=\"flagicon\"><img alt=\"Bandera de Alemania\" class=\"thumbborder\" data-file-height=\"600\" data-file-width=\"1000\" decoding=\"async\" height=\"12\" src=\"//upload.wikimedia.org/wikipedia/commons/thumb/b/ba/Flag_of_Germany.svg/20px-Flag_of_Germany.svg.png\" srcset=\"//upload.wikimedia.org/wikipedia/commons/thumb/b/ba/Flag_of_Germany.svg/30px-Flag_of_Germany.svg.png 1.5x, //upload.wikimedia.org/wikipedia/commons/thumb/b/ba/Flag_of_Germany.svg/40px-Flag_of_Germany.svg.png 2x\" title=\"Bandera de Alemania\" width=\"20\"/></span> <a href=\"/wiki/Berl%C3%ADn\" title=\"Berlín\">Berlín</a>\n",
       "</td>\n",
       "<td>Jan Josef Liefers, <a href=\"/wiki/Emmanuelle_B%C3%A9art\" title=\"Emmanuelle Béart\">Emmanuelle Béart</a>\n",
       "</td>\n",
       "<td>1 de diciembre de 2007\n",
       "</td></tr>\n",
       "<tr>\n",
       "<td>21\n",
       "</td>\n",
       "<td>2008\n",
       "</td>\n",
       "<td>Forum\n",
       "</td>\n",
       "<td><span class=\"flagicon\"><img alt=\"Bandera de Dinamarca\" class=\"thumbborder\" data-file-height=\"387\" data-file-width=\"512\" decoding=\"async\" height=\"15\" src=\"//upload.wikimedia.org/wikipedia/commons/thumb/9/9c/Flag_of_Denmark.svg/20px-Flag_of_Denmark.svg.png\" srcset=\"//upload.wikimedia.org/wikipedia/commons/thumb/9/9c/Flag_of_Denmark.svg/30px-Flag_of_Denmark.svg.png 1.5x, //upload.wikimedia.org/wikipedia/commons/thumb/9/9c/Flag_of_Denmark.svg/40px-Flag_of_Denmark.svg.png 2x\" title=\"Bandera de Dinamarca\" width=\"20\"/></span> <a href=\"/wiki/Copenhague\" title=\"Copenhague\">Copenhague</a>\n",
       "</td>\n",
       "<td>Mikael Bertelsen\n",
       "</td>\n",
       "<td>6 de diciembre de 2008\n",
       "</td></tr>\n",
       "<tr>\n",
       "<td>22\n",
       "</td>\n",
       "<td>2009\n",
       "</td>\n",
       "<td>Jahrhunderthalle\n",
       "</td>\n",
       "<td><span class=\"flagicon\"><img alt=\"Bandera de Alemania\" class=\"thumbborder\" data-file-height=\"600\" data-file-width=\"1000\" decoding=\"async\" height=\"12\" src=\"//upload.wikimedia.org/wikipedia/commons/thumb/b/ba/Flag_of_Germany.svg/20px-Flag_of_Germany.svg.png\" srcset=\"//upload.wikimedia.org/wikipedia/commons/thumb/b/ba/Flag_of_Germany.svg/30px-Flag_of_Germany.svg.png 1.5x, //upload.wikimedia.org/wikipedia/commons/thumb/b/ba/Flag_of_Germany.svg/40px-Flag_of_Germany.svg.png 2x\" title=\"Bandera de Alemania\" width=\"20\"/></span> <a href=\"/wiki/Bochum\" title=\"Bochum\">Bochum</a>\n",
       "</td>\n",
       "<td><a href=\"/wiki/Anke_Engelke\" title=\"Anke Engelke\">Anke Engelke</a>\n",
       "</td>\n",
       "<td>12 de diciembre de 2009\n",
       "</td></tr>\n",
       "<tr>\n",
       "<td>23\n",
       "</td>\n",
       "<td>2010\n",
       "</td>\n",
       "<td>Nokia Concert Hall\n",
       "</td>\n",
       "<td><span class=\"flagicon\"><img alt=\"Bandera de Estonia\" class=\"thumbborder\" data-file-height=\"630\" data-file-width=\"990\" decoding=\"async\" height=\"13\" src=\"//upload.wikimedia.org/wikipedia/commons/thumb/8/8f/Flag_of_Estonia.svg/20px-Flag_of_Estonia.svg.png\" srcset=\"//upload.wikimedia.org/wikipedia/commons/thumb/8/8f/Flag_of_Estonia.svg/30px-Flag_of_Estonia.svg.png 1.5x, //upload.wikimedia.org/wikipedia/commons/thumb/8/8f/Flag_of_Estonia.svg/40px-Flag_of_Estonia.svg.png 2x\" title=\"Bandera de Estonia\" width=\"20\"/></span> <a class=\"mw-redirect\" href=\"/wiki/Tallinn\" title=\"Tallinn\">Tallinn</a>\n",
       "</td>\n",
       "<td><a href=\"/wiki/Anke_Engelke\" title=\"Anke Engelke\">Anke Engelke</a>, Märt Avandi\n",
       "</td>\n",
       "<td>4 de diciembre de 2010\n",
       "</td></tr>\n",
       "<tr>\n",
       "<td>24\n",
       "</td>\n",
       "<td>2011\n",
       "</td>\n",
       "<td>Tempodrom\n",
       "</td>\n",
       "<td><span class=\"flagicon\"><img alt=\"Bandera de Alemania\" class=\"thumbborder\" data-file-height=\"600\" data-file-width=\"1000\" decoding=\"async\" height=\"12\" src=\"//upload.wikimedia.org/wikipedia/commons/thumb/b/ba/Flag_of_Germany.svg/20px-Flag_of_Germany.svg.png\" srcset=\"//upload.wikimedia.org/wikipedia/commons/thumb/b/ba/Flag_of_Germany.svg/30px-Flag_of_Germany.svg.png 1.5x, //upload.wikimedia.org/wikipedia/commons/thumb/b/ba/Flag_of_Germany.svg/40px-Flag_of_Germany.svg.png 2x\" title=\"Bandera de Alemania\" width=\"20\"/></span> <a href=\"/wiki/Berl%C3%ADn\" title=\"Berlín\">Berlín</a>\n",
       "</td>\n",
       "<td><a href=\"/wiki/Anke_Engelke\" title=\"Anke Engelke\">Anke Engelke</a>\n",
       "</td>\n",
       "<td>3 de diciembre de 2011\n",
       "</td></tr>\n",
       "<tr>\n",
       "<td>25\n",
       "</td>\n",
       "<td>2012\n",
       "</td>\n",
       "<td>Mediterranean Conference Centre\n",
       "</td>\n",
       "<td><span class=\"flagicon\"><img alt=\"Bandera de Malta\" class=\"thumbborder\" data-file-height=\"600\" data-file-width=\"900\" decoding=\"async\" height=\"13\" src=\"//upload.wikimedia.org/wikipedia/commons/thumb/7/73/Flag_of_Malta.svg/20px-Flag_of_Malta.svg.png\" srcset=\"//upload.wikimedia.org/wikipedia/commons/thumb/7/73/Flag_of_Malta.svg/30px-Flag_of_Malta.svg.png 1.5x, //upload.wikimedia.org/wikipedia/commons/thumb/7/73/Flag_of_Malta.svg/40px-Flag_of_Malta.svg.png 2x\" title=\"Bandera de Malta\" width=\"20\"/></span> <a class=\"mw-redirect\" href=\"/wiki/Valletta\" title=\"Valletta\">Valletta</a>\n",
       "</td>\n",
       "<td><a href=\"/wiki/Anke_Engelke\" title=\"Anke Engelke\">Anke Engelke</a>\n",
       "</td>\n",
       "<td>1 de diciembre de 2012\n",
       "</td></tr>\n",
       "<tr>\n",
       "<td>26\n",
       "</td>\n",
       "<td>2013\n",
       "</td>\n",
       "<td>Haus der Berliner Festspiele\n",
       "</td>\n",
       "<td><span class=\"flagicon\"><img alt=\"Bandera de Alemania\" class=\"thumbborder\" data-file-height=\"600\" data-file-width=\"1000\" decoding=\"async\" height=\"12\" src=\"//upload.wikimedia.org/wikipedia/commons/thumb/b/ba/Flag_of_Germany.svg/20px-Flag_of_Germany.svg.png\" srcset=\"//upload.wikimedia.org/wikipedia/commons/thumb/b/ba/Flag_of_Germany.svg/30px-Flag_of_Germany.svg.png 1.5x, //upload.wikimedia.org/wikipedia/commons/thumb/b/ba/Flag_of_Germany.svg/40px-Flag_of_Germany.svg.png 2x\" title=\"Bandera de Alemania\" width=\"20\"/></span> <a href=\"/wiki/Berl%C3%ADn\" title=\"Berlín\">Berlín</a>\n",
       "</td>\n",
       "<td><a href=\"/wiki/Anke_Engelke\" title=\"Anke Engelke\">Anke Engelke</a>\n",
       "</td>\n",
       "<td>7 de diciembre de 2013\n",
       "</td></tr>\n",
       "<tr>\n",
       "<td>27\n",
       "</td>\n",
       "<td>2014\n",
       "</td>\n",
       "<td>Latvian National Opera\n",
       "</td>\n",
       "<td><span class=\"flagicon\"><img alt=\"Bandera de Letonia\" class=\"thumbborder\" data-file-height=\"600\" data-file-width=\"1200\" decoding=\"async\" height=\"10\" src=\"//upload.wikimedia.org/wikipedia/commons/thumb/8/84/Flag_of_Latvia.svg/20px-Flag_of_Latvia.svg.png\" srcset=\"//upload.wikimedia.org/wikipedia/commons/thumb/8/84/Flag_of_Latvia.svg/30px-Flag_of_Latvia.svg.png 1.5x, //upload.wikimedia.org/wikipedia/commons/thumb/8/84/Flag_of_Latvia.svg/40px-Flag_of_Latvia.svg.png 2x\" title=\"Bandera de Letonia\" width=\"20\"/></span> <a href=\"/wiki/Riga\" title=\"Riga\">Riga</a><sup class=\"reference separada\" id=\"cite_ref-2\"><a href=\"#cite_note-2\"><span class=\"corchete-llamada\">[</span>2<span class=\"corchete-llamada\">]</span></a></sup>​\n",
       "</td>\n",
       "<td>Thomas Hermanns\n",
       "</td>\n",
       "<td>13 de diciembre de 2014\n",
       "</td></tr>\n",
       "<tr>\n",
       "<td>28\n",
       "</td>\n",
       "<td>2015\n",
       "</td>\n",
       "<td>Haus der Berliner Festspiele\n",
       "</td>\n",
       "<td><span class=\"flagicon\"><img alt=\"Bandera de Alemania\" class=\"thumbborder\" data-file-height=\"600\" data-file-width=\"1000\" decoding=\"async\" height=\"12\" src=\"//upload.wikimedia.org/wikipedia/commons/thumb/b/ba/Flag_of_Germany.svg/20px-Flag_of_Germany.svg.png\" srcset=\"//upload.wikimedia.org/wikipedia/commons/thumb/b/ba/Flag_of_Germany.svg/30px-Flag_of_Germany.svg.png 1.5x, //upload.wikimedia.org/wikipedia/commons/thumb/b/ba/Flag_of_Germany.svg/40px-Flag_of_Germany.svg.png 2x\" title=\"Bandera de Alemania\" width=\"20\"/></span> <a href=\"/wiki/Berl%C3%ADn\" title=\"Berlín\">Berlín</a>\n",
       "</td>\n",
       "<td>Thomas Hermanns\n",
       "</td>\n",
       "<td>12 de diciembre de 2015\n",
       "</td></tr>\n",
       "<tr>\n",
       "<td>29\n",
       "</td>\n",
       "<td>2016\n",
       "</td>\n",
       "<td>National Forum of Music\n",
       "</td>\n",
       "<td><span class=\"flagicon\"><img alt=\"Bandera de Polonia\" class=\"thumbborder\" data-file-height=\"400\" data-file-width=\"640\" decoding=\"async\" height=\"13\" src=\"//upload.wikimedia.org/wikipedia/commons/thumb/1/12/Flag_of_Poland.svg/20px-Flag_of_Poland.svg.png\" srcset=\"//upload.wikimedia.org/wikipedia/commons/thumb/1/12/Flag_of_Poland.svg/30px-Flag_of_Poland.svg.png 1.5x, //upload.wikimedia.org/wikipedia/commons/thumb/1/12/Flag_of_Poland.svg/40px-Flag_of_Poland.svg.png 2x\" title=\"Bandera de Polonia\" width=\"20\"/></span> <a href=\"/wiki/Breslavia\" title=\"Breslavia\">Breslavia</a>\n",
       "</td>\n",
       "<td>Maciej Stuhr\n",
       "</td>\n",
       "<td>10 de diciembre de 2016\n",
       "</td></tr>\n",
       "<tr>\n",
       "<td>30\n",
       "</td>\n",
       "<td>2017\n",
       "</td>\n",
       "<td>Haus der Berliner Festspiele\n",
       "</td>\n",
       "<td><span class=\"flagicon\"><img alt=\"Bandera de Alemania\" class=\"thumbborder\" data-file-height=\"600\" data-file-width=\"1000\" decoding=\"async\" height=\"12\" src=\"//upload.wikimedia.org/wikipedia/commons/thumb/b/ba/Flag_of_Germany.svg/20px-Flag_of_Germany.svg.png\" srcset=\"//upload.wikimedia.org/wikipedia/commons/thumb/b/ba/Flag_of_Germany.svg/30px-Flag_of_Germany.svg.png 1.5x, //upload.wikimedia.org/wikipedia/commons/thumb/b/ba/Flag_of_Germany.svg/40px-Flag_of_Germany.svg.png 2x\" title=\"Bandera de Alemania\" width=\"20\"/></span> <a href=\"/wiki/Berl%C3%ADn\" title=\"Berlín\">Berlín</a>\n",
       "</td>\n",
       "<td>Thomas Hermanns\n",
       "</td>\n",
       "<td>9 de diciembre de 2017\n",
       "</td></tr>\n",
       "<tr>\n",
       "<td>31\n",
       "</td>\n",
       "<td>2018\n",
       "</td>\n",
       "<td><a href=\"/wiki/Teatro_de_la_Maestranza\" title=\"Teatro de la Maestranza\">Teatro de la Maestranza</a><sup class=\"reference separada\" id=\"cite_ref-3\"><a href=\"#cite_note-3\"><span class=\"corchete-llamada\">[</span>3<span class=\"corchete-llamada\">]</span></a></sup>​\n",
       "</td>\n",
       "<td><span class=\"flagicon\"><img alt=\"Bandera de España\" class=\"thumbborder\" data-file-height=\"500\" data-file-width=\"750\" decoding=\"async\" height=\"13\" src=\"//upload.wikimedia.org/wikipedia/commons/thumb/9/9a/Flag_of_Spain.svg/20px-Flag_of_Spain.svg.png\" srcset=\"//upload.wikimedia.org/wikipedia/commons/thumb/9/9a/Flag_of_Spain.svg/30px-Flag_of_Spain.svg.png 1.5x, //upload.wikimedia.org/wikipedia/commons/thumb/9/9a/Flag_of_Spain.svg/40px-Flag_of_Spain.svg.png 2x\" title=\"Bandera de España\" width=\"20\"/></span> <a href=\"/wiki/Sevilla\" title=\"Sevilla\">Sevilla</a>\n",
       "</td>\n",
       "<td>\n",
       "</td>\n",
       "<td>15 de diciembre de 2018\n",
       "</td></tr>\n",
       "<tr>\n",
       "<td>32\n",
       "</td>\n",
       "<td>2019\n",
       "</td>\n",
       "<td>Haus der Berliner Festspiele\n",
       "</td>\n",
       "<td><span class=\"flagicon\"><img alt=\"Bandera de Alemania\" class=\"thumbborder\" data-file-height=\"600\" data-file-width=\"1000\" decoding=\"async\" height=\"12\" src=\"//upload.wikimedia.org/wikipedia/commons/thumb/b/ba/Flag_of_Germany.svg/20px-Flag_of_Germany.svg.png\" srcset=\"//upload.wikimedia.org/wikipedia/commons/thumb/b/ba/Flag_of_Germany.svg/30px-Flag_of_Germany.svg.png 1.5x, //upload.wikimedia.org/wikipedia/commons/thumb/b/ba/Flag_of_Germany.svg/40px-Flag_of_Germany.svg.png 2x\" title=\"Bandera de Alemania\" width=\"20\"/></span> <a href=\"/wiki/Berl%C3%ADn\" title=\"Berlín\">Berlín</a>\n",
       "</td>\n",
       "<td><a class=\"external autonumber\" href=\"https://en.wikipedia.org/wiki/Aist%C4%97_Dir%C5%BEi%C5%ABt%C4%97\">[1]</a> Aiste Dirziute\n",
       "</td>\n",
       "<td>7 de diciembre de 2019\n",
       "</td></tr></tbody></table>\n",
       "<h2><span id=\"Palmar.C3.A9s\"></span><span class=\"mw-headline\" id=\"Palmarés\">Palmarés</span><span class=\"mw-editsection\"><span class=\"mw-editsection-bracket\">[</span><a href=\"/w/index.php?title=Premios_del_Cine_Europeo&amp;action=edit&amp;section=3\" title=\"Editar sección: Palmarés\">editar</a><span class=\"mw-editsection-bracket\">]</span></span></h2>\n",
       "<table class=\"wikitable\">\n",
       "<tbody><tr>\n",
       "<td bgcolor=\"#FAEB86\" style=\"text-align:center\"><b>Ediciones</b>\n",
       "</td></tr>\n",
       "<tr>\n",
       "<td style=\"text-align:center\">\n",
       "<p><span style=\"white-space:nowrap\">\n",
       "<a class=\"new\" href=\"/w/index.php?title=Anexo:Premios_del_Cine_Europeo_1988&amp;action=edit&amp;redlink=1\" title=\"Anexo:Premios del Cine Europeo 1988 (aún no redactado)\">1988</a> <b>·</b></span>\n",
       "<span style=\"white-space:nowrap\">\n",
       "<a class=\"new\" href=\"/w/index.php?title=Anexo:Premios_del_Cine_Europeo_1989&amp;action=edit&amp;redlink=1\" title=\"Anexo:Premios del Cine Europeo 1989 (aún no redactado)\">1989</a> <b>·</b></span>\n",
       "<span style=\"white-space:nowrap\">\n",
       "<a class=\"new\" href=\"/w/index.php?title=Anexo:Premios_del_Cine_Europeo_1990&amp;action=edit&amp;redlink=1\" title=\"Anexo:Premios del Cine Europeo 1990 (aún no redactado)\">1990</a> <b>·</b></span>\n",
       "<span style=\"white-space:nowrap\">\n",
       "<a class=\"new\" href=\"/w/index.php?title=Anexo:Premios_del_Cine_Europeo_1991&amp;action=edit&amp;redlink=1\" title=\"Anexo:Premios del Cine Europeo 1991 (aún no redactado)\">1991</a> <b>·</b></span>\n",
       "<span style=\"white-space:nowrap\">\n",
       "<a class=\"new\" href=\"/w/index.php?title=Anexo:Premios_del_Cine_Europeo_1992&amp;action=edit&amp;redlink=1\" title=\"Anexo:Premios del Cine Europeo 1992 (aún no redactado)\">1992</a> <b>·</b></span>\n",
       "<span style=\"white-space:nowrap\">\n",
       "<a class=\"new\" href=\"/w/index.php?title=Anexo:Premios_del_Cine_Europeo_1993&amp;action=edit&amp;redlink=1\" title=\"Anexo:Premios del Cine Europeo 1993 (aún no redactado)\">1993</a> <b>·</b></span>\n",
       "<span style=\"white-space:nowrap\">\n",
       "<a class=\"new\" href=\"/w/index.php?title=Anexo:Premios_del_Cine_Europeo_1994&amp;action=edit&amp;redlink=1\" title=\"Anexo:Premios del Cine Europeo 1994 (aún no redactado)\">1994</a> <b>·</b></span>\n",
       "<span style=\"white-space:nowrap\">\n",
       "<a class=\"new\" href=\"/w/index.php?title=Anexo:Premios_del_Cine_Europeo_1995&amp;action=edit&amp;redlink=1\" title=\"Anexo:Premios del Cine Europeo 1995 (aún no redactado)\">1995</a> <b>·</b></span>\n",
       "<span style=\"white-space:nowrap\">\n",
       "<a class=\"new\" href=\"/w/index.php?title=Anexo:Premios_del_Cine_Europeo_1996&amp;action=edit&amp;redlink=1\" title=\"Anexo:Premios del Cine Europeo 1996 (aún no redactado)\">1996</a> <b>·</b></span>\n",
       "<span style=\"white-space:nowrap\">\n",
       "<a class=\"new\" href=\"/w/index.php?title=Anexo:Premios_del_Cine_Europeo_1997&amp;action=edit&amp;redlink=1\" title=\"Anexo:Premios del Cine Europeo 1997 (aún no redactado)\">1997</a> <b>·</b></span>\n",
       "<span style=\"white-space:nowrap\">\n",
       "<a class=\"new\" href=\"/w/index.php?title=Anexo:Premios_del_Cine_Europeo_1998&amp;action=edit&amp;redlink=1\" title=\"Anexo:Premios del Cine Europeo 1998 (aún no redactado)\">1998</a> <b>·</b></span>\n",
       "<span style=\"white-space:nowrap\">\n",
       "<a class=\"new\" href=\"/w/index.php?title=Anexo:Premios_del_Cine_Europeo_1999&amp;action=edit&amp;redlink=1\" title=\"Anexo:Premios del Cine Europeo 1999 (aún no redactado)\">1999</a> <b>·</b></span>\n",
       "<span style=\"white-space:nowrap\">\n",
       "<a class=\"new\" href=\"/w/index.php?title=Anexo:Premios_del_Cine_Europeo_2000&amp;action=edit&amp;redlink=1\" title=\"Anexo:Premios del Cine Europeo 2000 (aún no redactado)\">2000</a> <b>·</b></span>\n",
       "<span style=\"white-space:nowrap\">\n",
       "<a class=\"new\" href=\"/w/index.php?title=Anexo:Premios_del_Cine_Europeo_2001&amp;action=edit&amp;redlink=1\" title=\"Anexo:Premios del Cine Europeo 2001 (aún no redactado)\">2001</a> <b>·</b></span>\n",
       "<span style=\"white-space:nowrap\">\n",
       "<a class=\"new\" href=\"/w/index.php?title=Anexo:Premios_del_Cine_Europeo_2002&amp;action=edit&amp;redlink=1\" title=\"Anexo:Premios del Cine Europeo 2002 (aún no redactado)\">2002</a> <b>·</b></span>\n",
       "<span style=\"white-space:nowrap\">\n",
       "<a class=\"new\" href=\"/w/index.php?title=Anexo:Premios_del_Cine_Europeo_2003&amp;action=edit&amp;redlink=1\" title=\"Anexo:Premios del Cine Europeo 2003 (aún no redactado)\">2003</a> <b>·</b></span>\n",
       "<span style=\"white-space:nowrap\">\n",
       "<a class=\"new\" href=\"/w/index.php?title=Anexo:Premios_del_Cine_Europeo_2004&amp;action=edit&amp;redlink=1\" title=\"Anexo:Premios del Cine Europeo 2004 (aún no redactado)\">2004</a> <b>·</b></span>\n",
       "<span style=\"white-space:nowrap\">\n",
       "<a class=\"new\" href=\"/w/index.php?title=Anexo:Premios_del_Cine_Europeo_2005&amp;action=edit&amp;redlink=1\" title=\"Anexo:Premios del Cine Europeo 2005 (aún no redactado)\">2005</a> <b>·</b></span>\n",
       "<span style=\"white-space:nowrap\">\n",
       "<a href=\"/wiki/Anexo:Premios_del_Cine_Europeo_2006\" title=\"Anexo:Premios del Cine Europeo 2006\">2006</a> <b>·</b></span>\n",
       "<span style=\"white-space:nowrap\">\n",
       "<a class=\"new\" href=\"/w/index.php?title=Anexo:Premios_del_Cine_Europeo_2007&amp;action=edit&amp;redlink=1\" title=\"Anexo:Premios del Cine Europeo 2007 (aún no redactado)\">2007</a> <b>·</b></span>\n",
       "<span style=\"white-space:nowrap\">\n",
       "<a href=\"/wiki/Anexo:Premios_del_Cine_Europeo_2008\" title=\"Anexo:Premios del Cine Europeo 2008\">2008</a> <b>·</b></span>\n",
       "<span style=\"white-space:nowrap\">\n",
       "<a href=\"/wiki/Anexo:Premios_del_Cine_Europeo_2009\" title=\"Anexo:Premios del Cine Europeo 2009\">2009</a> <b>·</b></span>\n",
       "<span style=\"white-space:nowrap\">\n",
       "<a class=\"new\" href=\"/w/index.php?title=Anexo:Premios_del_Cine_Europeo_2010&amp;action=edit&amp;redlink=1\" title=\"Anexo:Premios del Cine Europeo 2010 (aún no redactado)\">2010</a> <b>·</b></span>\n",
       "<span style=\"white-space:nowrap\">\n",
       "<a class=\"new\" href=\"/w/index.php?title=Anexo:Premios_del_Cine_Europeo_2011&amp;action=edit&amp;redlink=1\" title=\"Anexo:Premios del Cine Europeo 2011 (aún no redactado)\">2011</a> <b>·</b></span>\n",
       "<span style=\"white-space:nowrap\">\n",
       "<a class=\"new\" href=\"/w/index.php?title=Anexo:Premios_del_Cine_Europeo_2012&amp;action=edit&amp;redlink=1\" title=\"Anexo:Premios del Cine Europeo 2012 (aún no redactado)\">2012</a> <b>·</b></span>\n",
       "<span style=\"white-space:nowrap\">\n",
       "<a class=\"new\" href=\"/w/index.php?title=Anexo:Premios_del_Cine_Europeo_2013&amp;action=edit&amp;redlink=1\" title=\"Anexo:Premios del Cine Europeo 2013 (aún no redactado)\">2013</a> <b>·</b></span>\n",
       "<span style=\"white-space:nowrap\">\n",
       "<a class=\"new\" href=\"/w/index.php?title=Anexo:Premios_del_Cine_Europeo_2014&amp;action=edit&amp;redlink=1\" title=\"Anexo:Premios del Cine Europeo 2014 (aún no redactado)\">2014</a> <b>·</b></span>\n",
       "<span style=\"white-space:nowrap\">\n",
       "</span>\n",
       "</p>\n",
       "</td></tr></tbody></table>\n",
       "<h2><span id=\"Las_categor.C3.ADas\"></span><span class=\"mw-headline\" id=\"Las_categorías\">Las categorías</span><span class=\"mw-editsection\"><span class=\"mw-editsection-bracket\">[</span><a href=\"/w/index.php?title=Premios_del_Cine_Europeo&amp;action=edit&amp;section=4\" title=\"Editar sección: Las categorías\">editar</a><span class=\"mw-editsection-bracket\">]</span></span></h2>\n",
       "<p>Los premios comenzaron siendo otorgados en alrededor de 10 categorías, de las cuales la más importante era la de <i>Película del año</i>. Las categorías han experimentado varios cambios. En <a href=\"/wiki/2005\" title=\"2005\">2005</a> las categorías fueron 19:\n",
       "</p>\n",
       "<table border=\"1\" cellpadding=\"3\" cellspacing=\"0\" class=\"wikitable\" style=\"border: gray solid 1px; border-collapse: collapse;\">\n",
       "<tbody><tr bgcolor=\"#BBBBBB\">\n",
       "<th>Categoría\n",
       "</th>\n",
       "<th>Nombre original de la categoría\n",
       "</th>\n",
       "<th>Desde\n",
       "</th></tr>\n",
       "<tr>\n",
       "<td><a class=\"mw-redirect\" href=\"/wiki/Premio_a_la_Mejor_pel%C3%ADcula_europea_(Premio_del_cine_europeo)\" title=\"Premio a la Mejor película europea (Premio del cine europeo)\">Mejor película europea</a>\n",
       "</td>\n",
       "<td>European Film\n",
       "</td>\n",
       "<td>1988\n",
       "</td></tr>\n",
       "<tr>\n",
       "<td><a class=\"mw-redirect\" href=\"/wiki/Mejor_director_europeo\" title=\"Mejor director europeo\">Mejor director europeo</a>\n",
       "</td>\n",
       "<td>European Director\n",
       "</td>\n",
       "<td>1988\n",
       "</td></tr>\n",
       "<tr>\n",
       "<td><a class=\"mw-redirect\" href=\"/wiki/Premio_al_Mejor_actor_europeo_(Premio_del_cine_europeo)\" title=\"Premio al Mejor actor europeo (Premio del cine europeo)\">Mejor actor europeo</a>\n",
       "</td>\n",
       "<td>European Actor\n",
       "</td>\n",
       "<td>1988\n",
       "</td></tr>\n",
       "<tr>\n",
       "<td><a class=\"mw-redirect\" href=\"/wiki/Premio_a_la_Mejor_actriz_europea_(Premio_del_cine_europeo)\" title=\"Premio a la Mejor actriz europea (Premio del cine europeo)\">Mejor actriz europea</a>\n",
       "</td>\n",
       "<td>European Actress\n",
       "</td>\n",
       "<td>1988\n",
       "</td></tr>\n",
       "<tr>\n",
       "<td><a href=\"/wiki/Anexo:Premio_del_Cine_Europeo_al_mejor_guionista_europeo\" title=\"Anexo:Premio del Cine Europeo al mejor guionista europeo\">Mejor guionista europeo</a>\n",
       "</td>\n",
       "<td>European Screenwriter\n",
       "</td>\n",
       "<td>1988\n",
       "</td></tr>\n",
       "<tr>\n",
       "<td><a href=\"/wiki/Anexo:Premio_del_Cine_Europeo_al_mejor_director_de_fotograf%C3%ADa_europeo\" title=\"Anexo:Premio del Cine Europeo al mejor director de fotografía europeo\">Mejor director de fotografía europeo</a>\n",
       "</td>\n",
       "<td>European Cinematographer\n",
       "</td>\n",
       "<td>1988\n",
       "</td></tr>\n",
       "<tr>\n",
       "<td><a href=\"/wiki/Anexo:Premio_del_Cine_Europeo_al_mejor_compositor_europeo\" title=\"Anexo:Premio del Cine Europeo al mejor compositor europeo\">Mejor compositor europeo</a>\n",
       "</td>\n",
       "<td>European Composer\n",
       "</td>\n",
       "<td>1989\n",
       "</td></tr>\n",
       "<tr>\n",
       "<td>Mejor montador europeo\n",
       "</td>\n",
       "<td>European Editor\n",
       "</td>\n",
       "<td>1991\n",
       "</td></tr>\n",
       "<tr>\n",
       "<td>Mejor director de producción\n",
       "</td>\n",
       "<td>European Production Designer\n",
       "</td>\n",
       "<td>1988\n",
       "</td></tr>\n",
       "<tr>\n",
       "<td>Premio honorífico por el conjunto de su carrera\n",
       "</td>\n",
       "<td>Lifetime Achievement Award\n",
       "</td>\n",
       "<td>1988\n",
       "</td></tr>\n",
       "<tr>\n",
       "<td>Mejor logro europeo en el mundo del cine\n",
       "</td>\n",
       "<td>European Achievement in World Cinema\n",
       "</td>\n",
       "<td>1997\n",
       "</td></tr>\n",
       "<tr>\n",
       "<td>Premio Fassbinder a la mejor película revelación\n",
       "</td>\n",
       "<td>European Film Academy Discovery — Prix Fassbinder\n",
       "</td>\n",
       "<td>1988\n",
       "</td></tr>\n",
       "<tr>\n",
       "<td>Premio Fipresci de la Crítica\n",
       "</td>\n",
       "<td>Critics Award — Prix Fipresci\n",
       "</td>\n",
       "<td>1993\n",
       "</td></tr>\n",
       "<tr>\n",
       "<td>Premio Arte al mejor documental\n",
       "</td>\n",
       "<td>Documentary — Prix Arte\n",
       "</td>\n",
       "<td>1989\n",
       "</td></tr>\n",
       "<tr>\n",
       "<td>Premio UIP al mejor cortometraje\n",
       "</td>\n",
       "<td>Short Film — Prix UIP\n",
       "</td>\n",
       "<td>1998\n",
       "</td></tr>\n",
       "<tr>\n",
       "<td>Premio Screen Internacional a la mejor película no europea\n",
       "</td>\n",
       "<td>Non-European Film — Prix Screen International\n",
       "</td>\n",
       "<td>1996\n",
       "</td></tr>\n",
       "<tr>\n",
       "<td>Premio Jameson del público al mejor director europeo\n",
       "</td>\n",
       "<td>Jameson People's Choice Award — Best European Director\n",
       "</td>\n",
       "<td>1997\n",
       "</td></tr>\n",
       "<tr>\n",
       "<td>Premio Jameson del público al mejor actor europeo\n",
       "</td>\n",
       "<td>Jameson People's Choice Award — Best European Actor\n",
       "</td>\n",
       "<td>1997\n",
       "</td></tr>\n",
       "<tr>\n",
       "<td>Premio Jameson del público a la mejor actriz europea\n",
       "</td>\n",
       "<td>Jameson People's Choice Award — Best European Actress\n",
       "</td>\n",
       "<td>1997\n",
       "</td></tr></tbody></table>\n",
       "<h2><span class=\"mw-headline\" id=\"Referencias\">Referencias</span><span class=\"mw-editsection\"><span class=\"mw-editsection-bracket\">[</span><a href=\"/w/index.php?title=Premios_del_Cine_Europeo&amp;action=edit&amp;section=5\" title=\"Editar sección: Referencias\">editar</a><span class=\"mw-editsection-bracket\">]</span></span></h2>\n",
       "<div class=\"listaref\" style=\"list-style-type: decimal;\"><ol class=\"references\">\n",
       "<li id=\"cite_note-1\"><span class=\"mw-cite-backlink\"><a href=\"#cite_ref-1\">↑</a></span> <span class=\"reference-text\"><span class=\"citation web\" id=\"CITAREFAcademia_del_Cine_Europeo24_de_noviembre_de_2008\">Academia del Cine Europeo (<a href=\"/wiki/24_de_noviembre\" title=\"24 de noviembre\">24 de noviembre</a> de <a href=\"/wiki/2008\" title=\"2008\">2008</a>). <a class=\"external text\" href=\"http://www.europeanfilmacademy.org/2008/11/24/the-22nd-european-film-awards-go-to-the-ruhr/\" rel=\"nofollow\">«2009: The 22nd European Film Awards Go to the Ruhr!»</a><span class=\"reference-accessdate\">. Consultado el 25 de noviembre de 2008</span>.</span><span class=\"Z3988\" title=\"ctx_ver=Z39.88-2004&amp;rfr_id=info%3Asid%2Fes.wikipedia.org%3APremios+del+Cine+Europeo&amp;rft.au=Academia+del+Cine+Europeo&amp;rft.aulast=Academia+del+Cine+Europeo&amp;rft.btitle=2009%3A+The+22nd+European+Film+Awards+Go+to+the+Ruhr%21&amp;rft.date=24+de+noviembre+de+2008&amp;rft.genre=book&amp;rft_id=http%3A%2F%2Fwww.europeanfilmacademy.org%2F2008%2F11%2F24%2Fthe-22nd-european-film-awards-go-to-the-ruhr%2F&amp;rft_val_fmt=info%3Aofi%2Ffmt%3Akev%3Amtx%3Abook\"><span style=\"display:none;\"> </span></span></span>\n",
       "</li>\n",
       "<li id=\"cite_note-2\"><span class=\"mw-cite-backlink\"><a href=\"#cite_ref-2\">↑</a></span> <span class=\"reference-text\"><a class=\"external text\" href=\"http://www.europeanfilmawards.eu/en_EN/home/156999\" rel=\"nofollow\">European Film Awards 2014 go to Riga</a></span>\n",
       "</li>\n",
       "<li id=\"cite_note-3\"><span class=\"mw-cite-backlink\"><a href=\"#cite_ref-3\">↑</a></span> <span class=\"reference-text\"><span class=\"citation web\"><a class=\"external text\" href=\"https://web.archive.org/web/20180710133239/https://www.teatrodelamaestranza.es/programacion/601_GALA_DE_LOS_PREMIOS_DEL_CINE_EUROPEO_2018.html\" rel=\"nofollow\">«Gala de los premios del cine europeo 2018»</a>. <i>Teatro de la Maestranza</i>. Archivado desde <a class=\"external text\" href=\"https://www.teatrodelamaestranza.es/programacion/601_GALA_DE_LOS_PREMIOS_DEL_CINE_EUROPEO_2018.html\" rel=\"nofollow\">el original</a> el 10 de julio de 2018<span class=\"reference-accessdate\">. Consultado el 27 de diciembre de 2018</span>.</span><span class=\"Z3988\" title=\"ctx_ver=Z39.88-2004&amp;rfr_id=info%3Asid%2Fes.wikipedia.org%3APremios+del+Cine+Europeo&amp;rft.atitle=Gala+de+los+premios+del+cine+europeo+2018&amp;rft.genre=article&amp;rft.jtitle=Teatro+de+la+Maestranza&amp;rft_id=https%3A%2F%2Fwww.teatrodelamaestranza.es%2Fprogramacion%2F601_GALA_DE_LOS_PREMIOS_DEL_CINE_EUROPEO_2018.html&amp;rft_val_fmt=info%3Aofi%2Ffmt%3Akev%3Amtx%3Ajournal\"><span style=\"display:none;\"> </span></span></span>\n",
       "</li>\n",
       "</ol></div>\n",
       "<h2><span class=\"mw-headline\" id=\"Otros_premios_de_cine\">Otros premios de cine</span><span class=\"mw-editsection\"><span class=\"mw-editsection-bracket\">[</span><a href=\"/w/index.php?title=Premios_del_Cine_Europeo&amp;action=edit&amp;section=6\" title=\"Editar sección: Otros premios de cine\">editar</a><span class=\"mw-editsection-bracket\">]</span></span></h2>\n",
       "<ul><li><a href=\"/wiki/Premios_%C3%93scar\" title=\"Premios Óscar\">Premios Oscar</a> de la <a class=\"mw-redirect\" href=\"/wiki/Academia_de_las_Artes_y_las_Ciencias_Cinematogr%C3%A1ficas_de_Hollywood\" title=\"Academia de las Artes y las Ciencias Cinematográficas de Hollywood\">Academia de las Artes y las Ciencias Cinematográficas de Hollywood</a></li>\n",
       "<li><a href=\"/wiki/Premios_Globo_de_Oro\" title=\"Premios Globo de Oro\">Premios Globo de Oro</a> de la <a href=\"/wiki/Asociaci%C3%B3n_de_la_Prensa_Extranjera_de_Hollywood\" title=\"Asociación de la Prensa Extranjera de Hollywood\">Asociación de la Prensa Extranjera de Hollywood</a></li>\n",
       "<li><a href=\"/wiki/Premios_BAFTA\" title=\"Premios BAFTA\">Premios BAFTA</a> de la <a href=\"/wiki/Academia_Brit%C3%A1nica_de_las_Artes_Cinematogr%C3%A1ficas_y_de_la_Televisi%C3%B3n\" title=\"Academia Británica de las Artes Cinematográficas y de la Televisión\">Academia Británica de las Artes Cinematográficas y de la Televisión</a></li>\n",
       "<li><a href=\"/wiki/Premios_Goya\" title=\"Premios Goya\">Premios Goya</a> de la <a href=\"/wiki/Academia_de_las_Artes_y_las_Ciencias_Cinematogr%C3%A1ficas_de_Espa%C3%B1a\" title=\"Academia de las Artes y las Ciencias Cinematográficas de España\">Academia de las Artes y las Ciencias Cinematográficas de España</a></li>\n",
       "<li><a href=\"/wiki/Premios_C%C3%A9sar\" title=\"Premios César\">Premios César</a> de la <a class=\"mw-redirect\" href=\"/wiki/Academia_de_las_artes_y_t%C3%A9cnicas_del_cine_de_Francia\" title=\"Academia de las artes y técnicas del cine de Francia\">Academia de las artes y técnicas del cine de Francia</a></li>\n",
       "<li><a class=\"mw-redirect\" href=\"/wiki/Premios_Ariel\" title=\"Premios Ariel\">Premios Ariel</a> de la <a href=\"/wiki/Academia_Mexicana_de_Artes_y_Ciencias_Cinematogr%C3%A1ficas\" title=\"Academia Mexicana de Artes y Ciencias Cinematográficas\">Academia Mexicana de Artes y Ciencias Cinematográficas</a></li>\n",
       "<li><a href=\"/wiki/Premios_C%C3%B3ndor_de_Plata\" title=\"Premios Cóndor de Plata\">Premios Cóndor de Plata</a> de la <a href=\"/wiki/Asociaci%C3%B3n_de_Cronistas_Cinematogr%C3%A1ficos_de_la_Argentina\" title=\"Asociación de Cronistas Cinematográficos de la Argentina\">Asociación de Cronistas Cinematográficos de la Argentina</a></li>\n",
       "<li><a href=\"/wiki/Premio_Sur\" title=\"Premio Sur\">Premios Sur</a> de la <a href=\"/wiki/Academia_de_las_Artes_y_Ciencias_Cinematogr%C3%A1ficas_de_la_Argentina\" title=\"Academia de las Artes y Ciencias Cinematográficas de la Argentina\">Academia de las Artes y Ciencias Cinematográficas de la Argentina</a></li>\n",
       "<li><a href=\"/wiki/Premio_David_de_Donatello\" title=\"Premio David de Donatello\">Premio David de Donatello</a> de la <a href=\"/wiki/Academia_del_Cine_Italiano\" title=\"Academia del Cine Italiano\">Academia del Cine Italiano</a></li>\n",
       "<li><a href=\"/wiki/Premios_Le%C3%B3n_checo\" title=\"Premios León checo\">Premios León checo</a> de la <a href=\"/wiki/Academia_Checa_de_Cine_y_Televisi%C3%B3n\" title=\"Academia Checa de Cine y Televisión\">Academia Checa de Cine y Televisión</a></li></ul>\n",
       "<h2><span class=\"mw-headline\" id=\"Enlaces_externos\">Enlaces externos</span><span class=\"mw-editsection\"><span class=\"mw-editsection-bracket\">[</span><a href=\"/w/index.php?title=Premios_del_Cine_Europeo&amp;action=edit&amp;section=7\" title=\"Editar sección: Enlaces externos\">editar</a><span class=\"mw-editsection-bracket\">]</span></span></h2>\n",
       "<ul><li><a class=\"external text\" href=\"http://www.europeanfilmacademy.org\" rel=\"nofollow\">Página oficial de la Academia de Cine Europeo</a> (en inglés, francés y alemán)</li>\n",
       "<li><a class=\"external text\" href=\"http://www.europeanfilmawards.eu\" rel=\"nofollow\">Página oficial de los Premios del Cine Europeo</a> (en inglés)</li>\n",
       "<li><a class=\"external text\" href=\"https://web.archive.org/web/20090205132916/http://europeanfilmawards.dk/index.lasso?&amp;e=1\" rel=\"nofollow\">Página oficial de la XXI edición</a> (en inglés y en danés)</li>\n",
       "<li><a class=\"external text\" href=\"http://www.epdlp.com/premios1.php?id=49\" rel=\"nofollow\">Página en <i>El poder de la palabra</i></a> (en español)</li></ul>\n",
       "<style data-mw-deduplicate=\"TemplateStyles:r118746331\">.mw-parser-output .mw-authority-control{margin-top:1.5em}.mw-parser-output .mw-authority-control .navbox hr:last-child{display:none}.mw-parser-output .mw-authority-control .navbox+.mw-mf-linked-projects{display:none}.mw-parser-output .mw-authority-control .mw-mf-linked-projects{display:flex;padding:0.5em;border:1px solid #c8ccd1;background-color:#eaecf0;color:#222222}.mw-parser-output .mw-authority-control .mw-mf-linked-projects ul li{margin-bottom:0}</style><div class=\"mw-authority-control\"><div aria-label=\"Navbox\" class=\"navbox\" role=\"navigation\" style=\"width: inherit;padding:3px\"><table class=\"hlist navbox-inner\" style=\"border-spacing:0;background:transparent;color:inherit\"><tbody><tr><th class=\"navbox-group\" scope=\"row\" style=\"width: 12%; text-align:center;\"><a href=\"/wiki/Ayuda:Control_de_autoridades\" title=\"Ayuda:Control de autoridades\">Control de autoridades</a></th><td class=\"navbox-list navbox-odd\" style=\"text-align:left;border-left-width:2px;border-left-style:solid;width:100%;padding:0px\"><div style=\"padding:0em 0.25em\">\n",
       "<ul><li><b>Proyectos Wikimedia</b></li>\n",
       "<li><span style=\"white-space:nowrap;\"><a href=\"/wiki/Wikidata\" title=\"Wikidata\"><img alt=\"Wd\" data-file-height=\"590\" data-file-width=\"1050\" decoding=\"async\" height=\"11\" src=\"//upload.wikimedia.org/wikipedia/commons/thumb/f/ff/Wikidata-logo.svg/20px-Wikidata-logo.svg.png\" srcset=\"//upload.wikimedia.org/wikipedia/commons/thumb/f/ff/Wikidata-logo.svg/30px-Wikidata-logo.svg.png 1.5x, //upload.wikimedia.org/wikipedia/commons/thumb/f/ff/Wikidata-logo.svg/40px-Wikidata-logo.svg.png 2x\" width=\"20\"/></a> Datos:</span> <span class=\"uid\"><a class=\"extiw\" href=\"https://www.wikidata.org/wiki/Q223740\" title=\"wikidata:Q223740\">Q223740</a></span></li>\n",
       "<li><b>Identificadores</b></li>\n",
       "<li><span style=\"white-space:nowrap;\"><a class=\"mw-redirect\" href=\"/wiki/Integrated_Authority_File\" title=\"Integrated Authority File\">GND</a>:</span> <span class=\"uid\"><a class=\"external text\" href=\"https://d-nb.info/gnd/7616377-5\" rel=\"nofollow\">7616377-5</a></span></li></ul>\n",
       "</div></td></tr></tbody></table></div><div class=\"mw-mf-linked-projects hlist\">\n",
       "<ul><li><span style=\"white-space:nowrap;\"><a href=\"/wiki/Wikidata\" title=\"Wikidata\"><img alt=\"Wd\" data-file-height=\"590\" data-file-width=\"1050\" decoding=\"async\" height=\"11\" src=\"//upload.wikimedia.org/wikipedia/commons/thumb/f/ff/Wikidata-logo.svg/20px-Wikidata-logo.svg.png\" srcset=\"//upload.wikimedia.org/wikipedia/commons/thumb/f/ff/Wikidata-logo.svg/30px-Wikidata-logo.svg.png 1.5x, //upload.wikimedia.org/wikipedia/commons/thumb/f/ff/Wikidata-logo.svg/40px-Wikidata-logo.svg.png 2x\" width=\"20\"/></a> Datos:</span> <span class=\"uid\"><a class=\"extiw\" href=\"https://www.wikidata.org/wiki/Q223740\" title=\"wikidata:Q223740\">Q223740</a></span></li></ul>\n",
       "</div></div>\n",
       "<!-- \n",
       "NewPP limit report\n",
       "Parsed by mw2270\n",
       "Cached time: 20201023113153\n",
       "Cache expiry: 2592000\n",
       "Dynamic content: false\n",
       "Complications: []\n",
       "CPU time usage: 0.304 seconds\n",
       "Real time usage: 0.398 seconds\n",
       "Preprocessor visited node count: 3997/1000000\n",
       "Post‐expand include size: 26076/2097152 bytes\n",
       "Template argument size: 3087/2097152 bytes\n",
       "Highest expansion depth: 16/40\n",
       "Expensive parser function count: 1/500\n",
       "Unstrip recursion depth: 0/20\n",
       "Unstrip post‐expand size: 3859/5000000 bytes\n",
       "Lua time usage: 0.117/10.000 seconds\n",
       "Lua memory usage: 2.94 MB/50 MB\n",
       "Number of Wikibase entities loaded: 2/400\n",
       "-->\n",
       "<!--\n",
       "Transclusion expansion time report (%,ms,calls,template)\n",
       "100.00%  308.217      1 -total\n",
       " 45.94%  141.597      1 Plantilla:Ficha_de_premio\n",
       " 44.69%  137.744      1 Plantilla:Ficha\n",
       " 31.51%   97.134     12 Plantilla:Propiedad\n",
       " 19.16%   59.058      1 Plantilla:Control_de_autoridades\n",
       " 18.25%   56.247     33 Plantilla:Bandera\n",
       " 10.61%   32.699      1 Plantilla:Listaref\n",
       "  8.56%   26.378      2 Plantilla:Cita_web\n",
       "  4.05%   12.481     33 Plantilla:Bandera_icono\n",
       "  3.14%    9.682     18 Plantilla:Geodatos_Alemania\n",
       "-->\n",
       "<!-- Saved in parser cache with key eswiki:pcache:idhash:406088-0!canonical and timestamp 20201023113153 and revision id 124081417\n",
       " -->\n",
       "</div><noscript><img alt=\"\" height=\"1\" src=\"//es.wikipedia.org/wiki/Special:CentralAutoLogin/start?type=1x1\" style=\"border: none; position: absolute;\" title=\"\" width=\"1\"/></noscript>\n",
       "<div class=\"printfooter\">Obtenido de «<a dir=\"ltr\" href=\"https://es.wikipedia.org/w/index.php?title=Premios_del_Cine_Europeo&amp;oldid=124081417\">https://es.wikipedia.org/w/index.php?title=Premios_del_Cine_Europeo&amp;oldid=124081417</a>»</div></div>\n",
       "<div class=\"catlinks\" data-mw=\"interface\" id=\"catlinks\"><div class=\"mw-normal-catlinks\" id=\"mw-normal-catlinks\"><a href=\"/wiki/Especial:Categor%C3%ADas\" title=\"Especial:Categorías\">Categoría</a>: <ul><li><a href=\"/wiki/Categor%C3%ADa:Premios_del_Cine_Europeo\" title=\"Categoría:Premios del Cine Europeo\">Premios del Cine Europeo</a></li></ul></div><div class=\"mw-hidden-catlinks mw-hidden-cats-hidden\" id=\"mw-hidden-catlinks\">Categorías ocultas: <ul><li><a href=\"/wiki/Categor%C3%ADa:Wikipedia:Art%C3%ADculos_con_datos_por_trasladar_a_Wikidata\" title=\"Categoría:Wikipedia:Artículos con datos por trasladar a Wikidata\">Wikipedia:Artículos con datos por trasladar a Wikidata</a></li><li><a href=\"/wiki/Categor%C3%ADa:Wikipedia:Art%C3%ADculos_con_identificadores_GND\" title=\"Categoría:Wikipedia:Artículos con identificadores GND\">Wikipedia:Artículos con identificadores GND</a></li></ul></div></div>\n",
       "</div>\n",
       "</div>\n",
       "<div id=\"mw-data-after-content\">\n",
       "<div class=\"read-more-container\"></div>\n",
       "</div>\n",
       "<div id=\"mw-navigation\">\n",
       "<h2>Menú de navegación</h2>\n",
       "<div id=\"mw-head\">\n",
       "<!-- Please do not use role attribute as CSS selector, it is deprecated. -->\n",
       "<nav aria-labelledby=\"p-personal-label\" class=\"mw-portlet mw-portlet-personal vector-menu\" id=\"p-personal\" role=\"navigation\">\n",
       "<h3 id=\"p-personal-label\">\n",
       "<span>Herramientas personales</span>\n",
       "</h3>\n",
       "<div class=\"vector-menu-content\">\n",
       "<ul class=\"vector-menu-content-list\"><li id=\"pt-anonuserpage\">No has accedido</li><li id=\"pt-anontalk\"><a accesskey=\"n\" href=\"/wiki/Especial:MiDiscusi%C3%B3n\" title=\"Discusión sobre ediciones hechas desde esta dirección IP [n]\">Discusión</a></li><li id=\"pt-anoncontribs\"><a accesskey=\"y\" href=\"/wiki/Especial:MisContribuciones\" title=\"Una lista de modificaciones hechas desde esta dirección IP [y]\">Contribuciones</a></li><li id=\"pt-createaccount\"><a href=\"/w/index.php?title=Especial:Crear_una_cuenta&amp;returnto=Premios+del+Cine+Europeo\" title=\"Te recomendamos crear una cuenta e iniciar sesión; sin embargo, no es obligatorio\">Crear una cuenta</a></li><li id=\"pt-login\"><a accesskey=\"o\" href=\"/w/index.php?title=Especial:Entrar&amp;returnto=Premios+del+Cine+Europeo\" title=\"Te recomendamos iniciar sesión, aunque no es obligatorio [o]\">Acceder</a></li></ul>\n",
       "</div>\n",
       "</nav>\n",
       "<div id=\"left-navigation\">\n",
       "<!-- Please do not use role attribute as CSS selector, it is deprecated. -->\n",
       "<nav aria-labelledby=\"p-namespaces-label\" class=\"mw-portlet mw-portlet-namespaces vector-menu vector-menu-tabs\" id=\"p-namespaces\" role=\"navigation\">\n",
       "<h3 id=\"p-namespaces-label\">\n",
       "<span>Espacios de nombres</span>\n",
       "</h3>\n",
       "<div class=\"vector-menu-content\">\n",
       "<ul class=\"vector-menu-content-list\"><li class=\"selected\" id=\"ca-nstab-main\"><a accesskey=\"c\" href=\"/wiki/Premios_del_Cine_Europeo\" title=\"Ver la página de contenido [c]\">Artículo</a></li><li id=\"ca-talk\"><a accesskey=\"t\" href=\"/wiki/Discusi%C3%B3n:Premios_del_Cine_Europeo\" rel=\"discussion\" title=\"Discusión acerca de la página [t]\">Discusión</a></li></ul>\n",
       "</div>\n",
       "</nav>\n",
       "<!-- Please do not use role attribute as CSS selector, it is deprecated. -->\n",
       "<nav aria-labelledby=\"p-variants-label\" class=\"mw-portlet mw-portlet-variants emptyPortlet vector-menu vector-menu-dropdown\" id=\"p-variants\" role=\"navigation\">\n",
       "<input aria-labelledby=\"p-variants-label\" class=\"vector-menu-checkbox\" type=\"checkbox\"/>\n",
       "<h3 id=\"p-variants-label\">\n",
       "<span>Variantes</span>\n",
       "</h3>\n",
       "<div class=\"vector-menu-content\">\n",
       "<ul class=\"vector-menu-content-list\"></ul>\n",
       "</div>\n",
       "</nav>\n",
       "</div>\n",
       "<div id=\"right-navigation\">\n",
       "<!-- Please do not use role attribute as CSS selector, it is deprecated. -->\n",
       "<nav aria-labelledby=\"p-views-label\" class=\"mw-portlet mw-portlet-views vector-menu vector-menu-tabs\" id=\"p-views\" role=\"navigation\">\n",
       "<h3 id=\"p-views-label\">\n",
       "<span>Vistas</span>\n",
       "</h3>\n",
       "<div class=\"vector-menu-content\">\n",
       "<ul class=\"vector-menu-content-list\"><li class=\"selected\" id=\"ca-view\"><a href=\"/wiki/Premios_del_Cine_Europeo\">Leer</a></li><li id=\"ca-edit\"><a accesskey=\"e\" href=\"/w/index.php?title=Premios_del_Cine_Europeo&amp;action=edit\" title=\"Editar esta página [e]\">Editar</a></li><li id=\"ca-history\"><a accesskey=\"h\" href=\"/w/index.php?title=Premios_del_Cine_Europeo&amp;action=history\" title=\"Versiones anteriores de esta página [h]\">Ver historial</a></li></ul>\n",
       "</div>\n",
       "</nav>\n",
       "<!-- Please do not use role attribute as CSS selector, it is deprecated. -->\n",
       "<nav aria-labelledby=\"p-cactions-label\" class=\"mw-portlet mw-portlet-cactions emptyPortlet vector-menu vector-menu-dropdown\" id=\"p-cactions\" role=\"navigation\">\n",
       "<input aria-labelledby=\"p-cactions-label\" class=\"vector-menu-checkbox\" type=\"checkbox\"/>\n",
       "<h3 id=\"p-cactions-label\">\n",
       "<span>Más</span>\n",
       "</h3>\n",
       "<div class=\"vector-menu-content\">\n",
       "<ul class=\"vector-menu-content-list\"></ul>\n",
       "</div>\n",
       "</nav>\n",
       "<div id=\"p-search\" role=\"search\">\n",
       "<h3>\n",
       "<label for=\"searchInput\">Buscar</label>\n",
       "</h3>\n",
       "<form action=\"/w/index.php\" id=\"searchform\">\n",
       "<div data-search-loc=\"header-navigation\" id=\"simpleSearch\">\n",
       "<input accesskey=\"f\" id=\"searchInput\" name=\"search\" placeholder=\"Buscar en Wikipedia\" title=\"Buscar en este wiki [f]\" type=\"search\"/>\n",
       "<input name=\"title\" type=\"hidden\" value=\"Especial:Buscar\"/>\n",
       "<input class=\"searchButton mw-fallbackSearchButton\" id=\"mw-searchButton\" name=\"fulltext\" title=\"Busca páginas con este texto.\" type=\"submit\" value=\"Buscar\">\n",
       "<input class=\"searchButton\" id=\"searchButton\" name=\"go\" title=\"Ir a la página con este nombre exacto si existe\" type=\"submit\" value=\"Ir\"/>\n",
       "</input></div>\n",
       "</form>\n",
       "</div>\n",
       "</div>\n",
       "</div>\n",
       "<div id=\"mw-panel\">\n",
       "<div id=\"p-logo\" role=\"banner\">\n",
       "<a class=\"mw-wiki-logo\" href=\"/wiki/Wikipedia:Portada\" title=\"Visitar la página principal\"></a>\n",
       "</div>\n",
       "<!-- Please do not use role attribute as CSS selector, it is deprecated. -->\n",
       "<nav aria-labelledby=\"p-navigation-label\" class=\"mw-portlet mw-portlet-navigation vector-menu vector-menu-portal portal portal-first\" id=\"p-navigation\" role=\"navigation\">\n",
       "<h3 id=\"p-navigation-label\">\n",
       "<span>Navegación</span>\n",
       "</h3>\n",
       "<div class=\"vector-menu-content\">\n",
       "<ul class=\"vector-menu-content-list\"><li id=\"n-mainpage-description\"><a accesskey=\"z\" href=\"/wiki/Wikipedia:Portada\" title=\"Visitar la página principal [z]\">Portada</a></li><li id=\"n-portal\"><a href=\"/wiki/Portal:Comunidad\" title=\"Acerca del proyecto, lo que puedes hacer, dónde encontrar información\">Portal de la comunidad</a></li><li id=\"n-currentevents\"><a href=\"/wiki/Portal:Actualidad\" title=\"Encuentra información de contexto sobre acontecimientos actuales\">Actualidad</a></li><li id=\"n-recentchanges\"><a accesskey=\"r\" href=\"/wiki/Especial:CambiosRecientes\" title=\"Lista de cambios recientes en el wiki [r]\">Cambios recientes</a></li><li id=\"n-newpages\"><a href=\"/wiki/Especial:P%C3%A1ginasNuevas\">Páginas nuevas</a></li><li id=\"n-randompage\"><a accesskey=\"x\" href=\"/wiki/Especial:Aleatoria\" title=\"Cargar una página al azar [x]\">Página aleatoria</a></li><li id=\"n-help\"><a href=\"/wiki/Ayuda:Contenidos\" title=\"El lugar para aprender\">Ayuda</a></li><li id=\"n-sitesupport\"><a href=\"//donate.wikimedia.org/wiki/Special:FundraiserRedirector?utm_source=donate&amp;utm_medium=sidebar&amp;utm_campaign=C13_es.wikipedia.org&amp;uselang=es\" title=\"Apóyanos\">Donaciones</a></li><li id=\"n-bug_in_article\"><a href=\"/wiki/Wikipedia:Informes_de_error\">Notificar un error</a></li></ul>\n",
       "</div>\n",
       "</nav>\n",
       "<!-- Please do not use role attribute as CSS selector, it is deprecated. -->\n",
       "<nav aria-labelledby=\"p-tb-label\" class=\"mw-portlet mw-portlet-tb vector-menu vector-menu-portal portal\" id=\"p-tb\" role=\"navigation\">\n",
       "<h3 id=\"p-tb-label\">\n",
       "<span>Herramientas</span>\n",
       "</h3>\n",
       "<div class=\"vector-menu-content\">\n",
       "<ul class=\"vector-menu-content-list\"><li id=\"t-whatlinkshere\"><a accesskey=\"j\" href=\"/wiki/Especial:LoQueEnlazaAqu%C3%AD/Premios_del_Cine_Europeo\" title=\"Lista de todas las páginas del wiki que enlazan aquí [j]\">Lo que enlaza aquí</a></li><li id=\"t-recentchangeslinked\"><a accesskey=\"k\" href=\"/wiki/Especial:CambiosEnEnlazadas/Premios_del_Cine_Europeo\" rel=\"nofollow\" title=\"Cambios recientes en las páginas que enlazan con esta [k]\">Cambios en enlazadas</a></li><li id=\"t-upload\"><a accesskey=\"u\" href=\"//commons.wikimedia.org/wiki/Special:UploadWizard?uselang=es\" title=\"Subir archivos [u]\">Subir archivo</a></li><li id=\"t-specialpages\"><a accesskey=\"q\" href=\"/wiki/Especial:P%C3%A1ginasEspeciales\" title=\"Lista de todas las páginas especiales [q]\">Páginas especiales</a></li><li id=\"t-permalink\"><a href=\"/w/index.php?title=Premios_del_Cine_Europeo&amp;oldid=124081417\" title=\"Enlace permanente a esta versión de la página\">Enlace permanente</a></li><li id=\"t-info\"><a href=\"/w/index.php?title=Premios_del_Cine_Europeo&amp;action=info\" title=\"Más información sobre esta página\">Información de la página</a></li><li id=\"t-cite\"><a href=\"/w/index.php?title=Especial:Citar&amp;page=Premios_del_Cine_Europeo&amp;id=124081417&amp;wpFormIdentifier=titleform\" title=\"Información sobre cómo citar esta página\">Citar esta página</a></li><li id=\"t-wikibase\"><a accesskey=\"g\" href=\"https://www.wikidata.org/wiki/Special:EntityPage/Q223740\" title=\"Enlace al elemento conectado del repositorio de datos [g]\">Elemento de Wikidata</a></li></ul>\n",
       "</div>\n",
       "</nav>\n",
       "<!-- Please do not use role attribute as CSS selector, it is deprecated. -->\n",
       "<nav aria-labelledby=\"p-coll-print_export-label\" class=\"mw-portlet mw-portlet-coll-print_export vector-menu vector-menu-portal portal\" id=\"p-coll-print_export\" role=\"navigation\">\n",
       "<h3 id=\"p-coll-print_export-label\">\n",
       "<span>Imprimir/exportar</span>\n",
       "</h3>\n",
       "<div class=\"vector-menu-content\">\n",
       "<ul class=\"vector-menu-content-list\"><li id=\"coll-create_a_book\"><a href=\"/w/index.php?title=Especial:Libro&amp;bookcmd=book_creator&amp;referer=Premios+del+Cine+Europeo\">Crear un libro</a></li><li id=\"coll-download-as-rl\"><a href=\"/w/index.php?title=Especial:DownloadAsPdf&amp;page=Premios_del_Cine_Europeo&amp;action=show-download-screen\">Descargar como PDF</a></li><li id=\"t-print\"><a accesskey=\"p\" href=\"/w/index.php?title=Premios_del_Cine_Europeo&amp;printable=yes\" title=\"Versión imprimible de esta página [p]\">Versión para imprimir</a></li></ul>\n",
       "</div>\n",
       "</nav>\n",
       "<!-- Please do not use role attribute as CSS selector, it is deprecated. -->\n",
       "<nav aria-labelledby=\"p-lang-label\" class=\"mw-portlet mw-portlet-lang vector-menu vector-menu-portal portal\" id=\"p-lang\" role=\"navigation\">\n",
       "<h3 id=\"p-lang-label\">\n",
       "<span>En otros idiomas</span>\n",
       "</h3>\n",
       "<div class=\"vector-menu-content\">\n",
       "<ul class=\"vector-menu-content-list\"><li class=\"interlanguage-link interwiki-an\"><a class=\"interlanguage-link-target\" href=\"https://an.wikipedia.org/wiki/Premios_d%27o_Cine_Europeu\" hreflang=\"an\" lang=\"an\" title=\"Premios d'o Cine Europeu (aragonés)\">Aragonés</a></li><li class=\"interlanguage-link interwiki-ar\"><a class=\"interlanguage-link-target\" href=\"https://ar.wikipedia.org/wiki/%D8%AC%D9%88%D8%A7%D8%A6%D8%B2_%D8%A7%D9%84%D8%A3%D9%81%D9%84%D8%A7%D9%85_%D8%A7%D9%84%D8%A3%D9%88%D8%B1%D9%88%D8%A8%D9%8A%D8%A9\" hreflang=\"ar\" lang=\"ar\" title=\"جوائز الأفلام الأوروبية (árabe)\">العربية</a></li><li class=\"interlanguage-link interwiki-be\"><a class=\"interlanguage-link-target\" href=\"https://be.wikipedia.org/wiki/%D0%95%D1%9E%D1%80%D0%B0%D0%BF%D0%B5%D0%B9%D1%81%D0%BA%D0%B0%D1%8F_%D0%BA%D1%96%D0%BD%D0%B0%D0%BF%D1%80%D1%8D%D0%BC%D1%96%D1%8F\" hreflang=\"be\" lang=\"be\" title=\"Еўрапейская кінапрэмія (bielorruso)\">Беларуская</a></li><li class=\"interlanguage-link interwiki-bg\"><a class=\"interlanguage-link-target\" href=\"https://bg.wikipedia.org/wiki/%D0%95%D0%B2%D1%80%D0%BE%D0%BF%D0%B5%D0%B9%D1%81%D0%BA%D0%B8_%D1%84%D0%B8%D0%BB%D0%BC%D0%BE%D0%B2%D0%B8_%D0%BD%D0%B0%D0%B3%D1%80%D0%B0%D0%B4%D0%B8\" hreflang=\"bg\" lang=\"bg\" title=\"Европейски филмови награди (búlgaro)\">Български</a></li><li class=\"interlanguage-link interwiki-ca\"><a class=\"interlanguage-link-target\" href=\"https://ca.wikipedia.org/wiki/Premis_del_Cinema_Europeu\" hreflang=\"ca\" lang=\"ca\" title=\"Premis del Cinema Europeu (catalán)\">Català</a></li><li class=\"interlanguage-link interwiki-cs\"><a class=\"interlanguage-link-target\" href=\"https://cs.wikipedia.org/wiki/Evropsk%C3%A9_filmov%C3%A9_ceny\" hreflang=\"cs\" lang=\"cs\" title=\"Evropské filmové ceny (checo)\">Čeština</a></li><li class=\"interlanguage-link interwiki-da\"><a class=\"interlanguage-link-target\" href=\"https://da.wikipedia.org/wiki/European_Film_Awards\" hreflang=\"da\" lang=\"da\" title=\"European Film Awards (danés)\">Dansk</a></li><li class=\"interlanguage-link interwiki-de\"><a class=\"interlanguage-link-target\" href=\"https://de.wikipedia.org/wiki/Europ%C3%A4ischer_Filmpreis\" hreflang=\"de\" lang=\"de\" title=\"Europäischer Filmpreis (alemán)\">Deutsch</a></li><li class=\"interlanguage-link interwiki-el\"><a class=\"interlanguage-link-target\" href=\"https://el.wikipedia.org/wiki/%CE%92%CF%81%CE%B1%CE%B2%CE%B5%CE%AF%CE%B1_%CE%95%CF%85%CF%81%CF%89%CF%80%CE%B1%CF%8A%CE%BA%CE%BF%CF%8D_%CE%9A%CE%B9%CE%BD%CE%B7%CE%BC%CE%B1%CF%84%CE%BF%CE%B3%CF%81%CE%AC%CF%86%CE%BF%CF%85\" hreflang=\"el\" lang=\"el\" title=\"Βραβεία Ευρωπαϊκού Κινηματογράφου (griego)\">Ελληνικά</a></li><li class=\"interlanguage-link interwiki-en\"><a class=\"interlanguage-link-target\" href=\"https://en.wikipedia.org/wiki/European_Film_Awards\" hreflang=\"en\" lang=\"en\" title=\"European Film Awards (inglés)\">English</a></li><li class=\"interlanguage-link interwiki-eo\"><a class=\"interlanguage-link-target\" href=\"https://eo.wikipedia.org/wiki/E%C5%ADropa_Filmpremio\" hreflang=\"eo\" lang=\"eo\" title=\"Eŭropa Filmpremio (esperanto)\">Esperanto</a></li><li class=\"interlanguage-link interwiki-et\"><a class=\"interlanguage-link-target\" href=\"https://et.wikipedia.org/wiki/Euroopa_filmiauhind\" hreflang=\"et\" lang=\"et\" title=\"Euroopa filmiauhind (estonio)\">Eesti</a></li><li class=\"interlanguage-link interwiki-eu\"><a class=\"interlanguage-link-target\" href=\"https://eu.wikipedia.org/wiki/Europako_Zinemaren_Sariak\" hreflang=\"eu\" lang=\"eu\" title=\"Europako Zinemaren Sariak (euskera)\">Euskara</a></li><li class=\"interlanguage-link interwiki-fa\"><a class=\"interlanguage-link-target\" href=\"https://fa.wikipedia.org/wiki/%D8%AC%D9%88%D8%A7%DB%8C%D8%B2_%D9%81%DB%8C%D9%84%D9%85_%D8%A7%D8%B1%D9%88%D9%BE%D8%A7\" hreflang=\"fa\" lang=\"fa\" title=\"جوایز فیلم اروپا (persa)\">فارسی</a></li><li class=\"interlanguage-link interwiki-fr\"><a class=\"interlanguage-link-target\" href=\"https://fr.wikipedia.org/wiki/Prix_du_cin%C3%A9ma_europ%C3%A9en\" hreflang=\"fr\" lang=\"fr\" title=\"Prix du cinéma européen (francés)\">Français</a></li><li class=\"interlanguage-link interwiki-gl\"><a class=\"interlanguage-link-target\" href=\"https://gl.wikipedia.org/wiki/Premios_do_Cinema_Europeo\" hreflang=\"gl\" lang=\"gl\" title=\"Premios do Cinema Europeo (gallego)\">Galego</a></li><li class=\"interlanguage-link interwiki-he\"><a class=\"interlanguage-link-target\" href=\"https://he.wikipedia.org/wiki/%D7%A4%D7%A8%D7%A1_%D7%94%D7%90%D7%A7%D7%93%D7%9E%D7%99%D7%94_%D7%94%D7%90%D7%99%D7%A8%D7%95%D7%A4%D7%99%D7%AA_%D7%9C%D7%A7%D7%95%D7%9C%D7%A0%D7%95%D7%A2\" hreflang=\"he\" lang=\"he\" title=\"פרס האקדמיה האירופית לקולנוע (hebreo)\">עברית</a></li><li class=\"interlanguage-link interwiki-hu\"><a class=\"interlanguage-link-target\" href=\"https://hu.wikipedia.org/wiki/Eur%C3%B3pai_Filmd%C3%ADj\" hreflang=\"hu\" lang=\"hu\" title=\"Európai Filmdíj (húngaro)\">Magyar</a></li><li class=\"interlanguage-link interwiki-id\"><a class=\"interlanguage-link-target\" href=\"https://id.wikipedia.org/wiki/Penghargaan_Film_Eropa\" hreflang=\"id\" lang=\"id\" title=\"Penghargaan Film Eropa (indonesio)\">Bahasa Indonesia</a></li><li class=\"interlanguage-link interwiki-is\"><a class=\"interlanguage-link-target\" href=\"https://is.wikipedia.org/wiki/Evr%C3%B3psku_kvikmyndaver%C3%B0launin\" hreflang=\"is\" lang=\"is\" title=\"Evrópsku kvikmyndaverðlaunin (islandés)\">Íslenska</a></li><li class=\"interlanguage-link interwiki-it\"><a class=\"interlanguage-link-target\" href=\"https://it.wikipedia.org/wiki/European_Film_Awards\" hreflang=\"it\" lang=\"it\" title=\"European Film Awards (italiano)\">Italiano</a></li><li class=\"interlanguage-link interwiki-ja\"><a class=\"interlanguage-link-target\" href=\"https://ja.wikipedia.org/wiki/%E3%83%A8%E3%83%BC%E3%83%AD%E3%83%83%E3%83%91%E6%98%A0%E7%94%BB%E8%B3%9E\" hreflang=\"ja\" lang=\"ja\" title=\"ヨーロッパ映画賞 (japonés)\">日本語</a></li><li class=\"interlanguage-link interwiki-ka\"><a class=\"interlanguage-link-target\" href=\"https://ka.wikipedia.org/wiki/%E1%83%94%E1%83%95%E1%83%A0%E1%83%9D%E1%83%9E%E1%83%98%E1%83%A1_%E1%83%99%E1%83%98%E1%83%9C%E1%83%94%E1%83%9B%E1%83%90%E1%83%A2%E1%83%9D%E1%83%92%E1%83%A0%E1%83%90%E1%83%A4%E1%83%98%E1%83%A3%E1%83%9A%E1%83%98_%E1%83%AF%E1%83%98%E1%83%9A%E1%83%93%E1%83%9D\" hreflang=\"ka\" lang=\"ka\" title=\"ევროპის კინემატოგრაფიული ჯილდო (georgiano)\">ქართული</a></li><li class=\"interlanguage-link interwiki-ko\"><a class=\"interlanguage-link-target\" href=\"https://ko.wikipedia.org/wiki/%EC%9C%A0%EB%9F%BD_%EC%98%81%ED%99%94%EC%83%81\" hreflang=\"ko\" lang=\"ko\" title=\"유럽 영화상 (coreano)\">한국어</a></li><li class=\"interlanguage-link interwiki-lt\"><a class=\"interlanguage-link-target\" href=\"https://lt.wikipedia.org/wiki/Europos_kino_apdovanojimai\" hreflang=\"lt\" lang=\"lt\" title=\"Europos kino apdovanojimai (lituano)\">Lietuvių</a></li><li class=\"interlanguage-link interwiki-lv\"><a class=\"interlanguage-link-target\" href=\"https://lv.wikipedia.org/wiki/Eiropas_Kino_balva\" hreflang=\"lv\" lang=\"lv\" title=\"Eiropas Kino balva (letón)\">Latviešu</a></li><li class=\"interlanguage-link interwiki-mk\"><a class=\"interlanguage-link-target\" href=\"https://mk.wikipedia.org/wiki/%D0%95%D0%B2%D1%80%D0%BE%D0%BF%D1%81%D0%BA%D0%B8_%D1%84%D0%B8%D0%BB%D0%BC%D1%81%D0%BA%D0%B8_%D0%BD%D0%B0%D0%B3%D1%80%D0%B0%D0%B4%D0%B8\" hreflang=\"mk\" lang=\"mk\" title=\"Европски филмски награди (macedonio)\">Македонски</a></li><li class=\"interlanguage-link interwiki-nl\"><a class=\"interlanguage-link-target\" href=\"https://nl.wikipedia.org/wiki/Europese_filmprijzen\" hreflang=\"nl\" lang=\"nl\" title=\"Europese filmprijzen (neerlandés)\">Nederlands</a></li><li class=\"interlanguage-link interwiki-no\"><a class=\"interlanguage-link-target\" href=\"https://no.wikipedia.org/wiki/European_Film_Awards\" hreflang=\"nb\" lang=\"nb\" title=\"European Film Awards (noruego bokmal)\">Norsk bokmål</a></li><li class=\"interlanguage-link interwiki-pl\"><a class=\"interlanguage-link-target\" href=\"https://pl.wikipedia.org/wiki/Europejska_Nagroda_Filmowa\" hreflang=\"pl\" lang=\"pl\" title=\"Europejska Nagroda Filmowa (polaco)\">Polski</a></li><li class=\"interlanguage-link interwiki-pt\"><a class=\"interlanguage-link-target\" href=\"https://pt.wikipedia.org/wiki/Pr%C3%A9mios_do_Cinema_Europeu\" hreflang=\"pt\" lang=\"pt\" title=\"Prémios do Cinema Europeu (portugués)\">Português</a></li><li class=\"interlanguage-link interwiki-ro\"><a class=\"interlanguage-link-target\" href=\"https://ro.wikipedia.org/wiki/Premiile_Academiei_Europene_de_Film\" hreflang=\"ro\" lang=\"ro\" title=\"Premiile Academiei Europene de Film (rumano)\">Română</a></li><li class=\"interlanguage-link interwiki-ru\"><a class=\"interlanguage-link-target\" href=\"https://ru.wikipedia.org/wiki/%D0%9F%D1%80%D0%B5%D0%BC%D0%B8%D1%8F_%D0%95%D0%B2%D1%80%D0%BE%D0%BF%D0%B5%D0%B9%D1%81%D0%BA%D0%BE%D0%B9_%D0%BA%D0%B8%D0%BD%D0%BE%D0%B0%D0%BA%D0%B0%D0%B4%D0%B5%D0%BC%D0%B8%D0%B8\" hreflang=\"ru\" lang=\"ru\" title=\"Премия Европейской киноакадемии (ruso)\">Русский</a></li><li class=\"interlanguage-link interwiki-sr\"><a class=\"interlanguage-link-target\" href=\"https://sr.wikipedia.org/wiki/%D0%95%D0%B2%D1%80%D0%BE%D0%BF%D1%81%D0%BA%D0%B5_%D1%84%D0%B8%D0%BB%D0%BC%D1%81%D0%BA%D0%B5_%D0%BD%D0%B0%D0%B3%D1%80%D0%B0%D0%B4%D0%B5\" hreflang=\"sr\" lang=\"sr\" title=\"Европске филмске награде (serbio)\">Српски / srpski</a></li><li class=\"interlanguage-link interwiki-sv\"><a class=\"interlanguage-link-target\" href=\"https://sv.wikipedia.org/wiki/European_Film_Awards\" hreflang=\"sv\" lang=\"sv\" title=\"European Film Awards (sueco)\">Svenska</a></li><li class=\"interlanguage-link interwiki-tr\"><a class=\"interlanguage-link-target\" href=\"https://tr.wikipedia.org/wiki/Avrupa_Film_%C3%96d%C3%BClleri\" hreflang=\"tr\" lang=\"tr\" title=\"Avrupa Film Ödülleri (turco)\">Türkçe</a></li><li class=\"interlanguage-link interwiki-uk\"><a class=\"interlanguage-link-target\" href=\"https://uk.wikipedia.org/wiki/%D0%84%D0%B2%D1%80%D0%BE%D0%BF%D0%B5%D0%B9%D1%81%D1%8C%D0%BA%D0%B8%D0%B9_%D0%BA%D1%96%D0%BD%D0%BE%D0%BF%D1%80%D0%B8%D0%B7\" hreflang=\"uk\" lang=\"uk\" title=\"Європейський кіноприз (ucraniano)\">Українська</a></li><li class=\"interlanguage-link interwiki-vi\"><a class=\"interlanguage-link-target\" href=\"https://vi.wikipedia.org/wiki/Gi%E1%BA%A3i_th%C6%B0%E1%BB%9Fng_%C4%90i%E1%BB%87n_%E1%BA%A3nh_ch%C3%A2u_%C3%82u\" hreflang=\"vi\" lang=\"vi\" title=\"Giải thưởng Điện ảnh châu Âu (vietnamita)\">Tiếng Việt</a></li><li class=\"interlanguage-link interwiki-wuu\"><a class=\"interlanguage-link-target\" href=\"https://wuu.wikipedia.org/wiki/%E6%AC%A7%E6%B4%B2%E7%94%B5%E5%BD%B1%E5%A5%96\" hreflang=\"wuu\" lang=\"wuu\" title=\"欧洲电影奖 (chino wu)\">吴语</a></li><li class=\"interlanguage-link interwiki-zh\"><a class=\"interlanguage-link-target\" href=\"https://zh.wikipedia.org/wiki/%E6%AD%90%E6%B4%B2%E9%9B%BB%E5%BD%B1%E7%8D%8E\" hreflang=\"zh\" lang=\"zh\" title=\"歐洲電影獎 (chino)\">中文</a></li></ul>\n",
       "<div class=\"after-portlet after-portlet-lang\"><span class=\"wb-langlinks-edit wb-langlinks-link\"><a class=\"wbc-editpage\" href=\"https://www.wikidata.org/wiki/Special:EntityPage/Q223740#sitelinks-wikipedia\" title=\"Editar enlaces interlingüísticos\">Editar enlaces</a></span></div>\n",
       "</div>\n",
       "</nav>\n",
       "</div>\n",
       "</div>\n",
       "<footer class=\"mw-footer\" id=\"footer\" role=\"contentinfo\">\n",
       "<ul id=\"footer-info\">\n",
       "<li id=\"footer-info-lastmod\"> Esta página se editó por última vez el 7 mar 2020 a las 15:09.</li>\n",
       "<li id=\"footer-info-copyright\">El texto está disponible bajo la <a href=\"//es.wikipedia.org/wiki/Wikipedia:Texto_de_la_Licencia_Creative_Commons_Atribuci%C3%B3n-CompartirIgual_3.0_Unported\" rel=\"license\">Licencia Creative Commons Atribución Compartir Igual 3.0</a><a href=\"http://creativecommons.org/licenses/by-sa/3.0/\" rel=\"license\" style=\"display:none;\"></a>;\n",
       "pueden aplicarse cláusulas adicionales. Al usar este sitio, usted acepta nuestros <a href=\"//wikimediafoundation.org/wiki/Terms_of_Use\">términos de uso</a> y nuestra <a href=\"//wikimediafoundation.org/wiki/Privacy_policy\">política de privacidad</a>. <br/>Wikipedia® es una marca registrada de la <a href=\"//www.wikimediafoundation.org/\">Fundación Wikimedia, Inc.</a>, una organización sin ánimo de lucro.</li>\n",
       "</ul>\n",
       "<ul id=\"footer-places\">\n",
       "<li id=\"footer-places-privacy\"><a class=\"extiw\" href=\"https://meta.wikimedia.org/wiki/Privacy_policy/es\" title=\"m:Privacy policy/es\">Política de privacidad</a></li>\n",
       "<li id=\"footer-places-about\"><a href=\"/wiki/Wikipedia:Acerca_de\" title=\"Wikipedia:Acerca de\">Acerca de Wikipedia</a></li>\n",
       "<li id=\"footer-places-disclaimer\"><a href=\"/wiki/Wikipedia:Limitaci%C3%B3n_general_de_responsabilidad\" title=\"Wikipedia:Limitación general de responsabilidad\">Limitación de responsabilidad</a></li>\n",
       "<li id=\"footer-places-mobileview\"><a class=\"noprint stopMobileRedirectToggle\" href=\"//es.m.wikipedia.org/w/index.php?title=Premios_del_Cine_Europeo&amp;mobileaction=toggle_view_mobile\">Versión para móviles</a></li>\n",
       "<li id=\"footer-places-developers\"><a href=\"https://www.mediawiki.org/wiki/Special:MyLanguage/How_to_contribute\">Desarrolladores</a></li>\n",
       "<li id=\"footer-places-statslink\"><a href=\"https://stats.wikimedia.org/#/es.wikipedia.org\">Estadísticas</a></li>\n",
       "<li id=\"footer-places-cookiestatement\"><a href=\"https://foundation.wikimedia.org/wiki/Cookie_statement/es\">Declaración de cookies</a></li>\n",
       "</ul>\n",
       "<ul class=\"noprint\" id=\"footer-icons\">\n",
       "<li id=\"footer-copyrightico\"><a href=\"https://wikimediafoundation.org/\"><img alt=\"Wikimedia Foundation\" height=\"31\" loading=\"lazy\" src=\"/static/images/footer/wikimedia-button.png\" srcset=\"/static/images/footer/wikimedia-button-1.5x.png 1.5x, /static/images/footer/wikimedia-button-2x.png 2x\" width=\"88\"/></a></li>\n",
       "<li id=\"footer-poweredbyico\"><a href=\"https://www.mediawiki.org/\"><img alt=\"Powered by MediaWiki\" height=\"31\" loading=\"lazy\" src=\"/static/images/footer/poweredby_mediawiki_88x31.png\" srcset=\"/static/images/footer/poweredby_mediawiki_132x47.png 1.5x, /static/images/footer/poweredby_mediawiki_176x62.png 2x\" width=\"88\"/></a></li>\n",
       "</ul>\n",
       "<div style=\"clear: both;\"></div>\n",
       "</footer>\n",
       "<script>(RLQ=window.RLQ||[]).push(function(){mw.config.set({\"wgPageParseReport\":{\"limitreport\":{\"cputime\":\"0.304\",\"walltime\":\"0.398\",\"ppvisitednodes\":{\"value\":3997,\"limit\":1000000},\"postexpandincludesize\":{\"value\":26076,\"limit\":2097152},\"templateargumentsize\":{\"value\":3087,\"limit\":2097152},\"expansiondepth\":{\"value\":16,\"limit\":40},\"expensivefunctioncount\":{\"value\":1,\"limit\":500},\"unstrip-depth\":{\"value\":0,\"limit\":20},\"unstrip-size\":{\"value\":3859,\"limit\":5000000},\"entityaccesscount\":{\"value\":2,\"limit\":400},\"timingprofile\":[\"100.00%  308.217      1 -total\",\" 45.94%  141.597      1 Plantilla:Ficha_de_premio\",\" 44.69%  137.744      1 Plantilla:Ficha\",\" 31.51%   97.134     12 Plantilla:Propiedad\",\" 19.16%   59.058      1 Plantilla:Control_de_autoridades\",\" 18.25%   56.247     33 Plantilla:Bandera\",\" 10.61%   32.699      1 Plantilla:Listaref\",\"  8.56%   26.378      2 Plantilla:Cita_web\",\"  4.05%   12.481     33 Plantilla:Bandera_icono\",\"  3.14%    9.682     18 Plantilla:Geodatos_Alemania\"]},\"scribunto\":{\"limitreport-timeusage\":{\"value\":\"0.117\",\"limit\":\"10.000\"},\"limitreport-memusage\":{\"value\":3078317,\"limit\":52428800}},\"cachereport\":{\"origin\":\"mw2270\",\"timestamp\":\"20201023113153\",\"ttl\":2592000,\"transientcontent\":false}}});});</script>\n",
       "<script type=\"application/ld+json\">{\"@context\":\"https:\\/\\/schema.org\",\"@type\":\"Article\",\"name\":\"Premios del Cine Europeo\",\"url\":\"https:\\/\\/es.wikipedia.org\\/wiki\\/Premios_del_Cine_Europeo\",\"sameAs\":\"http:\\/\\/www.wikidata.org\\/entity\\/Q223740\",\"mainEntity\":\"http:\\/\\/www.wikidata.org\\/entity\\/Q223740\",\"author\":{\"@type\":\"Organization\",\"name\":\"Colaboradores de los proyectos Wikimedia\"},\"publisher\":{\"@type\":\"Organization\",\"name\":\"Wikimedia Foundation, Inc.\",\"logo\":{\"@type\":\"ImageObject\",\"url\":\"https:\\/\\/www.wikimedia.org\\/static\\/images\\/wmf-hor-googpub.png\"}},\"datePublished\":\"2006-06-04T03:15:18Z\",\"dateModified\":\"2020-03-07T15:09:49Z\"}</script>\n",
       "<script>(RLQ=window.RLQ||[]).push(function(){mw.config.set({\"wgBackendResponseTime\":204,\"wgHostname\":\"mw1354\"});});</script>\n",
       "</body></html>"
      ]
     },
     "execution_count": 99,
     "metadata": {},
     "output_type": "execute_result"
    }
   ],
   "source": [
    "contenido = req.content\n",
    "sopa = BeautifulSoup(contenido, \"html.parser\")\n",
    "sopa"
   ]
  },
  {
   "cell_type": "code",
   "execution_count": 100,
   "metadata": {},
   "outputs": [
    {
     "data": {
      "text/plain": [
       "'Premios del Cine Europeo - Wikipedia, la enciclopedia libre'"
      ]
     },
     "execution_count": 100,
     "metadata": {},
     "output_type": "execute_result"
    }
   ],
   "source": [
    "sopa.title.text"
   ]
  },
  {
   "cell_type": "code",
   "execution_count": 103,
   "metadata": {},
   "outputs": [],
   "source": [
    "titulo = sopa.find('h1').text"
   ]
  },
  {
   "cell_type": "code",
   "execution_count": 105,
   "metadata": {},
   "outputs": [
    {
     "data": {
      "text/plain": [
       "'Los Premios del Cine Europeo (European Film Awards, en inglés) se conceden anualmente por la Academia de Cine Europeo para reconocer la excelencia en las producciones cinematográficas. Son los más prestigiosos premios paneuropeos.\\n'"
      ]
     },
     "execution_count": 105,
     "metadata": {},
     "output_type": "execute_result"
    }
   ],
   "source": [
    "sopa.p.text"
   ]
  },
  {
   "cell_type": "code",
   "execution_count": 108,
   "metadata": {
    "scrolled": true
   },
   "outputs": [
    {
     "data": {
      "text/plain": [
       "<table class=\"infobox\" style=\"width:22.7em; line-height: 1.4em; text-align:left; padding:.23em;\"><tbody><tr><th class=\"cabecera\" colspan=\"3\" style=\"text-align:center;background-color:#FFEC80;color:black;\">Premio del cine europeo</th></tr><tr><th scope=\"row\" style=\"text-align:left;font-size: 92%; width: 36%;;\">Premio a</th><td colspan=\"2\" style=\"font-size: 92%;;\">\n",
       "A la excelencia en logros <a href=\"/wiki/Cine\" title=\"Cine\">cinematográficos</a> europeos</td></tr><tr><th scope=\"row\" style=\"text-align:left;font-size: 92%; width: 36%;;\">Otorgado por</th><td colspan=\"2\" style=\"font-size: 92%;;\">\n",
       "<a href=\"/wiki/Academia_de_Cine_Europeo\" title=\"Academia de Cine Europeo\">Academia de Cine Europeo</a></td></tr><tr><th scope=\"row\" style=\"text-align:left;font-size: 92%; width: 36%;;\">Ubicación</th><td colspan=\"2\" style=\"font-size: 92%;;\">\n",
       "<span class=\"flagicon\"><img alt=\"Bandera de Unión Europea\" class=\"thumbborder\" data-file-height=\"540\" data-file-width=\"810\" decoding=\"async\" height=\"13\" src=\"//upload.wikimedia.org/wikipedia/commons/thumb/b/b7/Flag_of_Europe.svg/20px-Flag_of_Europe.svg.png\" srcset=\"//upload.wikimedia.org/wikipedia/commons/thumb/b/b7/Flag_of_Europe.svg/30px-Flag_of_Europe.svg.png 1.5x, //upload.wikimedia.org/wikipedia/commons/thumb/b/b7/Flag_of_Europe.svg/40px-Flag_of_Europe.svg.png 2x\" title=\"Bandera de Unión Europea\" width=\"20\"/></span> <a href=\"/wiki/Europa\" title=\"Europa\">Europa</a></td></tr><tr><th colspan=\"3\" style=\"text-align:center;background-color:#FFEC80;\">Historia</th></tr><tr><th scope=\"row\" style=\"text-align:left;font-size: 92%; width: 36%;;\">Primera entrega</th><td colspan=\"2\" style=\"font-size: 92%;;\">\n",
       "<a href=\"/wiki/1988\" title=\"1988\">1988</a></td></tr><tr><td colspan=\"3\" style=\"text-align:center;background-color:#FFEC80;\"><a class=\"external text\" href=\"http://www.europeanfilmacademy.org/\" rel=\"nofollow\">Sitio web oficial</a></td></tr><tr><td class=\"noprint\" colspan=\"3\" style=\"text-align:left;\"><div class=\"plainlinks wikidata-link\" style=\"font-size: 0.85em\">[<a class=\"extiw\" href=\"https://www.wikidata.org/wiki/Q223740\" title=\"d:Q223740\">editar datos en Wikidata</a>]</div></td></tr></tbody></table>"
      ]
     },
     "execution_count": 108,
     "metadata": {},
     "output_type": "execute_result"
    }
   ],
   "source": [
    "sopa.table"
   ]
  },
  {
   "cell_type": "code",
   "execution_count": 110,
   "metadata": {},
   "outputs": [],
   "source": [
    "parrafos =  sopa.find_all('p')"
   ]
  },
  {
   "cell_type": "code",
   "execution_count": 117,
   "metadata": {},
   "outputs": [
    {
     "data": {
      "text/plain": [
       "bs4.element.Tag"
      ]
     },
     "execution_count": 117,
     "metadata": {},
     "output_type": "execute_result"
    }
   ],
   "source": [
    "type(parrafos[0])"
   ]
  },
  {
   "cell_type": "code",
   "execution_count": 119,
   "metadata": {},
   "outputs": [
    {
     "data": {
      "text/plain": [
       "'Los Premios del Cine Europeo (European Film Awards, en inglés) se conceden anualmente por la Academia de Cine Europeo para reconocer la excelencia en las producciones cinematográficas. Son los más prestigiosos premios paneuropeos.\\n'"
      ]
     },
     "execution_count": 119,
     "metadata": {},
     "output_type": "execute_result"
    }
   ],
   "source": [
    "parrafos[0].text"
   ]
  },
  {
   "cell_type": "code",
   "execution_count": 121,
   "metadata": {},
   "outputs": [
    {
     "data": {
      "text/plain": [
       "[<p>Los <b>Premios del Cine Europeo</b> (<i>European Film Awards</i>, en inglés) se conceden anualmente por la <a href=\"/wiki/Academia_de_Cine_Europeo\" title=\"Academia de Cine Europeo\">Academia de Cine Europeo</a> para reconocer la excelencia en las producciones cinematográficas. Son los más prestigiosos premios paneuropeos.\n",
       " </p>,\n",
       " <p>Similares a los <a href=\"/wiki/Premios_%C3%93scar\" title=\"Premios Óscar\">Óscar</a>, los premios del cine europeo son seleccionados por la Academia del Cine Europeo. A veces son llamados los Óscar europeos. Su ámbito se restrige al <a class=\"new\" href=\"/w/index.php?title=Cine_europeo&amp;action=edit&amp;redlink=1\" title=\"Cine europeo (aún no redactado)\">cine europeo</a>.\n",
       " </p>,\n",
       " <p>Se comenzaron a otorgar en <a href=\"/wiki/1988\" title=\"1988\">1988</a> con el nombre de <i>Felix</i>, pero tuvieron una crisis a mediados de los 90. En <a href=\"/wiki/1997\" title=\"1997\">1997</a>, se les renombró como <i>Premios del Cine Europeo</i> (originalmente en inglés, <i>European Film Awards</i>). Al comienzo del siglo XXI se ha elevado su interés por ellos.\n",
       " </p>,\n",
       " <p>Las ceremonias tienen lugar en una ciudad diferente cada año. Ciertamente Berlín como sede de la Academia es el lugar donde más veces se ha realizado la entrega de premios. En la edición de 2009, se alteró el habitual sistema de alternancia entre la sede en Berlín y el resto de ciudades europeas, porque se celebró en <a href=\"/wiki/Bochum\" title=\"Bochum\">Bochum</a>, cerca de <a href=\"/wiki/Essen\" title=\"Essen\">Essen</a> que fue durante 2010 <a href=\"/wiki/Capital_Europea_de_la_Cultura\" title=\"Capital Europea de la Cultura\">Capital Europea de la Cultura</a>.<sup class=\"reference separada\" id=\"cite_ref-1\"><a href=\"#cite_note-1\"><span class=\"corchete-llamada\">[</span>1<span class=\"corchete-llamada\">]</span></a></sup>​\n",
       " </p>,\n",
       " <p><span style=\"white-space:nowrap\">\n",
       " <a class=\"new\" href=\"/w/index.php?title=Anexo:Premios_del_Cine_Europeo_1988&amp;action=edit&amp;redlink=1\" title=\"Anexo:Premios del Cine Europeo 1988 (aún no redactado)\">1988</a> <b>·</b></span>\n",
       " <span style=\"white-space:nowrap\">\n",
       " <a class=\"new\" href=\"/w/index.php?title=Anexo:Premios_del_Cine_Europeo_1989&amp;action=edit&amp;redlink=1\" title=\"Anexo:Premios del Cine Europeo 1989 (aún no redactado)\">1989</a> <b>·</b></span>\n",
       " <span style=\"white-space:nowrap\">\n",
       " <a class=\"new\" href=\"/w/index.php?title=Anexo:Premios_del_Cine_Europeo_1990&amp;action=edit&amp;redlink=1\" title=\"Anexo:Premios del Cine Europeo 1990 (aún no redactado)\">1990</a> <b>·</b></span>\n",
       " <span style=\"white-space:nowrap\">\n",
       " <a class=\"new\" href=\"/w/index.php?title=Anexo:Premios_del_Cine_Europeo_1991&amp;action=edit&amp;redlink=1\" title=\"Anexo:Premios del Cine Europeo 1991 (aún no redactado)\">1991</a> <b>·</b></span>\n",
       " <span style=\"white-space:nowrap\">\n",
       " <a class=\"new\" href=\"/w/index.php?title=Anexo:Premios_del_Cine_Europeo_1992&amp;action=edit&amp;redlink=1\" title=\"Anexo:Premios del Cine Europeo 1992 (aún no redactado)\">1992</a> <b>·</b></span>\n",
       " <span style=\"white-space:nowrap\">\n",
       " <a class=\"new\" href=\"/w/index.php?title=Anexo:Premios_del_Cine_Europeo_1993&amp;action=edit&amp;redlink=1\" title=\"Anexo:Premios del Cine Europeo 1993 (aún no redactado)\">1993</a> <b>·</b></span>\n",
       " <span style=\"white-space:nowrap\">\n",
       " <a class=\"new\" href=\"/w/index.php?title=Anexo:Premios_del_Cine_Europeo_1994&amp;action=edit&amp;redlink=1\" title=\"Anexo:Premios del Cine Europeo 1994 (aún no redactado)\">1994</a> <b>·</b></span>\n",
       " <span style=\"white-space:nowrap\">\n",
       " <a class=\"new\" href=\"/w/index.php?title=Anexo:Premios_del_Cine_Europeo_1995&amp;action=edit&amp;redlink=1\" title=\"Anexo:Premios del Cine Europeo 1995 (aún no redactado)\">1995</a> <b>·</b></span>\n",
       " <span style=\"white-space:nowrap\">\n",
       " <a class=\"new\" href=\"/w/index.php?title=Anexo:Premios_del_Cine_Europeo_1996&amp;action=edit&amp;redlink=1\" title=\"Anexo:Premios del Cine Europeo 1996 (aún no redactado)\">1996</a> <b>·</b></span>\n",
       " <span style=\"white-space:nowrap\">\n",
       " <a class=\"new\" href=\"/w/index.php?title=Anexo:Premios_del_Cine_Europeo_1997&amp;action=edit&amp;redlink=1\" title=\"Anexo:Premios del Cine Europeo 1997 (aún no redactado)\">1997</a> <b>·</b></span>\n",
       " <span style=\"white-space:nowrap\">\n",
       " <a class=\"new\" href=\"/w/index.php?title=Anexo:Premios_del_Cine_Europeo_1998&amp;action=edit&amp;redlink=1\" title=\"Anexo:Premios del Cine Europeo 1998 (aún no redactado)\">1998</a> <b>·</b></span>\n",
       " <span style=\"white-space:nowrap\">\n",
       " <a class=\"new\" href=\"/w/index.php?title=Anexo:Premios_del_Cine_Europeo_1999&amp;action=edit&amp;redlink=1\" title=\"Anexo:Premios del Cine Europeo 1999 (aún no redactado)\">1999</a> <b>·</b></span>\n",
       " <span style=\"white-space:nowrap\">\n",
       " <a class=\"new\" href=\"/w/index.php?title=Anexo:Premios_del_Cine_Europeo_2000&amp;action=edit&amp;redlink=1\" title=\"Anexo:Premios del Cine Europeo 2000 (aún no redactado)\">2000</a> <b>·</b></span>\n",
       " <span style=\"white-space:nowrap\">\n",
       " <a class=\"new\" href=\"/w/index.php?title=Anexo:Premios_del_Cine_Europeo_2001&amp;action=edit&amp;redlink=1\" title=\"Anexo:Premios del Cine Europeo 2001 (aún no redactado)\">2001</a> <b>·</b></span>\n",
       " <span style=\"white-space:nowrap\">\n",
       " <a class=\"new\" href=\"/w/index.php?title=Anexo:Premios_del_Cine_Europeo_2002&amp;action=edit&amp;redlink=1\" title=\"Anexo:Premios del Cine Europeo 2002 (aún no redactado)\">2002</a> <b>·</b></span>\n",
       " <span style=\"white-space:nowrap\">\n",
       " <a class=\"new\" href=\"/w/index.php?title=Anexo:Premios_del_Cine_Europeo_2003&amp;action=edit&amp;redlink=1\" title=\"Anexo:Premios del Cine Europeo 2003 (aún no redactado)\">2003</a> <b>·</b></span>\n",
       " <span style=\"white-space:nowrap\">\n",
       " <a class=\"new\" href=\"/w/index.php?title=Anexo:Premios_del_Cine_Europeo_2004&amp;action=edit&amp;redlink=1\" title=\"Anexo:Premios del Cine Europeo 2004 (aún no redactado)\">2004</a> <b>·</b></span>\n",
       " <span style=\"white-space:nowrap\">\n",
       " <a class=\"new\" href=\"/w/index.php?title=Anexo:Premios_del_Cine_Europeo_2005&amp;action=edit&amp;redlink=1\" title=\"Anexo:Premios del Cine Europeo 2005 (aún no redactado)\">2005</a> <b>·</b></span>\n",
       " <span style=\"white-space:nowrap\">\n",
       " <a href=\"/wiki/Anexo:Premios_del_Cine_Europeo_2006\" title=\"Anexo:Premios del Cine Europeo 2006\">2006</a> <b>·</b></span>\n",
       " <span style=\"white-space:nowrap\">\n",
       " <a class=\"new\" href=\"/w/index.php?title=Anexo:Premios_del_Cine_Europeo_2007&amp;action=edit&amp;redlink=1\" title=\"Anexo:Premios del Cine Europeo 2007 (aún no redactado)\">2007</a> <b>·</b></span>\n",
       " <span style=\"white-space:nowrap\">\n",
       " <a href=\"/wiki/Anexo:Premios_del_Cine_Europeo_2008\" title=\"Anexo:Premios del Cine Europeo 2008\">2008</a> <b>·</b></span>\n",
       " <span style=\"white-space:nowrap\">\n",
       " <a href=\"/wiki/Anexo:Premios_del_Cine_Europeo_2009\" title=\"Anexo:Premios del Cine Europeo 2009\">2009</a> <b>·</b></span>\n",
       " <span style=\"white-space:nowrap\">\n",
       " <a class=\"new\" href=\"/w/index.php?title=Anexo:Premios_del_Cine_Europeo_2010&amp;action=edit&amp;redlink=1\" title=\"Anexo:Premios del Cine Europeo 2010 (aún no redactado)\">2010</a> <b>·</b></span>\n",
       " <span style=\"white-space:nowrap\">\n",
       " <a class=\"new\" href=\"/w/index.php?title=Anexo:Premios_del_Cine_Europeo_2011&amp;action=edit&amp;redlink=1\" title=\"Anexo:Premios del Cine Europeo 2011 (aún no redactado)\">2011</a> <b>·</b></span>\n",
       " <span style=\"white-space:nowrap\">\n",
       " <a class=\"new\" href=\"/w/index.php?title=Anexo:Premios_del_Cine_Europeo_2012&amp;action=edit&amp;redlink=1\" title=\"Anexo:Premios del Cine Europeo 2012 (aún no redactado)\">2012</a> <b>·</b></span>\n",
       " <span style=\"white-space:nowrap\">\n",
       " <a class=\"new\" href=\"/w/index.php?title=Anexo:Premios_del_Cine_Europeo_2013&amp;action=edit&amp;redlink=1\" title=\"Anexo:Premios del Cine Europeo 2013 (aún no redactado)\">2013</a> <b>·</b></span>\n",
       " <span style=\"white-space:nowrap\">\n",
       " <a class=\"new\" href=\"/w/index.php?title=Anexo:Premios_del_Cine_Europeo_2014&amp;action=edit&amp;redlink=1\" title=\"Anexo:Premios del Cine Europeo 2014 (aún no redactado)\">2014</a> <b>·</b></span>\n",
       " <span style=\"white-space:nowrap\">\n",
       " </span>\n",
       " </p>,\n",
       " <p>Los premios comenzaron siendo otorgados en alrededor de 10 categorías, de las cuales la más importante era la de <i>Película del año</i>. Las categorías han experimentado varios cambios. En <a href=\"/wiki/2005\" title=\"2005\">2005</a> las categorías fueron 19:\n",
       " </p>]"
      ]
     },
     "execution_count": 121,
     "metadata": {},
     "output_type": "execute_result"
    }
   ],
   "source": [
    "parrafos"
   ]
  },
  {
   "cell_type": "code",
   "execution_count": 120,
   "metadata": {
    "scrolled": true
   },
   "outputs": [
    {
     "name": "stdout",
     "output_type": "stream",
     "text": [
      "Los Premios del Cine Europeo (European Film Awards, en inglés) se conceden anualmente por la Academia de Cine Europeo para reconocer la excelencia en las producciones cinematográficas. Son los más prestigiosos premios paneuropeos.\n",
      "\n",
      "Similares a los Óscar, los premios del cine europeo son seleccionados por la Academia del Cine Europeo. A veces son llamados los Óscar europeos. Su ámbito se restrige al cine europeo.\n",
      "\n",
      "Se comenzaron a otorgar en 1988 con el nombre de Felix, pero tuvieron una crisis a mediados de los 90. En 1997, se les renombró como Premios del Cine Europeo (originalmente en inglés, European Film Awards). Al comienzo del siglo XXI se ha elevado su interés por ellos.\n",
      "\n",
      "Las ceremonias tienen lugar en una ciudad diferente cada año. Ciertamente Berlín como sede de la Academia es el lugar donde más veces se ha realizado la entrega de premios. En la edición de 2009, se alteró el habitual sistema de alternancia entre la sede en Berlín y el resto de ciudades europeas, porque se celebró en Bochum, cerca de Essen que fue durante 2010 Capital Europea de la Cultura.[1]​\n",
      "\n",
      "\n",
      "1988 ·\n",
      "\n",
      "1989 ·\n",
      "\n",
      "1990 ·\n",
      "\n",
      "1991 ·\n",
      "\n",
      "1992 ·\n",
      "\n",
      "1993 ·\n",
      "\n",
      "1994 ·\n",
      "\n",
      "1995 ·\n",
      "\n",
      "1996 ·\n",
      "\n",
      "1997 ·\n",
      "\n",
      "1998 ·\n",
      "\n",
      "1999 ·\n",
      "\n",
      "2000 ·\n",
      "\n",
      "2001 ·\n",
      "\n",
      "2002 ·\n",
      "\n",
      "2003 ·\n",
      "\n",
      "2004 ·\n",
      "\n",
      "2005 ·\n",
      "\n",
      "2006 ·\n",
      "\n",
      "2007 ·\n",
      "\n",
      "2008 ·\n",
      "\n",
      "2009 ·\n",
      "\n",
      "2010 ·\n",
      "\n",
      "2011 ·\n",
      "\n",
      "2012 ·\n",
      "\n",
      "2013 ·\n",
      "\n",
      "2014 ·\n",
      "\n",
      "\n",
      "\n",
      "Los premios comenzaron siendo otorgados en alrededor de 10 categorías, de las cuales la más importante era la de Película del año. Las categorías han experimentado varios cambios. En 2005 las categorías fueron 19:\n",
      "\n"
     ]
    }
   ],
   "source": [
    "for i in parrafos:\n",
    "    print(i.text)"
   ]
  },
  {
   "cell_type": "code",
   "execution_count": 122,
   "metadata": {},
   "outputs": [],
   "source": [
    "lst_a = [i.find('a') for i in parrafos]"
   ]
  },
  {
   "cell_type": "code",
   "execution_count": null,
   "metadata": {},
   "outputs": [],
   "source": []
  },
  {
   "cell_type": "code",
   "execution_count": null,
   "metadata": {},
   "outputs": [],
   "source": []
  },
  {
   "cell_type": "code",
   "execution_count": null,
   "metadata": {},
   "outputs": [],
   "source": []
  }
 ],
 "metadata": {
  "kernelspec": {
   "display_name": "Python 3",
   "language": "python",
   "name": "python3"
  },
  "language_info": {
   "codemirror_mode": {
    "name": "ipython",
    "version": 3
   },
   "file_extension": ".py",
   "mimetype": "text/x-python",
   "name": "python",
   "nbconvert_exporter": "python",
   "pygments_lexer": "ipython3",
   "version": "3.7.4"
  }
 },
 "nbformat": 4,
 "nbformat_minor": 4
}
