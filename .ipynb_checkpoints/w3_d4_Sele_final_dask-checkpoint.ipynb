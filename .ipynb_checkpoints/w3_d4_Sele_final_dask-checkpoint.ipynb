{
 "cells": [
  {
   "cell_type": "code",
   "execution_count": 1,
   "metadata": {},
   "outputs": [],
   "source": [
    "from selenium import webdriver \n",
    "from selenium.webdriver.common.action_chains import ActionChains \n",
    "from selenium.webdriver.support.ui import WebDriverWait\n",
    "from selenium.webdriver.support import expected_conditions as ec"
   ]
  },
  {
   "cell_type": "code",
   "execution_count": 2,
   "metadata": {},
   "outputs": [],
   "source": [
    "import pandas"
   ]
  },
  {
   "cell_type": "code",
   "execution_count": 3,
   "metadata": {},
   "outputs": [],
   "source": [
    "navegador = webdriver.Firefox()"
   ]
  },
  {
   "cell_type": "code",
   "execution_count": 4,
   "metadata": {},
   "outputs": [],
   "source": [
    "navegador.maximize_window()"
   ]
  },
  {
   "cell_type": "code",
   "execution_count": 5,
   "metadata": {},
   "outputs": [],
   "source": [
    "navegador.get('https://www.ventusky.com/')"
   ]
  },
  {
   "cell_type": "code",
   "execution_count": 8,
   "metadata": {},
   "outputs": [],
   "source": [
    "zoom_plus = navegador.find_element_by_xpath('/html/body/a[1]')\n",
    "zoom_sub = navegador.find_element_by_xpath('/html/body/a[2]')\n"
   ]
  },
  {
   "cell_type": "code",
   "execution_count": 10,
   "metadata": {},
   "outputs": [
    {
     "data": {
      "text/plain": [
       "<selenium.webdriver.firefox.webelement.FirefoxWebElement (session=\"73178faf-0462-48b9-922e-a349f158299d\", element=\"5fa30146-089d-4167-8c71-b6ba53db977f\")>"
      ]
     },
     "execution_count": 10,
     "metadata": {},
     "output_type": "execute_result"
    }
   ],
   "source": [
    "zoom_sub"
   ]
  },
  {
   "cell_type": "code",
   "execution_count": 11,
   "metadata": {},
   "outputs": [],
   "source": [
    "zoom_plus.click()"
   ]
  },
  {
   "cell_type": "code",
   "execution_count": 12,
   "metadata": {},
   "outputs": [],
   "source": [
    "zoom_sub.click()"
   ]
  },
  {
   "cell_type": "code",
   "execution_count": 13,
   "metadata": {},
   "outputs": [],
   "source": [
    "mapa = navegador.find_element_by_xpath('//*[@id=\"x\"]')"
   ]
  },
  {
   "cell_type": "code",
   "execution_count": 14,
   "metadata": {},
   "outputs": [],
   "source": [
    "puntos = mapa.find_elements_by_class_name('jd')"
   ]
  },
  {
   "cell_type": "code",
   "execution_count": 15,
   "metadata": {},
   "outputs": [
    {
     "data": {
      "text/plain": [
       "[<selenium.webdriver.firefox.webelement.FirefoxWebElement (session=\"73178faf-0462-48b9-922e-a349f158299d\", element=\"22bae3fc-18c1-4ff2-b9d5-f34ce45c066d\")>,\n",
       " <selenium.webdriver.firefox.webelement.FirefoxWebElement (session=\"73178faf-0462-48b9-922e-a349f158299d\", element=\"4a2dcafc-02ed-43f0-8f09-070dd57207ca\")>,\n",
       " <selenium.webdriver.firefox.webelement.FirefoxWebElement (session=\"73178faf-0462-48b9-922e-a349f158299d\", element=\"f317519b-c343-4af3-b8e0-9a5866519756\")>,\n",
       " <selenium.webdriver.firefox.webelement.FirefoxWebElement (session=\"73178faf-0462-48b9-922e-a349f158299d\", element=\"6029e88d-262c-432a-b283-3830de2c0c36\")>,\n",
       " <selenium.webdriver.firefox.webelement.FirefoxWebElement (session=\"73178faf-0462-48b9-922e-a349f158299d\", element=\"6be3269c-d741-4655-869a-bb8cae282dc3\")>,\n",
       " <selenium.webdriver.firefox.webelement.FirefoxWebElement (session=\"73178faf-0462-48b9-922e-a349f158299d\", element=\"263c0e50-11a4-4a58-b6c0-3032abd21688\")>,\n",
       " <selenium.webdriver.firefox.webelement.FirefoxWebElement (session=\"73178faf-0462-48b9-922e-a349f158299d\", element=\"25e4e6fc-2e09-4129-b586-0c1365ce20e7\")>,\n",
       " <selenium.webdriver.firefox.webelement.FirefoxWebElement (session=\"73178faf-0462-48b9-922e-a349f158299d\", element=\"34f4c0ab-9393-406a-9349-0c97f8c54988\")>,\n",
       " <selenium.webdriver.firefox.webelement.FirefoxWebElement (session=\"73178faf-0462-48b9-922e-a349f158299d\", element=\"9a5ace6b-a01b-4c12-bcb5-ddf8d7c8bb14\")>,\n",
       " <selenium.webdriver.firefox.webelement.FirefoxWebElement (session=\"73178faf-0462-48b9-922e-a349f158299d\", element=\"0d1da716-7b3e-4b37-8306-18eb5b76adae\")>,\n",
       " <selenium.webdriver.firefox.webelement.FirefoxWebElement (session=\"73178faf-0462-48b9-922e-a349f158299d\", element=\"b5f2833a-698f-4e02-a9c5-5e77738c0da2\")>,\n",
       " <selenium.webdriver.firefox.webelement.FirefoxWebElement (session=\"73178faf-0462-48b9-922e-a349f158299d\", element=\"6c70bb1c-54f5-4303-bec1-1be73856f672\")>,\n",
       " <selenium.webdriver.firefox.webelement.FirefoxWebElement (session=\"73178faf-0462-48b9-922e-a349f158299d\", element=\"b319ff57-7e92-41e6-90ba-0b95e1872f98\")>,\n",
       " <selenium.webdriver.firefox.webelement.FirefoxWebElement (session=\"73178faf-0462-48b9-922e-a349f158299d\", element=\"1b9f990f-e73c-4be3-b6ba-9fbe1dbbd5f1\")>,\n",
       " <selenium.webdriver.firefox.webelement.FirefoxWebElement (session=\"73178faf-0462-48b9-922e-a349f158299d\", element=\"18c8040b-1096-460f-91bd-1479de5b4045\")>,\n",
       " <selenium.webdriver.firefox.webelement.FirefoxWebElement (session=\"73178faf-0462-48b9-922e-a349f158299d\", element=\"984ed773-b777-4870-b479-749df2c25f76\")>,\n",
       " <selenium.webdriver.firefox.webelement.FirefoxWebElement (session=\"73178faf-0462-48b9-922e-a349f158299d\", element=\"9a973781-6d61-4e93-bbc5-0f5c8f419902\")>,\n",
       " <selenium.webdriver.firefox.webelement.FirefoxWebElement (session=\"73178faf-0462-48b9-922e-a349f158299d\", element=\"e24f9b1f-99ea-4b2a-a6e0-3e04177759bd\")>,\n",
       " <selenium.webdriver.firefox.webelement.FirefoxWebElement (session=\"73178faf-0462-48b9-922e-a349f158299d\", element=\"1ef83ad4-711f-4abe-bb9b-147e96a8c910\")>,\n",
       " <selenium.webdriver.firefox.webelement.FirefoxWebElement (session=\"73178faf-0462-48b9-922e-a349f158299d\", element=\"56c293e3-ce4e-4457-810b-94dc944e9914\")>,\n",
       " <selenium.webdriver.firefox.webelement.FirefoxWebElement (session=\"73178faf-0462-48b9-922e-a349f158299d\", element=\"827b7ed2-ffdf-49f2-99a8-b6f6a32be411\")>,\n",
       " <selenium.webdriver.firefox.webelement.FirefoxWebElement (session=\"73178faf-0462-48b9-922e-a349f158299d\", element=\"d579b241-bff5-4a9b-8801-fdd6292eb169\")>,\n",
       " <selenium.webdriver.firefox.webelement.FirefoxWebElement (session=\"73178faf-0462-48b9-922e-a349f158299d\", element=\"072c308c-9c68-47f0-a36a-8c59969d0c52\")>,\n",
       " <selenium.webdriver.firefox.webelement.FirefoxWebElement (session=\"73178faf-0462-48b9-922e-a349f158299d\", element=\"458b54d6-b9ff-44aa-80c7-aba4b4c7649b\")>,\n",
       " <selenium.webdriver.firefox.webelement.FirefoxWebElement (session=\"73178faf-0462-48b9-922e-a349f158299d\", element=\"bc1afe9d-5052-401d-954c-1c79e6bf10b3\")>,\n",
       " <selenium.webdriver.firefox.webelement.FirefoxWebElement (session=\"73178faf-0462-48b9-922e-a349f158299d\", element=\"c5338d2d-3742-4ad5-a979-a73e0d31575c\")>,\n",
       " <selenium.webdriver.firefox.webelement.FirefoxWebElement (session=\"73178faf-0462-48b9-922e-a349f158299d\", element=\"d71c4083-f07f-4a83-8768-8666a2eed677\")>,\n",
       " <selenium.webdriver.firefox.webelement.FirefoxWebElement (session=\"73178faf-0462-48b9-922e-a349f158299d\", element=\"82467961-3cc1-45b8-955f-ab85dd15f2ee\")>,\n",
       " <selenium.webdriver.firefox.webelement.FirefoxWebElement (session=\"73178faf-0462-48b9-922e-a349f158299d\", element=\"0c463c02-959c-40e8-92da-0e371abc25a2\")>,\n",
       " <selenium.webdriver.firefox.webelement.FirefoxWebElement (session=\"73178faf-0462-48b9-922e-a349f158299d\", element=\"480a73f1-dcec-487f-97cb-25f9c5d7c839\")>,\n",
       " <selenium.webdriver.firefox.webelement.FirefoxWebElement (session=\"73178faf-0462-48b9-922e-a349f158299d\", element=\"f751ad2e-fc57-4223-9800-164b3f74cc61\")>,\n",
       " <selenium.webdriver.firefox.webelement.FirefoxWebElement (session=\"73178faf-0462-48b9-922e-a349f158299d\", element=\"76df25c5-9773-47a7-a7f1-94dbf2813728\")>,\n",
       " <selenium.webdriver.firefox.webelement.FirefoxWebElement (session=\"73178faf-0462-48b9-922e-a349f158299d\", element=\"e1283930-6c00-45bf-9b91-5cfeb6ca235a\")>,\n",
       " <selenium.webdriver.firefox.webelement.FirefoxWebElement (session=\"73178faf-0462-48b9-922e-a349f158299d\", element=\"4593f3ca-81a4-4104-8238-08f61b6f0ccd\")>,\n",
       " <selenium.webdriver.firefox.webelement.FirefoxWebElement (session=\"73178faf-0462-48b9-922e-a349f158299d\", element=\"8d9dda90-3c50-4547-8668-def032f64f84\")>,\n",
       " <selenium.webdriver.firefox.webelement.FirefoxWebElement (session=\"73178faf-0462-48b9-922e-a349f158299d\", element=\"c159b31c-86bb-456b-9af0-46d7d6cf819c\")>,\n",
       " <selenium.webdriver.firefox.webelement.FirefoxWebElement (session=\"73178faf-0462-48b9-922e-a349f158299d\", element=\"07d2309d-f88a-4407-8b63-323da77e16dd\")>,\n",
       " <selenium.webdriver.firefox.webelement.FirefoxWebElement (session=\"73178faf-0462-48b9-922e-a349f158299d\", element=\"d511ea7d-d9a4-4f7b-bd09-65ad385327dd\")>,\n",
       " <selenium.webdriver.firefox.webelement.FirefoxWebElement (session=\"73178faf-0462-48b9-922e-a349f158299d\", element=\"63ca1924-3470-40a0-8cf7-270a2efe24c1\")>,\n",
       " <selenium.webdriver.firefox.webelement.FirefoxWebElement (session=\"73178faf-0462-48b9-922e-a349f158299d\", element=\"24e02605-fa34-4f20-bc2d-4db8ecfe7378\")>,\n",
       " <selenium.webdriver.firefox.webelement.FirefoxWebElement (session=\"73178faf-0462-48b9-922e-a349f158299d\", element=\"d7b33e58-0ae8-42a3-a090-0423c943286e\")>,\n",
       " <selenium.webdriver.firefox.webelement.FirefoxWebElement (session=\"73178faf-0462-48b9-922e-a349f158299d\", element=\"b51e8981-1fe6-446f-add9-e1e80bafad9b\")>,\n",
       " <selenium.webdriver.firefox.webelement.FirefoxWebElement (session=\"73178faf-0462-48b9-922e-a349f158299d\", element=\"70219f09-ac84-43d1-91be-accf1823c9f4\")>,\n",
       " <selenium.webdriver.firefox.webelement.FirefoxWebElement (session=\"73178faf-0462-48b9-922e-a349f158299d\", element=\"260227d6-b8be-4454-974f-8c7f62a4c262\")>,\n",
       " <selenium.webdriver.firefox.webelement.FirefoxWebElement (session=\"73178faf-0462-48b9-922e-a349f158299d\", element=\"13210c62-9c40-40a1-a3f8-0e8c653a59ae\")>,\n",
       " <selenium.webdriver.firefox.webelement.FirefoxWebElement (session=\"73178faf-0462-48b9-922e-a349f158299d\", element=\"395f84d3-3fd5-4e3e-8eda-354b3c02982a\")>,\n",
       " <selenium.webdriver.firefox.webelement.FirefoxWebElement (session=\"73178faf-0462-48b9-922e-a349f158299d\", element=\"bebb8353-277f-4104-bb5d-00cd89cdc5c5\")>,\n",
       " <selenium.webdriver.firefox.webelement.FirefoxWebElement (session=\"73178faf-0462-48b9-922e-a349f158299d\", element=\"d65a1dd5-bf31-4220-a8f6-7bcd79a7dddc\")>,\n",
       " <selenium.webdriver.firefox.webelement.FirefoxWebElement (session=\"73178faf-0462-48b9-922e-a349f158299d\", element=\"8127cdcd-1bb7-4937-ba17-3b9b2bc7ad8c\")>,\n",
       " <selenium.webdriver.firefox.webelement.FirefoxWebElement (session=\"73178faf-0462-48b9-922e-a349f158299d\", element=\"2347c36b-176f-4712-99fa-d7e03a36b68e\")>,\n",
       " <selenium.webdriver.firefox.webelement.FirefoxWebElement (session=\"73178faf-0462-48b9-922e-a349f158299d\", element=\"a4698556-93c2-4f7a-b2b2-82f1f3560e7c\")>,\n",
       " <selenium.webdriver.firefox.webelement.FirefoxWebElement (session=\"73178faf-0462-48b9-922e-a349f158299d\", element=\"fda4760d-7753-4d54-baa8-0aa287a871a5\")>,\n",
       " <selenium.webdriver.firefox.webelement.FirefoxWebElement (session=\"73178faf-0462-48b9-922e-a349f158299d\", element=\"eac47843-cf39-4be4-a95e-bb735a153ce3\")>,\n",
       " <selenium.webdriver.firefox.webelement.FirefoxWebElement (session=\"73178faf-0462-48b9-922e-a349f158299d\", element=\"6c995587-8eb0-4a03-9efb-bbe65e3879f9\")>,\n",
       " <selenium.webdriver.firefox.webelement.FirefoxWebElement (session=\"73178faf-0462-48b9-922e-a349f158299d\", element=\"33626b5c-856f-4870-bdfb-4738a22fd8a3\")>,\n",
       " <selenium.webdriver.firefox.webelement.FirefoxWebElement (session=\"73178faf-0462-48b9-922e-a349f158299d\", element=\"8cea11c7-64b5-45b0-ba0b-1884c6fcd1ed\")>,\n",
       " <selenium.webdriver.firefox.webelement.FirefoxWebElement (session=\"73178faf-0462-48b9-922e-a349f158299d\", element=\"722a3948-3c3d-4262-a0ca-25ffec9e9ebd\")>,\n",
       " <selenium.webdriver.firefox.webelement.FirefoxWebElement (session=\"73178faf-0462-48b9-922e-a349f158299d\", element=\"05c89be2-749f-45b9-94ca-9180726fbec3\")>,\n",
       " <selenium.webdriver.firefox.webelement.FirefoxWebElement (session=\"73178faf-0462-48b9-922e-a349f158299d\", element=\"d9be57f8-4438-4027-82bc-575151145734\")>,\n",
       " <selenium.webdriver.firefox.webelement.FirefoxWebElement (session=\"73178faf-0462-48b9-922e-a349f158299d\", element=\"cc1b92a2-b315-4389-ade2-ed90f7e5921d\")>,\n",
       " <selenium.webdriver.firefox.webelement.FirefoxWebElement (session=\"73178faf-0462-48b9-922e-a349f158299d\", element=\"49ab0e81-befb-4442-bacb-91165e32aedb\")>,\n",
       " <selenium.webdriver.firefox.webelement.FirefoxWebElement (session=\"73178faf-0462-48b9-922e-a349f158299d\", element=\"80c2a8eb-d743-4afc-a19d-1e3c2b9a43a3\")>,\n",
       " <selenium.webdriver.firefox.webelement.FirefoxWebElement (session=\"73178faf-0462-48b9-922e-a349f158299d\", element=\"5239e901-7a85-4278-bb96-69805e93e380\")>,\n",
       " <selenium.webdriver.firefox.webelement.FirefoxWebElement (session=\"73178faf-0462-48b9-922e-a349f158299d\", element=\"d17fcaa2-5d47-48fb-a666-4a22e1e5fbc7\")>,\n",
       " <selenium.webdriver.firefox.webelement.FirefoxWebElement (session=\"73178faf-0462-48b9-922e-a349f158299d\", element=\"7f92970b-2709-428f-bbc5-2b60c9367af5\")>,\n",
       " <selenium.webdriver.firefox.webelement.FirefoxWebElement (session=\"73178faf-0462-48b9-922e-a349f158299d\", element=\"de326c3e-a494-477c-bd45-693875fd0356\")>,\n",
       " <selenium.webdriver.firefox.webelement.FirefoxWebElement (session=\"73178faf-0462-48b9-922e-a349f158299d\", element=\"b8549945-d141-4f6d-9c6f-eb1d5b7bfe31\")>,\n",
       " <selenium.webdriver.firefox.webelement.FirefoxWebElement (session=\"73178faf-0462-48b9-922e-a349f158299d\", element=\"de55f8a5-ea16-48a4-8b6d-01124f41f614\")>,\n",
       " <selenium.webdriver.firefox.webelement.FirefoxWebElement (session=\"73178faf-0462-48b9-922e-a349f158299d\", element=\"95a15123-caaa-4bc9-858d-aa797bf65c55\")>,\n",
       " <selenium.webdriver.firefox.webelement.FirefoxWebElement (session=\"73178faf-0462-48b9-922e-a349f158299d\", element=\"bbbbd9f5-d727-4c67-bb8c-c155092d2d07\")>,\n",
       " <selenium.webdriver.firefox.webelement.FirefoxWebElement (session=\"73178faf-0462-48b9-922e-a349f158299d\", element=\"2ce04410-34c3-4909-88b7-1e7f3585acce\")>,\n",
       " <selenium.webdriver.firefox.webelement.FirefoxWebElement (session=\"73178faf-0462-48b9-922e-a349f158299d\", element=\"181f4348-6a03-4e47-b669-a303bc4b1455\")>,\n",
       " <selenium.webdriver.firefox.webelement.FirefoxWebElement (session=\"73178faf-0462-48b9-922e-a349f158299d\", element=\"83e48106-380e-44dc-9e64-5061d64a5dcb\")>,\n",
       " <selenium.webdriver.firefox.webelement.FirefoxWebElement (session=\"73178faf-0462-48b9-922e-a349f158299d\", element=\"b9ddea96-df79-4e60-8296-eb1f5973eee1\")>,\n",
       " <selenium.webdriver.firefox.webelement.FirefoxWebElement (session=\"73178faf-0462-48b9-922e-a349f158299d\", element=\"a63062fb-966f-4d61-a75e-a0dabc38227a\")>,\n",
       " <selenium.webdriver.firefox.webelement.FirefoxWebElement (session=\"73178faf-0462-48b9-922e-a349f158299d\", element=\"c103adc5-a6af-45fe-980c-36c34eb5ccab\")>,\n",
       " <selenium.webdriver.firefox.webelement.FirefoxWebElement (session=\"73178faf-0462-48b9-922e-a349f158299d\", element=\"d750e2cd-61ef-4c25-855d-44e1cb0aa7ad\")>,\n",
       " <selenium.webdriver.firefox.webelement.FirefoxWebElement (session=\"73178faf-0462-48b9-922e-a349f158299d\", element=\"d4534781-9059-4010-b9e1-baeac935b7be\")>,\n",
       " <selenium.webdriver.firefox.webelement.FirefoxWebElement (session=\"73178faf-0462-48b9-922e-a349f158299d\", element=\"2cd11a9c-fe34-4275-be4e-ddd2ac2d518f\")>,\n",
       " <selenium.webdriver.firefox.webelement.FirefoxWebElement (session=\"73178faf-0462-48b9-922e-a349f158299d\", element=\"a4ffcdbc-8709-43d9-bf01-eea519aa24b8\")>,\n",
       " <selenium.webdriver.firefox.webelement.FirefoxWebElement (session=\"73178faf-0462-48b9-922e-a349f158299d\", element=\"afda9080-a3ed-44a3-b78e-5de05f32f5aa\")>,\n",
       " <selenium.webdriver.firefox.webelement.FirefoxWebElement (session=\"73178faf-0462-48b9-922e-a349f158299d\", element=\"578db561-18b5-4460-9b6e-c6177b8e3a84\")>,\n",
       " <selenium.webdriver.firefox.webelement.FirefoxWebElement (session=\"73178faf-0462-48b9-922e-a349f158299d\", element=\"6025ead6-067a-4d9b-9090-10e53d3748a2\")>,\n",
       " <selenium.webdriver.firefox.webelement.FirefoxWebElement (session=\"73178faf-0462-48b9-922e-a349f158299d\", element=\"d72dccaa-f96a-4f73-8de1-cc86110d616b\")>,\n",
       " <selenium.webdriver.firefox.webelement.FirefoxWebElement (session=\"73178faf-0462-48b9-922e-a349f158299d\", element=\"5c8fa9e9-4649-4e2b-b310-2c839a1d7962\")>,\n",
       " <selenium.webdriver.firefox.webelement.FirefoxWebElement (session=\"73178faf-0462-48b9-922e-a349f158299d\", element=\"7f38ebca-79f1-4102-ad00-ce4541290607\")>,\n",
       " <selenium.webdriver.firefox.webelement.FirefoxWebElement (session=\"73178faf-0462-48b9-922e-a349f158299d\", element=\"68ccde0c-55c6-4a19-ae2e-7c2530a6eca5\")>,\n",
       " <selenium.webdriver.firefox.webelement.FirefoxWebElement (session=\"73178faf-0462-48b9-922e-a349f158299d\", element=\"7b80e159-dd42-4beb-bdf2-df2abb351ad6\")>,\n",
       " <selenium.webdriver.firefox.webelement.FirefoxWebElement (session=\"73178faf-0462-48b9-922e-a349f158299d\", element=\"fab6e610-845d-4da4-a35e-37622728c7d0\")>,\n",
       " <selenium.webdriver.firefox.webelement.FirefoxWebElement (session=\"73178faf-0462-48b9-922e-a349f158299d\", element=\"783439e5-2776-419a-927d-c806e86d79ec\")>,\n",
       " <selenium.webdriver.firefox.webelement.FirefoxWebElement (session=\"73178faf-0462-48b9-922e-a349f158299d\", element=\"ddc4b4cb-d028-41c8-bd17-ef923adeaca3\")>,\n",
       " <selenium.webdriver.firefox.webelement.FirefoxWebElement (session=\"73178faf-0462-48b9-922e-a349f158299d\", element=\"a5193b04-9097-41fa-a61c-5fe2b1facf05\")>,\n",
       " <selenium.webdriver.firefox.webelement.FirefoxWebElement (session=\"73178faf-0462-48b9-922e-a349f158299d\", element=\"f8f94c39-803a-420e-aca6-bb62ba66021d\")>,\n",
       " <selenium.webdriver.firefox.webelement.FirefoxWebElement (session=\"73178faf-0462-48b9-922e-a349f158299d\", element=\"be66f666-6a2b-4a81-93de-9cb197a4182c\")>,\n",
       " <selenium.webdriver.firefox.webelement.FirefoxWebElement (session=\"73178faf-0462-48b9-922e-a349f158299d\", element=\"820e29df-4253-4668-9602-2c6c24587357\")>,\n",
       " <selenium.webdriver.firefox.webelement.FirefoxWebElement (session=\"73178faf-0462-48b9-922e-a349f158299d\", element=\"e680ec98-14a4-4958-be86-ba88edcaca96\")>,\n",
       " <selenium.webdriver.firefox.webelement.FirefoxWebElement (session=\"73178faf-0462-48b9-922e-a349f158299d\", element=\"1e94c000-b907-438e-b24a-f722058079e1\")>,\n",
       " <selenium.webdriver.firefox.webelement.FirefoxWebElement (session=\"73178faf-0462-48b9-922e-a349f158299d\", element=\"d82ed20c-52fa-48c8-897e-44a23ad4cd1d\")>,\n",
       " <selenium.webdriver.firefox.webelement.FirefoxWebElement (session=\"73178faf-0462-48b9-922e-a349f158299d\", element=\"a9bb2af7-c8a1-4410-9c20-2477ea474228\")>,\n",
       " <selenium.webdriver.firefox.webelement.FirefoxWebElement (session=\"73178faf-0462-48b9-922e-a349f158299d\", element=\"d101f86a-c8e0-49f4-847f-188bba401867\")>,\n",
       " <selenium.webdriver.firefox.webelement.FirefoxWebElement (session=\"73178faf-0462-48b9-922e-a349f158299d\", element=\"425830ec-8d80-4f2d-8d25-b15d99bd0ecc\")>,\n",
       " <selenium.webdriver.firefox.webelement.FirefoxWebElement (session=\"73178faf-0462-48b9-922e-a349f158299d\", element=\"268e5c5f-e0a9-44e5-bd8a-21af90a2c0b5\")>,\n",
       " <selenium.webdriver.firefox.webelement.FirefoxWebElement (session=\"73178faf-0462-48b9-922e-a349f158299d\", element=\"25076ff0-44fb-4d0c-accd-cc7bbe2085cb\")>,\n",
       " <selenium.webdriver.firefox.webelement.FirefoxWebElement (session=\"73178faf-0462-48b9-922e-a349f158299d\", element=\"78403a6f-b23c-4def-8f8f-0fdf123dd711\")>,\n",
       " <selenium.webdriver.firefox.webelement.FirefoxWebElement (session=\"73178faf-0462-48b9-922e-a349f158299d\", element=\"b1dcf0bd-f9fe-4dd6-89e9-b2bef0ed42d2\")>,\n",
       " <selenium.webdriver.firefox.webelement.FirefoxWebElement (session=\"73178faf-0462-48b9-922e-a349f158299d\", element=\"21126011-4362-40d0-b0a7-34171c834db1\")>]"
      ]
     },
     "execution_count": 15,
     "metadata": {},
     "output_type": "execute_result"
    }
   ],
   "source": [
    "puntos"
   ]
  },
  {
   "cell_type": "code",
   "execution_count": 17,
   "metadata": {},
   "outputs": [
    {
     "name": "stdout",
     "output_type": "stream",
     "text": [
      "\n",
      "Culiacán\n",
      "Torreón\n",
      "\n",
      "\n",
      "La Paz\n",
      "Los Mochis\n",
      "\n",
      "Victoria de Durango\n",
      "Mazatlán\n",
      "Guadalajara\n",
      "Aguascalientes\n",
      "Tepic\n",
      "\n",
      "\n",
      "Monterrey\n",
      "\n",
      "San Luis Potosí\n",
      "\n",
      "Tampico\n",
      "\n",
      "Ciudad Victoria\n",
      "\n",
      "\n",
      "Reynosa\n",
      "\n",
      "Ciudad de México\n",
      "Acapulco\n",
      "Veracruz\n",
      "Ciudad de Guatemala\n",
      "Santiago de Querétaro\n",
      "Morelia\n",
      "Oaxaca\n",
      "Tehuacán\n",
      "Poza Rica de Hidalgo\n",
      "Minatitlán\n",
      "Campeche\n",
      "Tapachula\n",
      "Tuxtla Gutiérrez\n",
      "Villahermosa\n",
      "La Habana\n",
      "\n",
      "\n",
      "\n",
      "Cape Coral\n",
      "\n",
      "Pinar del Río\n",
      "Cienfuegos\n",
      "\n",
      "Miami\n",
      "\n",
      "Managua\n",
      "Mérida\n",
      "Cancún\n",
      "Tegucigalpa\n",
      "San Salvador\n",
      "San Pedro Sula\n",
      "\n",
      "\n",
      "\n",
      "\n",
      "\n",
      "\n",
      "\n",
      "\n",
      "\n",
      "\n",
      "\n",
      "\n",
      "\n",
      "\n",
      "\n",
      "\n",
      "\n",
      "\n",
      "\n",
      "\n",
      "\n",
      "\n",
      "\n",
      "\n",
      "\n",
      "\n",
      "\n",
      "\n",
      "\n",
      "\n",
      "\n",
      "\n",
      "\n",
      "\n",
      "\n",
      "\n",
      "\n",
      "\n",
      "\n",
      "\n",
      "\n",
      "\n",
      "\n",
      "\n",
      "\n",
      "\n",
      "\n",
      "\n",
      "\n"
     ]
    }
   ],
   "source": [
    "for i in puntos:\n",
    "    print(i.text)"
   ]
  },
  {
   "cell_type": "code",
   "execution_count": 18,
   "metadata": {},
   "outputs": [
    {
     "data": {
      "text/plain": [
       "'https://www.ventusky.com/ciudad-juarez'"
      ]
     },
     "execution_count": 18,
     "metadata": {},
     "output_type": "execute_result"
    }
   ],
   "source": [
    "puntos[0].get_attribute('href')"
   ]
  },
  {
   "cell_type": "code",
   "execution_count": 19,
   "metadata": {},
   "outputs": [
    {
     "name": "stdout",
     "output_type": "stream",
     "text": [
      "https://www.ventusky.com/ciudad-juarez\n",
      "https://www.ventusky.com/culiacan\n",
      "https://www.ventusky.com/torreon\n",
      "https://www.ventusky.com/chihuahua\n",
      "https://www.ventusky.com/ciudad-obregon\n",
      "https://www.ventusky.com/la-paz;24.17;-110.3\n",
      "https://www.ventusky.com/los-mochis\n",
      "https://www.ventusky.com/monclova\n",
      "https://www.ventusky.com/victoria-de-durango\n",
      "https://www.ventusky.com/mazatlan\n",
      "https://www.ventusky.com/guadalajara\n",
      "https://www.ventusky.com/aguascalientes\n",
      "https://www.ventusky.com/tepic\n",
      "https://www.ventusky.com/houston\n",
      "https://www.ventusky.com/san-antonio\n",
      "https://www.ventusky.com/monterrey\n",
      "https://www.ventusky.com/austin\n",
      "https://www.ventusky.com/san-luis-potosi\n",
      "https://www.ventusky.com/baton-rouge\n",
      "https://www.ventusky.com/tampico\n",
      "https://www.ventusky.com/corpus-christi\n",
      "https://www.ventusky.com/ciudad-victoria\n",
      "https://www.ventusky.com/piedras-negras\n",
      "https://www.ventusky.com/new-orleans\n",
      "https://www.ventusky.com/reynosa\n",
      "https://www.ventusky.com/nuevo-laredo\n",
      "https://www.ventusky.com/acapulco\n",
      "https://www.ventusky.com/veracruz\n",
      "https://www.ventusky.com/ciudad-de-guatemala\n",
      "https://www.ventusky.com/santiago-de-queretaro\n",
      "https://www.ventusky.com/morelia\n",
      "https://www.ventusky.com/oaxaca\n",
      "https://www.ventusky.com/tehuacan\n",
      "https://www.ventusky.com/poza-rica-de-hidalgo\n",
      "https://www.ventusky.com/minatitlan\n",
      "https://www.ventusky.com/campeche\n",
      "https://www.ventusky.com/tapachula\n",
      "https://www.ventusky.com/tuxtla-gutierrez\n",
      "https://www.ventusky.com/villahermosa;17.98;-92.92\n",
      "https://www.ventusky.com/la-habana\n",
      "https://www.ventusky.com/jacksonville\n",
      "https://www.ventusky.com/orlando\n",
      "https://www.ventusky.com/port-st-lucie\n",
      "https://www.ventusky.com/cape-coral\n",
      "https://www.ventusky.com/tallahassee\n",
      "https://www.ventusky.com/pinar-del-rio\n",
      "https://www.ventusky.com/cienfuegos\n",
      "https://www.ventusky.com/mobile\n",
      "https://www.ventusky.com/miami\n",
      "https://www.ventusky.com/tampa\n",
      "https://www.ventusky.com/managua\n",
      "https://www.ventusky.com/merida\n",
      "https://www.ventusky.com/cancun\n",
      "https://www.ventusky.com/tegucigalpa\n",
      "https://www.ventusky.com/san-salvador\n",
      "https://www.ventusky.com/san-pedro-sula\n",
      "https://www.ventusky.com/esmeraldas\n",
      "https://www.ventusky.com/san-miguelito\n",
      "https://www.ventusky.com/san-jose;9.93;-84.08\n",
      "https://www.ventusky.com/ciudad-de-mexico\n",
      "https://www.ventusky.com/playa-del-carmen\n",
      "https://www.ventusky.com/belize-city\n",
      "https://www.ventusky.com/chetumal\n",
      "https://www.ventusky.com/managua\n",
      "https://www.ventusky.com/tegucigalpa\n",
      "https://www.ventusky.com/san-salvador\n",
      "https://www.ventusky.com/san-miquel\n",
      "https://www.ventusky.com/san-pedro-sula\n",
      "https://www.ventusky.com/esteli\n",
      "https://www.ventusky.com/choluteca\n",
      "https://www.ventusky.com/la-ceiba\n",
      "https://www.ventusky.com/leon\n",
      "https://www.ventusky.com/tlaxcala\n",
      "https://www.ventusky.com/huejutla-de-reyes\n",
      "https://www.ventusky.com/perote\n",
      "https://www.ventusky.com/zacatlan\n",
      "https://www.ventusky.com/huauchinango\n",
      "https://www.ventusky.com/huamantla\n",
      "https://www.ventusky.com/puebla\n",
      "https://www.ventusky.com/veracruz\n",
      "https://www.ventusky.com/oaxaca\n",
      "https://www.ventusky.com/tehuacan\n",
      "https://www.ventusky.com/cordoba;18.88;-96.93\n",
      "https://www.ventusky.com/cosamaloapan\n",
      "https://www.ventusky.com/huatusco\n",
      "https://www.ventusky.com/loma-bonita\n",
      "https://www.ventusky.com/tierra-blanca\n",
      "https://www.ventusky.com/tecamachalco\n",
      "https://www.ventusky.com/minatitlan\n",
      "https://www.ventusky.com/tuxtla-gutierrez\n",
      "https://www.ventusky.com/villahermosa;17.98;-92.92\n",
      "https://www.ventusky.com/cardenas;17.98;-93.37\n",
      "https://www.ventusky.com/comalcalco\n",
      "https://www.ventusky.com/las-choapas\n",
      "https://www.ventusky.com/cintalapa\n",
      "https://www.ventusky.com/san-andres-tuxtla\n",
      "https://www.ventusky.com/teapa\n",
      "https://www.ventusky.com/acayucan\n",
      "https://www.ventusky.com/huatusco\n",
      "https://www.ventusky.com/loma-bonita\n",
      "https://www.ventusky.com/tierra-blanca\n",
      "https://www.ventusky.com/soledad-de-doblado\n",
      "https://www.ventusky.com/cuitlahuac\n",
      "https://www.ventusky.com/paso-del-macho\n",
      "https://www.ventusky.com/la-isla\n",
      "https://www.ventusky.com/alvarado\n"
     ]
    }
   ],
   "source": [
    "for i in puntos:\n",
    "    print(i.get_attribute('href'))"
   ]
  },
  {
   "cell_type": "code",
   "execution_count": 21,
   "metadata": {},
   "outputs": [],
   "source": [
    "aside = navegador.find_element_by_xpath('//*[@id=\"aside\"]')"
   ]
  },
  {
   "cell_type": "code",
   "execution_count": 22,
   "metadata": {},
   "outputs": [
    {
     "data": {
      "text/plain": [
       "\"Mexico / Latitud: 19°26'N / Longitud: 99°8'W / Altitud: 2250m\\nZona horaria: America/Mexico_City (UTC-6) / Hora actual: 09:55 29/10/2020\""
      ]
     },
     "execution_count": 22,
     "metadata": {},
     "output_type": "execute_result"
    }
   ],
   "source": [
    "dest = aside.find_element_by_class_name('destination')\n",
    "dest.text"
   ]
  },
  {
   "cell_type": "code",
   "execution_count": 27,
   "metadata": {},
   "outputs": [],
   "source": [
    "table_sun = aside.find_element_by_xpath('//*[@id=\"astro-sun-table\"]')"
   ]
  },
  {
   "cell_type": "code",
   "execution_count": 31,
   "metadata": {},
   "outputs": [
    {
     "data": {
      "text/plain": [
       "['FASE 29/10/2020 HORA LONGITUD',\n",
       " 'noche 00:00 hasta 06:23 6 hora 23 min',\n",
       " 'crepúsculo astronómico 06:23 hasta 06:49 26 min',\n",
       " 'crepúsculo náutico 06:49 hasta 07:14 26 min',\n",
       " 'Crepúsculo civil 07:14 hasta 07:37 23 min',\n",
       " 'día 07:37 hasta 19:05 11 hora 28 min',\n",
       " 'Crepúsculo civil 19:05 hasta 19:27 23 min',\n",
       " 'crepúsculo náutico 19:27 hasta 19:53 26 min',\n",
       " 'crepúsculo astronómico 19:53 hasta 20:19 26 min',\n",
       " 'noche 20:19 hasta 00:00 3 hora 40 min']"
      ]
     },
     "execution_count": 31,
     "metadata": {},
     "output_type": "execute_result"
    }
   ],
   "source": [
    "table_sun.text.split('\\n')"
   ]
  },
  {
   "cell_type": "code",
   "execution_count": 33,
   "metadata": {
    "scrolled": false
   },
   "outputs": [
    {
     "data": {
      "text/plain": [
       "[<selenium.webdriver.firefox.webelement.FirefoxWebElement (session=\"73178faf-0462-48b9-922e-a349f158299d\", element=\"ef5f20b4-de54-4a81-9bea-3bd2ecc80da1\")>,\n",
       " <selenium.webdriver.firefox.webelement.FirefoxWebElement (session=\"73178faf-0462-48b9-922e-a349f158299d\", element=\"f236d3c1-766c-4f1e-996d-3487c3c4fea5\")>,\n",
       " <selenium.webdriver.firefox.webelement.FirefoxWebElement (session=\"73178faf-0462-48b9-922e-a349f158299d\", element=\"73c9560f-e0a1-441d-a58c-576bff6da63b\")>,\n",
       " <selenium.webdriver.firefox.webelement.FirefoxWebElement (session=\"73178faf-0462-48b9-922e-a349f158299d\", element=\"a1988e20-9903-4d5b-898f-eec6d0f66b7c\")>,\n",
       " <selenium.webdriver.firefox.webelement.FirefoxWebElement (session=\"73178faf-0462-48b9-922e-a349f158299d\", element=\"de0f229b-b82a-4e45-97ce-2882c0b32ba8\")>,\n",
       " <selenium.webdriver.firefox.webelement.FirefoxWebElement (session=\"73178faf-0462-48b9-922e-a349f158299d\", element=\"02c74071-a2bd-472d-9c75-662aa499515d\")>,\n",
       " <selenium.webdriver.firefox.webelement.FirefoxWebElement (session=\"73178faf-0462-48b9-922e-a349f158299d\", element=\"646de452-23ef-4b53-9002-fda37fb2b5f2\")>,\n",
       " <selenium.webdriver.firefox.webelement.FirefoxWebElement (session=\"73178faf-0462-48b9-922e-a349f158299d\", element=\"e56d61a1-ca91-4e34-b197-7bd3553375c3\")>,\n",
       " <selenium.webdriver.firefox.webelement.FirefoxWebElement (session=\"73178faf-0462-48b9-922e-a349f158299d\", element=\"d61c32bb-329d-454a-8942-68fd112cc52f\")>,\n",
       " <selenium.webdriver.firefox.webelement.FirefoxWebElement (session=\"73178faf-0462-48b9-922e-a349f158299d\", element=\"56a7d889-99bd-4bd1-a785-cc070a4399d1\")>]"
      ]
     },
     "execution_count": 33,
     "metadata": {},
     "output_type": "execute_result"
    }
   ],
   "source": [
    "tr = table_sun.find_elements_by_tag_name('tr')\n",
    "tr"
   ]
  },
  {
   "cell_type": "code",
   "execution_count": 34,
   "metadata": {
    "scrolled": true
   },
   "outputs": [
    {
     "data": {
      "text/plain": [
       "['FASE 29/10/2020 HORA LONGITUD',\n",
       " 'noche 00:00 hasta 06:23 6 hora 23 min',\n",
       " 'crepúsculo astronómico 06:23 hasta 06:49 26 min',\n",
       " 'crepúsculo náutico 06:49 hasta 07:14 26 min',\n",
       " 'Crepúsculo civil 07:14 hasta 07:37 23 min',\n",
       " 'día 07:37 hasta 19:05 11 hora 28 min',\n",
       " 'Crepúsculo civil 19:05 hasta 19:27 23 min',\n",
       " 'crepúsculo náutico 19:27 hasta 19:53 26 min',\n",
       " 'crepúsculo astronómico 19:53 hasta 20:19 26 min',\n",
       " 'noche 20:19 hasta 00:00 3 hora 40 min']"
      ]
     },
     "execution_count": 34,
     "metadata": {},
     "output_type": "execute_result"
    }
   ],
   "source": [
    "tr_text = [i.text for i in tr]\n",
    "tr_text"
   ]
  },
  {
   "cell_type": "code",
   "execution_count": null,
   "metadata": {},
   "outputs": [],
   "source": []
  }
 ],
 "metadata": {
  "kernelspec": {
   "display_name": "Python 3",
   "language": "python",
   "name": "python3"
  },
  "language_info": {
   "codemirror_mode": {
    "name": "ipython",
    "version": 3
   },
   "file_extension": ".py",
   "mimetype": "text/x-python",
   "name": "python",
   "nbconvert_exporter": "python",
   "pygments_lexer": "ipython3",
   "version": "3.7.4"
  }
 },
 "nbformat": 4,
 "nbformat_minor": 4
}
