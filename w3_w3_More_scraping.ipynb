{
 "cells": [
  {
   "cell_type": "code",
   "execution_count": 9,
   "metadata": {},
   "outputs": [],
   "source": [
    "from selenium import webdriver\n",
    "from selenium.webdriver.common.keys import Keys"
   ]
  },
  {
   "cell_type": "code",
   "execution_count": 3,
   "metadata": {
    "scrolled": true
   },
   "outputs": [],
   "source": [
    "navegador = webdriver.Firefox()"
   ]
  },
  {
   "cell_type": "code",
   "execution_count": 4,
   "metadata": {},
   "outputs": [],
   "source": [
    "navegador.get('https://www.google.com')"
   ]
  },
  {
   "cell_type": "code",
   "execution_count": 5,
   "metadata": {},
   "outputs": [],
   "source": [
    "navegador.maximize_window()"
   ]
  },
  {
   "cell_type": "code",
   "execution_count": 6,
   "metadata": {},
   "outputs": [],
   "source": [
    "barra = navegador.find_element_by_xpath('/html/body/div[2]/div[2]/form/div[2]/div[1]/div[1]/div/div[2]/input')"
   ]
  },
  {
   "cell_type": "code",
   "execution_count": 7,
   "metadata": {},
   "outputs": [
    {
     "data": {
      "text/plain": [
       "<selenium.webdriver.firefox.webelement.FirefoxWebElement (session=\"72e46bf0-204a-4e08-9453-4792d0455cf5\", element=\"9a1572e6-9ce8-4e80-aa2f-6ab9d96698a9\")>"
      ]
     },
     "execution_count": 7,
     "metadata": {},
     "output_type": "execute_result"
    }
   ],
   "source": [
    "barra"
   ]
  },
  {
   "cell_type": "code",
   "execution_count": 8,
   "metadata": {},
   "outputs": [],
   "source": [
    "barra.send_keys('selenium')"
   ]
  },
  {
   "cell_type": "code",
   "execution_count": 10,
   "metadata": {},
   "outputs": [],
   "source": [
    "barra.send_keys(Keys.RETURN)"
   ]
  },
  {
   "cell_type": "code",
   "execution_count": 11,
   "metadata": {},
   "outputs": [],
   "source": [
    "primer_res = navegador.find_element_by_xpath('/html/body/div[7]/div[2]/div[10]/div[1]/div[2]/div/div[2]/div[2]/div/div/div[1]/div/div[1]/a')\n",
    "primer_res.click()"
   ]
  },
  {
   "cell_type": "code",
   "execution_count": 13,
   "metadata": {},
   "outputs": [],
   "source": [
    "parrafos = navegador.find_elements_by_tag_name('p')"
   ]
  },
  {
   "cell_type": "code",
   "execution_count": 15,
   "metadata": {},
   "outputs": [
    {
     "data": {
      "text/plain": [
       "'Las nuevas tecnologías han revolucionado el mundo en muy poco tiempo y la gran mayoría de empresas no pueden actualizarse constantemente. Gracias a las diversas evoluciones podemos hoy hablar de procesos automatizados de software cuando hace no muchos años esto era impensable.'"
      ]
     },
     "execution_count": 15,
     "metadata": {},
     "output_type": "execute_result"
    }
   ],
   "source": [
    "parrafos[0].text"
   ]
  },
  {
   "cell_type": "code",
   "execution_count": 16,
   "metadata": {},
   "outputs": [],
   "source": [
    "parrafos_txt = [i.text for i in parrafos]"
   ]
  },
  {
   "cell_type": "code",
   "execution_count": 17,
   "metadata": {
    "scrolled": true
   },
   "outputs": [
    {
     "data": {
      "text/plain": [
       "['Las nuevas tecnologías han revolucionado el mundo en muy poco tiempo y la gran mayoría de empresas no pueden actualizarse constantemente. Gracias a las diversas evoluciones podemos hoy hablar de procesos automatizados de software cuando hace no muchos años esto era impensable.',\n",
       " 'Este tipo de pruebas son habituales en cualquier desarrollo de software pero hoy en día comprobamos que algunas empresas no llegan a decantarse por este tipo de herramientas. Por eso vamos a hablar de uno de los mejores programas de testing.',\n",
       " 'Selenium es un entorno de pruebas que se utiliza para comprobar si el software que se está desarrollando funciona correctamente. Esta herramienta permite: grabar, editar y depurar casos de pruebas que se pueden automatizar.',\n",
       " 'Lo interesante de Selenium es que se pueden editar acciones o crearlas desde cero. También ayuda mucho en las pruebas de regresión porque consigue pruebas automatizadas que luego se pueden reutilizar cuando se necesite.',\n",
       " 'Comenzó a desarrollarse en 2004 por Jason Huggins y poco a poco se fueron uniendo varios especialistas. Un gran detalle es que este software es de código abierto (bajo licencia apache 2.0) y puede ser descargado y usado sin pagar. Si te estás preguntando “¿dónde puedo comprar Selenium? o ¿dónde puedo descargar Selenium?”, solamente tienes que entrar en la siguiente URL para descargar esta herramienta de manera gratuita.',\n",
       " 'Como curiosidad indicar que el significado de Selenium surgió a raíz de un comentario que Jason Huggins le hizo a un competidor de aquella época llamado Mercurio: el envenenamiento por mercurio se puede curar con Selenio. Esto provocó que la mayoría de personas que lo escucharon empezasen a llamar al proyecto de Huggins, “Selenium”.',\n",
       " '',\n",
       " 'Su objetivo principal es comprobar que un software funcione correctamente. La mayoría de usuarios que trabajan con Selenium son programadores QA o Engineer QA, que trabajan no solo comprobando que todo funcione correctamente, sino también evitando problemas futuros, ya que ahí es dónde reside la mejor característica de Selenium para algunos Ingenieros QA.',\n",
       " 'A día de hoy, Selenium tiene un conjunto de herramientas de software y cada una muestra una perspectiva diferente. Muchos programadores deciden utilizar uno o dos a la vez para automatizar su proyecto, pero es mejor conocer todas las opciones y entender para qué sirve Selenium:',\n",
       " 'En sus comienzos era llamado Selenium Recorder. Permite editar, grabar y depurar lo que se muestra en el navegador. Muchos usuarios crean scripts que editan con comandos y sentencias para que cuando se haga la grabación de la página web quede todo registrado.',\n",
       " 'En agosto de 2017 explicaron que ya no continuaría el proyecto porque no sabían cómo evolucionarlo más, pero recientemente ha cambiado la situación. Según el propio equipo la mayor diferencia entre el IDE anterior y el nuevo, es que la extensión de Mozilla Firefox dependía de APIs que ya no eran compatibles con las versiones más recientes del navegador.',\n",
       " 'El nuevo Selenium IDE se ha diseñado como una extensión de navegador con soporte en Firefox y Chrome. Ofrecen una herramienta de línea de comandos para integrar constantemente servidores o ejecuciones de pruebas paralelas; tanto con uno o varios navegadores como con uno o varios sistemas operativos.',\n",
       " 'Entre sus nuevas características encontramos: configuración de puntos de ruptura, funciones de depuración, soporte para integración con terceros, reutilizar casos de pruebas, etc.',\n",
       " 'Remote Control (RC) es un sistema cliente/servidor que permite utilizar el navegador web de forma local o en otro ordenador. Lo mejor de todo es que se puede utilizar casi cualquier lenguaje de programación y formato de pruebas, pero con la liberalización de Selenium 2 se ha descartado en gran medida para favorecer a WebDriver.',\n",
       " 'Siendo el sucesor de Remote Control permite utilizar un navegador de forma local o en remoto. No requiere un servidor especial ya que se inicia una instancia del navegador y se controla de esta manera.',\n",
       " 'Cualquiera de estos lenguajes porque son compatibles con Selenium WebDriver: PHP, Java, .Net, Perl, Ruby o Python, aunque no es necesario que se dominen todos ellos ya que con desenvolverse bien con uno solo es más que suficiente.',\n",
       " 'La arquitectura de WebDriver es más simple que la de Remote Control pero eso no significa que sea peor. Por ejemplo, WebDriver es más rápido que RC, ya que habla directamente al navegador y, lo mejor de todo, utiliza el motor del propio navegador que se está utilizando en ese momento.',\n",
       " 'También interactúa con los elementos de la página de manera más realista, ¿por qué? Pues muy sencillo, si aparece un cuadro de texto que está deshabilitado en la página web, una persona “real” no podría escribir en dicho cuadro y WebDriver actuaría así, otras herramientas no actuarían de la misma manera.',\n",
       " 'Existen dos razones para querer utilizar Selenium Grid. Ejecutar pruebas con varios navegadores a la vez (con diferentes versiones si es necesario) y con diferentes sistemas operativos, de tal manera que puedes utilizar, por ejemplo, Google Chrome a la vez en Windows, iOS, Android, etc.',\n",
       " 'Por otro lado, tenemos que Selenium Grid puede reducir ampliamente el tiempo que tarda un paquete de pruebas en completarse. Si se quiere realizar un conjunto de 200 pruebas pongamos hipotéticamente que se tardan 8 horas en comprobarlo todo al 100%, al utilizar 4 máquinas diferentes con Selenium Grid veremos su tiempo reducido y aproximadamente tardará una cuarta parte del total requerido en un inicio.',\n",
       " 'Para proyectos muy grandes o pruebas de gran tamaño, como analizar una cantidad masiva de datos, es una excelente herramienta que te permitirá ahorrar mucho tiempo y dinero.',\n",
       " '',\n",
       " 'Selenium es una de las mejores herramientas de testing actual. Es muy avanzada y permite gestionar casi cualquier necesidad que tenga un especialista. No es un programa sencillo y necesita un amplio conocimiento de programación para poder utilizarlo. La única desventaja, que se puede considerar como tal, es la dificultad de aprendizaje, pero ocurre lo mismo en otras herramientas o lenguajes de programación.',\n",
       " 'Un profesional cualificado que sepa instalar, programar y adecuar la herramienta para cada proyecto va a solicitar, seguramente, un presupuesto elevado. En cualquier caso, Selenium permitirá ahorrar dinero a largo plazo porque automatizar las pruebas ahorrará mucho tiempo y recursos.',\n",
       " 'Si en tu equipo no tienes un especialista en Selenium en Digital55 podemos ayudarte. Revisa nuestros Casos de Éxito y comprobarás que ofrecemos soluciones de programación a medida. Ponte en Contacto con nosotros y te ayudaremos.',\n",
       " '+34 91 309 16 41',\n",
       " 'hello@digital55.com',\n",
       " 'Calle Claudio Coello 25. 28001 Madrid.',\n",
       " 'Acepto el aviso legal',\n",
       " 'Suscríbete a nuestro newsletter y te mantendremos al tanto de nuestras ideas',\n",
       " 'SÍGUENOS: LINKEDIN',\n",
       " '',\n",
       " '',\n",
       " '',\n",
       " '',\n",
       " '']"
      ]
     },
     "execution_count": 17,
     "metadata": {},
     "output_type": "execute_result"
    }
   ],
   "source": [
    "parrafos_txt"
   ]
  },
  {
   "cell_type": "code",
   "execution_count": 19,
   "metadata": {},
   "outputs": [],
   "source": [
    "navegador.get('https://www.python.org')"
   ]
  },
  {
   "cell_type": "code",
   "execution_count": 20,
   "metadata": {},
   "outputs": [],
   "source": [
    "barra_py = navegador.find_element_by_id('id-search-field')"
   ]
  },
  {
   "cell_type": "code",
   "execution_count": 21,
   "metadata": {},
   "outputs": [],
   "source": [
    "barra_py.send_keys('regex')"
   ]
  },
  {
   "cell_type": "code",
   "execution_count": 23,
   "metadata": {},
   "outputs": [],
   "source": [
    "barra_py = navegador.find_element_by_class_name('search-field')"
   ]
  },
  {
   "cell_type": "code",
   "execution_count": 24,
   "metadata": {},
   "outputs": [],
   "source": [
    "barra_py.send_keys('class')"
   ]
  },
  {
   "cell_type": "code",
   "execution_count": 25,
   "metadata": {},
   "outputs": [],
   "source": [
    "barra_py.clear()"
   ]
  },
  {
   "cell_type": "code",
   "execution_count": 26,
   "metadata": {},
   "outputs": [],
   "source": [
    "url = 'https://threatbutt.com/map/'"
   ]
  },
  {
   "cell_type": "code",
   "execution_count": 27,
   "metadata": {},
   "outputs": [],
   "source": [
    "navegador.get(url)"
   ]
  },
  {
   "cell_type": "code",
   "execution_count": 28,
   "metadata": {},
   "outputs": [
    {
     "data": {
      "text/plain": [
       "<selenium.webdriver.firefox.webelement.FirefoxWebElement (session=\"72e46bf0-204a-4e08-9453-4792d0455cf5\", element=\"9add7bb5-ec65-4fdc-8b1f-d29759b13b43\")>"
      ]
     },
     "execution_count": 28,
     "metadata": {},
     "output_type": "execute_result"
    }
   ],
   "source": [
    "attac_frame = navegador.find_element_by_id('attackdiv')\n",
    "attac_frame"
   ]
  },
  {
   "cell_type": "code",
   "execution_count": 33,
   "metadata": {},
   "outputs": [],
   "source": [
    "ataq = attac_frame.text.split('\\n')"
   ]
  },
  {
   "cell_type": "code",
   "execution_count": 35,
   "metadata": {},
   "outputs": [
    {
     "data": {
      "text/plain": [
       "\"jpn (190.18.96.54) uses Constant Negative Press Covfefe against usa (141.73.77.212) -- it's probably fine ¯\\\\_(ツ)_/¯\""
      ]
     },
     "execution_count": 35,
     "metadata": {},
     "output_type": "execute_result"
    }
   ],
   "source": [
    "ataq[0]"
   ]
  },
  {
   "cell_type": "code",
   "execution_count": 36,
   "metadata": {},
   "outputs": [],
   "source": [
    "nombre_ataq = ataq[0].split('(')[0]"
   ]
  },
  {
   "cell_type": "code",
   "execution_count": 37,
   "metadata": {},
   "outputs": [
    {
     "data": {
      "text/plain": [
       "'jpn '"
      ]
     },
     "execution_count": 37,
     "metadata": {},
     "output_type": "execute_result"
    }
   ],
   "source": [
    "nombre_ataq"
   ]
  },
  {
   "cell_type": "code",
   "execution_count": 38,
   "metadata": {},
   "outputs": [],
   "source": [
    "ip_ataq = ataq[0].split('(')[1].split(')')[0]"
   ]
  },
  {
   "cell_type": "code",
   "execution_count": 39,
   "metadata": {},
   "outputs": [
    {
     "data": {
      "text/plain": [
       "'190.18.96.54'"
      ]
     },
     "execution_count": 39,
     "metadata": {},
     "output_type": "execute_result"
    }
   ],
   "source": [
    "ip_ataq"
   ]
  },
  {
   "cell_type": "code",
   "execution_count": 40,
   "metadata": {},
   "outputs": [
    {
     "data": {
      "text/plain": [
       "['usa']"
      ]
     },
     "execution_count": 40,
     "metadata": {},
     "output_type": "execute_result"
    }
   ],
   "source": [
    "victima = ataq[0].split('(')[1].split(')')[1][-4:].split()\n",
    "victima"
   ]
  },
  {
   "cell_type": "code",
   "execution_count": 42,
   "metadata": {},
   "outputs": [
    {
     "data": {
      "text/plain": [
       "'141.73.77.212'"
      ]
     },
     "execution_count": 42,
     "metadata": {},
     "output_type": "execute_result"
    }
   ],
   "source": [
    "ip_victima  = ataq[0].split('(')[2].split(')')[0]\n",
    "ip_victima"
   ]
  },
  {
   "cell_type": "code",
   "execution_count": 43,
   "metadata": {},
   "outputs": [],
   "source": [
    "import time"
   ]
  },
  {
   "cell_type": "code",
   "execution_count": 47,
   "metadata": {},
   "outputs": [
    {
     "name": "stdout",
     "output_type": "stream",
     "text": [
      "timestamp 1603908927.4422524, atacante phl con ip: 42.148.87.31 \n",
      " victima:irn, con ip: 42.148.87.31\n",
      "timestamp 1603908932.7222035, atacante usa con ip: un='%s' \n",
      " victima:s %s, con ip: un='%s'\n",
      "timestamp 1603908938.000435, atacante usa con ip: 207.207.70.100 \n",
      " victima:chn, con ip: 207.207.70.100\n",
      "timestamp 1603908943.2768855, atacante bra con ip: 142.138.140.13 \n",
      " victima:chn, con ip: 142.138.140.13\n",
      "timestamp 1603908948.5460086, atacante usa con ip: 213.18.111.152 \n",
      " victima:usa, con ip: 213.18.111.152\n",
      "timestamp 1603908953.8375497, atacante jpn con ip: 188.203.153.237 \n",
      " victima:bgd, con ip: 188.203.153.237\n",
      "timestamp 1603908959.1291249, atacante bra con ip: 225.153.17.96 \n",
      " victima:usa, con ip: 225.153.17.96\n",
      "timestamp 1603908964.3925574, atacante chn con ip: 18.205.132.81 \n",
      " victima:vnm, con ip: 18.205.132.81\n",
      "timestamp 1603908969.648432, atacante isr con ip: 4.223.237.186 \n",
      " victima:deu, con ip: 4.223.237.186\n",
      "timestamp 1603908974.9345665, atacante mda con ip: 93.105.16.146 \n",
      " victima:jpn, con ip: 93.105.16.146\n",
      "timestamp 1603908980.3531818, atacante usa con ip: 97.249.193.110 \n",
      " victima:usa, con ip: 97.249.193.110\n",
      "timestamp 1603908985.5973866, atacante rus con ip: 154.84.64.92 \n",
      " victima:mex, con ip: 154.84.64.92\n",
      "timestamp 1603908990.783192, atacante jpn con ip: 93.180.69.174 \n",
      " victima:gbr, con ip: 93.180.69.174\n",
      "timestamp 1603908996.0506423, atacante chn con ip: 37.68.22.101 \n",
      " victima:nld, con ip: 37.68.22.101\n",
      "timestamp 1603909001.3324976, atacante idn con ip: 65.220.31.69 \n",
      " victima:chn, con ip: 65.220.31.69\n",
      "timestamp 1603909006.595304, atacante bra con ip: 230.165.214.53 \n",
      " victima:fra, con ip: 230.165.214.53\n",
      "timestamp 1603909011.855032, atacante pol con ip: 217.252.171.79 \n",
      " victima:usa, con ip: 217.252.171.79\n",
      "timestamp 1603909017.1177135, atacante esp con ip: 83.115.135.174 \n",
      " victima:tur, con ip: 83.115.135.174\n"
     ]
    },
    {
     "ename": "KeyboardInterrupt",
     "evalue": "",
     "output_type": "error",
     "traceback": [
      "\u001b[1;31m---------------------------------------------------------------------------\u001b[0m",
      "\u001b[1;31mKeyboardInterrupt\u001b[0m                         Traceback (most recent call last)",
      "\u001b[1;32m<ipython-input-47-471da2107259>\u001b[0m in \u001b[0;36m<module>\u001b[1;34m\u001b[0m\n\u001b[0;32m      1\u001b[0m \u001b[1;32mwhile\u001b[0m \u001b[1;32mTrue\u001b[0m\u001b[1;33m:\u001b[0m\u001b[1;33m\u001b[0m\u001b[1;33m\u001b[0m\u001b[0m\n\u001b[0;32m      2\u001b[0m     \u001b[0mnavegador\u001b[0m\u001b[1;33m.\u001b[0m\u001b[0mget\u001b[0m\u001b[1;33m(\u001b[0m\u001b[0murl\u001b[0m\u001b[1;33m)\u001b[0m\u001b[1;33m\u001b[0m\u001b[1;33m\u001b[0m\u001b[0m\n\u001b[1;32m----> 3\u001b[1;33m     \u001b[0mtime\u001b[0m\u001b[1;33m.\u001b[0m\u001b[0msleep\u001b[0m\u001b[1;33m(\u001b[0m\u001b[1;36m3\u001b[0m\u001b[1;33m)\u001b[0m\u001b[1;33m\u001b[0m\u001b[1;33m\u001b[0m\u001b[0m\n\u001b[0m\u001b[0;32m      4\u001b[0m     \u001b[0mcount\u001b[0m \u001b[1;33m=\u001b[0m \u001b[1;36m0\u001b[0m\u001b[1;33m\u001b[0m\u001b[1;33m\u001b[0m\u001b[0m\n\u001b[0;32m      5\u001b[0m     \u001b[1;32mwhile\u001b[0m \u001b[0mcount\u001b[0m \u001b[1;33m<\u001b[0m \u001b[1;36m20\u001b[0m\u001b[1;33m:\u001b[0m\u001b[1;33m\u001b[0m\u001b[1;33m\u001b[0m\u001b[0m\n",
      "\u001b[1;31mKeyboardInterrupt\u001b[0m: "
     ]
    }
   ],
   "source": [
    "while True:\n",
    "    navegador.get(url)\n",
    "    time.sleep(3)\n",
    "    count = 0\n",
    "    while count < 20:\n",
    "        time.sleep(2)\n",
    "        attack_frame = navegador.find_element_by_id('attackdiv')\n",
    "        ataq = attack_frame.text.split(\"\\n\")[-1]\n",
    "        \n",
    "        nombre_ataq = ataq.split(\"(\")[0].strip()\n",
    "        ip_ataq = ataq.split(\"(\")[1].split(\")\")[0]\n",
    "\n",
    "        victima = ataq.split(\"(\")[1].split(\")\")[1][-4:].strip()\n",
    "        ip_victim = ip_ataq = ataq.split(\"(\")[2].split(\")\")[0]\n",
    "        \n",
    "        print(f'timestamp {time.time()}, atacante {nombre_ataq} con ip: {ip_ataq} \\n victima:{victima}, con ip: {ip_victim}')\n",
    "        \n",
    "        count += 1\n",
    "        break"
   ]
  },
  {
   "cell_type": "code",
   "execution_count": null,
   "metadata": {},
   "outputs": [],
   "source": []
  },
  {
   "cell_type": "code",
   "execution_count": 78,
   "metadata": {},
   "outputs": [],
   "source": [
    "import requests\n",
    "import xmltodict\n",
    "import re\n",
    "import pandas as pd"
   ]
  },
  {
   "cell_type": "code",
   "execution_count": 49,
   "metadata": {},
   "outputs": [],
   "source": [
    "url = 'http://www.ssn.unam.mx/rss/ultimos-sismos.xml'\n",
    "req = requests.get(url)\n",
    "data = xmltodict.parse(req.content)"
   ]
  },
  {
   "cell_type": "code",
   "execution_count": 50,
   "metadata": {},
   "outputs": [
    {
     "data": {
      "text/plain": [
       "<Response [200]>"
      ]
     },
     "execution_count": 50,
     "metadata": {},
     "output_type": "execute_result"
    }
   ],
   "source": [
    "req"
   ]
  },
  {
   "cell_type": "code",
   "execution_count": 51,
   "metadata": {
    "scrolled": true
   },
   "outputs": [
    {
     "data": {
      "text/plain": [
       "b'<?xml version=\"1.0\"?>\\n\\t<rss version=\"2.0\" xmlns:geo=\"http://www.w3.org/2003/01/geo/wgs84_pos#\">\\n\\t<channel>\\n\\t<title>\\xc3\\x9altimos sismos registrados por el SSN</title>\\n\\t\\t<link>http://www.ssn.unam.mx</link>\\n\\t\\t<description>Reporte de los \\xc3\\xbaltimos sismos en M\\xc3\\xa9xico</description>\\n\\t\\t<item>\\n\\t\\t\\t<title>4.1, 103 km al SURESTE de  SALINA CRUZ, OAX         </title>\\n\\t\\t\\t<description><![CDATA[ <p>Fecha:2020-10-28 11:23:30 (Hora de M&eacute;xico)<br/>Lat/Lon: 15.35/-94.77<br/>Profundidad: 16.0 km </p> ]]></description>\\n\\t\\t\\t<link><![CDATA[ http://www2.ssn.unam.mx:8080/jsp/localizacion-de-sismo.jsp?latitud=15.35&longitud=-94.77&prf=16.0 km&ma=4.1&fecha=2020-10-28&hora=11:23:30&loc=103 km al SURESTE de  SALINA CRUZ, OAX         &evento=1 ]]></link>\\n\\t\\t\\t<geo:lat>15.35</geo:lat>\\n\\t\\t\\t<geo:long>-94.77</geo:long>\\n\\t\\t</item>\\n\\t\\t<item>\\n\\t\\t\\t<title>4.0, 60 km al SURESTE de  CRUCECITA, OAX         </title>\\n\\t\\t\\t<description><![CDATA[ <p>Fecha:2020-10-28 08:59:27 (Hora de M&eacute;xico)<br/>Lat/Lon: 15.45/-95.68<br/>Profundidad: 16.0 km </p> ]]></description>\\n\\t\\t\\t<link><![CDATA[ http://www2.ssn.unam.mx:8080/jsp/localizacion-de-sismo.jsp?latitud=15.45&longitud=-95.68&prf=16.0 km&ma=4.0&fecha=2020-10-28&hora=08:59:27&loc=60 km al SURESTE de  CRUCECITA, OAX         &evento=1 ]]></link>\\n\\t\\t\\t<geo:lat>15.45</geo:lat>\\n\\t\\t\\t<geo:long>-95.68</geo:long>\\n\\t\\t</item>\\n\\t\\t<item>\\n\\t\\t\\t<title>3.6, 20 km al NOROESTE de  COYUCA DE BENITEZ, GRO     </title>\\n\\t\\t\\t<description><![CDATA[ <p>Fecha:2020-10-28 04:46:03 (Hora de M&eacute;xico)<br/>Lat/Lon: 17.17/-100.18<br/>Profundidad: 50.0 km </p> ]]></description>\\n\\t\\t\\t<link><![CDATA[ http://www2.ssn.unam.mx:8080/jsp/localizacion-de-sismo.jsp?latitud=17.17&longitud=-100.18&prf=50.0 km&ma=3.6&fecha=2020-10-28&hora=04:46:03&loc=20 km al NOROESTE de  COYUCA DE BENITEZ, GRO     &evento=1 ]]></link>\\n\\t\\t\\t<geo:lat>17.17</geo:lat>\\n\\t\\t\\t<geo:long>-100.18</geo:long>\\n\\t\\t</item>\\n\\t\\t<item>\\n\\t\\t\\t<title>3.8, 102 km al SUROESTE de  PIJIJIAPAN, CHIS  </title>\\n\\t\\t\\t<description><![CDATA[ <p>Fecha:2020-10-28 04:45:40 (Hora de M&eacute;xico)<br/>Lat/Lon: 14.95/-93.79<br/>Profundidad: 11.0 km </p> ]]></description>\\n\\t\\t\\t<link><![CDATA[ http://www2.ssn.unam.mx:8080/jsp/localizacion-de-sismo.jsp?latitud=14.95&longitud=-93.79&prf=11.0 km&ma=3.8&fecha=2020-10-28&hora=04:45:40&loc=102 km al SUROESTE de  PIJIJIAPAN, CHIS  &evento=1 ]]></link>\\n\\t\\t\\t<geo:lat>14.95</geo:lat>\\n\\t\\t\\t<geo:long>-93.79</geo:long>\\n\\t\\t</item>\\n\\t\\t<item>\\n\\t\\t\\t<title>3.6, 34 km al SUROESTE de  CIHUATLAN, JAL         </title>\\n\\t\\t\\t<description><![CDATA[ <p>Fecha:2020-10-28 04:17:07 (Hora de M&eacute;xico)<br/>Lat/Lon: 19.1/-104.85<br/>Profundidad: 5.0 km </p> ]]></description>\\n\\t\\t\\t<link><![CDATA[ http://www2.ssn.unam.mx:8080/jsp/localizacion-de-sismo.jsp?latitud=19.1&longitud=-104.85&prf=5.0 km&ma=3.6&fecha=2020-10-28&hora=04:17:07&loc=34 km al SUROESTE de  CIHUATLAN, JAL         &evento=1 ]]></link>\\n\\t\\t\\t<geo:lat>19.1</geo:lat>\\n\\t\\t\\t<geo:long>-104.85</geo:long>\\n\\t\\t</item>\\n\\t\\t<item>\\n\\t\\t\\t<title>3.8, 27 km al SUR de  MAPASTEPEC, CHIS        </title>\\n\\t\\t\\t<description><![CDATA[ <p>Fecha:2020-10-28 03:58:27 (Hora de M&eacute;xico)<br/>Lat/Lon: 15.21/-92.83<br/>Profundidad: 101.0 km </p> ]]></description>\\n\\t\\t\\t<link><![CDATA[ http://www2.ssn.unam.mx:8080/jsp/localizacion-de-sismo.jsp?latitud=15.21&longitud=-92.83&prf=101.0 km&ma=3.8&fecha=2020-10-28&hora=03:58:27&loc=27 km al SUR de  MAPASTEPEC, CHIS        &evento=1 ]]></link>\\n\\t\\t\\t<geo:lat>15.21</geo:lat>\\n\\t\\t\\t<geo:long>-92.83</geo:long>\\n\\t\\t</item>\\n\\t\\t<item>\\n\\t\\t\\t<title>3.7, 52 km al SURESTE de  CRUCECITA, OAX         </title>\\n\\t\\t\\t<description><![CDATA[ <p>Fecha:2020-10-28 03:50:57 (Hora de M&eacute;xico)<br/>Lat/Lon: 15.34/-95.94<br/>Profundidad: 23.0 km </p> ]]></description>\\n\\t\\t\\t<link><![CDATA[ http://www2.ssn.unam.mx:8080/jsp/localizacion-de-sismo.jsp?latitud=15.34&longitud=-95.94&prf=23.0 km&ma=3.7&fecha=2020-10-28&hora=03:50:57&loc=52 km al SURESTE de  CRUCECITA, OAX         &evento=1 ]]></link>\\n\\t\\t\\t<geo:lat>15.34</geo:lat>\\n\\t\\t\\t<geo:long>-95.94</geo:long>\\n\\t\\t</item>\\n\\t\\t<item>\\n\\t\\t\\t<title>3.1, 21 km al ESTE de  ATOYAC DE ALVAREZ, GRO     </title>\\n\\t\\t\\t<description><![CDATA[ <p>Fecha:2020-10-28 03:50:30 (Hora de M&eacute;xico)<br/>Lat/Lon: 17.17/-100.24<br/>Profundidad: 30.0 km </p> ]]></description>\\n\\t\\t\\t<link><![CDATA[ http://www2.ssn.unam.mx:8080/jsp/localizacion-de-sismo.jsp?latitud=17.17&longitud=-100.24&prf=30.0 km&ma=3.1&fecha=2020-10-28&hora=03:50:30&loc=21 km al ESTE de  ATOYAC DE ALVAREZ, GRO     &evento=1 ]]></link>\\n\\t\\t\\t<geo:lat>17.17</geo:lat>\\n\\t\\t\\t<geo:long>-100.24</geo:long>\\n\\t\\t</item>\\n\\t\\t<item>\\n\\t\\t\\t<title>3.9, 89 km al NORESTE de  LORETO, BCS         </title>\\n\\t\\t\\t<description><![CDATA[ <p>Fecha:2020-10-28 03:40:34 (Hora de M&eacute;xico)<br/>Lat/Lon: 26.74/-110.95<br/>Profundidad: 6.0 km </p> ]]></description>\\n\\t\\t\\t<link><![CDATA[ http://www2.ssn.unam.mx:8080/jsp/localizacion-de-sismo.jsp?latitud=26.74&longitud=-110.95&prf=6.0 km&ma=3.9&fecha=2020-10-28&hora=03:40:34&loc=89 km al NORESTE de  LORETO, BCS         &evento=1 ]]></link>\\n\\t\\t\\t<geo:lat>26.74</geo:lat>\\n\\t\\t\\t<geo:long>-110.95</geo:long>\\n\\t\\t</item>\\n\\t\\t<item>\\n\\t\\t\\t<title>3.3, 29 km al NOROESTE de  CASIMIRO CASTILLO, JAL     </title>\\n\\t\\t\\t<description><![CDATA[ <p>Fecha:2020-10-28 03:27:31 (Hora de M&eacute;xico)<br/>Lat/Lon: 19.75/-104.66<br/>Profundidad: 30.0 km </p> ]]></description>\\n\\t\\t\\t<link><![CDATA[ http://www2.ssn.unam.mx:8080/jsp/localizacion-de-sismo.jsp?latitud=19.75&longitud=-104.66&prf=30.0 km&ma=3.3&fecha=2020-10-28&hora=03:27:31&loc=29 km al NOROESTE de  CASIMIRO CASTILLO, JAL     &evento=1 ]]></link>\\n\\t\\t\\t<geo:lat>19.75</geo:lat>\\n\\t\\t\\t<geo:long>-104.66</geo:long>\\n\\t\\t</item>\\n\\t\\t<item>\\n\\t\\t\\t<title>3.7, 73 km al SUROESTE de  MAPASTEPEC, CHIS        </title>\\n\\t\\t\\t<description><![CDATA[ <p>Fecha:2020-10-28 03:21:44 (Hora de M&eacute;xico)<br/>Lat/Lon: 14.94/-93.34<br/>Profundidad: 93.0 km </p> ]]></description>\\n\\t\\t\\t<link><![CDATA[ http://www2.ssn.unam.mx:8080/jsp/localizacion-de-sismo.jsp?latitud=14.94&longitud=-93.34&prf=93.0 km&ma=3.7&fecha=2020-10-28&hora=03:21:44&loc=73 km al SUROESTE de  MAPASTEPEC, CHIS        &evento=1 ]]></link>\\n\\t\\t\\t<geo:lat>14.94</geo:lat>\\n\\t\\t\\t<geo:long>-93.34</geo:long>\\n\\t\\t</item>\\n\\t\\t<item>\\n\\t\\t\\t<title>3.8, 42 km al NORESTE de  UNION HIDALGO, OAX         </title>\\n\\t\\t\\t<description><![CDATA[ <p>Fecha:2020-10-28 03:19:34 (Hora de M&eacute;xico)<br/>Lat/Lon: 16.78/-94.6<br/>Profundidad: 127.0 km </p> ]]></description>\\n\\t\\t\\t<link><![CDATA[ http://www2.ssn.unam.mx:8080/jsp/localizacion-de-sismo.jsp?latitud=16.78&longitud=-94.6&prf=127.0 km&ma=3.8&fecha=2020-10-28&hora=03:19:34&loc=42 km al NORESTE de  UNION HIDALGO, OAX         &evento=1 ]]></link>\\n\\t\\t\\t<geo:lat>16.78</geo:lat>\\n\\t\\t\\t<geo:long>-94.6</geo:long>\\n\\t\\t</item>\\n\\t\\t<item>\\n\\t\\t\\t<title>3.9, 90 km al SUROESTE de  CD HIDALGO, CHIS        </title>\\n\\t\\t\\t<description><![CDATA[ <p>Fecha:2020-10-28 02:44:00 (Hora de M&eacute;xico)<br/>Lat/Lon: 14.1/-92.73<br/>Profundidad: 14.0 km </p> ]]></description>\\n\\t\\t\\t<link><![CDATA[ http://www2.ssn.unam.mx:8080/jsp/localizacion-de-sismo.jsp?latitud=14.1&longitud=-92.73&prf=14.0 km&ma=3.9&fecha=2020-10-28&hora=02:44:00&loc=90 km al SUROESTE de  CD HIDALGO, CHIS        &evento=1 ]]></link>\\n\\t\\t\\t<geo:lat>14.1</geo:lat>\\n\\t\\t\\t<geo:long>-92.73</geo:long>\\n\\t\\t</item>\\n\\t\\t<item>\\n\\t\\t\\t<title>3.7, 52 km al NOROESTE de  ARRIAGA , CHIS       </title>\\n\\t\\t\\t<description><![CDATA[ <p>Fecha:2020-10-28 02:32:07 (Hora de M&eacute;xico)<br/>Lat/Lon: 16.48/-94.31<br/>Profundidad: 7.0 km </p> ]]></description>\\n\\t\\t\\t<link><![CDATA[ http://www2.ssn.unam.mx:8080/jsp/localizacion-de-sismo.jsp?latitud=16.48&longitud=-94.31&prf=7.0 km&ma=3.7&fecha=2020-10-28&hora=02:32:07&loc=52 km al NOROESTE de  ARRIAGA , CHIS       &evento=1 ]]></link>\\n\\t\\t\\t<geo:lat>16.48</geo:lat>\\n\\t\\t\\t<geo:long>-94.31</geo:long>\\n\\t\\t</item>\\n\\t\\t<item>\\n\\t\\t\\t<title>3.5, 30 km al SUR de  SALINA CRUZ, OAX         </title>\\n\\t\\t\\t<description><![CDATA[ <p>Fecha:2020-10-28 02:20:40 (Hora de M&eacute;xico)<br/>Lat/Lon: 15.92/-95.24<br/>Profundidad: 16.0 km </p> ]]></description>\\n\\t\\t\\t<link><![CDATA[ http://www2.ssn.unam.mx:8080/jsp/localizacion-de-sismo.jsp?latitud=15.92&longitud=-95.24&prf=16.0 km&ma=3.5&fecha=2020-10-28&hora=02:20:40&loc=30 km al SUR de  SALINA CRUZ, OAX         &evento=1 ]]></link>\\n\\t\\t\\t<geo:lat>15.92</geo:lat>\\n\\t\\t\\t<geo:long>-95.24</geo:long>\\n\\t\\t</item>\\n\\t</channel>\\n\\t</rss>'"
      ]
     },
     "execution_count": 51,
     "metadata": {},
     "output_type": "execute_result"
    }
   ],
   "source": [
    "req.content"
   ]
  },
  {
   "cell_type": "code",
   "execution_count": 52,
   "metadata": {},
   "outputs": [
    {
     "data": {
      "text/plain": [
       "OrderedDict([('rss',\n",
       "              OrderedDict([('@version', '2.0'),\n",
       "                           ('@xmlns:geo',\n",
       "                            'http://www.w3.org/2003/01/geo/wgs84_pos#'),\n",
       "                           ('channel',\n",
       "                            OrderedDict([('title',\n",
       "                                          'Últimos sismos registrados por el SSN'),\n",
       "                                         ('link', 'http://www.ssn.unam.mx'),\n",
       "                                         ('description',\n",
       "                                          'Reporte de los últimos sismos en México'),\n",
       "                                         ('item',\n",
       "                                          [OrderedDict([('title',\n",
       "                                                         '4.1, 103 km al SURESTE de  SALINA CRUZ, OAX'),\n",
       "                                                        ('description',\n",
       "                                                         '<p>Fecha:2020-10-28 11:23:30 (Hora de M&eacute;xico)<br/>Lat/Lon: 15.35/-94.77<br/>Profundidad: 16.0 km </p>'),\n",
       "                                                        ('link',\n",
       "                                                         'http://www2.ssn.unam.mx:8080/jsp/localizacion-de-sismo.jsp?latitud=15.35&longitud=-94.77&prf=16.0 km&ma=4.1&fecha=2020-10-28&hora=11:23:30&loc=103 km al SURESTE de  SALINA CRUZ, OAX         &evento=1'),\n",
       "                                                        ('geo:lat', '15.35'),\n",
       "                                                        ('geo:long',\n",
       "                                                         '-94.77')]),\n",
       "                                           OrderedDict([('title',\n",
       "                                                         '4.0, 60 km al SURESTE de  CRUCECITA, OAX'),\n",
       "                                                        ('description',\n",
       "                                                         '<p>Fecha:2020-10-28 08:59:27 (Hora de M&eacute;xico)<br/>Lat/Lon: 15.45/-95.68<br/>Profundidad: 16.0 km </p>'),\n",
       "                                                        ('link',\n",
       "                                                         'http://www2.ssn.unam.mx:8080/jsp/localizacion-de-sismo.jsp?latitud=15.45&longitud=-95.68&prf=16.0 km&ma=4.0&fecha=2020-10-28&hora=08:59:27&loc=60 km al SURESTE de  CRUCECITA, OAX         &evento=1'),\n",
       "                                                        ('geo:lat', '15.45'),\n",
       "                                                        ('geo:long',\n",
       "                                                         '-95.68')]),\n",
       "                                           OrderedDict([('title',\n",
       "                                                         '3.6, 20 km al NOROESTE de  COYUCA DE BENITEZ, GRO'),\n",
       "                                                        ('description',\n",
       "                                                         '<p>Fecha:2020-10-28 04:46:03 (Hora de M&eacute;xico)<br/>Lat/Lon: 17.17/-100.18<br/>Profundidad: 50.0 km </p>'),\n",
       "                                                        ('link',\n",
       "                                                         'http://www2.ssn.unam.mx:8080/jsp/localizacion-de-sismo.jsp?latitud=17.17&longitud=-100.18&prf=50.0 km&ma=3.6&fecha=2020-10-28&hora=04:46:03&loc=20 km al NOROESTE de  COYUCA DE BENITEZ, GRO     &evento=1'),\n",
       "                                                        ('geo:lat', '17.17'),\n",
       "                                                        ('geo:long',\n",
       "                                                         '-100.18')]),\n",
       "                                           OrderedDict([('title',\n",
       "                                                         '3.8, 102 km al SUROESTE de  PIJIJIAPAN, CHIS'),\n",
       "                                                        ('description',\n",
       "                                                         '<p>Fecha:2020-10-28 04:45:40 (Hora de M&eacute;xico)<br/>Lat/Lon: 14.95/-93.79<br/>Profundidad: 11.0 km </p>'),\n",
       "                                                        ('link',\n",
       "                                                         'http://www2.ssn.unam.mx:8080/jsp/localizacion-de-sismo.jsp?latitud=14.95&longitud=-93.79&prf=11.0 km&ma=3.8&fecha=2020-10-28&hora=04:45:40&loc=102 km al SUROESTE de  PIJIJIAPAN, CHIS  &evento=1'),\n",
       "                                                        ('geo:lat', '14.95'),\n",
       "                                                        ('geo:long',\n",
       "                                                         '-93.79')]),\n",
       "                                           OrderedDict([('title',\n",
       "                                                         '3.6, 34 km al SUROESTE de  CIHUATLAN, JAL'),\n",
       "                                                        ('description',\n",
       "                                                         '<p>Fecha:2020-10-28 04:17:07 (Hora de M&eacute;xico)<br/>Lat/Lon: 19.1/-104.85<br/>Profundidad: 5.0 km </p>'),\n",
       "                                                        ('link',\n",
       "                                                         'http://www2.ssn.unam.mx:8080/jsp/localizacion-de-sismo.jsp?latitud=19.1&longitud=-104.85&prf=5.0 km&ma=3.6&fecha=2020-10-28&hora=04:17:07&loc=34 km al SUROESTE de  CIHUATLAN, JAL         &evento=1'),\n",
       "                                                        ('geo:lat', '19.1'),\n",
       "                                                        ('geo:long',\n",
       "                                                         '-104.85')]),\n",
       "                                           OrderedDict([('title',\n",
       "                                                         '3.8, 27 km al SUR de  MAPASTEPEC, CHIS'),\n",
       "                                                        ('description',\n",
       "                                                         '<p>Fecha:2020-10-28 03:58:27 (Hora de M&eacute;xico)<br/>Lat/Lon: 15.21/-92.83<br/>Profundidad: 101.0 km </p>'),\n",
       "                                                        ('link',\n",
       "                                                         'http://www2.ssn.unam.mx:8080/jsp/localizacion-de-sismo.jsp?latitud=15.21&longitud=-92.83&prf=101.0 km&ma=3.8&fecha=2020-10-28&hora=03:58:27&loc=27 km al SUR de  MAPASTEPEC, CHIS        &evento=1'),\n",
       "                                                        ('geo:lat', '15.21'),\n",
       "                                                        ('geo:long',\n",
       "                                                         '-92.83')]),\n",
       "                                           OrderedDict([('title',\n",
       "                                                         '3.7, 52 km al SURESTE de  CRUCECITA, OAX'),\n",
       "                                                        ('description',\n",
       "                                                         '<p>Fecha:2020-10-28 03:50:57 (Hora de M&eacute;xico)<br/>Lat/Lon: 15.34/-95.94<br/>Profundidad: 23.0 km </p>'),\n",
       "                                                        ('link',\n",
       "                                                         'http://www2.ssn.unam.mx:8080/jsp/localizacion-de-sismo.jsp?latitud=15.34&longitud=-95.94&prf=23.0 km&ma=3.7&fecha=2020-10-28&hora=03:50:57&loc=52 km al SURESTE de  CRUCECITA, OAX         &evento=1'),\n",
       "                                                        ('geo:lat', '15.34'),\n",
       "                                                        ('geo:long',\n",
       "                                                         '-95.94')]),\n",
       "                                           OrderedDict([('title',\n",
       "                                                         '3.1, 21 km al ESTE de  ATOYAC DE ALVAREZ, GRO'),\n",
       "                                                        ('description',\n",
       "                                                         '<p>Fecha:2020-10-28 03:50:30 (Hora de M&eacute;xico)<br/>Lat/Lon: 17.17/-100.24<br/>Profundidad: 30.0 km </p>'),\n",
       "                                                        ('link',\n",
       "                                                         'http://www2.ssn.unam.mx:8080/jsp/localizacion-de-sismo.jsp?latitud=17.17&longitud=-100.24&prf=30.0 km&ma=3.1&fecha=2020-10-28&hora=03:50:30&loc=21 km al ESTE de  ATOYAC DE ALVAREZ, GRO     &evento=1'),\n",
       "                                                        ('geo:lat', '17.17'),\n",
       "                                                        ('geo:long',\n",
       "                                                         '-100.24')]),\n",
       "                                           OrderedDict([('title',\n",
       "                                                         '3.9, 89 km al NORESTE de  LORETO, BCS'),\n",
       "                                                        ('description',\n",
       "                                                         '<p>Fecha:2020-10-28 03:40:34 (Hora de M&eacute;xico)<br/>Lat/Lon: 26.74/-110.95<br/>Profundidad: 6.0 km </p>'),\n",
       "                                                        ('link',\n",
       "                                                         'http://www2.ssn.unam.mx:8080/jsp/localizacion-de-sismo.jsp?latitud=26.74&longitud=-110.95&prf=6.0 km&ma=3.9&fecha=2020-10-28&hora=03:40:34&loc=89 km al NORESTE de  LORETO, BCS         &evento=1'),\n",
       "                                                        ('geo:lat', '26.74'),\n",
       "                                                        ('geo:long',\n",
       "                                                         '-110.95')]),\n",
       "                                           OrderedDict([('title',\n",
       "                                                         '3.3, 29 km al NOROESTE de  CASIMIRO CASTILLO, JAL'),\n",
       "                                                        ('description',\n",
       "                                                         '<p>Fecha:2020-10-28 03:27:31 (Hora de M&eacute;xico)<br/>Lat/Lon: 19.75/-104.66<br/>Profundidad: 30.0 km </p>'),\n",
       "                                                        ('link',\n",
       "                                                         'http://www2.ssn.unam.mx:8080/jsp/localizacion-de-sismo.jsp?latitud=19.75&longitud=-104.66&prf=30.0 km&ma=3.3&fecha=2020-10-28&hora=03:27:31&loc=29 km al NOROESTE de  CASIMIRO CASTILLO, JAL     &evento=1'),\n",
       "                                                        ('geo:lat', '19.75'),\n",
       "                                                        ('geo:long',\n",
       "                                                         '-104.66')]),\n",
       "                                           OrderedDict([('title',\n",
       "                                                         '3.7, 73 km al SUROESTE de  MAPASTEPEC, CHIS'),\n",
       "                                                        ('description',\n",
       "                                                         '<p>Fecha:2020-10-28 03:21:44 (Hora de M&eacute;xico)<br/>Lat/Lon: 14.94/-93.34<br/>Profundidad: 93.0 km </p>'),\n",
       "                                                        ('link',\n",
       "                                                         'http://www2.ssn.unam.mx:8080/jsp/localizacion-de-sismo.jsp?latitud=14.94&longitud=-93.34&prf=93.0 km&ma=3.7&fecha=2020-10-28&hora=03:21:44&loc=73 km al SUROESTE de  MAPASTEPEC, CHIS        &evento=1'),\n",
       "                                                        ('geo:lat', '14.94'),\n",
       "                                                        ('geo:long',\n",
       "                                                         '-93.34')]),\n",
       "                                           OrderedDict([('title',\n",
       "                                                         '3.8, 42 km al NORESTE de  UNION HIDALGO, OAX'),\n",
       "                                                        ('description',\n",
       "                                                         '<p>Fecha:2020-10-28 03:19:34 (Hora de M&eacute;xico)<br/>Lat/Lon: 16.78/-94.6<br/>Profundidad: 127.0 km </p>'),\n",
       "                                                        ('link',\n",
       "                                                         'http://www2.ssn.unam.mx:8080/jsp/localizacion-de-sismo.jsp?latitud=16.78&longitud=-94.6&prf=127.0 km&ma=3.8&fecha=2020-10-28&hora=03:19:34&loc=42 km al NORESTE de  UNION HIDALGO, OAX         &evento=1'),\n",
       "                                                        ('geo:lat', '16.78'),\n",
       "                                                        ('geo:long',\n",
       "                                                         '-94.6')]),\n",
       "                                           OrderedDict([('title',\n",
       "                                                         '3.9, 90 km al SUROESTE de  CD HIDALGO, CHIS'),\n",
       "                                                        ('description',\n",
       "                                                         '<p>Fecha:2020-10-28 02:44:00 (Hora de M&eacute;xico)<br/>Lat/Lon: 14.1/-92.73<br/>Profundidad: 14.0 km </p>'),\n",
       "                                                        ('link',\n",
       "                                                         'http://www2.ssn.unam.mx:8080/jsp/localizacion-de-sismo.jsp?latitud=14.1&longitud=-92.73&prf=14.0 km&ma=3.9&fecha=2020-10-28&hora=02:44:00&loc=90 km al SUROESTE de  CD HIDALGO, CHIS        &evento=1'),\n",
       "                                                        ('geo:lat', '14.1'),\n",
       "                                                        ('geo:long',\n",
       "                                                         '-92.73')]),\n",
       "                                           OrderedDict([('title',\n",
       "                                                         '3.7, 52 km al NOROESTE de  ARRIAGA , CHIS'),\n",
       "                                                        ('description',\n",
       "                                                         '<p>Fecha:2020-10-28 02:32:07 (Hora de M&eacute;xico)<br/>Lat/Lon: 16.48/-94.31<br/>Profundidad: 7.0 km </p>'),\n",
       "                                                        ('link',\n",
       "                                                         'http://www2.ssn.unam.mx:8080/jsp/localizacion-de-sismo.jsp?latitud=16.48&longitud=-94.31&prf=7.0 km&ma=3.7&fecha=2020-10-28&hora=02:32:07&loc=52 km al NOROESTE de  ARRIAGA , CHIS       &evento=1'),\n",
       "                                                        ('geo:lat', '16.48'),\n",
       "                                                        ('geo:long',\n",
       "                                                         '-94.31')]),\n",
       "                                           OrderedDict([('title',\n",
       "                                                         '3.5, 30 km al SUR de  SALINA CRUZ, OAX'),\n",
       "                                                        ('description',\n",
       "                                                         '<p>Fecha:2020-10-28 02:20:40 (Hora de M&eacute;xico)<br/>Lat/Lon: 15.92/-95.24<br/>Profundidad: 16.0 km </p>'),\n",
       "                                                        ('link',\n",
       "                                                         'http://www2.ssn.unam.mx:8080/jsp/localizacion-de-sismo.jsp?latitud=15.92&longitud=-95.24&prf=16.0 km&ma=3.5&fecha=2020-10-28&hora=02:20:40&loc=30 km al SUR de  SALINA CRUZ, OAX         &evento=1'),\n",
       "                                                        ('geo:lat', '15.92'),\n",
       "                                                        ('geo:long',\n",
       "                                                         '-95.24')])])]))]))])"
      ]
     },
     "execution_count": 52,
     "metadata": {},
     "output_type": "execute_result"
    }
   ],
   "source": [
    "data"
   ]
  },
  {
   "cell_type": "code",
   "execution_count": 53,
   "metadata": {},
   "outputs": [
    {
     "data": {
      "text/plain": [
       "odict_keys(['rss'])"
      ]
     },
     "execution_count": 53,
     "metadata": {},
     "output_type": "execute_result"
    }
   ],
   "source": [
    "data.keys()"
   ]
  },
  {
   "cell_type": "code",
   "execution_count": 55,
   "metadata": {},
   "outputs": [
    {
     "data": {
      "text/plain": [
       "odict_keys(['@version', '@xmlns:geo', 'channel'])"
      ]
     },
     "execution_count": 55,
     "metadata": {},
     "output_type": "execute_result"
    }
   ],
   "source": [
    "data['rss'].keys()"
   ]
  },
  {
   "cell_type": "code",
   "execution_count": 57,
   "metadata": {},
   "outputs": [
    {
     "data": {
      "text/plain": [
       "odict_keys(['title', 'link', 'description', 'item'])"
      ]
     },
     "execution_count": 57,
     "metadata": {},
     "output_type": "execute_result"
    }
   ],
   "source": [
    "data['rss']['channel'].keys()"
   ]
  },
  {
   "cell_type": "code",
   "execution_count": 60,
   "metadata": {},
   "outputs": [
    {
     "data": {
      "text/plain": [
       "odict_keys(['title', 'description', 'link', 'geo:lat', 'geo:long'])"
      ]
     },
     "execution_count": 60,
     "metadata": {},
     "output_type": "execute_result"
    }
   ],
   "source": [
    "data['rss']['channel']['item'][0].keys()"
   ]
  },
  {
   "cell_type": "code",
   "execution_count": 61,
   "metadata": {},
   "outputs": [
    {
     "data": {
      "text/plain": [
       "'4.1, 103 km al SURESTE de  SALINA CRUZ, OAX'"
      ]
     },
     "execution_count": 61,
     "metadata": {},
     "output_type": "execute_result"
    }
   ],
   "source": [
    "data['rss']['channel']['item'][0]['title']"
   ]
  },
  {
   "cell_type": "code",
   "execution_count": 62,
   "metadata": {},
   "outputs": [
    {
     "data": {
      "text/plain": [
       "'<p>Fecha:2020-10-28 11:23:30 (Hora de M&eacute;xico)<br/>Lat/Lon: 15.35/-94.77<br/>Profundidad: 16.0 km </p>'"
      ]
     },
     "execution_count": 62,
     "metadata": {},
     "output_type": "execute_result"
    }
   ],
   "source": [
    "data['rss']['channel']['item'][0]['description']"
   ]
  },
  {
   "cell_type": "code",
   "execution_count": 63,
   "metadata": {},
   "outputs": [],
   "source": [
    "items = data['rss']['channel']['item']"
   ]
  },
  {
   "cell_type": "code",
   "execution_count": 64,
   "metadata": {},
   "outputs": [
    {
     "data": {
      "text/plain": [
       "[OrderedDict([('title', '4.1, 103 km al SURESTE de  SALINA CRUZ, OAX'),\n",
       "              ('description',\n",
       "               '<p>Fecha:2020-10-28 11:23:30 (Hora de M&eacute;xico)<br/>Lat/Lon: 15.35/-94.77<br/>Profundidad: 16.0 km </p>'),\n",
       "              ('link',\n",
       "               'http://www2.ssn.unam.mx:8080/jsp/localizacion-de-sismo.jsp?latitud=15.35&longitud=-94.77&prf=16.0 km&ma=4.1&fecha=2020-10-28&hora=11:23:30&loc=103 km al SURESTE de  SALINA CRUZ, OAX         &evento=1'),\n",
       "              ('geo:lat', '15.35'),\n",
       "              ('geo:long', '-94.77')]),\n",
       " OrderedDict([('title', '4.0, 60 km al SURESTE de  CRUCECITA, OAX'),\n",
       "              ('description',\n",
       "               '<p>Fecha:2020-10-28 08:59:27 (Hora de M&eacute;xico)<br/>Lat/Lon: 15.45/-95.68<br/>Profundidad: 16.0 km </p>'),\n",
       "              ('link',\n",
       "               'http://www2.ssn.unam.mx:8080/jsp/localizacion-de-sismo.jsp?latitud=15.45&longitud=-95.68&prf=16.0 km&ma=4.0&fecha=2020-10-28&hora=08:59:27&loc=60 km al SURESTE de  CRUCECITA, OAX         &evento=1'),\n",
       "              ('geo:lat', '15.45'),\n",
       "              ('geo:long', '-95.68')]),\n",
       " OrderedDict([('title', '3.6, 20 km al NOROESTE de  COYUCA DE BENITEZ, GRO'),\n",
       "              ('description',\n",
       "               '<p>Fecha:2020-10-28 04:46:03 (Hora de M&eacute;xico)<br/>Lat/Lon: 17.17/-100.18<br/>Profundidad: 50.0 km </p>'),\n",
       "              ('link',\n",
       "               'http://www2.ssn.unam.mx:8080/jsp/localizacion-de-sismo.jsp?latitud=17.17&longitud=-100.18&prf=50.0 km&ma=3.6&fecha=2020-10-28&hora=04:46:03&loc=20 km al NOROESTE de  COYUCA DE BENITEZ, GRO     &evento=1'),\n",
       "              ('geo:lat', '17.17'),\n",
       "              ('geo:long', '-100.18')]),\n",
       " OrderedDict([('title', '3.8, 102 km al SUROESTE de  PIJIJIAPAN, CHIS'),\n",
       "              ('description',\n",
       "               '<p>Fecha:2020-10-28 04:45:40 (Hora de M&eacute;xico)<br/>Lat/Lon: 14.95/-93.79<br/>Profundidad: 11.0 km </p>'),\n",
       "              ('link',\n",
       "               'http://www2.ssn.unam.mx:8080/jsp/localizacion-de-sismo.jsp?latitud=14.95&longitud=-93.79&prf=11.0 km&ma=3.8&fecha=2020-10-28&hora=04:45:40&loc=102 km al SUROESTE de  PIJIJIAPAN, CHIS  &evento=1'),\n",
       "              ('geo:lat', '14.95'),\n",
       "              ('geo:long', '-93.79')]),\n",
       " OrderedDict([('title', '3.6, 34 km al SUROESTE de  CIHUATLAN, JAL'),\n",
       "              ('description',\n",
       "               '<p>Fecha:2020-10-28 04:17:07 (Hora de M&eacute;xico)<br/>Lat/Lon: 19.1/-104.85<br/>Profundidad: 5.0 km </p>'),\n",
       "              ('link',\n",
       "               'http://www2.ssn.unam.mx:8080/jsp/localizacion-de-sismo.jsp?latitud=19.1&longitud=-104.85&prf=5.0 km&ma=3.6&fecha=2020-10-28&hora=04:17:07&loc=34 km al SUROESTE de  CIHUATLAN, JAL         &evento=1'),\n",
       "              ('geo:lat', '19.1'),\n",
       "              ('geo:long', '-104.85')]),\n",
       " OrderedDict([('title', '3.8, 27 km al SUR de  MAPASTEPEC, CHIS'),\n",
       "              ('description',\n",
       "               '<p>Fecha:2020-10-28 03:58:27 (Hora de M&eacute;xico)<br/>Lat/Lon: 15.21/-92.83<br/>Profundidad: 101.0 km </p>'),\n",
       "              ('link',\n",
       "               'http://www2.ssn.unam.mx:8080/jsp/localizacion-de-sismo.jsp?latitud=15.21&longitud=-92.83&prf=101.0 km&ma=3.8&fecha=2020-10-28&hora=03:58:27&loc=27 km al SUR de  MAPASTEPEC, CHIS        &evento=1'),\n",
       "              ('geo:lat', '15.21'),\n",
       "              ('geo:long', '-92.83')]),\n",
       " OrderedDict([('title', '3.7, 52 km al SURESTE de  CRUCECITA, OAX'),\n",
       "              ('description',\n",
       "               '<p>Fecha:2020-10-28 03:50:57 (Hora de M&eacute;xico)<br/>Lat/Lon: 15.34/-95.94<br/>Profundidad: 23.0 km </p>'),\n",
       "              ('link',\n",
       "               'http://www2.ssn.unam.mx:8080/jsp/localizacion-de-sismo.jsp?latitud=15.34&longitud=-95.94&prf=23.0 km&ma=3.7&fecha=2020-10-28&hora=03:50:57&loc=52 km al SURESTE de  CRUCECITA, OAX         &evento=1'),\n",
       "              ('geo:lat', '15.34'),\n",
       "              ('geo:long', '-95.94')]),\n",
       " OrderedDict([('title', '3.1, 21 km al ESTE de  ATOYAC DE ALVAREZ, GRO'),\n",
       "              ('description',\n",
       "               '<p>Fecha:2020-10-28 03:50:30 (Hora de M&eacute;xico)<br/>Lat/Lon: 17.17/-100.24<br/>Profundidad: 30.0 km </p>'),\n",
       "              ('link',\n",
       "               'http://www2.ssn.unam.mx:8080/jsp/localizacion-de-sismo.jsp?latitud=17.17&longitud=-100.24&prf=30.0 km&ma=3.1&fecha=2020-10-28&hora=03:50:30&loc=21 km al ESTE de  ATOYAC DE ALVAREZ, GRO     &evento=1'),\n",
       "              ('geo:lat', '17.17'),\n",
       "              ('geo:long', '-100.24')]),\n",
       " OrderedDict([('title', '3.9, 89 km al NORESTE de  LORETO, BCS'),\n",
       "              ('description',\n",
       "               '<p>Fecha:2020-10-28 03:40:34 (Hora de M&eacute;xico)<br/>Lat/Lon: 26.74/-110.95<br/>Profundidad: 6.0 km </p>'),\n",
       "              ('link',\n",
       "               'http://www2.ssn.unam.mx:8080/jsp/localizacion-de-sismo.jsp?latitud=26.74&longitud=-110.95&prf=6.0 km&ma=3.9&fecha=2020-10-28&hora=03:40:34&loc=89 km al NORESTE de  LORETO, BCS         &evento=1'),\n",
       "              ('geo:lat', '26.74'),\n",
       "              ('geo:long', '-110.95')]),\n",
       " OrderedDict([('title', '3.3, 29 km al NOROESTE de  CASIMIRO CASTILLO, JAL'),\n",
       "              ('description',\n",
       "               '<p>Fecha:2020-10-28 03:27:31 (Hora de M&eacute;xico)<br/>Lat/Lon: 19.75/-104.66<br/>Profundidad: 30.0 km </p>'),\n",
       "              ('link',\n",
       "               'http://www2.ssn.unam.mx:8080/jsp/localizacion-de-sismo.jsp?latitud=19.75&longitud=-104.66&prf=30.0 km&ma=3.3&fecha=2020-10-28&hora=03:27:31&loc=29 km al NOROESTE de  CASIMIRO CASTILLO, JAL     &evento=1'),\n",
       "              ('geo:lat', '19.75'),\n",
       "              ('geo:long', '-104.66')]),\n",
       " OrderedDict([('title', '3.7, 73 km al SUROESTE de  MAPASTEPEC, CHIS'),\n",
       "              ('description',\n",
       "               '<p>Fecha:2020-10-28 03:21:44 (Hora de M&eacute;xico)<br/>Lat/Lon: 14.94/-93.34<br/>Profundidad: 93.0 km </p>'),\n",
       "              ('link',\n",
       "               'http://www2.ssn.unam.mx:8080/jsp/localizacion-de-sismo.jsp?latitud=14.94&longitud=-93.34&prf=93.0 km&ma=3.7&fecha=2020-10-28&hora=03:21:44&loc=73 km al SUROESTE de  MAPASTEPEC, CHIS        &evento=1'),\n",
       "              ('geo:lat', '14.94'),\n",
       "              ('geo:long', '-93.34')]),\n",
       " OrderedDict([('title', '3.8, 42 km al NORESTE de  UNION HIDALGO, OAX'),\n",
       "              ('description',\n",
       "               '<p>Fecha:2020-10-28 03:19:34 (Hora de M&eacute;xico)<br/>Lat/Lon: 16.78/-94.6<br/>Profundidad: 127.0 km </p>'),\n",
       "              ('link',\n",
       "               'http://www2.ssn.unam.mx:8080/jsp/localizacion-de-sismo.jsp?latitud=16.78&longitud=-94.6&prf=127.0 km&ma=3.8&fecha=2020-10-28&hora=03:19:34&loc=42 km al NORESTE de  UNION HIDALGO, OAX         &evento=1'),\n",
       "              ('geo:lat', '16.78'),\n",
       "              ('geo:long', '-94.6')]),\n",
       " OrderedDict([('title', '3.9, 90 km al SUROESTE de  CD HIDALGO, CHIS'),\n",
       "              ('description',\n",
       "               '<p>Fecha:2020-10-28 02:44:00 (Hora de M&eacute;xico)<br/>Lat/Lon: 14.1/-92.73<br/>Profundidad: 14.0 km </p>'),\n",
       "              ('link',\n",
       "               'http://www2.ssn.unam.mx:8080/jsp/localizacion-de-sismo.jsp?latitud=14.1&longitud=-92.73&prf=14.0 km&ma=3.9&fecha=2020-10-28&hora=02:44:00&loc=90 km al SUROESTE de  CD HIDALGO, CHIS        &evento=1'),\n",
       "              ('geo:lat', '14.1'),\n",
       "              ('geo:long', '-92.73')]),\n",
       " OrderedDict([('title', '3.7, 52 km al NOROESTE de  ARRIAGA , CHIS'),\n",
       "              ('description',\n",
       "               '<p>Fecha:2020-10-28 02:32:07 (Hora de M&eacute;xico)<br/>Lat/Lon: 16.48/-94.31<br/>Profundidad: 7.0 km </p>'),\n",
       "              ('link',\n",
       "               'http://www2.ssn.unam.mx:8080/jsp/localizacion-de-sismo.jsp?latitud=16.48&longitud=-94.31&prf=7.0 km&ma=3.7&fecha=2020-10-28&hora=02:32:07&loc=52 km al NOROESTE de  ARRIAGA , CHIS       &evento=1'),\n",
       "              ('geo:lat', '16.48'),\n",
       "              ('geo:long', '-94.31')]),\n",
       " OrderedDict([('title', '3.5, 30 km al SUR de  SALINA CRUZ, OAX'),\n",
       "              ('description',\n",
       "               '<p>Fecha:2020-10-28 02:20:40 (Hora de M&eacute;xico)<br/>Lat/Lon: 15.92/-95.24<br/>Profundidad: 16.0 km </p>'),\n",
       "              ('link',\n",
       "               'http://www2.ssn.unam.mx:8080/jsp/localizacion-de-sismo.jsp?latitud=15.92&longitud=-95.24&prf=16.0 km&ma=3.5&fecha=2020-10-28&hora=02:20:40&loc=30 km al SUR de  SALINA CRUZ, OAX         &evento=1'),\n",
       "              ('geo:lat', '15.92'),\n",
       "              ('geo:long', '-95.24')])]"
      ]
     },
     "execution_count": 64,
     "metadata": {},
     "output_type": "execute_result"
    }
   ],
   "source": [
    "items"
   ]
  },
  {
   "cell_type": "code",
   "execution_count": 68,
   "metadata": {},
   "outputs": [
    {
     "data": {
      "text/plain": [
       "['Fecha:2020-10-28 11:23:30 (Hora de M&eacute;xico)<br/',\n",
       " 'Lat/Lon: 15.35/-94.77<br/',\n",
       " 'Profundidad: 16.0 km </p']"
      ]
     },
     "execution_count": 68,
     "metadata": {},
     "output_type": "execute_result"
    }
   ],
   "source": [
    "primer_item = items[0]['description'].split('>')[1:4]\n",
    "primer_item"
   ]
  },
  {
   "cell_type": "code",
   "execution_count": 69,
   "metadata": {},
   "outputs": [
    {
     "data": {
      "text/plain": [
       "['2020-10-28']"
      ]
     },
     "execution_count": 69,
     "metadata": {},
     "output_type": "execute_result"
    }
   ],
   "source": [
    "re.findall('\\d+-\\d+-\\d+', primer_item[0])"
   ]
  },
  {
   "cell_type": "code",
   "execution_count": 70,
   "metadata": {},
   "outputs": [
    {
     "data": {
      "text/plain": [
       "['11:23:30']"
      ]
     },
     "execution_count": 70,
     "metadata": {},
     "output_type": "execute_result"
    }
   ],
   "source": [
    "re.findall('\\d+:\\d+:\\d+', primer_item[0])"
   ]
  },
  {
   "cell_type": "code",
   "execution_count": 72,
   "metadata": {},
   "outputs": [
    {
     "data": {
      "text/plain": [
       "'15.35'"
      ]
     },
     "execution_count": 72,
     "metadata": {},
     "output_type": "execute_result"
    }
   ],
   "source": [
    "re.findall('-?\\d+.\\d+', primer_item[1])[0]"
   ]
  },
  {
   "cell_type": "code",
   "execution_count": 73,
   "metadata": {},
   "outputs": [
    {
     "data": {
      "text/plain": [
       "'-94.77'"
      ]
     },
     "execution_count": 73,
     "metadata": {},
     "output_type": "execute_result"
    }
   ],
   "source": [
    "re.findall('-?\\d+.\\d+', primer_item[1])[1]"
   ]
  },
  {
   "cell_type": "code",
   "execution_count": 74,
   "metadata": {},
   "outputs": [
    {
     "data": {
      "text/plain": [
       "['16.0 km']"
      ]
     },
     "execution_count": 74,
     "metadata": {},
     "output_type": "execute_result"
    }
   ],
   "source": [
    "re.findall('\\d+\\.\\d+ \\w+',primer_item[2])"
   ]
  },
  {
   "cell_type": "code",
   "execution_count": 81,
   "metadata": {
    "scrolled": true
   },
   "outputs": [
    {
     "name": "stdout",
     "output_type": "stream",
     "text": [
      "{'Fecha': '2020-10-28', 'Hora': '11:23:30', 'Latitud': '15.35', 'Longitud': '-94.77', 'Profundidad': '16.0 km'}\n",
      "{'Fecha': '2020-10-28', 'Hora': '08:59:27', 'Latitud': '15.45', 'Longitud': '-95.68', 'Profundidad': '16.0 km'}\n",
      "{'Fecha': '2020-10-28', 'Hora': '04:46:03', 'Latitud': '17.17', 'Longitud': '-100.18', 'Profundidad': '50.0 km'}\n",
      "{'Fecha': '2020-10-28', 'Hora': '04:45:40', 'Latitud': '14.95', 'Longitud': '-93.79', 'Profundidad': '11.0 km'}\n",
      "{'Fecha': '2020-10-28', 'Hora': '04:17:07', 'Latitud': '19.1', 'Longitud': '-104.85', 'Profundidad': '5.0 km'}\n",
      "{'Fecha': '2020-10-28', 'Hora': '03:58:27', 'Latitud': '15.21', 'Longitud': '-92.83', 'Profundidad': '101.0 km'}\n",
      "{'Fecha': '2020-10-28', 'Hora': '03:50:57', 'Latitud': '15.34', 'Longitud': '-95.94', 'Profundidad': '23.0 km'}\n",
      "{'Fecha': '2020-10-28', 'Hora': '03:50:30', 'Latitud': '17.17', 'Longitud': '-100.24', 'Profundidad': '30.0 km'}\n",
      "{'Fecha': '2020-10-28', 'Hora': '03:40:34', 'Latitud': '26.74', 'Longitud': '-110.95', 'Profundidad': '6.0 km'}\n",
      "{'Fecha': '2020-10-28', 'Hora': '03:27:31', 'Latitud': '19.75', 'Longitud': '-104.66', 'Profundidad': '30.0 km'}\n",
      "{'Fecha': '2020-10-28', 'Hora': '03:21:44', 'Latitud': '14.94', 'Longitud': '-93.34', 'Profundidad': '93.0 km'}\n",
      "{'Fecha': '2020-10-28', 'Hora': '03:19:34', 'Latitud': '16.78', 'Longitud': '-94.6', 'Profundidad': '127.0 km'}\n",
      "{'Fecha': '2020-10-28', 'Hora': '02:44:00', 'Latitud': '14.1', 'Longitud': '-92.73', 'Profundidad': '14.0 km'}\n",
      "{'Fecha': '2020-10-28', 'Hora': '02:32:07', 'Latitud': '16.48', 'Longitud': '-94.31', 'Profundidad': '7.0 km'}\n",
      "{'Fecha': '2020-10-28', 'Hora': '02:20:40', 'Latitud': '15.92', 'Longitud': '-95.24', 'Profundidad': '16.0 km'}\n"
     ]
    }
   ],
   "source": [
    "lst = []\n",
    "\n",
    "for i in items:\n",
    "    data_get = i['description'].split('>')[1:4]\n",
    "    fecha = re.findall('\\d+-\\d+-\\d+', data_get[0])\n",
    "    hora = re.findall('\\d+:\\d+:\\d+', data_get[0])\n",
    "    lat = re.findall('-?\\d+.\\d+', data_get[1])[0]\n",
    "    long = re.findall('-?\\d+.\\d+', data_get[1])[1]\n",
    "    prof = re.findall('\\d+\\.\\d+ \\w+',data_get[2])\n",
    "    \n",
    "    data = {'Fecha':fecha[0],\n",
    "           'Hora':hora[0],\n",
    "           'Latitud':lat,\n",
    "           'Longitud':long,\n",
    "           'Profundidad':prof[0]}\n",
    "    lst.append(data)\n",
    "    print(data)"
   ]
  },
  {
   "cell_type": "code",
   "execution_count": 82,
   "metadata": {
    "scrolled": true
   },
   "outputs": [
    {
     "data": {
      "text/plain": [
       "[{'Fecha': '2020-10-28',\n",
       "  'Hora': '11:23:30',\n",
       "  'Latitud': '15.35',\n",
       "  'Longitud': '-94.77',\n",
       "  'Profundidad': '16.0 km'},\n",
       " {'Fecha': '2020-10-28',\n",
       "  'Hora': '08:59:27',\n",
       "  'Latitud': '15.45',\n",
       "  'Longitud': '-95.68',\n",
       "  'Profundidad': '16.0 km'},\n",
       " {'Fecha': '2020-10-28',\n",
       "  'Hora': '04:46:03',\n",
       "  'Latitud': '17.17',\n",
       "  'Longitud': '-100.18',\n",
       "  'Profundidad': '50.0 km'},\n",
       " {'Fecha': '2020-10-28',\n",
       "  'Hora': '04:45:40',\n",
       "  'Latitud': '14.95',\n",
       "  'Longitud': '-93.79',\n",
       "  'Profundidad': '11.0 km'},\n",
       " {'Fecha': '2020-10-28',\n",
       "  'Hora': '04:17:07',\n",
       "  'Latitud': '19.1',\n",
       "  'Longitud': '-104.85',\n",
       "  'Profundidad': '5.0 km'},\n",
       " {'Fecha': '2020-10-28',\n",
       "  'Hora': '03:58:27',\n",
       "  'Latitud': '15.21',\n",
       "  'Longitud': '-92.83',\n",
       "  'Profundidad': '101.0 km'},\n",
       " {'Fecha': '2020-10-28',\n",
       "  'Hora': '03:50:57',\n",
       "  'Latitud': '15.34',\n",
       "  'Longitud': '-95.94',\n",
       "  'Profundidad': '23.0 km'},\n",
       " {'Fecha': '2020-10-28',\n",
       "  'Hora': '03:50:30',\n",
       "  'Latitud': '17.17',\n",
       "  'Longitud': '-100.24',\n",
       "  'Profundidad': '30.0 km'},\n",
       " {'Fecha': '2020-10-28',\n",
       "  'Hora': '03:40:34',\n",
       "  'Latitud': '26.74',\n",
       "  'Longitud': '-110.95',\n",
       "  'Profundidad': '6.0 km'},\n",
       " {'Fecha': '2020-10-28',\n",
       "  'Hora': '03:27:31',\n",
       "  'Latitud': '19.75',\n",
       "  'Longitud': '-104.66',\n",
       "  'Profundidad': '30.0 km'},\n",
       " {'Fecha': '2020-10-28',\n",
       "  'Hora': '03:21:44',\n",
       "  'Latitud': '14.94',\n",
       "  'Longitud': '-93.34',\n",
       "  'Profundidad': '93.0 km'},\n",
       " {'Fecha': '2020-10-28',\n",
       "  'Hora': '03:19:34',\n",
       "  'Latitud': '16.78',\n",
       "  'Longitud': '-94.6',\n",
       "  'Profundidad': '127.0 km'},\n",
       " {'Fecha': '2020-10-28',\n",
       "  'Hora': '02:44:00',\n",
       "  'Latitud': '14.1',\n",
       "  'Longitud': '-92.73',\n",
       "  'Profundidad': '14.0 km'},\n",
       " {'Fecha': '2020-10-28',\n",
       "  'Hora': '02:32:07',\n",
       "  'Latitud': '16.48',\n",
       "  'Longitud': '-94.31',\n",
       "  'Profundidad': '7.0 km'},\n",
       " {'Fecha': '2020-10-28',\n",
       "  'Hora': '02:20:40',\n",
       "  'Latitud': '15.92',\n",
       "  'Longitud': '-95.24',\n",
       "  'Profundidad': '16.0 km'}]"
      ]
     },
     "execution_count": 82,
     "metadata": {},
     "output_type": "execute_result"
    }
   ],
   "source": [
    "lst"
   ]
  },
  {
   "cell_type": "code",
   "execution_count": 83,
   "metadata": {
    "scrolled": true
   },
   "outputs": [
    {
     "data": {
      "text/html": [
       "<div>\n",
       "<style scoped>\n",
       "    .dataframe tbody tr th:only-of-type {\n",
       "        vertical-align: middle;\n",
       "    }\n",
       "\n",
       "    .dataframe tbody tr th {\n",
       "        vertical-align: top;\n",
       "    }\n",
       "\n",
       "    .dataframe thead th {\n",
       "        text-align: right;\n",
       "    }\n",
       "</style>\n",
       "<table border=\"1\" class=\"dataframe\">\n",
       "  <thead>\n",
       "    <tr style=\"text-align: right;\">\n",
       "      <th></th>\n",
       "      <th>Fecha</th>\n",
       "      <th>Hora</th>\n",
       "      <th>Latitud</th>\n",
       "      <th>Longitud</th>\n",
       "      <th>Profundidad</th>\n",
       "    </tr>\n",
       "  </thead>\n",
       "  <tbody>\n",
       "    <tr>\n",
       "      <th>0</th>\n",
       "      <td>2020-10-28</td>\n",
       "      <td>11:23:30</td>\n",
       "      <td>15.35</td>\n",
       "      <td>-94.77</td>\n",
       "      <td>16.0 km</td>\n",
       "    </tr>\n",
       "    <tr>\n",
       "      <th>1</th>\n",
       "      <td>2020-10-28</td>\n",
       "      <td>08:59:27</td>\n",
       "      <td>15.45</td>\n",
       "      <td>-95.68</td>\n",
       "      <td>16.0 km</td>\n",
       "    </tr>\n",
       "    <tr>\n",
       "      <th>2</th>\n",
       "      <td>2020-10-28</td>\n",
       "      <td>04:46:03</td>\n",
       "      <td>17.17</td>\n",
       "      <td>-100.18</td>\n",
       "      <td>50.0 km</td>\n",
       "    </tr>\n",
       "    <tr>\n",
       "      <th>3</th>\n",
       "      <td>2020-10-28</td>\n",
       "      <td>04:45:40</td>\n",
       "      <td>14.95</td>\n",
       "      <td>-93.79</td>\n",
       "      <td>11.0 km</td>\n",
       "    </tr>\n",
       "    <tr>\n",
       "      <th>4</th>\n",
       "      <td>2020-10-28</td>\n",
       "      <td>04:17:07</td>\n",
       "      <td>19.1</td>\n",
       "      <td>-104.85</td>\n",
       "      <td>5.0 km</td>\n",
       "    </tr>\n",
       "    <tr>\n",
       "      <th>5</th>\n",
       "      <td>2020-10-28</td>\n",
       "      <td>03:58:27</td>\n",
       "      <td>15.21</td>\n",
       "      <td>-92.83</td>\n",
       "      <td>101.0 km</td>\n",
       "    </tr>\n",
       "    <tr>\n",
       "      <th>6</th>\n",
       "      <td>2020-10-28</td>\n",
       "      <td>03:50:57</td>\n",
       "      <td>15.34</td>\n",
       "      <td>-95.94</td>\n",
       "      <td>23.0 km</td>\n",
       "    </tr>\n",
       "    <tr>\n",
       "      <th>7</th>\n",
       "      <td>2020-10-28</td>\n",
       "      <td>03:50:30</td>\n",
       "      <td>17.17</td>\n",
       "      <td>-100.24</td>\n",
       "      <td>30.0 km</td>\n",
       "    </tr>\n",
       "    <tr>\n",
       "      <th>8</th>\n",
       "      <td>2020-10-28</td>\n",
       "      <td>03:40:34</td>\n",
       "      <td>26.74</td>\n",
       "      <td>-110.95</td>\n",
       "      <td>6.0 km</td>\n",
       "    </tr>\n",
       "    <tr>\n",
       "      <th>9</th>\n",
       "      <td>2020-10-28</td>\n",
       "      <td>03:27:31</td>\n",
       "      <td>19.75</td>\n",
       "      <td>-104.66</td>\n",
       "      <td>30.0 km</td>\n",
       "    </tr>\n",
       "    <tr>\n",
       "      <th>10</th>\n",
       "      <td>2020-10-28</td>\n",
       "      <td>03:21:44</td>\n",
       "      <td>14.94</td>\n",
       "      <td>-93.34</td>\n",
       "      <td>93.0 km</td>\n",
       "    </tr>\n",
       "    <tr>\n",
       "      <th>11</th>\n",
       "      <td>2020-10-28</td>\n",
       "      <td>03:19:34</td>\n",
       "      <td>16.78</td>\n",
       "      <td>-94.6</td>\n",
       "      <td>127.0 km</td>\n",
       "    </tr>\n",
       "    <tr>\n",
       "      <th>12</th>\n",
       "      <td>2020-10-28</td>\n",
       "      <td>02:44:00</td>\n",
       "      <td>14.1</td>\n",
       "      <td>-92.73</td>\n",
       "      <td>14.0 km</td>\n",
       "    </tr>\n",
       "    <tr>\n",
       "      <th>13</th>\n",
       "      <td>2020-10-28</td>\n",
       "      <td>02:32:07</td>\n",
       "      <td>16.48</td>\n",
       "      <td>-94.31</td>\n",
       "      <td>7.0 km</td>\n",
       "    </tr>\n",
       "    <tr>\n",
       "      <th>14</th>\n",
       "      <td>2020-10-28</td>\n",
       "      <td>02:20:40</td>\n",
       "      <td>15.92</td>\n",
       "      <td>-95.24</td>\n",
       "      <td>16.0 km</td>\n",
       "    </tr>\n",
       "  </tbody>\n",
       "</table>\n",
       "</div>"
      ],
      "text/plain": [
       "         Fecha      Hora Latitud Longitud Profundidad\n",
       "0   2020-10-28  11:23:30   15.35   -94.77     16.0 km\n",
       "1   2020-10-28  08:59:27   15.45   -95.68     16.0 km\n",
       "2   2020-10-28  04:46:03   17.17  -100.18     50.0 km\n",
       "3   2020-10-28  04:45:40   14.95   -93.79     11.0 km\n",
       "4   2020-10-28  04:17:07    19.1  -104.85      5.0 km\n",
       "5   2020-10-28  03:58:27   15.21   -92.83    101.0 km\n",
       "6   2020-10-28  03:50:57   15.34   -95.94     23.0 km\n",
       "7   2020-10-28  03:50:30   17.17  -100.24     30.0 km\n",
       "8   2020-10-28  03:40:34   26.74  -110.95      6.0 km\n",
       "9   2020-10-28  03:27:31   19.75  -104.66     30.0 km\n",
       "10  2020-10-28  03:21:44   14.94   -93.34     93.0 km\n",
       "11  2020-10-28  03:19:34   16.78    -94.6    127.0 km\n",
       "12  2020-10-28  02:44:00    14.1   -92.73     14.0 km\n",
       "13  2020-10-28  02:32:07   16.48   -94.31      7.0 km\n",
       "14  2020-10-28  02:20:40   15.92   -95.24     16.0 km"
      ]
     },
     "execution_count": 83,
     "metadata": {},
     "output_type": "execute_result"
    }
   ],
   "source": [
    "pd.DataFrame(lst)"
   ]
  },
  {
   "cell_type": "code",
   "execution_count": null,
   "metadata": {},
   "outputs": [],
   "source": []
  }
 ],
 "metadata": {
  "kernelspec": {
   "display_name": "Python 3",
   "language": "python",
   "name": "python3"
  },
  "language_info": {
   "codemirror_mode": {
    "name": "ipython",
    "version": 3
   },
   "file_extension": ".py",
   "mimetype": "text/x-python",
   "name": "python",
   "nbconvert_exporter": "python",
   "pygments_lexer": "ipython3",
   "version": "3.7.4"
  }
 },
 "nbformat": 4,
 "nbformat_minor": 4
}
