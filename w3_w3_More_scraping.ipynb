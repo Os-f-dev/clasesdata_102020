{
 "cells": [
  {
   "cell_type": "code",
   "execution_count": 9,
   "metadata": {},
   "outputs": [],
   "source": [
    "from selenium import webdriver\n",
    "from selenium.webdriver.common.keys import Keys"
   ]
  },
  {
   "cell_type": "code",
   "execution_count": 3,
   "metadata": {
    "scrolled": true
   },
   "outputs": [],
   "source": [
    "navegador = webdriver.Firefox()"
   ]
  },
  {
   "cell_type": "code",
   "execution_count": 4,
   "metadata": {},
   "outputs": [],
   "source": [
    "navegador.get('https://www.google.com')"
   ]
  },
  {
   "cell_type": "code",
   "execution_count": 5,
   "metadata": {},
   "outputs": [],
   "source": [
    "navegador.maximize_window()"
   ]
  },
  {
   "cell_type": "code",
   "execution_count": 6,
   "metadata": {},
   "outputs": [],
   "source": [
    "barra = navegador.find_element_by_xpath('/html/body/div[2]/div[2]/form/div[2]/div[1]/div[1]/div/div[2]/input')"
   ]
  },
  {
   "cell_type": "code",
   "execution_count": 7,
   "metadata": {},
   "outputs": [
    {
     "data": {
      "text/plain": [
       "<selenium.webdriver.firefox.webelement.FirefoxWebElement (session=\"72e46bf0-204a-4e08-9453-4792d0455cf5\", element=\"9a1572e6-9ce8-4e80-aa2f-6ab9d96698a9\")>"
      ]
     },
     "execution_count": 7,
     "metadata": {},
     "output_type": "execute_result"
    }
   ],
   "source": [
    "barra"
   ]
  },
  {
   "cell_type": "code",
   "execution_count": 8,
   "metadata": {},
   "outputs": [],
   "source": [
    "barra.send_keys('selenium')"
   ]
  },
  {
   "cell_type": "code",
   "execution_count": 10,
   "metadata": {},
   "outputs": [],
   "source": [
    "barra.send_keys(Keys.RETURN)"
   ]
  },
  {
   "cell_type": "code",
   "execution_count": 11,
   "metadata": {},
   "outputs": [],
   "source": [
    "primer_res = navegador.find_element_by_xpath('/html/body/div[7]/div[2]/div[10]/div[1]/div[2]/div/div[2]/div[2]/div/div/div[1]/div/div[1]/a')\n",
    "primer_res.click()"
   ]
  },
  {
   "cell_type": "code",
   "execution_count": 13,
   "metadata": {},
   "outputs": [],
   "source": [
    "parrafos = navegador.find_elements_by_tag_name('p')"
   ]
  },
  {
   "cell_type": "code",
   "execution_count": 15,
   "metadata": {},
   "outputs": [
    {
     "data": {
      "text/plain": [
       "'Las nuevas tecnologías han revolucionado el mundo en muy poco tiempo y la gran mayoría de empresas no pueden actualizarse constantemente. Gracias a las diversas evoluciones podemos hoy hablar de procesos automatizados de software cuando hace no muchos años esto era impensable.'"
      ]
     },
     "execution_count": 15,
     "metadata": {},
     "output_type": "execute_result"
    }
   ],
   "source": [
    "parrafos[0].text"
   ]
  },
  {
   "cell_type": "code",
   "execution_count": 16,
   "metadata": {},
   "outputs": [],
   "source": [
    "parrafos_txt = [i.text for i in parrafos]"
   ]
  },
  {
   "cell_type": "code",
   "execution_count": 17,
   "metadata": {
    "scrolled": true
   },
   "outputs": [
    {
     "data": {
      "text/plain": [
       "['Las nuevas tecnologías han revolucionado el mundo en muy poco tiempo y la gran mayoría de empresas no pueden actualizarse constantemente. Gracias a las diversas evoluciones podemos hoy hablar de procesos automatizados de software cuando hace no muchos años esto era impensable.',\n",
       " 'Este tipo de pruebas son habituales en cualquier desarrollo de software pero hoy en día comprobamos que algunas empresas no llegan a decantarse por este tipo de herramientas. Por eso vamos a hablar de uno de los mejores programas de testing.',\n",
       " 'Selenium es un entorno de pruebas que se utiliza para comprobar si el software que se está desarrollando funciona correctamente. Esta herramienta permite: grabar, editar y depurar casos de pruebas que se pueden automatizar.',\n",
       " 'Lo interesante de Selenium es que se pueden editar acciones o crearlas desde cero. También ayuda mucho en las pruebas de regresión porque consigue pruebas automatizadas que luego se pueden reutilizar cuando se necesite.',\n",
       " 'Comenzó a desarrollarse en 2004 por Jason Huggins y poco a poco se fueron uniendo varios especialistas. Un gran detalle es que este software es de código abierto (bajo licencia apache 2.0) y puede ser descargado y usado sin pagar. Si te estás preguntando “¿dónde puedo comprar Selenium? o ¿dónde puedo descargar Selenium?”, solamente tienes que entrar en la siguiente URL para descargar esta herramienta de manera gratuita.',\n",
       " 'Como curiosidad indicar que el significado de Selenium surgió a raíz de un comentario que Jason Huggins le hizo a un competidor de aquella época llamado Mercurio: el envenenamiento por mercurio se puede curar con Selenio. Esto provocó que la mayoría de personas que lo escucharon empezasen a llamar al proyecto de Huggins, “Selenium”.',\n",
       " '',\n",
       " 'Su objetivo principal es comprobar que un software funcione correctamente. La mayoría de usuarios que trabajan con Selenium son programadores QA o Engineer QA, que trabajan no solo comprobando que todo funcione correctamente, sino también evitando problemas futuros, ya que ahí es dónde reside la mejor característica de Selenium para algunos Ingenieros QA.',\n",
       " 'A día de hoy, Selenium tiene un conjunto de herramientas de software y cada una muestra una perspectiva diferente. Muchos programadores deciden utilizar uno o dos a la vez para automatizar su proyecto, pero es mejor conocer todas las opciones y entender para qué sirve Selenium:',\n",
       " 'En sus comienzos era llamado Selenium Recorder. Permite editar, grabar y depurar lo que se muestra en el navegador. Muchos usuarios crean scripts que editan con comandos y sentencias para que cuando se haga la grabación de la página web quede todo registrado.',\n",
       " 'En agosto de 2017 explicaron que ya no continuaría el proyecto porque no sabían cómo evolucionarlo más, pero recientemente ha cambiado la situación. Según el propio equipo la mayor diferencia entre el IDE anterior y el nuevo, es que la extensión de Mozilla Firefox dependía de APIs que ya no eran compatibles con las versiones más recientes del navegador.',\n",
       " 'El nuevo Selenium IDE se ha diseñado como una extensión de navegador con soporte en Firefox y Chrome. Ofrecen una herramienta de línea de comandos para integrar constantemente servidores o ejecuciones de pruebas paralelas; tanto con uno o varios navegadores como con uno o varios sistemas operativos.',\n",
       " 'Entre sus nuevas características encontramos: configuración de puntos de ruptura, funciones de depuración, soporte para integración con terceros, reutilizar casos de pruebas, etc.',\n",
       " 'Remote Control (RC) es un sistema cliente/servidor que permite utilizar el navegador web de forma local o en otro ordenador. Lo mejor de todo es que se puede utilizar casi cualquier lenguaje de programación y formato de pruebas, pero con la liberalización de Selenium 2 se ha descartado en gran medida para favorecer a WebDriver.',\n",
       " 'Siendo el sucesor de Remote Control permite utilizar un navegador de forma local o en remoto. No requiere un servidor especial ya que se inicia una instancia del navegador y se controla de esta manera.',\n",
       " 'Cualquiera de estos lenguajes porque son compatibles con Selenium WebDriver: PHP, Java, .Net, Perl, Ruby o Python, aunque no es necesario que se dominen todos ellos ya que con desenvolverse bien con uno solo es más que suficiente.',\n",
       " 'La arquitectura de WebDriver es más simple que la de Remote Control pero eso no significa que sea peor. Por ejemplo, WebDriver es más rápido que RC, ya que habla directamente al navegador y, lo mejor de todo, utiliza el motor del propio navegador que se está utilizando en ese momento.',\n",
       " 'También interactúa con los elementos de la página de manera más realista, ¿por qué? Pues muy sencillo, si aparece un cuadro de texto que está deshabilitado en la página web, una persona “real” no podría escribir en dicho cuadro y WebDriver actuaría así, otras herramientas no actuarían de la misma manera.',\n",
       " 'Existen dos razones para querer utilizar Selenium Grid. Ejecutar pruebas con varios navegadores a la vez (con diferentes versiones si es necesario) y con diferentes sistemas operativos, de tal manera que puedes utilizar, por ejemplo, Google Chrome a la vez en Windows, iOS, Android, etc.',\n",
       " 'Por otro lado, tenemos que Selenium Grid puede reducir ampliamente el tiempo que tarda un paquete de pruebas en completarse. Si se quiere realizar un conjunto de 200 pruebas pongamos hipotéticamente que se tardan 8 horas en comprobarlo todo al 100%, al utilizar 4 máquinas diferentes con Selenium Grid veremos su tiempo reducido y aproximadamente tardará una cuarta parte del total requerido en un inicio.',\n",
       " 'Para proyectos muy grandes o pruebas de gran tamaño, como analizar una cantidad masiva de datos, es una excelente herramienta que te permitirá ahorrar mucho tiempo y dinero.',\n",
       " '',\n",
       " 'Selenium es una de las mejores herramientas de testing actual. Es muy avanzada y permite gestionar casi cualquier necesidad que tenga un especialista. No es un programa sencillo y necesita un amplio conocimiento de programación para poder utilizarlo. La única desventaja, que se puede considerar como tal, es la dificultad de aprendizaje, pero ocurre lo mismo en otras herramientas o lenguajes de programación.',\n",
       " 'Un profesional cualificado que sepa instalar, programar y adecuar la herramienta para cada proyecto va a solicitar, seguramente, un presupuesto elevado. En cualquier caso, Selenium permitirá ahorrar dinero a largo plazo porque automatizar las pruebas ahorrará mucho tiempo y recursos.',\n",
       " 'Si en tu equipo no tienes un especialista en Selenium en Digital55 podemos ayudarte. Revisa nuestros Casos de Éxito y comprobarás que ofrecemos soluciones de programación a medida. Ponte en Contacto con nosotros y te ayudaremos.',\n",
       " '+34 91 309 16 41',\n",
       " 'hello@digital55.com',\n",
       " 'Calle Claudio Coello 25. 28001 Madrid.',\n",
       " 'Acepto el aviso legal',\n",
       " 'Suscríbete a nuestro newsletter y te mantendremos al tanto de nuestras ideas',\n",
       " 'SÍGUENOS: LINKEDIN',\n",
       " '',\n",
       " '',\n",
       " '',\n",
       " '',\n",
       " '']"
      ]
     },
     "execution_count": 17,
     "metadata": {},
     "output_type": "execute_result"
    }
   ],
   "source": [
    "parrafos_txt"
   ]
  },
  {
   "cell_type": "code",
   "execution_count": 19,
   "metadata": {},
   "outputs": [],
   "source": [
    "navegador.get('https://www.python.org')"
   ]
  },
  {
   "cell_type": "code",
   "execution_count": 20,
   "metadata": {},
   "outputs": [],
   "source": [
    "barra_py = navegador.find_element_by_id('id-search-field')"
   ]
  },
  {
   "cell_type": "code",
   "execution_count": 21,
   "metadata": {},
   "outputs": [],
   "source": [
    "barra_py.send_keys('regex')"
   ]
  },
  {
   "cell_type": "code",
   "execution_count": 23,
   "metadata": {},
   "outputs": [],
   "source": [
    "barra_py = navegador.find_element_by_class_name('search-field')"
   ]
  },
  {
   "cell_type": "code",
   "execution_count": 24,
   "metadata": {},
   "outputs": [],
   "source": [
    "barra_py.send_keys('class')"
   ]
  },
  {
   "cell_type": "code",
   "execution_count": 25,
   "metadata": {},
   "outputs": [],
   "source": [
    "barra_py.clear()"
   ]
  },
  {
   "cell_type": "code",
   "execution_count": 26,
   "metadata": {},
   "outputs": [],
   "source": [
    "url = 'https://threatbutt.com/map/'"
   ]
  },
  {
   "cell_type": "code",
   "execution_count": 27,
   "metadata": {},
   "outputs": [],
   "source": [
    "navegador.get(url)"
   ]
  },
  {
   "cell_type": "code",
   "execution_count": 28,
   "metadata": {},
   "outputs": [
    {
     "data": {
      "text/plain": [
       "<selenium.webdriver.firefox.webelement.FirefoxWebElement (session=\"72e46bf0-204a-4e08-9453-4792d0455cf5\", element=\"9add7bb5-ec65-4fdc-8b1f-d29759b13b43\")>"
      ]
     },
     "execution_count": 28,
     "metadata": {},
     "output_type": "execute_result"
    }
   ],
   "source": [
    "attac_frame = navegador.find_element_by_id('attackdiv')\n",
    "attac_frame"
   ]
  },
  {
   "cell_type": "code",
   "execution_count": 33,
   "metadata": {},
   "outputs": [],
   "source": [
    "ataq = attac_frame.text.split('\\n')"
   ]
  },
  {
   "cell_type": "code",
   "execution_count": 35,
   "metadata": {},
   "outputs": [
    {
     "data": {
      "text/plain": [
       "\"jpn (190.18.96.54) uses Constant Negative Press Covfefe against usa (141.73.77.212) -- it's probably fine ¯\\\\_(ツ)_/¯\""
      ]
     },
     "execution_count": 35,
     "metadata": {},
     "output_type": "execute_result"
    }
   ],
   "source": [
    "ataq[0]"
   ]
  },
  {
   "cell_type": "code",
   "execution_count": 36,
   "metadata": {},
   "outputs": [],
   "source": [
    "nombre_ataq = ataq[0].split('(')[0]"
   ]
  },
  {
   "cell_type": "code",
   "execution_count": 37,
   "metadata": {},
   "outputs": [
    {
     "data": {
      "text/plain": [
       "'jpn '"
      ]
     },
     "execution_count": 37,
     "metadata": {},
     "output_type": "execute_result"
    }
   ],
   "source": [
    "nombre_ataq"
   ]
  },
  {
   "cell_type": "code",
   "execution_count": 38,
   "metadata": {},
   "outputs": [],
   "source": [
    "ip_ataq = ataq[0].split('(')[1].split(')')[0]"
   ]
  },
  {
   "cell_type": "code",
   "execution_count": 39,
   "metadata": {},
   "outputs": [
    {
     "data": {
      "text/plain": [
       "'190.18.96.54'"
      ]
     },
     "execution_count": 39,
     "metadata": {},
     "output_type": "execute_result"
    }
   ],
   "source": [
    "ip_ataq"
   ]
  },
  {
   "cell_type": "code",
   "execution_count": 40,
   "metadata": {},
   "outputs": [
    {
     "data": {
      "text/plain": [
       "['usa']"
      ]
     },
     "execution_count": 40,
     "metadata": {},
     "output_type": "execute_result"
    }
   ],
   "source": [
    "victima = ataq[0].split('(')[1].split(')')[1][-4:].split()\n",
    "victima"
   ]
  },
  {
   "cell_type": "code",
   "execution_count": 42,
   "metadata": {},
   "outputs": [
    {
     "data": {
      "text/plain": [
       "'141.73.77.212'"
      ]
     },
     "execution_count": 42,
     "metadata": {},
     "output_type": "execute_result"
    }
   ],
   "source": [
    "ip_victima  = ataq[0].split('(')[2].split(')')[0]\n",
    "ip_victima"
   ]
  },
  {
   "cell_type": "code",
   "execution_count": 43,
   "metadata": {},
   "outputs": [],
   "source": [
    "import time"
   ]
  },
  {
   "cell_type": "code",
   "execution_count": 47,
   "metadata": {},
   "outputs": [
    {
     "name": "stdout",
     "output_type": "stream",
     "text": [
      "timestamp 1603908927.4422524, atacante phl con ip: 42.148.87.31 \n",
      " victima:irn, con ip: 42.148.87.31\n",
      "timestamp 1603908932.7222035, atacante usa con ip: un='%s' \n",
      " victima:s %s, con ip: un='%s'\n",
      "timestamp 1603908938.000435, atacante usa con ip: 207.207.70.100 \n",
      " victima:chn, con ip: 207.207.70.100\n",
      "timestamp 1603908943.2768855, atacante bra con ip: 142.138.140.13 \n",
      " victima:chn, con ip: 142.138.140.13\n",
      "timestamp 1603908948.5460086, atacante usa con ip: 213.18.111.152 \n",
      " victima:usa, con ip: 213.18.111.152\n",
      "timestamp 1603908953.8375497, atacante jpn con ip: 188.203.153.237 \n",
      " victima:bgd, con ip: 188.203.153.237\n",
      "timestamp 1603908959.1291249, atacante bra con ip: 225.153.17.96 \n",
      " victima:usa, con ip: 225.153.17.96\n",
      "timestamp 1603908964.3925574, atacante chn con ip: 18.205.132.81 \n",
      " victima:vnm, con ip: 18.205.132.81\n",
      "timestamp 1603908969.648432, atacante isr con ip: 4.223.237.186 \n",
      " victima:deu, con ip: 4.223.237.186\n",
      "timestamp 1603908974.9345665, atacante mda con ip: 93.105.16.146 \n",
      " victima:jpn, con ip: 93.105.16.146\n",
      "timestamp 1603908980.3531818, atacante usa con ip: 97.249.193.110 \n",
      " victima:usa, con ip: 97.249.193.110\n",
      "timestamp 1603908985.5973866, atacante rus con ip: 154.84.64.92 \n",
      " victima:mex, con ip: 154.84.64.92\n",
      "timestamp 1603908990.783192, atacante jpn con ip: 93.180.69.174 \n",
      " victima:gbr, con ip: 93.180.69.174\n",
      "timestamp 1603908996.0506423, atacante chn con ip: 37.68.22.101 \n",
      " victima:nld, con ip: 37.68.22.101\n",
      "timestamp 1603909001.3324976, atacante idn con ip: 65.220.31.69 \n",
      " victima:chn, con ip: 65.220.31.69\n",
      "timestamp 1603909006.595304, atacante bra con ip: 230.165.214.53 \n",
      " victima:fra, con ip: 230.165.214.53\n",
      "timestamp 1603909011.855032, atacante pol con ip: 217.252.171.79 \n",
      " victima:usa, con ip: 217.252.171.79\n",
      "timestamp 1603909017.1177135, atacante esp con ip: 83.115.135.174 \n",
      " victima:tur, con ip: 83.115.135.174\n"
     ]
    },
    {
     "ename": "KeyboardInterrupt",
     "evalue": "",
     "output_type": "error",
     "traceback": [
      "\u001b[1;31m---------------------------------------------------------------------------\u001b[0m",
      "\u001b[1;31mKeyboardInterrupt\u001b[0m                         Traceback (most recent call last)",
      "\u001b[1;32m<ipython-input-47-471da2107259>\u001b[0m in \u001b[0;36m<module>\u001b[1;34m\u001b[0m\n\u001b[0;32m      1\u001b[0m \u001b[1;32mwhile\u001b[0m \u001b[1;32mTrue\u001b[0m\u001b[1;33m:\u001b[0m\u001b[1;33m\u001b[0m\u001b[1;33m\u001b[0m\u001b[0m\n\u001b[0;32m      2\u001b[0m     \u001b[0mnavegador\u001b[0m\u001b[1;33m.\u001b[0m\u001b[0mget\u001b[0m\u001b[1;33m(\u001b[0m\u001b[0murl\u001b[0m\u001b[1;33m)\u001b[0m\u001b[1;33m\u001b[0m\u001b[1;33m\u001b[0m\u001b[0m\n\u001b[1;32m----> 3\u001b[1;33m     \u001b[0mtime\u001b[0m\u001b[1;33m.\u001b[0m\u001b[0msleep\u001b[0m\u001b[1;33m(\u001b[0m\u001b[1;36m3\u001b[0m\u001b[1;33m)\u001b[0m\u001b[1;33m\u001b[0m\u001b[1;33m\u001b[0m\u001b[0m\n\u001b[0m\u001b[0;32m      4\u001b[0m     \u001b[0mcount\u001b[0m \u001b[1;33m=\u001b[0m \u001b[1;36m0\u001b[0m\u001b[1;33m\u001b[0m\u001b[1;33m\u001b[0m\u001b[0m\n\u001b[0;32m      5\u001b[0m     \u001b[1;32mwhile\u001b[0m \u001b[0mcount\u001b[0m \u001b[1;33m<\u001b[0m \u001b[1;36m20\u001b[0m\u001b[1;33m:\u001b[0m\u001b[1;33m\u001b[0m\u001b[1;33m\u001b[0m\u001b[0m\n",
      "\u001b[1;31mKeyboardInterrupt\u001b[0m: "
     ]
    }
   ],
   "source": [
    "while True:\n",
    "    navegador.get(url)\n",
    "    time.sleep(3)\n",
    "    count = 0\n",
    "    while count < 20:\n",
    "        time.sleep(2)\n",
    "        attack_frame = navegador.find_element_by_id('attackdiv')\n",
    "        ataq = attack_frame.text.split(\"\\n\")[-1]\n",
    "        \n",
    "        nombre_ataq = ataq.split(\"(\")[0].strip()\n",
    "        ip_ataq = ataq.split(\"(\")[1].split(\")\")[0]\n",
    "\n",
    "        victima = ataq.split(\"(\")[1].split(\")\")[1][-4:].strip()\n",
    "        ip_victim = ip_ataq = ataq.split(\"(\")[2].split(\")\")[0]\n",
    "        \n",
    "        print(f'timestamp {time.time()}, atacante {nombre_ataq} con ip: {ip_ataq} \\n victima:{victima}, con ip: {ip_victim}')\n",
    "        \n",
    "        count += 1\n",
    "        break"
   ]
  },
  {
   "cell_type": "code",
   "execution_count": null,
   "metadata": {},
   "outputs": [],
   "source": []
  }
 ],
 "metadata": {
  "kernelspec": {
   "display_name": "Python 3",
   "language": "python",
   "name": "python3"
  },
  "language_info": {
   "codemirror_mode": {
    "name": "ipython",
    "version": 3
   },
   "file_extension": ".py",
   "mimetype": "text/x-python",
   "name": "python",
   "nbconvert_exporter": "python",
   "pygments_lexer": "ipython3",
   "version": "3.7.4"
  }
 },
 "nbformat": 4,
 "nbformat_minor": 4
}
